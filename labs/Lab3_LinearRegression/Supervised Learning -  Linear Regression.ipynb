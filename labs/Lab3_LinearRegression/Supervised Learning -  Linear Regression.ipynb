{
 "cells": [
  {
   "cell_type": "markdown",
   "metadata": {},
   "source": [
    "# Supervised Learning: Linear Regression"
   ]
  },
  {
   "cell_type": "markdown",
   "metadata": {},
   "source": [
    "### Machine Learning\n",
    "\n",
    "Jay Urbain, PhD\n",
    "\n",
    "References:\n",
    "\n",
    "- James, G., Witten, D., Hastie, T., and Tibshirani, R. (2013) An Introduction to Statistical Learning, with applications in R, www.StatLearning.com, Springer-Verlag, New York. Chapter 4.\n",
    "\n",
    "- [scikit-learn](http://scikit-learn.org/stable/) \n",
    "\n",
    "In this notebook we will be working through a *linear regression* application using *scikit-learn*. \n",
    "\n",
    "Answer **questions** in the empty cell(s) below each question in the notebook. Here are the steps we will follow. Also summarize your answers to each question in your lab report.\n",
    "\n",
    "\n",
    "1: Importing the data.\n",
    "\n",
    "2: Visualizing the data.\n",
    "\n",
    "3: Review Ordinary Least Squares (OLS) regression.\n",
    "\n",
    "4: Use Numpy for univariate linear regression.\n",
    "\n",
    "5: Determing the error of our model fit.\n",
    "\n",
    "6: Use *scikit-learn* to implement multivariate regression.\n",
    "\n",
    "7: Use training and validation data sets.  \n",
    "\n",
    "8: Predicting prices\n",
    "\n",
    "9: Generating residual plots\n",
    "    "
   ]
  },
  {
   "cell_type": "markdown",
   "metadata": {},
   "source": [
    "### 1: Importing the data."
   ]
  },
  {
   "cell_type": "markdown",
   "metadata": {},
   "source": [
    "Import the Numpy and Pandas libraries."
   ]
  },
  {
   "cell_type": "code",
<<<<<<< HEAD
   "execution_count": 1,
=======
   "execution_count": null,
>>>>>>> upstream/master
   "metadata": {},
   "outputs": [],
   "source": [
    "import numpy as np\n",
    "import pandas as pd\n",
    "from pandas import Series, DataFrame"
   ]
  },
  {
   "cell_type": "markdown",
   "metadata": {},
   "source": [
    "[Searborn statistical](https://stanford.edu/~mwaskom/software/seaborn/) visualization library installation\n",
    "\n",
    "Use the conda package to install the seaborn library from a terminal window as follows:\n",
    "\n",
    "conda install seaborn"
   ]
  },
  {
   "cell_type": "markdown",
   "metadata": {},
   "source": [
    "Import plotting packages"
   ]
  },
  {
   "cell_type": "code",
<<<<<<< HEAD
   "execution_count": 2,
=======
   "execution_count": null,
>>>>>>> upstream/master
   "metadata": {},
   "outputs": [],
   "source": [
    "import matplotlib.pyplot as plt\n",
    "import seaborn as sns\n",
    "sns.set_style('whitegrid')\n",
    "# plots within notebook versus launching a separate window\n",
    "%matplotlib inline "
   ]
  },
  {
   "cell_type": "markdown",
   "metadata": {},
   "source": [
    "Import the Boston housing dataset.\n",
    "\n",
    "*Notes: \n",
    "- You may have to run a separate download, scikit learn will read an error and prompt you if you don't have the datasets.\n",
    "- Notice the type of the Boston data set."
   ]
  },
  {
   "cell_type": "code",
<<<<<<< HEAD
   "execution_count": 3,
=======
   "execution_count": null,
>>>>>>> upstream/master
   "metadata": {},
   "outputs": [],
   "source": [
    "from sklearn.datasets import load_boston"
   ]
  },
  {
   "cell_type": "markdown",
   "metadata": {},
   "source": [
    "Load the Boston dataset. "
   ]
  },
  {
   "cell_type": "code",
<<<<<<< HEAD
   "execution_count": 4,
   "metadata": {},
   "outputs": [
    {
     "name": "stdout",
     "output_type": "stream",
     "text": [
      "Dataset:  <class 'sklearn.utils.Bunch'>\n",
      "Data:  <class 'numpy.ndarray'>\n"
     ]
    }
   ],
=======
   "execution_count": null,
   "metadata": {},
   "outputs": [],
>>>>>>> upstream/master
   "source": [
    "boston = load_boston()\n",
    "print ('Dataset: ', type(boston))\n",
    "# the actual data is in a numpy array\n",
    "print ('Data: ', type(boston.data))"
   ]
  },
  {
   "cell_type": "markdown",
   "metadata": {},
   "source": [
    "The built-in datasets have meta-data included that describe the data. This is not the case with most datasets. Typically you'll have to dig around for information. You'll also have to spend considerably more time cleaning and normlizing the data.\n",
    "\n",
    "You can access the meta-data via the DESCR field:"
   ]
  },
  {
   "cell_type": "code",
   "execution_count": null,
   "metadata": {},
   "outputs": [],
   "source": [
    "print( boston.DESCR )"
   ]
  },
  {
   "cell_type": "markdown",
   "metadata": {},
   "source": [
    "### 2: Visualize the data"
   ]
  },
  {
   "cell_type": "markdown",
   "metadata": {},
   "source": [
    "Its *always* a good idea to visualize your data. \n",
    "\n",
    "We can use matplotlib.pyplot to generate a histogram. In the built-in datasets, the target field represents the column in the numpy multi-dimensional array (matrix) that is the *target* variable, i.e., what we are trying to predict."
   ]
  },
  {
   "cell_type": "code",
<<<<<<< HEAD
   "execution_count": 6,
   "metadata": {},
   "outputs": [
    {
     "data": {
      "text/plain": [
       "Text(0.5,1,'Figure 1. Price Histogram')"
      ]
     },
     "execution_count": 6,
     "metadata": {},
     "output_type": "execute_result"
    },
    {
     "data": {
      "image/png": "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\n",
      "text/plain": [
       "<Figure size 432x288 with 1 Axes>"
      ]
     },
     "metadata": {},
     "output_type": "display_data"
    }
   ],
=======
   "execution_count": null,
   "metadata": {},
   "outputs": [],
>>>>>>> upstream/master
   "source": [
    "# Histogram of prices (this is the target of our dataset)\n",
    "plt.hist(boston.target, bins=50)\n",
    "\n",
    "#label\n",
    "plt.xlabel('Price in $1000s')\n",
    "plt.ylabel('Number of houses')\n",
    "plt.title('Figure 1. Price Histogram')"
   ]
  },
  {
   "cell_type": "markdown",
   "metadata": {},
   "source": [
    "Scatter plot of prices\n",
    "\n",
    "We can use a scatter plot of prices versus the number of rooms in the dwelling, or prices versus any other predictor to explore the data."
   ]
  },
  {
   "cell_type": "code",
<<<<<<< HEAD
   "execution_count": 7,
   "metadata": {},
   "outputs": [
    {
     "name": "stdout",
     "output_type": "stream",
     "text": [
      "Figure 2. Price versus Number of Rooms Scatter Plot\n"
     ]
    },
    {
     "data": {
      "image/png": "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\n",
      "text/plain": [
       "<Figure size 432x288 with 1 Axes>"
      ]
     },
     "metadata": {},
     "output_type": "display_data"
    }
   ],
=======
   "execution_count": null,
   "metadata": {},
   "outputs": [],
>>>>>>> upstream/master
   "source": [
    "# Plot the column at the 5 index (Labeled RM)\n",
    "plt.scatter(boston.data[:,5], boston.target)\n",
    "\n",
    "#label\n",
    "plt.ylabel('Price in $1000s')\n",
    "plt.xlabel('Number of rooms')\n",
    "print('Figure 2. Price versus Number of Rooms Scatter Plot')"
   ]
  },
  {
   "cell_type": "markdown",
   "metadata": {},
   "source": [
    "We can see a trend showing that in general, price increases with an increasing number of rooms in the house. Makes sense."
   ]
  },
  {
   "cell_type": "markdown",
   "metadata": {},
   "source": [
    "**Q1) There's an anomolly in the price target variable in the Boston dataset. What is it? See figures 1 and 2 above. Answer in the cell below.**"
   ]
  },
  {
<<<<<<< HEAD
   "cell_type": "markdown",
   "metadata": {
    "collapsed": true
   },
   "source": [
    "There are some houses that are substantially more expensive than the otheres, seemingly irregardeless of obvious linear fit graph. In Figure 2, between 5 and 9 rooms you can see a few more than a dozen houses that are incredibly expensive. In Figure 1, you can see the outlyers on the right of the the plot illustrated by 16 some houses in the $50,000 range. "
   ]
=======
   "cell_type": "code",
   "execution_count": null,
   "metadata": {},
   "outputs": [],
   "source": []
>>>>>>> upstream/master
  },
  {
   "cell_type": "markdown",
   "metadata": {},
   "source": [
    " We can use the Seaborn statistical visulization package to plot a linear regression model on the scatter plot to visualize how well a linear regression model fits the data. Seaborn requires that the data be in a pandas DataFrame."
   ]
  },
  {
   "cell_type": "code",
<<<<<<< HEAD
   "execution_count": 8,
   "metadata": {},
   "outputs": [
    {
     "name": "stdout",
     "output_type": "stream",
     "text": [
      "type of boston.data ->  <class 'numpy.ndarray'>\n",
      "boston.data ->  [[6.3200e-03 1.8000e+01 2.3100e+00 ... 1.5300e+01 3.9690e+02 4.9800e+00]\n",
      " [2.7310e-02 0.0000e+00 7.0700e+00 ... 1.7800e+01 3.9690e+02 9.1400e+00]\n",
      " [2.7290e-02 0.0000e+00 7.0700e+00 ... 1.7800e+01 3.9283e+02 4.0300e+00]\n",
      " ...\n",
      " [6.0760e-02 0.0000e+00 1.1930e+01 ... 2.1000e+01 3.9690e+02 5.6400e+00]\n",
      " [1.0959e-01 0.0000e+00 1.1930e+01 ... 2.1000e+01 3.9345e+02 6.4800e+00]\n",
      " [4.7410e-02 0.0000e+00 1.1930e+01 ... 2.1000e+01 3.9690e+02 7.8800e+00]]\n",
      "type of boston.target ->  <class 'numpy.ndarray'>\n",
      "boston.target ->  [24.  21.6 34.7 33.4 36.2 28.7 22.9 27.1 16.5 18.9 15.  18.9 21.7 20.4\n",
      " 18.2 19.9 23.1 17.5 20.2 18.2 13.6 19.6 15.2 14.5 15.6 13.9 16.6 14.8\n",
      " 18.4 21.  12.7 14.5 13.2 13.1 13.5 18.9 20.  21.  24.7 30.8 34.9 26.6\n",
      " 25.3 24.7 21.2 19.3 20.  16.6 14.4 19.4 19.7 20.5 25.  23.4 18.9 35.4\n",
      " 24.7 31.6 23.3 19.6 18.7 16.  22.2 25.  33.  23.5 19.4 22.  17.4 20.9\n",
      " 24.2 21.7 22.8 23.4 24.1 21.4 20.  20.8 21.2 20.3 28.  23.9 24.8 22.9\n",
      " 23.9 26.6 22.5 22.2 23.6 28.7 22.6 22.  22.9 25.  20.6 28.4 21.4 38.7\n",
      " 43.8 33.2 27.5 26.5 18.6 19.3 20.1 19.5 19.5 20.4 19.8 19.4 21.7 22.8\n",
      " 18.8 18.7 18.5 18.3 21.2 19.2 20.4 19.3 22.  20.3 20.5 17.3 18.8 21.4\n",
      " 15.7 16.2 18.  14.3 19.2 19.6 23.  18.4 15.6 18.1 17.4 17.1 13.3 17.8\n",
      " 14.  14.4 13.4 15.6 11.8 13.8 15.6 14.6 17.8 15.4 21.5 19.6 15.3 19.4\n",
      " 17.  15.6 13.1 41.3 24.3 23.3 27.  50.  50.  50.  22.7 25.  50.  23.8\n",
      " 23.8 22.3 17.4 19.1 23.1 23.6 22.6 29.4 23.2 24.6 29.9 37.2 39.8 36.2\n",
      " 37.9 32.5 26.4 29.6 50.  32.  29.8 34.9 37.  30.5 36.4 31.1 29.1 50.\n",
      " 33.3 30.3 34.6 34.9 32.9 24.1 42.3 48.5 50.  22.6 24.4 22.5 24.4 20.\n",
      " 21.7 19.3 22.4 28.1 23.7 25.  23.3 28.7 21.5 23.  26.7 21.7 27.5 30.1\n",
      " 44.8 50.  37.6 31.6 46.7 31.5 24.3 31.7 41.7 48.3 29.  24.  25.1 31.5\n",
      " 23.7 23.3 22.  20.1 22.2 23.7 17.6 18.5 24.3 20.5 24.5 26.2 24.4 24.8\n",
      " 29.6 42.8 21.9 20.9 44.  50.  36.  30.1 33.8 43.1 48.8 31.  36.5 22.8\n",
      " 30.7 50.  43.5 20.7 21.1 25.2 24.4 35.2 32.4 32.  33.2 33.1 29.1 35.1\n",
      " 45.4 35.4 46.  50.  32.2 22.  20.1 23.2 22.3 24.8 28.5 37.3 27.9 23.9\n",
      " 21.7 28.6 27.1 20.3 22.5 29.  24.8 22.  26.4 33.1 36.1 28.4 33.4 28.2\n",
      " 22.8 20.3 16.1 22.1 19.4 21.6 23.8 16.2 17.8 19.8 23.1 21.  23.8 23.1\n",
      " 20.4 18.5 25.  24.6 23.  22.2 19.3 22.6 19.8 17.1 19.4 22.2 20.7 21.1\n",
      " 19.5 18.5 20.6 19.  18.7 32.7 16.5 23.9 31.2 17.5 17.2 23.1 24.5 26.6\n",
      " 22.9 24.1 18.6 30.1 18.2 20.6 17.8 21.7 22.7 22.6 25.  19.9 20.8 16.8\n",
      " 21.9 27.5 21.9 23.1 50.  50.  50.  50.  50.  13.8 13.8 15.  13.9 13.3\n",
      " 13.1 10.2 10.4 10.9 11.3 12.3  8.8  7.2 10.5  7.4 10.2 11.5 15.1 23.2\n",
      "  9.7 13.8 12.7 13.1 12.5  8.5  5.   6.3  5.6  7.2 12.1  8.3  8.5  5.\n",
      " 11.9 27.9 17.2 27.5 15.  17.2 17.9 16.3  7.   7.2  7.5 10.4  8.8  8.4\n",
      " 16.7 14.2 20.8 13.4 11.7  8.3 10.2 10.9 11.   9.5 14.5 14.1 16.1 14.3\n",
      " 11.7 13.4  9.6  8.7  8.4 12.8 10.5 17.1 18.4 15.4 10.8 11.8 14.9 12.6\n",
      " 14.1 13.  13.4 15.2 16.1 17.8 14.9 14.1 12.7 13.5 14.9 20.  16.4 17.7\n",
      " 19.5 20.2 21.4 19.9 19.  19.1 19.1 20.1 19.9 19.6 23.2 29.8 13.8 13.3\n",
      " 16.7 12.  14.6 21.4 23.  23.7 25.  21.8 20.6 21.2 19.1 20.6 15.2  7.\n",
      "  8.1 13.6 20.1 21.8 24.5 23.1 19.7 18.3 21.2 17.5 16.8 22.4 20.6 23.9\n",
      " 22.  11.9]\n"
     ]
    }
   ],
   "source": [
    "#exploring the data types again as a refresher\n",
    "print(\"type of boston.data -> \", type(boston.data))\n",
    "print(\"boston.data -> \", boston.data)\n",
    "print(\"type of boston.target -> \", type(boston.target))\n",
    "print(\"boston.target -> \", boston.target)"
   ]
  },
  {
   "cell_type": "code",
   "execution_count": 9,
   "metadata": {
    "scrolled": true
   },
   "outputs": [
    {
     "name": "stdout",
     "output_type": "stream",
     "text": [
      "13\n"
     ]
    },
    {
     "data": {
      "text/html": [
       "<div>\n",
       "<style scoped>\n",
       "    .dataframe tbody tr th:only-of-type {\n",
       "        vertical-align: middle;\n",
       "    }\n",
       "\n",
       "    .dataframe tbody tr th {\n",
       "        vertical-align: top;\n",
       "    }\n",
       "\n",
       "    .dataframe thead th {\n",
       "        text-align: right;\n",
       "    }\n",
       "</style>\n",
       "<table border=\"1\" class=\"dataframe\">\n",
       "  <thead>\n",
       "    <tr style=\"text-align: right;\">\n",
       "      <th></th>\n",
       "      <th>CRIM</th>\n",
       "      <th>ZN</th>\n",
       "      <th>INDUS</th>\n",
       "      <th>CHAS</th>\n",
       "      <th>NOX</th>\n",
       "      <th>RM</th>\n",
       "      <th>AGE</th>\n",
       "      <th>DIS</th>\n",
       "      <th>RAD</th>\n",
       "      <th>TAX</th>\n",
       "      <th>PTRATIO</th>\n",
       "      <th>B</th>\n",
       "      <th>LSTAT</th>\n",
       "    </tr>\n",
       "  </thead>\n",
       "  <tbody>\n",
       "    <tr>\n",
       "      <th>0</th>\n",
       "      <td>0.00632</td>\n",
       "      <td>18.0</td>\n",
       "      <td>2.31</td>\n",
       "      <td>0.0</td>\n",
       "      <td>0.538</td>\n",
       "      <td>6.575</td>\n",
       "      <td>65.2</td>\n",
       "      <td>4.0900</td>\n",
       "      <td>1.0</td>\n",
       "      <td>296.0</td>\n",
       "      <td>15.3</td>\n",
       "      <td>396.90</td>\n",
       "      <td>4.98</td>\n",
       "    </tr>\n",
       "    <tr>\n",
       "      <th>1</th>\n",
       "      <td>0.02731</td>\n",
       "      <td>0.0</td>\n",
       "      <td>7.07</td>\n",
       "      <td>0.0</td>\n",
       "      <td>0.469</td>\n",
       "      <td>6.421</td>\n",
       "      <td>78.9</td>\n",
       "      <td>4.9671</td>\n",
       "      <td>2.0</td>\n",
       "      <td>242.0</td>\n",
       "      <td>17.8</td>\n",
       "      <td>396.90</td>\n",
       "      <td>9.14</td>\n",
       "    </tr>\n",
       "    <tr>\n",
       "      <th>2</th>\n",
       "      <td>0.02729</td>\n",
       "      <td>0.0</td>\n",
       "      <td>7.07</td>\n",
       "      <td>0.0</td>\n",
       "      <td>0.469</td>\n",
       "      <td>7.185</td>\n",
       "      <td>61.1</td>\n",
       "      <td>4.9671</td>\n",
       "      <td>2.0</td>\n",
       "      <td>242.0</td>\n",
       "      <td>17.8</td>\n",
       "      <td>392.83</td>\n",
       "      <td>4.03</td>\n",
       "    </tr>\n",
       "    <tr>\n",
       "      <th>3</th>\n",
       "      <td>0.03237</td>\n",
       "      <td>0.0</td>\n",
       "      <td>2.18</td>\n",
       "      <td>0.0</td>\n",
       "      <td>0.458</td>\n",
       "      <td>6.998</td>\n",
       "      <td>45.8</td>\n",
       "      <td>6.0622</td>\n",
       "      <td>3.0</td>\n",
       "      <td>222.0</td>\n",
       "      <td>18.7</td>\n",
       "      <td>394.63</td>\n",
       "      <td>2.94</td>\n",
       "    </tr>\n",
       "    <tr>\n",
       "      <th>4</th>\n",
       "      <td>0.06905</td>\n",
       "      <td>0.0</td>\n",
       "      <td>2.18</td>\n",
       "      <td>0.0</td>\n",
       "      <td>0.458</td>\n",
       "      <td>7.147</td>\n",
       "      <td>54.2</td>\n",
       "      <td>6.0622</td>\n",
       "      <td>3.0</td>\n",
       "      <td>222.0</td>\n",
       "      <td>18.7</td>\n",
       "      <td>396.90</td>\n",
       "      <td>5.33</td>\n",
       "    </tr>\n",
       "  </tbody>\n",
       "</table>\n",
       "</div>"
      ],
      "text/plain": [
       "      CRIM    ZN  INDUS  CHAS    NOX     RM   AGE     DIS  RAD    TAX  \\\n",
       "0  0.00632  18.0   2.31   0.0  0.538  6.575  65.2  4.0900  1.0  296.0   \n",
       "1  0.02731   0.0   7.07   0.0  0.469  6.421  78.9  4.9671  2.0  242.0   \n",
       "2  0.02729   0.0   7.07   0.0  0.469  7.185  61.1  4.9671  2.0  242.0   \n",
       "3  0.03237   0.0   2.18   0.0  0.458  6.998  45.8  6.0622  3.0  222.0   \n",
       "4  0.06905   0.0   2.18   0.0  0.458  7.147  54.2  6.0622  3.0  222.0   \n",
       "\n",
       "   PTRATIO       B  LSTAT  \n",
       "0     15.3  396.90   4.98  \n",
       "1     17.8  396.90   9.14  \n",
       "2     17.8  392.83   4.03  \n",
       "3     18.7  394.63   2.94  \n",
       "4     18.7  396.90   5.33  "
      ]
     },
     "execution_count": 9,
     "metadata": {},
     "output_type": "execute_result"
    }
   ],
=======
   "execution_count": null,
   "metadata": {
    "scrolled": true
   },
   "outputs": [],
>>>>>>> upstream/master
   "source": [
    "# load the data into a pandas DataFrame\n",
    "boston_df = DataFrame(boston.data)\n",
    "\n",
    "# add label columns to the dataframe from the original dataset\n",
    "boston_df.columns = boston.feature_names\n",
    "\n",
    "#show\n",
    "print(boston_df.columns.size)\n",
    "boston_df.head()"
   ]
  },
  {
   "cell_type": "markdown",
   "metadata": {},
   "source": [
    "Add the target variable, price, i.e., the variable we are tring to predict in the Boston data set. \n",
    "\n",
    "Create a new price column in the DataFrame."
   ]
  },
  {
   "cell_type": "code",
<<<<<<< HEAD
   "execution_count": 10,
=======
   "execution_count": null,
>>>>>>> upstream/master
   "metadata": {},
   "outputs": [],
   "source": [
    "# Set price column for target\n",
    "boston_df['Price'] = boston.target"
   ]
  },
  {
   "cell_type": "raw",
   "metadata": {},
   "source": [
    "Verify the prediction column has been added correctly to the DataFrame"
   ]
  },
  {
   "cell_type": "code",
<<<<<<< HEAD
   "execution_count": 11,
   "metadata": {},
   "outputs": [
    {
     "name": "stdout",
     "output_type": "stream",
     "text": [
      "14\n"
     ]
    },
    {
     "data": {
      "text/html": [
       "<div>\n",
       "<style scoped>\n",
       "    .dataframe tbody tr th:only-of-type {\n",
       "        vertical-align: middle;\n",
       "    }\n",
       "\n",
       "    .dataframe tbody tr th {\n",
       "        vertical-align: top;\n",
       "    }\n",
       "\n",
       "    .dataframe thead th {\n",
       "        text-align: right;\n",
       "    }\n",
       "</style>\n",
       "<table border=\"1\" class=\"dataframe\">\n",
       "  <thead>\n",
       "    <tr style=\"text-align: right;\">\n",
       "      <th></th>\n",
       "      <th>CRIM</th>\n",
       "      <th>ZN</th>\n",
       "      <th>INDUS</th>\n",
       "      <th>CHAS</th>\n",
       "      <th>NOX</th>\n",
       "      <th>RM</th>\n",
       "      <th>AGE</th>\n",
       "      <th>DIS</th>\n",
       "      <th>RAD</th>\n",
       "      <th>TAX</th>\n",
       "      <th>PTRATIO</th>\n",
       "      <th>B</th>\n",
       "      <th>LSTAT</th>\n",
       "      <th>Price</th>\n",
       "    </tr>\n",
       "  </thead>\n",
       "  <tbody>\n",
       "    <tr>\n",
       "      <th>0</th>\n",
       "      <td>0.00632</td>\n",
       "      <td>18.0</td>\n",
       "      <td>2.31</td>\n",
       "      <td>0.0</td>\n",
       "      <td>0.538</td>\n",
       "      <td>6.575</td>\n",
       "      <td>65.2</td>\n",
       "      <td>4.0900</td>\n",
       "      <td>1.0</td>\n",
       "      <td>296.0</td>\n",
       "      <td>15.3</td>\n",
       "      <td>396.90</td>\n",
       "      <td>4.98</td>\n",
       "      <td>24.0</td>\n",
       "    </tr>\n",
       "    <tr>\n",
       "      <th>1</th>\n",
       "      <td>0.02731</td>\n",
       "      <td>0.0</td>\n",
       "      <td>7.07</td>\n",
       "      <td>0.0</td>\n",
       "      <td>0.469</td>\n",
       "      <td>6.421</td>\n",
       "      <td>78.9</td>\n",
       "      <td>4.9671</td>\n",
       "      <td>2.0</td>\n",
       "      <td>242.0</td>\n",
       "      <td>17.8</td>\n",
       "      <td>396.90</td>\n",
       "      <td>9.14</td>\n",
       "      <td>21.6</td>\n",
       "    </tr>\n",
       "    <tr>\n",
       "      <th>2</th>\n",
       "      <td>0.02729</td>\n",
       "      <td>0.0</td>\n",
       "      <td>7.07</td>\n",
       "      <td>0.0</td>\n",
       "      <td>0.469</td>\n",
       "      <td>7.185</td>\n",
       "      <td>61.1</td>\n",
       "      <td>4.9671</td>\n",
       "      <td>2.0</td>\n",
       "      <td>242.0</td>\n",
       "      <td>17.8</td>\n",
       "      <td>392.83</td>\n",
       "      <td>4.03</td>\n",
       "      <td>34.7</td>\n",
       "    </tr>\n",
       "    <tr>\n",
       "      <th>3</th>\n",
       "      <td>0.03237</td>\n",
       "      <td>0.0</td>\n",
       "      <td>2.18</td>\n",
       "      <td>0.0</td>\n",
       "      <td>0.458</td>\n",
       "      <td>6.998</td>\n",
       "      <td>45.8</td>\n",
       "      <td>6.0622</td>\n",
       "      <td>3.0</td>\n",
       "      <td>222.0</td>\n",
       "      <td>18.7</td>\n",
       "      <td>394.63</td>\n",
       "      <td>2.94</td>\n",
       "      <td>33.4</td>\n",
       "    </tr>\n",
       "    <tr>\n",
       "      <th>4</th>\n",
       "      <td>0.06905</td>\n",
       "      <td>0.0</td>\n",
       "      <td>2.18</td>\n",
       "      <td>0.0</td>\n",
       "      <td>0.458</td>\n",
       "      <td>7.147</td>\n",
       "      <td>54.2</td>\n",
       "      <td>6.0622</td>\n",
       "      <td>3.0</td>\n",
       "      <td>222.0</td>\n",
       "      <td>18.7</td>\n",
       "      <td>396.90</td>\n",
       "      <td>5.33</td>\n",
       "      <td>36.2</td>\n",
       "    </tr>\n",
       "  </tbody>\n",
       "</table>\n",
       "</div>"
      ],
      "text/plain": [
       "      CRIM    ZN  INDUS  CHAS    NOX     RM   AGE     DIS  RAD    TAX  \\\n",
       "0  0.00632  18.0   2.31   0.0  0.538  6.575  65.2  4.0900  1.0  296.0   \n",
       "1  0.02731   0.0   7.07   0.0  0.469  6.421  78.9  4.9671  2.0  242.0   \n",
       "2  0.02729   0.0   7.07   0.0  0.469  7.185  61.1  4.9671  2.0  242.0   \n",
       "3  0.03237   0.0   2.18   0.0  0.458  6.998  45.8  6.0622  3.0  222.0   \n",
       "4  0.06905   0.0   2.18   0.0  0.458  7.147  54.2  6.0622  3.0  222.0   \n",
       "\n",
       "   PTRATIO       B  LSTAT  Price  \n",
       "0     15.3  396.90   4.98   24.0  \n",
       "1     17.8  396.90   9.14   21.6  \n",
       "2     17.8  392.83   4.03   34.7  \n",
       "3     18.7  394.63   2.94   33.4  \n",
       "4     18.7  396.90   5.33   36.2  "
      ]
     },
     "execution_count": 11,
     "metadata": {},
     "output_type": "execute_result"
    }
   ],
=======
   "execution_count": null,
   "metadata": {},
   "outputs": [],
>>>>>>> upstream/master
   "source": [
    "# Show result\n",
    "print(boston_df.columns.size)\n",
    "boston_df.head()"
   ]
  },
  {
   "cell_type": "markdown",
   "metadata": {},
   "source": [
    "The Seaborn lmplot() function, fits a linear regression model to the data, plots the data as a scater plot, and adds the regression line. "
   ]
  },
  {
   "cell_type": "code",
<<<<<<< HEAD
   "execution_count": 12,
   "metadata": {
    "scrolled": true
   },
   "outputs": [
    {
     "name": "stdout",
     "output_type": "stream",
     "text": [
      "Figure 3. Linear Model Regression Plot\n"
     ]
    },
    {
     "data": {
      "image/png": "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\n",
      "text/plain": [
       "<Figure size 360x360 with 1 Axes>"
      ]
     },
     "metadata": {},
     "output_type": "display_data"
    }
   ],
=======
   "execution_count": null,
   "metadata": {},
   "outputs": [],
>>>>>>> upstream/master
   "source": [
    "# Use seabron to create and plot a linear fit\n",
    "sns.lmplot('RM','Price', data = boston_df)\n",
    "print ('Figure 3. Linear Model Regression Plot')"
   ]
  },
  {
   "cell_type": "markdown",
   "metadata": {},
   "source": [
    "*Note: The transluscent bands correspond to the confidence interval. The default is ci=95% confidence interval*\n",
    "https://web.stanford.edu/~mwaskom/software/seaborn/generated/seaborn.lmplot.html"
   ]
  },
  {
   "cell_type": "markdown",
   "metadata": {},
   "source": [
    "### 3: Ordinary Least Squares (OLS) Regression"
   ]
  },
  {
   "cell_type": "markdown",
   "metadata": {},
   "source": [
    "OLS regression fits a linear model (line in univariate regression, plane with two variates) by minimizing the residual sum of squares. Residuals are shown as red lines in the plot below. The residuals represent the difference between the predicted (point on line) and actual data (point). *Note: the plot below was generated from a different dataset using R. It is for illustrative purposes.*"
   ]
  },
  {
   "cell_type": "code",
   "execution_count": null,
   "metadata": {},
   "outputs": [],
   "source": [
    "# Plot of linear regression residuals\n",
    "from IPython.display import Image\n",
    "print( 'Figure 4. Linear regression residuals' )\n",
    "Image('linear_regression_residuals.png')"
   ]
  },
  {
   "cell_type": "markdown",
   "metadata": {},
   "source": [
    "Best fit is defined as the line that minimizes the residual sum of squares:\n",
    "\n",
    "$RSS=\\sum_{i}^{m}(\\hat{y}_i - {y}_i)^2$\n",
    "\n",
    "Where $\\hat{y}=\\beta_0 + \\beta_1x$\n",
    "\n",
    "The least-square line approximating the set of points:\n",
    "\n",
    "$ (x,y)_{1},(x,y)_{2},(x,y)_{3},...,(x,y)_{m}$\n",
    "\n",
    "has the equation: $ \\hat{Y} = \\beta_{0} +\\beta_{1}X $\n",
    "\n",
    "I.e., the equation of a line: $Y=mx+b$\n"
   ]
  },
  {
   "cell_type": "markdown",
   "metadata": {},
   "source": [
    "We can solve for our coefficients using gradient descent (see lab 2) or the normal equation (see class materials)."
   ]
  },
  {
   "cell_type": "markdown",
   "metadata": {},
   "source": [
    "### 4: Using Numpy for a Univariate Linear Regression"
   ]
  },
  {
   "cell_type": "markdown",
   "metadata": {},
   "source": [
    "Numpy has a OLS method in its linear algebra library. We'll use this for our univariate regression. We will move on to scikit-learn for Multivariate regression.\n",
    "\n",
    "Numpy expects a *2D* array. The first dimension contains the different values. The second dimension contains the attribute number. In this case, the value is the mean number of rooms per house. Since this is a single attribute, the second dimension of the array is 1. So we need to create a (506,1) shape array. We can use numpy's vertical stack tool, *vstack*, to do this."
   ]
  },
  {
   "cell_type": "code",
<<<<<<< HEAD
   "execution_count": 22,
   "metadata": {},
   "outputs": [
    {
     "name": "stdout",
     "output_type": "stream",
     "text": [
      "1    6.421\n",
      "2    7.185\n",
      "3    6.998\n",
      "4    7.147\n",
      "Name: RM, dtype: float64\n",
      "[[6.421]\n",
      " [7.185]\n",
      " [6.998]\n",
      " [7.147]]\n",
      "1    21.6\n",
      "2    34.7\n",
      "3    33.4\n",
      "4    36.2\n",
      "Name: Price, dtype: float64\n"
     ]
    }
   ],
=======
   "execution_count": null,
   "metadata": {},
   "outputs": [],
>>>>>>> upstream/master
   "source": [
    "# Set up X as the room median values\n",
    "X = boston_df.RM\n",
    "print( X[1:5])\n",
    "\n",
    "# Use vstack to make X two-dimensional\n",
    "X = np.vstack(boston_df.RM)\n",
    "print( X[1:5])\n",
    "\n",
    "# Set up Y as the house target price.\n",
    "Y = boston_df.Price\n",
    "print(Y[1:5])"
   ]
  },
  {
   "cell_type": "markdown",
   "metadata": {},
   "source": [
    "The linear regression model: $Y=mX+b$\n",
    "\n",
    "can be represented in matrix form: $Y=A\\beta$\n",
    "\n",
    "where: $A = \\begin{bmatrix}x & 1\\end{bmatrix}$\n",
    "\n",
    "and $\\beta = \\begin{bmatrix}m \\\\b\\end{bmatrix}$\n",
    "\n",
    "We can calculate the $A$ matrix using numpy. We can do this by creating a matrix in the form $[X 1]$,"
   ]
  },
  {
   "cell_type": "code",
<<<<<<< HEAD
   "execution_count": 23,
=======
   "execution_count": null,
>>>>>>> upstream/master
   "metadata": {},
   "outputs": [],
   "source": [
    "# Create the X array in the form [X 1]\n",
    "X = np.array( [ [value,1] for value in X ] )"
   ]
  },
  {
   "cell_type": "markdown",
   "metadata": {},
   "source": [
    "Now we can get the best fit values."
   ]
  },
  {
   "cell_type": "code",
<<<<<<< HEAD
   "execution_count": 26,
   "metadata": {},
   "outputs": [
    {
     "name": "stdout",
     "output_type": "stream",
     "text": [
      "9.102108981180312 -34.67062077643856\n"
     ]
    },
    {
     "data": {
      "text/plain": [
       "(array([  9.10210898, -34.67062078]),\n",
       " array([22061.87919621]),\n",
       " 2,\n",
       " array([143.99484122,   2.46656609]))"
      ]
     },
     "execution_count": 26,
     "metadata": {},
     "output_type": "execute_result"
    }
   ],
=======
   "execution_count": null,
   "metadata": {},
   "outputs": [],
>>>>>>> upstream/master
   "source": [
    "# Now calculate our coefficients for the best fit line\n",
    "m, b = np.linalg.lstsq(X, Y, rcond=None)[0]\n",
    "print(m, b)\n",
    "np.linalg.lstsq(X, Y, rcond=None)"
   ]
  },
  {
   "cell_type": "markdown",
   "metadata": {},
   "source": [
    "We can plot the data using the original data format of the Boston housing information. We performed the matrix transformations to utilize the numpy least square method."
   ]
  },
  {
   "cell_type": "code",
<<<<<<< HEAD
   "execution_count": 27,
   "metadata": {},
   "outputs": [
    {
     "name": "stdout",
     "output_type": "stream",
     "text": [
      "Figure. 5, Price vs. Mean Number of Rooms\n"
     ]
    },
    {
     "data": {
      "image/png": "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\n",
      "text/plain": [
       "<Figure size 432x288 with 1 Axes>"
      ]
     },
     "metadata": {},
     "output_type": "display_data"
    }
   ],
=======
   "execution_count": null,
   "metadata": {},
   "outputs": [],
>>>>>>> upstream/master
   "source": [
    "# Plot points, Price vs Mean Number of Rooms\n",
    "plt.plot(boston_df.RM,boston_df.Price,'o')\n",
    "\n",
    "# Plot best fit line\n",
    "x= boston_df.RM\n",
    "plt.plot(x, m*x + b,'r',label='Best Fit Line')\n",
    "print ('Figure. 5, Price vs. Mean Number of Rooms')"
   ]
  },
  {
   "cell_type": "markdown",
   "metadata": {},
   "source": [
    "### 5: Getting the error "
   ]
  },
  {
   "cell_type": "markdown",
   "metadata": {},
   "source": [
    "**Q2) Calculate the RSS (as defined in step 3) for the univariate linear regression model of the Boston dataset created in step 4.** Use the cell below.\n",
    "\n",
    "$RSS=\\sum_{i}^{m}(\\hat{y}_i - {y}_i)$\n",
    "\n",
    "Where $\\hat{y}=\\beta_0 + \\beta_1x$"
   ]
  },
  {
   "cell_type": "code",
   "execution_count": 38,
   "metadata": {},
   "outputs": [
    {
     "data": {
      "text/plain": [
       "22061.879196211798"
      ]
     },
     "execution_count": 38,
     "metadata": {},
     "output_type": "execute_result"
    }
   ],
   "source": [
    "RSS = np.linalg.lstsq(X, Y, rcond=None)[1][0]\n",
    "RSS"
   ]
  },
  {
   "cell_type": "markdown",
   "metadata": {},
   "source": [
    "We can calculate the [root mean square error](http://docs.scipy.org/doc/numpy/reference/generated/numpy.linalg.lstsq.html) of our fitted regression line.\n",
    "\n",
    "The result array has the residual squared error (RSS). For each element, it checks the the difference between the line (our prediction) and the true value, squares it, and returns the sum of all these. This is the RSS value.\n",
    "\n",
    "The root mean squared error is similar to the standard deviation. To find the root mean square error we divide by the number of elements and then take the square root. \n",
    "\n",
    "$RMSE=\\sqrt{\\dfrac{RSS}{N}}$"
   ]
  },
  {
   "cell_type": "markdown",
   "metadata": {},
   "source": [
    "**Q3) Calculate the RMSE.** Use the cell below.\n",
    "\n",
    "Note: numpy has a linear algebra package containing a function for calculating the \n"
   ]
  },
  {
   "cell_type": "code",
   "execution_count": 47,
   "metadata": {},
   "outputs": [
    {
     "data": {
      "text/plain": [
       "980.7701596519549"
      ]
     },
     "execution_count": 47,
     "metadata": {},
     "output_type": "execute_result"
    }
   ],
   "source": [
    "RMSE = (RSS / (boston_df.RM.count()) ** 0.5)\n",
    "RMSE"
   ]
  },
  {
   "cell_type": "markdown",
   "metadata": {},
   "source": [
    "Since the root mean square error (RMSE) corresponds to the standard deviation, we can say that the price of a house will not vary by more than 2 times the RMSE 95% of the time. \n",
    "\n",
    "**Q4. How much will the price of a house vary 95% of the time?** Use the cell below."
   ]
  },
  {
   "cell_type": "code",
   "execution_count": 130,
   "metadata": {},
   "outputs": [
    {
     "name": "stdout",
     "output_type": "stream",
     "text": [
      "The price of a house will vary by 1863.46 95% of the time.\n"
     ]
    }
   ],
   "source": [
    "sol = 2 * RMSE * .95\n",
    "print(\"The price of a house will vary by %.2f 95%% of the time.\" % (sol))"
   ]
  },
  {
   "cell_type": "markdown",
   "metadata": {},
   "source": [
    "**Q5) Calculate the TSS for the univariate linear regression model of the Boston dataset.** Use the cell below.\n",
    "\n",
    "$TSS=\\sum_{i}^{m}({y}_i - \\bar{y})$"
   ]
  },
  {
   "cell_type": "code",
   "execution_count": 61,
   "metadata": {},
<<<<<<< HEAD
   "outputs": [
    {
     "data": {
      "text/plain": [
       "(array([  9.10210898, -34.67062078]),\n",
       " array([22061.87919621]),\n",
       " 2,\n",
       " array([143.99484122,   2.46656609]))"
      ]
     },
     "execution_count": 61,
     "metadata": {},
     "output_type": "execute_result"
    }
   ],
   "source": [
    "TSS = np.linalg.lstsq(X, Y, rcond = 0)\n",
    "TSS"
=======
   "outputs": [],
   "source": [
    "# Use vstack to make X two-dimensional\n",
    "X = boston_df.RM\n",
    "\n",
    "# Set up Y as the house target price.\n",
    "Y = boston_df.Price\n",
    "\n",
    "# your work here\n",
    "\n"
>>>>>>> upstream/master
   ]
  },
  {
   "cell_type": "markdown",
   "metadata": {},
   "source": [
    "**Q6) Calcualte $R^2$ for the univariate linear regression model of the Boston dataset.** Use the cell below.\n",
    "\n",
    "$R^2=\\dfrac{TSS - RSS}{TSS} = 1 - \\dfrac{RSS}{TSS}$"
   ]
  },
  {
   "cell_type": "code",
   "execution_count": 57,
   "metadata": {},
   "outputs": [
    {
     "name": "stdout",
     "output_type": "stream",
     "text": [
      "-4411.37583924236\n"
     ]
    }
   ],
   "source": [
    "rSquared = 1 - (RSS / TSS)\n",
    "print(rSquared)"
   ]
  },
  {
   "cell_type": "markdown",
   "metadata": {},
   "source": [
    "### 6: Scikit-learn for multivariate regression"
   ]
  },
  {
   "cell_type": "markdown",
   "metadata": {},
   "source": [
    "*Scikit-learn* can be used for univariate or multivariate regression.\n",
    "\n",
    "The [sklearn.linear_model.LinearRegression](http://scikit-learn.org/stable/modules/generated/sklearn.linear_model.LinearRegression.html) class is called an estimator. \n",
    "\n",
    "Estimators predict a value based on the observed data. In scikit-learn, all estimators implement the *fit()* and *predict()* methods. The *fit()* method is used to learn the parameters of a model, and the *predict()* method is used to predict the value of a response variable for a given predictor variable using the learned coefficients. "
   ]
  },
  {
   "cell_type": "code",
<<<<<<< HEAD
   "execution_count": 58,
=======
   "execution_count": null,
>>>>>>> upstream/master
   "metadata": {},
   "outputs": [],
   "source": [
    "# Import Linear Regression\n",
    "import sklearn\n",
    "from sklearn.linear_model import LinearRegression"
   ]
  },
  {
   "cell_type": "markdown",
   "metadata": {},
   "source": [
    "Create a LinearRegression object.\n",
    "\n",
    "*Note: After typing in an object, you can press tab to see a list of methods*."
   ]
  },
  {
   "cell_type": "code",
<<<<<<< HEAD
   "execution_count": 62,
=======
   "execution_count": null,
>>>>>>> upstream/master
   "metadata": {},
   "outputs": [],
   "source": [
    "# Create a LinearRegression Object\n",
    "lreg = LinearRegression()"
   ]
  },
  {
   "cell_type": "markdown",
   "metadata": {},
   "source": [
    "LinearRegression functions:\n",
    "\n",
    "- lreg.fit(): fits a linear model\n",
    "\n",
    "- lreg.predict(): predict Y from X using the linear regression model coefficients\n",
    "\n",
    "- lreg.score(): returns $R^2$, the [coefficient of determination](http://en.wikipedia.org/wiki/Coefficient_of_determination)"
   ]
  },
  {
   "cell_type": "markdown",
   "metadata": {},
   "source": [
    "Separate the Boston dataframe into data columns and the target column:"
   ]
  },
  {
   "cell_type": "code",
<<<<<<< HEAD
   "execution_count": 64,
=======
   "execution_count": null,
>>>>>>> upstream/master
   "metadata": {},
   "outputs": [],
   "source": [
    "# Data Columns\n",
    "X_multi = boston_df.drop('Price',1)\n",
    "\n",
    "# Targets\n",
    "Y_target = boston_df.Price"
   ]
  },
  {
   "cell_type": "markdown",
   "metadata": {},
   "source": [
    "Fit the linear regression model to X & Y."
   ]
  },
  {
   "cell_type": "code",
<<<<<<< HEAD
   "execution_count": 65,
   "metadata": {},
   "outputs": [
    {
     "data": {
      "text/plain": [
       "LinearRegression(copy_X=True, fit_intercept=True, n_jobs=1, normalize=False)"
      ]
     },
     "execution_count": 65,
     "metadata": {},
     "output_type": "execute_result"
    }
   ],
=======
   "execution_count": null,
   "metadata": {},
   "outputs": [],
>>>>>>> upstream/master
   "source": [
    "# Implement Linear Regression\n",
    "lreg.fit(X_multi,Y_target)"
   ]
  },
  {
   "cell_type": "markdown",
   "metadata": {
    "collapsed": true
   },
   "source": [
    "Check the intercept and the number of coefficients."
   ]
  },
  {
   "cell_type": "code",
<<<<<<< HEAD
   "execution_count": 66,
   "metadata": {},
   "outputs": [
    {
     "name": "stdout",
     "output_type": "stream",
     "text": [
      " The estimated intercept coefficient is 36.49 \n"
     ]
    }
   ],
=======
   "execution_count": null,
   "metadata": {},
   "outputs": [],
>>>>>>> upstream/master
   "source": [
    "print(' The estimated intercept coefficient is %.2f ' %lreg.intercept_)"
   ]
  },
  {
   "cell_type": "code",
<<<<<<< HEAD
   "execution_count": 67,
   "metadata": {},
   "outputs": [
    {
     "name": "stdout",
     "output_type": "stream",
     "text": [
      " The number of coefficients used was 13 \n"
     ]
    }
   ],
=======
   "execution_count": null,
   "metadata": {},
   "outputs": [],
>>>>>>> upstream/master
   "source": [
    "print(' The number of coefficients used was %d ' % len(lreg.coef_))"
   ]
  },
  {
   "cell_type": "markdown",
   "metadata": {},
   "source": [
    "[Documentation](http://scikit-learn.org/stable/modules/linear_model.html).\n",
    "\n",
    "$ y(\\beta,x) = \\beta_0 + \\beta_1 x_1 + ... + \\beta_p x_p $\n",
    "\n",
    "Where $\\beta = (\\beta_1, ...\\beta_p)$ are the coefficients and $ \\beta_0 $ as the intercept."
   ]
  },
  {
   "cell_type": "raw",
   "metadata": {},
   "source": [
    "Create a DataFrame to examine the model and the estimated coefficients."
   ]
  },
  {
   "cell_type": "code",
<<<<<<< HEAD
   "execution_count": 73,
   "metadata": {},
   "outputs": [
    {
     "name": "stdout",
     "output_type": "stream",
     "text": [
      "Table 1. Multivariate coefficients\n"
     ]
    },
    {
     "data": {
      "text/html": [
       "<div>\n",
       "<style scoped>\n",
       "    .dataframe tbody tr th:only-of-type {\n",
       "        vertical-align: middle;\n",
       "    }\n",
       "\n",
       "    .dataframe tbody tr th {\n",
       "        vertical-align: top;\n",
       "    }\n",
       "\n",
       "    .dataframe thead th {\n",
       "        text-align: right;\n",
       "    }\n",
       "</style>\n",
       "<table border=\"1\" class=\"dataframe\">\n",
       "  <thead>\n",
       "    <tr style=\"text-align: right;\">\n",
       "      <th></th>\n",
       "      <th>Features</th>\n",
       "      <th>Coefficient Estimate</th>\n",
       "    </tr>\n",
       "  </thead>\n",
       "  <tbody>\n",
       "    <tr>\n",
       "      <th>0</th>\n",
       "      <td>CRIM</td>\n",
       "      <td>-0.107171</td>\n",
       "    </tr>\n",
       "    <tr>\n",
       "      <th>1</th>\n",
       "      <td>ZN</td>\n",
       "      <td>0.046395</td>\n",
       "    </tr>\n",
       "    <tr>\n",
       "      <th>2</th>\n",
       "      <td>INDUS</td>\n",
       "      <td>0.020860</td>\n",
       "    </tr>\n",
       "    <tr>\n",
       "      <th>3</th>\n",
       "      <td>CHAS</td>\n",
       "      <td>2.688561</td>\n",
       "    </tr>\n",
       "    <tr>\n",
       "      <th>4</th>\n",
       "      <td>NOX</td>\n",
       "      <td>-17.795759</td>\n",
       "    </tr>\n",
       "    <tr>\n",
       "      <th>5</th>\n",
       "      <td>RM</td>\n",
       "      <td>3.804752</td>\n",
       "    </tr>\n",
       "    <tr>\n",
       "      <th>6</th>\n",
       "      <td>AGE</td>\n",
       "      <td>0.000751</td>\n",
       "    </tr>\n",
       "    <tr>\n",
       "      <th>7</th>\n",
       "      <td>DIS</td>\n",
       "      <td>-1.475759</td>\n",
       "    </tr>\n",
       "    <tr>\n",
       "      <th>8</th>\n",
       "      <td>RAD</td>\n",
       "      <td>0.305655</td>\n",
       "    </tr>\n",
       "    <tr>\n",
       "      <th>9</th>\n",
       "      <td>TAX</td>\n",
       "      <td>-0.012329</td>\n",
       "    </tr>\n",
       "    <tr>\n",
       "      <th>10</th>\n",
       "      <td>PTRATIO</td>\n",
       "      <td>-0.953464</td>\n",
       "    </tr>\n",
       "    <tr>\n",
       "      <th>11</th>\n",
       "      <td>B</td>\n",
       "      <td>0.009393</td>\n",
       "    </tr>\n",
       "    <tr>\n",
       "      <th>12</th>\n",
       "      <td>LSTAT</td>\n",
       "      <td>-0.525467</td>\n",
       "    </tr>\n",
       "    <tr>\n",
       "      <th>13</th>\n",
       "      <td>Price</td>\n",
       "      <td>NaN</td>\n",
       "    </tr>\n",
       "  </tbody>\n",
       "</table>\n",
       "</div>"
      ],
      "text/plain": [
       "   Features  Coefficient Estimate\n",
       "0      CRIM             -0.107171\n",
       "1        ZN              0.046395\n",
       "2     INDUS              0.020860\n",
       "3      CHAS              2.688561\n",
       "4       NOX            -17.795759\n",
       "5        RM              3.804752\n",
       "6       AGE              0.000751\n",
       "7       DIS             -1.475759\n",
       "8       RAD              0.305655\n",
       "9       TAX             -0.012329\n",
       "10  PTRATIO             -0.953464\n",
       "11        B              0.009393\n",
       "12    LSTAT             -0.525467\n",
       "13    Price                   NaN"
      ]
     },
     "execution_count": 73,
     "metadata": {},
     "output_type": "execute_result"
    }
   ],
=======
   "execution_count": null,
   "metadata": {},
   "outputs": [],
>>>>>>> upstream/master
   "source": [
    "# Create a DataFrame from the Features\n",
    "coeff_df = DataFrame(boston_df.columns)\n",
    "coeff_df.columns = ['Features']\n",
    "\n",
    "# Add a new column with the coefficients from the linear regression\n",
    "coeff_df[\"Coefficient Estimate\"] = pd.Series(lreg.coef_)\n",
    "\n",
    "# Show\n",
    "print ('Table 1. Multivariate coefficients')\n",
    "coeff_df"
   ]
  },
  {
   "cell_type": "markdown",
   "metadata": {},
   "source": [
    "**Q7) Which coefficients, excluding nitric oxide (NOX) have the strongest correlation with the target variable>** Use the cell below."
   ]
  },
  {
   "cell_type": "code",
   "execution_count": null,
   "metadata": {},
   "outputs": [],
   "source": [
    "Distances from the emplyment centers, and Pupil Teacher Ratio have the strongest correlations with price. "
   ]
  },
  {
   "cell_type": "markdown",
   "metadata": {},
   "source": [
    "### 7: Using Training and Validation Sets"
   ]
  },
  {
   "cell_type": "markdown",
   "metadata": {},
   "source": [
    "Separate training and test sets should be used to train and validate the model respectively.\n",
    "\n",
    "Samples for each set should be randomly selected.\n",
    "\n",
    "Fortunately, scikit-learn has a built in function specifically for this called train_test_split.\n",
    "\n",
    "The Scikit-learn [validation](http://scikit-learn.org/stable/modules/generated/sklearn.cross_validation.train_test_split.html) library has a function for this purpose. Below, we are creating separate training and tests sets, holding out 40% of the data for testing. "
   ]
  },
  {
   "cell_type": "code",
   "execution_count": 124,
   "metadata": {},
   "outputs": [
    {
     "name": "stdout",
     "output_type": "stream",
     "text": [
      "(506, 2)\n",
      "(303, 2) (203, 2) (303,) (203,)\n",
      "<class 'numpy.ndarray'> <class 'numpy.ndarray'> <class 'pandas.core.series.Series'> <class 'pandas.core.series.Series'>\n"
     ]
    }
   ],
   "source": [
    "# from sklearn.model_selection import train_test_split\n",
    "print(X.shape)\n",
    "X_train, X_test, Y_train, Y_test = sklearn.model_selection.train_test_split(X,boston_df.Price, test_size=0.4, random_state=0)\n",
    "print (X_train.shape, X_test.shape, Y_train.shape, Y_test.shape)\n",
    "print (type(X_train), type(X_test), type(Y_train), type(Y_test))"
   ]
  },
  {
   "cell_type": "markdown",
   "metadata": {},
   "source": [
    "Display the results of the data split."
   ]
  },
  {
   "cell_type": "code",
   "execution_count": 125,
   "metadata": {},
   "outputs": [
    {
     "name": "stdout",
     "output_type": "stream",
     "text": [
      "(303, 2) (203, 2) (303,) (203,)\n",
      "(303, 2) (203, 2) (303, 1) (203, 1)\n"
     ]
    }
   ],
   "source": [
    "# Print shapes of the training and testing data sets\n",
    "print (X_train.shape, X_test.shape, Y_train.shape, Y_test.shape)\n",
    "\n",
    "# numpy expects matrix with dimension column\n",
<<<<<<< HEAD
    "X_train = X_train.reshape(X_train.shape[0],2)\n",
    "Y_train = Y_train.values.reshape(Y_train.shape[0],1)\n",
    "X_test = X_test.reshape(X_test.shape[0],2)\n",
=======
    "X_train = X_train.values.reshape(X_train.shape[0],1)\n",
    "Y_train = Y_train.values.reshape(Y_train.shape[0],1)\n",
    "X_test = X_test.values.reshape(X_test.shape[0],1)\n",
>>>>>>> upstream/master
    "Y_test = Y_test.values.reshape(Y_test.shape[0],1)\n",
    "\n",
    "print (X_train.shape, X_test.shape, Y_train.shape, Y_test.shape)"
   ]
  },
  {
   "cell_type": "markdown",
   "metadata": {},
   "source": [
    "### 8: Predicting Prices"
   ]
  },
  {
   "cell_type": "markdown",
   "metadata": {},
   "source": [
    "We can use our training set to build the model, and the test set to evaluate the performance of our model."
   ]
  },
  {
   "cell_type": "code",
   "execution_count": 126,
   "metadata": {},
   "outputs": [
    {
     "data": {
      "text/plain": [
       "LinearRegression(copy_X=True, fit_intercept=True, n_jobs=1, normalize=False)"
      ]
     },
     "execution_count": 126,
     "metadata": {},
     "output_type": "execute_result"
    }
   ],
   "source": [
    "# Regression object\n",
    "lreg = LinearRegression()\n",
    "\n",
    "# Build a linear regression model on the training data only\n",
    "lreg.fit(X_train,Y_train)"
   ]
  },
  {
   "cell_type": "markdown",
   "metadata": {},
   "source": [
    "Perform prediction on both the training set and the test set."
   ]
  },
  {
   "cell_type": "code",
<<<<<<< HEAD
   "execution_count": 127,
=======
   "execution_count": null,
>>>>>>> upstream/master
   "metadata": {},
   "outputs": [],
   "source": [
    "# Predictions on training and testing sets\n",
    "pred_train = lreg.predict(X_train)\n",
    "pred_test = lreg.predict(X_test)"
   ]
  },
  {
   "cell_type": "markdown",
   "metadata": {},
   "source": [
    "Calculate the mean square error for each:"
   ]
  },
  {
   "cell_type": "code",
   "execution_count": 128,
   "metadata": {},
   "outputs": [
    {
     "name": "stdout",
     "output_type": "stream",
     "text": [
      "Fit a model X_train, and calculate MSE with Y_train: 44.03\n",
      "Fit a model X_train, and calculate MSE with X_test and Y_test: 42.97\n"
     ]
    }
   ],
   "source": [
    "print (\"Fit a model X_train, and calculate MSE with Y_train: %.2f\"  % np.mean((Y_train - pred_train) ** 2) )\n",
    "    \n",
    "print (\"Fit a model X_train, and calculate MSE with X_test and Y_test: %.2f\"  % np.mean((Y_test - pred_test) ** 2) )\n",
    "\n"
   ]
  },
  {
   "cell_type": "markdown",
   "metadata": {},
   "source": [
    "### Step 9 : Residual Plots"
   ]
  },
  {
   "cell_type": "markdown",
   "metadata": {},
   "source": [
    "A residual plot is a graph that shows the residuals on the vertical axis and the independent variable (x) on the horizontal axis. If the points in a residual plot are randomly dispersed around the horizontal axis, a linear regression model is appropriate for the data; otherwise, a non-linear model is more appropriate.\n",
    "\n",
    "Residual plots are a good way to visualize the errors in your data.  A good model fit will show data points randomly and evenly scattered around line zero. If there is some strucutre or pattern, that means your model is not capturing some aspect of the data. There could be an interaction between predictor variables that we are not considering, or the data may be inherently non-linear. \n",
    "\n",
    "[Residual plots](http://blog.minitab.com/blog/adventures-in-statistics/why-you-need-to-check-your-residual-plots-for-regression-analysis)."
   ]
  },
  {
   "cell_type": "code",
   "execution_count": 129,
   "metadata": {},
   "outputs": [
    {
     "data": {
      "text/plain": [
       "Text(0.5,1,'Residual Plots')"
      ]
     },
     "execution_count": 129,
     "metadata": {},
     "output_type": "execute_result"
    },
    {
     "data": {
      "image/png": "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\n",
      "text/plain": [
       "<Figure size 432x288 with 1 Axes>"
      ]
     },
     "metadata": {},
     "output_type": "display_data"
    }
   ],
   "source": [
    "# Scatter plot the training data\n",
    "train = plt.scatter(pred_train,(pred_train-Y_train),c='b',alpha=0.5)\n",
    "\n",
    "# Scatter plot the testing data\n",
    "test = plt.scatter(pred_test,(pred_test-Y_test),c='r',alpha=0.5)\n",
    "\n",
    "# Plot a horizontal axis line at 0\n",
    "plt.hlines(y=0,xmin=-10,xmax=50)\n",
    "\n",
    "#Labels\n",
    "plt.legend((train,test),('Training','Test'),loc='lower left')\n",
    "plt.title('Residual Plots')"
   ]
  },
  {
   "cell_type": "markdown",
   "metadata": {},
   "source": [
    "Looks like there aren't any major patterns to be concerned about, it may be interesting to check out the line occuring towards the bottom right, but overall the majority of the residuals seem to be randomly distributed above and below the horizontal."
   ]
  },
  {
   "cell_type": "markdown",
   "metadata": {},
   "source": [
    "Linear regression is a broad topic with many applications. More information can be found in the scikit-lear documentation:  http://scikit-learn.org/stable/modules/linear_model.html#linear-model"
   ]
  },
  {
   "cell_type": "markdown",
   "metadata": {},
   "source": [
    "### Questions"
   ]
  },
  {
   "cell_type": "markdown",
   "metadata": {},
   "source": [
    "**Q8) Review Table 1. Multivariate coefficients. Think about the meaning of a linear regression model, i.e., the \n",
    "coefficient reflects the change in the target variable for a one unit change in an input variable, with all other \n",
    "variables held constant. Identify a subset of features and build a model with these features. See if you can reduce \n",
    "RMSE and increase $R^2$.** \n",
    "\n",
    "Document your results in the cell below."
   ]
  },
  {
   "cell_type": "code",
   "execution_count": 139,
   "metadata": {},
   "outputs": [],
   "source": [
    "X1 = np.vstack(boston_df.PTRATIO)\n",
    "X2 = np.vstack(boston_df.DIS)\n",
    "Y = boston_df.Price\n",
    "X1_train, X1_test, Y1_train, Y1_test = sklearn.model_selection.train_test_split(X1,boston_df.Price, test_size=0.4, random_state=0)\n",
    "X2_train, X2_test, Y2_train, Y2_test = sklearn.model_selection.train_test_split(X2,boston_df.Price, test_size=0.4, random_state=0)"
   ]
  },
  {
   "cell_type": "code",
   "execution_count": 140,
   "metadata": {},
   "outputs": [],
   "source": [
    "X1_train = X1_train.reshape(X1_train.shape[0],1)\n",
    "Y1_train = Y1_train.values.reshape(Y1_train.shape[0],1)\n",
    "X1_test = X1_test.reshape(X1_test.shape[0],1)\n",
    "Y1_test = Y1_test.values.reshape(Y1_test.shape[0],1)\n",
    "X2_train = X2_train.reshape(X2_train.shape[0],1)\n",
    "Y2_train = Y2_train.values.reshape(Y2_train.shape[0],1)\n",
    "X2_test = X2_test.reshape(X2_test.shape[0],1)\n",
    "Y2_test = Y2_test.values.reshape(Y2_test.shape[0],1)"
   ]
  },
  {
   "cell_type": "code",
   "execution_count": 141,
   "metadata": {},
   "outputs": [
    {
     "data": {
      "text/plain": [
       "LinearRegression(copy_X=True, fit_intercept=True, n_jobs=1, normalize=False)"
      ]
     },
     "execution_count": 141,
     "metadata": {},
     "output_type": "execute_result"
    }
   ],
   "source": [
    "# Regression object\n",
    "lreg1 = LinearRegression()\n",
    "lreg2 = LinearRegression()\n",
    "# Build a linear regression model on the training data only\n",
    "lreg1.fit(X1_train,Y1_train)\n",
    "lreg2.fit(X2_train,Y2_train)"
   ]
  },
  {
   "cell_type": "code",
   "execution_count": 142,
   "metadata": {},
   "outputs": [
    {
     "ename": "ValueError",
     "evalue": "shapes (303,1) and (2,1) not aligned: 1 (dim 1) != 2 (dim 0)",
     "output_type": "error",
     "traceback": [
      "\u001b[1;31m---------------------------------------------------------------------------\u001b[0m",
      "\u001b[1;31mValueError\u001b[0m                                Traceback (most recent call last)",
      "\u001b[1;32m<ipython-input-142-35b4ac1efa2a>\u001b[0m in \u001b[0;36m<module>\u001b[1;34m()\u001b[0m\n\u001b[1;32m----> 1\u001b[1;33m \u001b[0mpred_train1\u001b[0m \u001b[1;33m=\u001b[0m \u001b[0mlreg\u001b[0m\u001b[1;33m.\u001b[0m\u001b[0mpredict\u001b[0m\u001b[1;33m(\u001b[0m\u001b[0mX1_train\u001b[0m\u001b[1;33m)\u001b[0m\u001b[1;33m\u001b[0m\u001b[0m\n\u001b[0m\u001b[0;32m      2\u001b[0m \u001b[0mpred_test1\u001b[0m \u001b[1;33m=\u001b[0m \u001b[0mlreg\u001b[0m\u001b[1;33m.\u001b[0m\u001b[0mpredict\u001b[0m\u001b[1;33m(\u001b[0m\u001b[0mX1_test\u001b[0m\u001b[1;33m)\u001b[0m\u001b[1;33m\u001b[0m\u001b[0m\n\u001b[0;32m      3\u001b[0m \u001b[0mpred_train2\u001b[0m \u001b[1;33m=\u001b[0m \u001b[0mlreg\u001b[0m\u001b[1;33m.\u001b[0m\u001b[0mpredict\u001b[0m\u001b[1;33m(\u001b[0m\u001b[0mX2_train\u001b[0m\u001b[1;33m)\u001b[0m\u001b[1;33m\u001b[0m\u001b[0m\n\u001b[0;32m      4\u001b[0m \u001b[0mpred_test2\u001b[0m \u001b[1;33m=\u001b[0m \u001b[0mlreg\u001b[0m\u001b[1;33m.\u001b[0m\u001b[0mpredict\u001b[0m\u001b[1;33m(\u001b[0m\u001b[0mX2_test\u001b[0m\u001b[1;33m)\u001b[0m\u001b[1;33m\u001b[0m\u001b[0m\n",
      "\u001b[1;32m~\\AppData\\Local\\Continuum\\anaconda3\\lib\\site-packages\\sklearn\\linear_model\\base.py\u001b[0m in \u001b[0;36mpredict\u001b[1;34m(self, X)\u001b[0m\n\u001b[0;32m    254\u001b[0m             \u001b[0mReturns\u001b[0m \u001b[0mpredicted\u001b[0m \u001b[0mvalues\u001b[0m\u001b[1;33m.\u001b[0m\u001b[1;33m\u001b[0m\u001b[0m\n\u001b[0;32m    255\u001b[0m         \"\"\"\n\u001b[1;32m--> 256\u001b[1;33m         \u001b[1;32mreturn\u001b[0m \u001b[0mself\u001b[0m\u001b[1;33m.\u001b[0m\u001b[0m_decision_function\u001b[0m\u001b[1;33m(\u001b[0m\u001b[0mX\u001b[0m\u001b[1;33m)\u001b[0m\u001b[1;33m\u001b[0m\u001b[0m\n\u001b[0m\u001b[0;32m    257\u001b[0m \u001b[1;33m\u001b[0m\u001b[0m\n\u001b[0;32m    258\u001b[0m     \u001b[0m_preprocess_data\u001b[0m \u001b[1;33m=\u001b[0m \u001b[0mstaticmethod\u001b[0m\u001b[1;33m(\u001b[0m\u001b[0m_preprocess_data\u001b[0m\u001b[1;33m)\u001b[0m\u001b[1;33m\u001b[0m\u001b[0m\n",
      "\u001b[1;32m~\\AppData\\Local\\Continuum\\anaconda3\\lib\\site-packages\\sklearn\\linear_model\\base.py\u001b[0m in \u001b[0;36m_decision_function\u001b[1;34m(self, X)\u001b[0m\n\u001b[0;32m    239\u001b[0m         \u001b[0mX\u001b[0m \u001b[1;33m=\u001b[0m \u001b[0mcheck_array\u001b[0m\u001b[1;33m(\u001b[0m\u001b[0mX\u001b[0m\u001b[1;33m,\u001b[0m \u001b[0maccept_sparse\u001b[0m\u001b[1;33m=\u001b[0m\u001b[1;33m[\u001b[0m\u001b[1;34m'csr'\u001b[0m\u001b[1;33m,\u001b[0m \u001b[1;34m'csc'\u001b[0m\u001b[1;33m,\u001b[0m \u001b[1;34m'coo'\u001b[0m\u001b[1;33m]\u001b[0m\u001b[1;33m)\u001b[0m\u001b[1;33m\u001b[0m\u001b[0m\n\u001b[0;32m    240\u001b[0m         return safe_sparse_dot(X, self.coef_.T,\n\u001b[1;32m--> 241\u001b[1;33m                                dense_output=True) + self.intercept_\n\u001b[0m\u001b[0;32m    242\u001b[0m \u001b[1;33m\u001b[0m\u001b[0m\n\u001b[0;32m    243\u001b[0m     \u001b[1;32mdef\u001b[0m \u001b[0mpredict\u001b[0m\u001b[1;33m(\u001b[0m\u001b[0mself\u001b[0m\u001b[1;33m,\u001b[0m \u001b[0mX\u001b[0m\u001b[1;33m)\u001b[0m\u001b[1;33m:\u001b[0m\u001b[1;33m\u001b[0m\u001b[0m\n",
      "\u001b[1;32m~\\AppData\\Local\\Continuum\\anaconda3\\lib\\site-packages\\sklearn\\utils\\extmath.py\u001b[0m in \u001b[0;36msafe_sparse_dot\u001b[1;34m(a, b, dense_output)\u001b[0m\n\u001b[0;32m    138\u001b[0m         \u001b[1;32mreturn\u001b[0m \u001b[0mret\u001b[0m\u001b[1;33m\u001b[0m\u001b[0m\n\u001b[0;32m    139\u001b[0m     \u001b[1;32melse\u001b[0m\u001b[1;33m:\u001b[0m\u001b[1;33m\u001b[0m\u001b[0m\n\u001b[1;32m--> 140\u001b[1;33m         \u001b[1;32mreturn\u001b[0m \u001b[0mnp\u001b[0m\u001b[1;33m.\u001b[0m\u001b[0mdot\u001b[0m\u001b[1;33m(\u001b[0m\u001b[0ma\u001b[0m\u001b[1;33m,\u001b[0m \u001b[0mb\u001b[0m\u001b[1;33m)\u001b[0m\u001b[1;33m\u001b[0m\u001b[0m\n\u001b[0m\u001b[0;32m    141\u001b[0m \u001b[1;33m\u001b[0m\u001b[0m\n\u001b[0;32m    142\u001b[0m \u001b[1;33m\u001b[0m\u001b[0m\n",
      "\u001b[1;31mValueError\u001b[0m: shapes (303,1) and (2,1) not aligned: 1 (dim 1) != 2 (dim 0)"
     ]
    }
   ],
   "source": [
    "pred_train1 = lreg.predict(X1_train)\n",
    "pred_test1 = lreg.predict(X1_test)\n",
    "pred_train2 = lreg.predict(X2_train)\n",
    "pred_test2 = lreg.predict(X2_test)"
   ]
  },
  {
   "cell_type": "code",
   "execution_count": null,
   "metadata": {},
   "outputs": [],
   "source": []
  }
 ],
 "metadata": {
  "kernelspec": {
<<<<<<< HEAD
   "display_name": "Python 3",
=======
   "display_name": "Python [conda env:py3.6tf1.3keras]",
>>>>>>> upstream/master
   "language": "python",
   "name": "conda-env-py3.6tf1.3keras-py"
  },
  "language_info": {
   "codemirror_mode": {
    "name": "ipython",
    "version": 3
   },
   "file_extension": ".py",
   "mimetype": "text/x-python",
   "name": "python",
   "nbconvert_exporter": "python",
   "pygments_lexer": "ipython3",
   "version": "3.6.5"
  }
 },
 "nbformat": 4,
 "nbformat_minor": 1
}
