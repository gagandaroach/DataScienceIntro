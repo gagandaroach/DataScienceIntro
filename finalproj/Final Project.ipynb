{
 "cells": [
  {
   "cell_type": "markdown",
   "metadata": {},
   "source": [
    "## Data Science Final Project \n",
    "### Author: Gagan Daroach"
   ]
  },
  {
   "cell_type": "code",
   "execution_count": 1,
   "metadata": {},
   "outputs": [],
   "source": [
    "#imports \n",
    "import numpy as np\n",
    "import matplotlib.pyplot as plt\n",
    "import pandas as pd \n",
    "import pprint as pp\n",
    "%matplotlib inline \n",
    "from sklearn.preprocessing import MinMaxScaler\n",
    "from sklearn import preprocessing\n",
    "import seaborn as sns\n",
    "\n",
    "pd.options.display.float_format = '{:,.3f}'.format"
   ]
  },
  {
   "cell_type": "markdown",
   "metadata": {},
   "source": [
    "### Dataset\n",
    "\n",
    "dataset link: https://www.kaggle.com/lava18/google-play-store-apps/version/5\n",
    "\n",
    "Author Lavanya Gupta is responsible for the creation of this dataset. The dataset was last updated one month ago (as of Tue Oct 30 2018). The dataset was populated with web scraped data from the Google Play Store. There are 13 features that describe the dataset. \n",
    "       \n",
    "App: App Name\n",
    "\n",
    "Category: App Category\n",
    "\n",
    "Rating: App Rating (0.0 thru 5.0)\n",
    "\n",
    "Reviews: Number of reviews. \n",
    "\n",
    "Size: App install size\n",
    "\n",
    "Installs: Number of Installs\n",
    "\n",
    "Type: Either paid or free\n",
    "\n",
    "Price: App Price\n",
    "\n",
    "Content Raiting: Age group the app is targeted at. \n",
    "\n",
    "Genres: Apart from category (unique value), an app can belong to many genres\n",
    "\n",
    "Last Updated: date when the app was last updated on the google play store\n",
    "\n",
    "Current Version: Current version of app avaiable on play store\n",
    "\n",
    "Android Version: minimun required version to run the app\n",
    "\n",
    "Possible target variables: Number of Installs & App Rating - explanation under hypothesis. \n"
   ]
  },
  {
   "cell_type": "markdown",
   "metadata": {},
   "source": [
    "### Dataframe Information"
   ]
  },
  {
   "cell_type": "code",
   "execution_count": 2,
   "metadata": {},
   "outputs": [
    {
     "data": {
      "text/html": [
       "<div>\n",
       "<style scoped>\n",
       "    .dataframe tbody tr th:only-of-type {\n",
       "        vertical-align: middle;\n",
       "    }\n",
       "\n",
       "    .dataframe tbody tr th {\n",
       "        vertical-align: top;\n",
       "    }\n",
       "\n",
       "    .dataframe thead th {\n",
       "        text-align: right;\n",
       "    }\n",
       "</style>\n",
       "<table border=\"1\" class=\"dataframe\">\n",
       "  <thead>\n",
       "    <tr style=\"text-align: right;\">\n",
       "      <th></th>\n",
       "      <th>App</th>\n",
       "      <th>Category</th>\n",
       "      <th>Rating</th>\n",
       "      <th>Reviews</th>\n",
       "      <th>Size</th>\n",
       "      <th>Installs</th>\n",
       "      <th>Type</th>\n",
       "      <th>Price</th>\n",
       "      <th>Content Rating</th>\n",
       "      <th>Genres</th>\n",
       "      <th>Last Updated</th>\n",
       "      <th>Current Ver</th>\n",
       "      <th>Android Ver</th>\n",
       "    </tr>\n",
       "  </thead>\n",
       "  <tbody>\n",
       "    <tr>\n",
       "      <th>0</th>\n",
       "      <td>Photo Editor &amp; Candy Camera &amp; Grid &amp; ScrapBook</td>\n",
       "      <td>ART_AND_DESIGN</td>\n",
       "      <td>4.100</td>\n",
       "      <td>159</td>\n",
       "      <td>19M</td>\n",
       "      <td>10,000+</td>\n",
       "      <td>Free</td>\n",
       "      <td>0</td>\n",
       "      <td>Everyone</td>\n",
       "      <td>Art &amp; Design</td>\n",
       "      <td>January 7, 2018</td>\n",
       "      <td>1.0.0</td>\n",
       "      <td>4.0.3 and up</td>\n",
       "    </tr>\n",
       "    <tr>\n",
       "      <th>1</th>\n",
       "      <td>Coloring book moana</td>\n",
       "      <td>ART_AND_DESIGN</td>\n",
       "      <td>3.900</td>\n",
       "      <td>967</td>\n",
       "      <td>14M</td>\n",
       "      <td>500,000+</td>\n",
       "      <td>Free</td>\n",
       "      <td>0</td>\n",
       "      <td>Everyone</td>\n",
       "      <td>Art &amp; Design;Pretend Play</td>\n",
       "      <td>January 15, 2018</td>\n",
       "      <td>2.0.0</td>\n",
       "      <td>4.0.3 and up</td>\n",
       "    </tr>\n",
       "    <tr>\n",
       "      <th>2</th>\n",
       "      <td>U Launcher Lite – FREE Live Cool Themes, Hide ...</td>\n",
       "      <td>ART_AND_DESIGN</td>\n",
       "      <td>4.700</td>\n",
       "      <td>87510</td>\n",
       "      <td>8.7M</td>\n",
       "      <td>5,000,000+</td>\n",
       "      <td>Free</td>\n",
       "      <td>0</td>\n",
       "      <td>Everyone</td>\n",
       "      <td>Art &amp; Design</td>\n",
       "      <td>August 1, 2018</td>\n",
       "      <td>1.2.4</td>\n",
       "      <td>4.0.3 and up</td>\n",
       "    </tr>\n",
       "    <tr>\n",
       "      <th>3</th>\n",
       "      <td>Sketch - Draw &amp; Paint</td>\n",
       "      <td>ART_AND_DESIGN</td>\n",
       "      <td>4.500</td>\n",
       "      <td>215644</td>\n",
       "      <td>25M</td>\n",
       "      <td>50,000,000+</td>\n",
       "      <td>Free</td>\n",
       "      <td>0</td>\n",
       "      <td>Teen</td>\n",
       "      <td>Art &amp; Design</td>\n",
       "      <td>June 8, 2018</td>\n",
       "      <td>Varies with device</td>\n",
       "      <td>4.2 and up</td>\n",
       "    </tr>\n",
       "    <tr>\n",
       "      <th>4</th>\n",
       "      <td>Pixel Draw - Number Art Coloring Book</td>\n",
       "      <td>ART_AND_DESIGN</td>\n",
       "      <td>4.300</td>\n",
       "      <td>967</td>\n",
       "      <td>2.8M</td>\n",
       "      <td>100,000+</td>\n",
       "      <td>Free</td>\n",
       "      <td>0</td>\n",
       "      <td>Everyone</td>\n",
       "      <td>Art &amp; Design;Creativity</td>\n",
       "      <td>June 20, 2018</td>\n",
       "      <td>1.1</td>\n",
       "      <td>4.4 and up</td>\n",
       "    </tr>\n",
       "    <tr>\n",
       "      <th>5</th>\n",
       "      <td>Paper flowers instructions</td>\n",
       "      <td>ART_AND_DESIGN</td>\n",
       "      <td>4.400</td>\n",
       "      <td>167</td>\n",
       "      <td>5.6M</td>\n",
       "      <td>50,000+</td>\n",
       "      <td>Free</td>\n",
       "      <td>0</td>\n",
       "      <td>Everyone</td>\n",
       "      <td>Art &amp; Design</td>\n",
       "      <td>March 26, 2017</td>\n",
       "      <td>1.0</td>\n",
       "      <td>2.3 and up</td>\n",
       "    </tr>\n",
       "    <tr>\n",
       "      <th>6</th>\n",
       "      <td>Smoke Effect Photo Maker - Smoke Editor</td>\n",
       "      <td>ART_AND_DESIGN</td>\n",
       "      <td>3.800</td>\n",
       "      <td>178</td>\n",
       "      <td>19M</td>\n",
       "      <td>50,000+</td>\n",
       "      <td>Free</td>\n",
       "      <td>0</td>\n",
       "      <td>Everyone</td>\n",
       "      <td>Art &amp; Design</td>\n",
       "      <td>April 26, 2018</td>\n",
       "      <td>1.1</td>\n",
       "      <td>4.0.3 and up</td>\n",
       "    </tr>\n",
       "    <tr>\n",
       "      <th>7</th>\n",
       "      <td>Infinite Painter</td>\n",
       "      <td>ART_AND_DESIGN</td>\n",
       "      <td>4.100</td>\n",
       "      <td>36815</td>\n",
       "      <td>29M</td>\n",
       "      <td>1,000,000+</td>\n",
       "      <td>Free</td>\n",
       "      <td>0</td>\n",
       "      <td>Everyone</td>\n",
       "      <td>Art &amp; Design</td>\n",
       "      <td>June 14, 2018</td>\n",
       "      <td>6.1.61.1</td>\n",
       "      <td>4.2 and up</td>\n",
       "    </tr>\n",
       "    <tr>\n",
       "      <th>8</th>\n",
       "      <td>Garden Coloring Book</td>\n",
       "      <td>ART_AND_DESIGN</td>\n",
       "      <td>4.400</td>\n",
       "      <td>13791</td>\n",
       "      <td>33M</td>\n",
       "      <td>1,000,000+</td>\n",
       "      <td>Free</td>\n",
       "      <td>0</td>\n",
       "      <td>Everyone</td>\n",
       "      <td>Art &amp; Design</td>\n",
       "      <td>September 20, 2017</td>\n",
       "      <td>2.9.2</td>\n",
       "      <td>3.0 and up</td>\n",
       "    </tr>\n",
       "    <tr>\n",
       "      <th>9</th>\n",
       "      <td>Kids Paint Free - Drawing Fun</td>\n",
       "      <td>ART_AND_DESIGN</td>\n",
       "      <td>4.700</td>\n",
       "      <td>121</td>\n",
       "      <td>3.1M</td>\n",
       "      <td>10,000+</td>\n",
       "      <td>Free</td>\n",
       "      <td>0</td>\n",
       "      <td>Everyone</td>\n",
       "      <td>Art &amp; Design;Creativity</td>\n",
       "      <td>July 3, 2018</td>\n",
       "      <td>2.8</td>\n",
       "      <td>4.0.3 and up</td>\n",
       "    </tr>\n",
       "  </tbody>\n",
       "</table>\n",
       "</div>"
      ],
      "text/plain": [
       "                                                 App        Category  Rating  \\\n",
       "0     Photo Editor & Candy Camera & Grid & ScrapBook  ART_AND_DESIGN   4.100   \n",
       "1                                Coloring book moana  ART_AND_DESIGN   3.900   \n",
       "2  U Launcher Lite – FREE Live Cool Themes, Hide ...  ART_AND_DESIGN   4.700   \n",
       "3                              Sketch - Draw & Paint  ART_AND_DESIGN   4.500   \n",
       "4              Pixel Draw - Number Art Coloring Book  ART_AND_DESIGN   4.300   \n",
       "5                         Paper flowers instructions  ART_AND_DESIGN   4.400   \n",
       "6            Smoke Effect Photo Maker - Smoke Editor  ART_AND_DESIGN   3.800   \n",
       "7                                   Infinite Painter  ART_AND_DESIGN   4.100   \n",
       "8                               Garden Coloring Book  ART_AND_DESIGN   4.400   \n",
       "9                      Kids Paint Free - Drawing Fun  ART_AND_DESIGN   4.700   \n",
       "\n",
       "  Reviews  Size     Installs  Type Price Content Rating  \\\n",
       "0     159   19M      10,000+  Free     0       Everyone   \n",
       "1     967   14M     500,000+  Free     0       Everyone   \n",
       "2   87510  8.7M   5,000,000+  Free     0       Everyone   \n",
       "3  215644   25M  50,000,000+  Free     0           Teen   \n",
       "4     967  2.8M     100,000+  Free     0       Everyone   \n",
       "5     167  5.6M      50,000+  Free     0       Everyone   \n",
       "6     178   19M      50,000+  Free     0       Everyone   \n",
       "7   36815   29M   1,000,000+  Free     0       Everyone   \n",
       "8   13791   33M   1,000,000+  Free     0       Everyone   \n",
       "9     121  3.1M      10,000+  Free     0       Everyone   \n",
       "\n",
       "                      Genres        Last Updated         Current Ver  \\\n",
       "0               Art & Design     January 7, 2018               1.0.0   \n",
       "1  Art & Design;Pretend Play    January 15, 2018               2.0.0   \n",
       "2               Art & Design      August 1, 2018               1.2.4   \n",
       "3               Art & Design        June 8, 2018  Varies with device   \n",
       "4    Art & Design;Creativity       June 20, 2018                 1.1   \n",
       "5               Art & Design      March 26, 2017                 1.0   \n",
       "6               Art & Design      April 26, 2018                 1.1   \n",
       "7               Art & Design       June 14, 2018            6.1.61.1   \n",
       "8               Art & Design  September 20, 2017               2.9.2   \n",
       "9    Art & Design;Creativity        July 3, 2018                 2.8   \n",
       "\n",
       "    Android Ver  \n",
       "0  4.0.3 and up  \n",
       "1  4.0.3 and up  \n",
       "2  4.0.3 and up  \n",
       "3    4.2 and up  \n",
       "4    4.4 and up  \n",
       "5    2.3 and up  \n",
       "6  4.0.3 and up  \n",
       "7    4.2 and up  \n",
       "8    3.0 and up  \n",
       "9  4.0.3 and up  "
      ]
     },
     "execution_count": 2,
     "metadata": {},
     "output_type": "execute_result"
    }
   ],
   "source": [
    "apps_df = pd.read_csv(\"googleplaystore.csv\")\n",
    "apps_df.head(10)"
   ]
  },
  {
   "cell_type": "code",
   "execution_count": 3,
   "metadata": {
    "scrolled": true
   },
   "outputs": [
    {
     "name": "stdout",
     "output_type": "stream",
     "text": [
      "Index(['App', 'Category', 'Rating', 'Reviews', 'Size', 'Installs', 'Type',\n",
      "       'Price', 'Content Rating', 'Genres', 'Last Updated', 'Current Ver',\n",
      "       'Android Ver'],\n",
      "      dtype='object')\n"
     ]
    }
   ],
   "source": [
    "pp.pprint(apps_df.columns)"
   ]
  },
  {
   "cell_type": "markdown",
   "metadata": {},
   "source": [
    "### Major Objectives\n",
    "\n",
    "I want to focus my app development on features that will be most impactful on my app downloads. If I can identity a formula for success, I can use it to prioritize my workflow. \n",
    "\n",
    "Additionally, this dataset has many values to figure out how to manage. For starters, the columns Current Version, Android Version, and Category need to be one hot encoded up to allow for some model magic. I want the practice using Data Science to influence decision making. "
   ]
  },
  {
   "cell_type": "markdown",
   "metadata": {},
   "source": [
    "### Hypothesis\n",
    "\n",
    "I predict that there will be a way to determine number of installs based on a set of other predicter variables. I am anticipating Price and Rating to be strong determiners. I plan on using linear regression to test this hypothesis. I am curious to see the effects of the other roles, such as the impact of genres, category, and android versions."
   ]
  },
  {
   "cell_type": "markdown",
   "metadata": {},
   "source": [
    "### Data Preprocessing\n",
    "identification of required features, proper handling of missing\n",
    "values (removal, imputation, etc.), and supporting documentation for your decisions such\n",
    "as the number of missing values relative to the size of the dataset."
   ]
  },
  {
   "cell_type": "markdown",
   "metadata": {},
   "source": [
    "#### Initial Table Transformations"
   ]
  },
  {
   "cell_type": "code",
   "execution_count": 4,
   "metadata": {},
   "outputs": [],
   "source": [
    "apps_df.dropna(inplace=True)\n",
    "apps_df.drop_duplicates(inplace=True)"
   ]
  },
  {
   "cell_type": "markdown",
   "metadata": {},
   "source": [
    "Above, I drop duplicate elements in the table, and I drop all rows with missing data."
   ]
  },
  {
   "cell_type": "code",
   "execution_count": 5,
   "metadata": {
    "scrolled": true
   },
   "outputs": [
    {
     "data": {
      "text/html": [
       "<div>\n",
       "<style scoped>\n",
       "    .dataframe tbody tr th:only-of-type {\n",
       "        vertical-align: middle;\n",
       "    }\n",
       "\n",
       "    .dataframe tbody tr th {\n",
       "        vertical-align: top;\n",
       "    }\n",
       "\n",
       "    .dataframe thead th {\n",
       "        text-align: right;\n",
       "    }\n",
       "</style>\n",
       "<table border=\"1\" class=\"dataframe\">\n",
       "  <thead>\n",
       "    <tr style=\"text-align: right;\">\n",
       "      <th></th>\n",
       "      <th>Rating</th>\n",
       "    </tr>\n",
       "  </thead>\n",
       "  <tbody>\n",
       "    <tr>\n",
       "      <th>count</th>\n",
       "      <td>8,886.000</td>\n",
       "    </tr>\n",
       "    <tr>\n",
       "      <th>mean</th>\n",
       "      <td>4.188</td>\n",
       "    </tr>\n",
       "    <tr>\n",
       "      <th>std</th>\n",
       "      <td>0.522</td>\n",
       "    </tr>\n",
       "    <tr>\n",
       "      <th>min</th>\n",
       "      <td>1.000</td>\n",
       "    </tr>\n",
       "    <tr>\n",
       "      <th>25%</th>\n",
       "      <td>4.000</td>\n",
       "    </tr>\n",
       "    <tr>\n",
       "      <th>50%</th>\n",
       "      <td>4.300</td>\n",
       "    </tr>\n",
       "    <tr>\n",
       "      <th>75%</th>\n",
       "      <td>4.500</td>\n",
       "    </tr>\n",
       "    <tr>\n",
       "      <th>max</th>\n",
       "      <td>5.000</td>\n",
       "    </tr>\n",
       "  </tbody>\n",
       "</table>\n",
       "</div>"
      ],
      "text/plain": [
       "         Rating\n",
       "count 8,886.000\n",
       "mean      4.188\n",
       "std       0.522\n",
       "min       1.000\n",
       "25%       4.000\n",
       "50%       4.300\n",
       "75%       4.500\n",
       "max       5.000"
      ]
     },
     "execution_count": 5,
     "metadata": {},
     "output_type": "execute_result"
    }
   ],
   "source": [
    "apps_df.describe()"
   ]
  },
  {
   "cell_type": "code",
   "execution_count": 6,
   "metadata": {},
   "outputs": [],
   "source": [
    "def p_uniques(column_name, df_name = apps_df):\n",
    "    print('Unique Values for Column: %s' % (column_name))\n",
    "    pp.pprint(df_name[column_name].unique())\n",
    "    \n",
    "def p_describe(column_name, df_name = apps_df):\n",
    "    print('Description for Column: %s' % (column_name))\n",
    "    pp.pprint(df_name[column_name].describe())\n",
    "    \n",
    "def p_stats(column_name, df_name = apps_df):\n",
    "    p_describe(column_name, df_name)\n",
    "    p_uniques(column_name, df_name)"
   ]
  },
  {
   "cell_type": "code",
   "execution_count": 7,
   "metadata": {},
   "outputs": [],
   "source": [
    "def plotHBarGraph(column_name, result = None):\n",
    "    if (result == None):\n",
    "        result = apps_df[[column_name]].apply(pd.value_counts).fillna(0).T\n",
    "        result.index=[column_name]\n",
    "        result.columns=apps_df[column_name].unique()\n",
    "    # horizontal bar plot\n",
    "    plt=result.plot.barh(title=column_name)\n",
    "    plt.set_xlabel(\"Count\")\n",
    "    plt.legend(loc='center left', bbox_to_anchor=(1, 0.5))\n",
    "    plt\n",
    "    \n",
    "def categoricalGroupings(column_name):\n",
    "    result = apps_df[[column_name]].apply(pd.value_counts).fillna(0).T\n",
    "    result.index=[column_name]\n",
    "    result.columns=apps_df[column_name].unique()\n",
    "    return result"
   ]
  },
  {
   "cell_type": "markdown",
   "metadata": {},
   "source": [
    "#### Column 1 - App Names"
   ]
  },
  {
   "cell_type": "code",
   "execution_count": 8,
   "metadata": {},
   "outputs": [],
   "source": [
    "column_name = 'App'"
   ]
  },
  {
   "cell_type": "code",
   "execution_count": 9,
   "metadata": {},
   "outputs": [
    {
     "name": "stdout",
     "output_type": "stream",
     "text": [
      "Description for Column: App\n",
      "count       8886\n",
      "unique      8190\n",
      "top       ROBLOX\n",
      "freq           9\n",
      "Name: App, dtype: object\n",
      "Unique Values for Column: App\n",
      "array(['Photo Editor & Candy Camera & Grid & ScrapBook',\n",
      "       'Coloring book moana',\n",
      "       'U Launcher Lite – FREE Live Cool Themes, Hide Apps', ...,\n",
      "       'Fr. Mike Schmitz Audio Teachings',\n",
      "       'The SCP Foundation DB fr nn5n',\n",
      "       'iHoroscope - 2018 Daily Horoscope & Astrology'], dtype=object)\n"
     ]
    }
   ],
   "source": [
    "p_stats(column_name)"
   ]
  },
  {
   "cell_type": "markdown",
   "metadata": {},
   "source": [
    "No abnomalies detected. "
   ]
  },
  {
   "cell_type": "markdown",
   "metadata": {},
   "source": [
    "#### Column 2 - Category"
   ]
  },
  {
   "cell_type": "code",
   "execution_count": 10,
   "metadata": {},
   "outputs": [],
   "source": [
    "column_name = 'Category'"
   ]
  },
  {
   "cell_type": "code",
   "execution_count": 11,
   "metadata": {
    "scrolled": true
   },
   "outputs": [],
   "source": [
    "#plt.hist(x = apps_df[column_name].head(1000))\n",
    "#plt.show()b"
   ]
  },
  {
   "cell_type": "code",
   "execution_count": 12,
   "metadata": {},
   "outputs": [
    {
     "data": {
      "text/plain": [
       "FAMILY                 1717\n",
       "GAME                   1074\n",
       "TOOLS                   733\n",
       "PRODUCTIVITY            334\n",
       "FINANCE                 317\n",
       "PERSONALIZATION         308\n",
       "COMMUNICATION           307\n",
       "LIFESTYLE               305\n",
       "PHOTOGRAPHY             304\n",
       "MEDICAL                 302\n",
       "SPORTS                  286\n",
       "BUSINESS                270\n",
       "HEALTH_AND_FITNESS      262\n",
       "SOCIAL                  244\n",
       "NEWS_AND_MAGAZINES      214\n",
       "TRAVEL_AND_LOCAL        205\n",
       "SHOPPING                202\n",
       "BOOKS_AND_REFERENCE     177\n",
       "VIDEO_PLAYERS           160\n",
       "DATING                  159\n",
       "EDUCATION               129\n",
       "MAPS_AND_NAVIGATION     124\n",
       "ENTERTAINMENT           111\n",
       "FOOD_AND_DRINK          106\n",
       "WEATHER                  75\n",
       "AUTO_AND_VEHICLES        73\n",
       "HOUSE_AND_HOME           68\n",
       "LIBRARIES_AND_DEMO       64\n",
       "ART_AND_DESIGN           61\n",
       "COMICS                   58\n",
       "PARENTING                50\n",
       "EVENTS                   45\n",
       "BEAUTY                   42\n",
       "Name: Category, dtype: int64"
      ]
     },
     "execution_count": 12,
     "metadata": {},
     "output_type": "execute_result"
    }
   ],
   "source": [
    "apps_df[column_name].value_counts()"
   ]
  },
  {
   "cell_type": "code",
   "execution_count": 13,
   "metadata": {},
   "outputs": [
    {
     "name": "stdout",
     "output_type": "stream",
     "text": [
      "Description for Column: Category\n",
      "count       8886\n",
      "unique        33\n",
      "top       FAMILY\n",
      "freq        1717\n",
      "Name: Category, dtype: object\n",
      "Unique Values for Column: Category\n",
      "array(['ART_AND_DESIGN', 'AUTO_AND_VEHICLES', 'BEAUTY',\n",
      "       'BOOKS_AND_REFERENCE', 'BUSINESS', 'COMICS', 'COMMUNICATION',\n",
      "       'DATING', 'EDUCATION', 'ENTERTAINMENT', 'EVENTS', 'FINANCE',\n",
      "       'FOOD_AND_DRINK', 'HEALTH_AND_FITNESS', 'HOUSE_AND_HOME',\n",
      "       'LIBRARIES_AND_DEMO', 'LIFESTYLE', 'GAME', 'FAMILY', 'MEDICAL',\n",
      "       'SOCIAL', 'SHOPPING', 'PHOTOGRAPHY', 'SPORTS', 'TRAVEL_AND_LOCAL',\n",
      "       'TOOLS', 'PERSONALIZATION', 'PRODUCTIVITY', 'PARENTING', 'WEATHER',\n",
      "       'VIDEO_PLAYERS', 'NEWS_AND_MAGAZINES', 'MAPS_AND_NAVIGATION'],\n",
      "      dtype=object)\n"
     ]
    }
   ],
   "source": [
    "p_stats(column_name)"
   ]
  },
  {
   "cell_type": "code",
   "execution_count": 14,
   "metadata": {},
   "outputs": [
    {
     "data": {
      "image/png": "[encoded data removed]",
      "text/plain": [
       "<Figure size 432x288 with 1 Axes>"
      ]
     },
     "metadata": {
      "needs_background": "light"
     },
     "output_type": "display_data"
    }
   ],
   "source": [
    "plotHBarGraph(column_name)"
   ]
  },
  {
   "cell_type": "code",
   "execution_count": 15,
   "metadata": {},
   "outputs": [
    {
     "name": "stdout",
     "output_type": "stream",
     "text": [
      "          ART_AND_DESIGN  AUTO_AND_VEHICLES  BEAUTY  BOOKS_AND_REFERENCE  \\\n",
      "Category            1717               1074     733                  334   \n",
      "\n",
      "          BUSINESS  COMICS  COMMUNICATION  DATING  EDUCATION  ENTERTAINMENT  \\\n",
      "Category       317     308            307     305        304            302   \n",
      "\n",
      "                 ...           SPORTS  TRAVEL_AND_LOCAL  TOOLS  \\\n",
      "Category         ...              106                75     73   \n",
      "\n",
      "          PERSONALIZATION  PRODUCTIVITY  PARENTING  WEATHER  VIDEO_PLAYERS  \\\n",
      "Category               68            64         61       58             50   \n",
      "\n",
      "          NEWS_AND_MAGAZINES  MAPS_AND_NAVIGATION  \n",
      "Category                  45                   42  \n",
      "\n",
      "[1 rows x 33 columns]\n"
     ]
    }
   ],
   "source": [
    "pp.pprint(categoricalGroupings('Category'))"
   ]
  },
  {
   "cell_type": "code",
   "execution_count": 16,
   "metadata": {},
   "outputs": [
    {
     "name": "stderr",
     "output_type": "stream",
     "text": [
      "/home/gagan/anaconda3/lib/python3.7/site-packages/scipy/stats/stats.py:1713: FutureWarning: Using a non-tuple sequence for multidimensional indexing is deprecated; use `arr[tuple(seq)]` instead of `arr[seq]`. In the future this will be interpreted as an array index, `arr[np.array(seq)]`, which will result either in an error or a different result.\n",
      "  return np.add.reduce(sorted[indexer] * weights, axis=axis) / sumval\n"
     ]
    },
    {
     "data": {
      "text/plain": [
       "<matplotlib.axes._subplots.AxesSubplot at 0x7f90ef296550>"
      ]
     },
     "execution_count": 16,
     "metadata": {},
     "output_type": "execute_result"
    },
    {
     "data": {
      "image/png": "[encoded data removed]",
      "text/plain": [
       "<Figure size 432x288 with 1 Axes>"
      ]
     },
     "metadata": {
      "needs_background": "light"
     },
     "output_type": "display_data"
    }
   ],
   "source": [
    "sns.kdeplot(apps_df['Category'].value_counts())"
   ]
  },
  {
   "cell_type": "markdown",
   "metadata": {},
   "source": [
    "Now I convert the categorical data to numbers."
   ]
  },
  {
   "cell_type": "code",
   "execution_count": null,
   "metadata": {},
   "outputs": [],
   "source": []
  },
  {
   "cell_type": "markdown",
   "metadata": {},
   "source": [
    "#### Column 3 - Rating"
   ]
  },
  {
   "cell_type": "code",
   "execution_count": 17,
   "metadata": {},
   "outputs": [
    {
     "name": "stdout",
     "output_type": "stream",
     "text": [
      "Description for Column: Rating\n",
      "count   8,886.000\n",
      "mean        4.188\n",
      "std         0.522\n",
      "min         1.000\n",
      "25%         4.000\n",
      "50%         4.300\n",
      "75%         4.500\n",
      "max         5.000\n",
      "Name: Rating, dtype: float64\n",
      "Unique Values for Column: Rating\n",
      "array([4.1, 3.9, 4.7, 4.5, 4.3, 4.4, 3.8, 4.2, 4.6, 4. , 4.8, 4.9, 3.6,\n",
      "       3.7, 3.2, 3.3, 3.4, 3.5, 3.1, 5. , 2.6, 3. , 1.9, 2.5, 2.8, 2.7,\n",
      "       1. , 2.9, 2.3, 2.2, 1.7, 2. , 1.8, 2.4, 1.6, 2.1, 1.4, 1.5, 1.2])\n"
     ]
    }
   ],
   "source": [
    "column_name = 'Rating'\n",
    "p_stats(column_name)"
   ]
  },
  {
   "cell_type": "code",
   "execution_count": 18,
   "metadata": {},
   "outputs": [
    {
     "data": {
      "image/png": "[encoded data removed]",
      "text/plain": [
       "<Figure size 432x288 with 1 Axes>"
      ]
     },
     "metadata": {
      "needs_background": "light"
     },
     "output_type": "display_data"
    }
   ],
   "source": [
    "apps_df[column_name].hist()\n",
    "plt.title('Rating Histogram')\n",
    "plt.show()"
   ]
  },
  {
   "cell_type": "code",
   "execution_count": 19,
   "metadata": {},
   "outputs": [
    {
     "name": "stderr",
     "output_type": "stream",
     "text": [
      "/home/gagan/anaconda3/lib/python3.7/site-packages/scipy/stats/stats.py:1713: FutureWarning: Using a non-tuple sequence for multidimensional indexing is deprecated; use `arr[tuple(seq)]` instead of `arr[seq]`. In the future this will be interpreted as an array index, `arr[np.array(seq)]`, which will result either in an error or a different result.\n",
      "  return np.add.reduce(sorted[indexer] * weights, axis=axis) / sumval\n"
     ]
    },
    {
     "data": {
      "image/png": "[encoded data removed]",
      "text/plain": [
       "<Figure size 432x288 with 1 Axes>"
      ]
     },
     "metadata": {
      "needs_background": "light"
     },
     "output_type": "display_data"
    }
   ],
   "source": [
    "sns.kdeplot(apps_df[column_name], color=\"Red\", shade=True)\n",
    "plt.title=('Rating KDE Plot')"
   ]
  },
  {
   "cell_type": "markdown",
   "metadata": {},
   "source": [
    "#### Column 4 - Reviews\n",
    "number of app store reviews"
   ]
  },
  {
   "cell_type": "code",
   "execution_count": 20,
   "metadata": {},
   "outputs": [],
   "source": [
    "column_name = 'Reviews'\n",
    "series = apps_df[column_name]"
   ]
  },
  {
   "cell_type": "code",
   "execution_count": 21,
   "metadata": {},
   "outputs": [
    {
     "name": "stdout",
     "output_type": "stream",
     "text": [
      "Description for Column: Reviews\n",
      "count     8886\n",
      "unique    5990\n",
      "top          2\n",
      "freq        82\n",
      "Name: Reviews, dtype: object\n",
      "Unique Values for Column: Reviews\n",
      "array(['159', '967', '87510', ..., '603', '1195', '398307'], dtype=object)\n"
     ]
    }
   ],
   "source": [
    "p_stats(column_name)"
   ]
  },
  {
   "cell_type": "code",
   "execution_count": 22,
   "metadata": {},
   "outputs": [
    {
     "name": "stdout",
     "output_type": "stream",
     "text": [
      "array(['159', '967', '87510', ..., '603', '1195', '398307'], dtype=object)\n"
     ]
    }
   ],
   "source": [
    "pp.pprint(apps_df[column_name].unique())"
   ]
  },
  {
   "cell_type": "code",
   "execution_count": 23,
   "metadata": {},
   "outputs": [],
   "source": [
    "#series.hist(bins = 10)"
   ]
  },
  {
   "cell_type": "markdown",
   "metadata": {},
   "source": [
    "#### Column 5 - Size\n",
    "size of app"
   ]
  },
  {
   "cell_type": "code",
   "execution_count": 24,
   "metadata": {},
   "outputs": [],
   "source": [
    "column_name = 'Size'"
   ]
  },
  {
   "cell_type": "code",
   "execution_count": 25,
   "metadata": {},
   "outputs": [
    {
     "data": {
      "text/plain": [
       "0     19M\n",
       "1     14M\n",
       "2    8.7M\n",
       "3     25M\n",
       "4    2.8M\n",
       "Name: Size, dtype: object"
      ]
     },
     "execution_count": 25,
     "metadata": {},
     "output_type": "execute_result"
    }
   ],
   "source": [
    "apps_df[column_name].head()"
   ]
  },
  {
   "cell_type": "code",
   "execution_count": 26,
   "metadata": {
    "scrolled": true
   },
   "outputs": [
    {
     "data": {
      "text/plain": [
       "Varies with device    1468\n",
       "14M                    153\n",
       "13M                    152\n",
       "12M                    151\n",
       "15M                    149\n",
       "11M                    149\n",
       "17M                    126\n",
       "25M                    125\n",
       "21M                    112\n",
       "16M                    112\n",
       "24M                    111\n",
       "19M                    110\n",
       "20M                    107\n",
       "26M                    106\n",
       "18M                     99\n",
       "23M                     99\n",
       "10M                     93\n",
       "22M                     92\n",
       "27M                     85\n",
       "28M                     74\n",
       "37M                     71\n",
       "33M                     70\n",
       "30M                     69\n",
       "35M                     66\n",
       "31M                     65\n",
       "29M                     63\n",
       "3.3M                    62\n",
       "44M                     56\n",
       "40M                     55\n",
       "46M                     54\n",
       "                      ... \n",
       "169k                     1\n",
       "73k                      1\n",
       "27k                      1\n",
       "458k                     1\n",
       "957k                     1\n",
       "951k                     1\n",
       "378k                     1\n",
       "930k                     1\n",
       "209k                     1\n",
       "500k                     1\n",
       "523k                     1\n",
       "176k                     1\n",
       "48k                      1\n",
       "154k                     1\n",
       "511k                     1\n",
       "430k                     1\n",
       "39k                      1\n",
       "545k                     1\n",
       "34k                      1\n",
       "485k                     1\n",
       "683k                     1\n",
       "879k                     1\n",
       "619k                     1\n",
       "818k                     1\n",
       "292k                     1\n",
       "939k                     1\n",
       "18k                      1\n",
       "414k                     1\n",
       "270k                     1\n",
       "313k                     1\n",
       "Name: Size, Length: 413, dtype: int64"
      ]
     },
     "execution_count": 26,
     "metadata": {},
     "output_type": "execute_result"
    }
   ],
   "source": [
    "apps_df[column_name].value_counts()"
   ]
  },
  {
   "cell_type": "code",
   "execution_count": 27,
   "metadata": {},
   "outputs": [],
   "source": [
    "normalize_varies = lambda x : '0k' if x == \"Varies with device\" else x"
   ]
  },
  {
   "cell_type": "code",
   "execution_count": 28,
   "metadata": {},
   "outputs": [],
   "source": [
    "normalize_sizes = lambda x : float(x[:-1]) if x != 0 and x[-1:]=='k' else float(x[:-1])*float(1000)"
   ]
  },
  {
   "cell_type": "code",
   "execution_count": 29,
   "metadata": {},
   "outputs": [],
   "source": [
    "normalized_size = apps_df[column_name].apply(normalize_varies)\n",
    "normalized_size = normalized_size.apply(normalize_sizes)"
   ]
  },
  {
   "cell_type": "code",
   "execution_count": 30,
   "metadata": {
    "scrolled": true
   },
   "outputs": [
    {
     "data": {
      "text/plain": [
       "0       19,000.000\n",
       "1       14,000.000\n",
       "2        8,700.000\n",
       "3       25,000.000\n",
       "4        2,800.000\n",
       "5        5,600.000\n",
       "6       19,000.000\n",
       "7       29,000.000\n",
       "8       33,000.000\n",
       "9        3,100.000\n",
       "10      28,000.000\n",
       "11      12,000.000\n",
       "12      20,000.000\n",
       "13      21,000.000\n",
       "14      37,000.000\n",
       "16       5,500.000\n",
       "17      17,000.000\n",
       "18      39,000.000\n",
       "19      31,000.000\n",
       "20      14,000.000\n",
       "21      12,000.000\n",
       "22       4,200.000\n",
       "24      23,000.000\n",
       "25       6,000.000\n",
       "26      25,000.000\n",
       "27       6,100.000\n",
       "28       4,600.000\n",
       "29       4,200.000\n",
       "30       9,200.000\n",
       "31       5,200.000\n",
       "           ...    \n",
       "10795    4,000.000\n",
       "10796    7,800.000\n",
       "10797   46,000.000\n",
       "10799    6,800.000\n",
       "10800   12,000.000\n",
       "10801   19,000.000\n",
       "10802   28,000.000\n",
       "10803   81,000.000\n",
       "10804   17,000.000\n",
       "10805   15,000.000\n",
       "10809   24,000.000\n",
       "10810   21,000.000\n",
       "10812   13,000.000\n",
       "10814   31,000.000\n",
       "10815    4,900.000\n",
       "10817    8,000.000\n",
       "10819    3,600.000\n",
       "10820    8,600.000\n",
       "10826        0.000\n",
       "10827   13,000.000\n",
       "10828   13,000.000\n",
       "10829    7,400.000\n",
       "10830    2,300.000\n",
       "10832      582.000\n",
       "10833      619.000\n",
       "10834    2,600.000\n",
       "10836   53,000.000\n",
       "10837    3,600.000\n",
       "10839        0.000\n",
       "10840   19,000.000\n",
       "Name: Size, Length: 8886, dtype: float64"
      ]
     },
     "execution_count": 30,
     "metadata": {},
     "output_type": "execute_result"
    }
   ],
   "source": [
    "normalized_size"
   ]
  },
  {
   "cell_type": "markdown",
   "metadata": {},
   "source": [
    "Here, we see that many of the values Vary with device. To capture what I believe to be an ordinal relationship, I will disregard the values that have sizes that vary with device and instead plot the data relatively. I will have to transform the M values to on scale with the k values."
   ]
  },
  {
   "cell_type": "markdown",
   "metadata": {},
   "source": [
    "#### Column 6 - Installs\n",
    "number of app downloads"
   ]
  },
  {
   "cell_type": "code",
   "execution_count": 31,
   "metadata": {},
   "outputs": [],
   "source": [
    "column_name = 'Installs'"
   ]
  },
  {
   "cell_type": "code",
   "execution_count": 32,
   "metadata": {},
   "outputs": [
    {
     "data": {
      "text/plain": [
       "1,000,000+        1485\n",
       "10,000,000+       1132\n",
       "100,000+          1110\n",
       "10,000+            988\n",
       "1,000+             697\n",
       "5,000,000+         683\n",
       "500,000+           515\n",
       "50,000+            461\n",
       "5,000+             425\n",
       "100,000,000+       369\n",
       "100+               303\n",
       "50,000,000+        272\n",
       "500+               199\n",
       "10+                 69\n",
       "500,000,000+        61\n",
       "50+                 56\n",
       "1,000,000,000+      49\n",
       "5+                   9\n",
       "1+                   3\n",
       "Name: Installs, dtype: int64"
      ]
     },
     "execution_count": 32,
     "metadata": {},
     "output_type": "execute_result"
    }
   ],
   "source": [
    "apps_df[column_name].value_counts()"
   ]
  },
  {
   "cell_type": "code",
   "execution_count": 33,
   "metadata": {},
   "outputs": [],
   "source": [
    "normalized_installs = apps_df[column_name]"
   ]
  },
  {
   "cell_type": "code",
   "execution_count": 34,
   "metadata": {},
   "outputs": [],
   "source": [
    "x = lambda x : int(x[:-1].replace(',',''))"
   ]
  },
  {
   "cell_type": "code",
   "execution_count": 35,
   "metadata": {
    "scrolled": true
   },
   "outputs": [],
   "source": [
    "normalized_installs = normalized_installs.apply(x)"
   ]
  },
  {
   "cell_type": "code",
   "execution_count": 36,
   "metadata": {
    "scrolled": true
   },
   "outputs": [
    {
     "name": "stdout",
     "output_type": "stream",
     "text": [
      "0           10000\n",
      "1          500000\n",
      "2         5000000\n",
      "3        50000000\n",
      "4          100000\n",
      "5           50000\n",
      "6           50000\n",
      "7         1000000\n",
      "8         1000000\n",
      "9           10000\n",
      "10        1000000\n",
      "11        1000000\n",
      "12       10000000\n",
      "13         100000\n",
      "14         100000\n",
      "16         500000\n",
      "17          10000\n",
      "18        5000000\n",
      "19       10000000\n",
      "20         100000\n",
      "21         100000\n",
      "22         500000\n",
      "24          50000\n",
      "25          10000\n",
      "26         500000\n",
      "27         100000\n",
      "28          10000\n",
      "29         100000\n",
      "30         100000\n",
      "31          50000\n",
      "           ...   \n",
      "10795      100000\n",
      "10796     1000000\n",
      "10797     1000000\n",
      "10799      100000\n",
      "10800        5000\n",
      "10801        1000\n",
      "10802       10000\n",
      "10803     1000000\n",
      "10804      100000\n",
      "10805         100\n",
      "10809     1000000\n",
      "10810         100\n",
      "10812        1000\n",
      "10814       50000\n",
      "10815      500000\n",
      "10817      100000\n",
      "10819        5000\n",
      "10820        1000\n",
      "10826     5000000\n",
      "10827        5000\n",
      "10828       10000\n",
      "10829       10000\n",
      "10830      100000\n",
      "10832      100000\n",
      "10833        1000\n",
      "10834         500\n",
      "10836        5000\n",
      "10837         100\n",
      "10839        1000\n",
      "10840    10000000\n",
      "Name: Installs, Length: 8886, dtype: int64\n"
     ]
    }
   ],
   "source": [
    "pp.pprint(normalized_installs)"
   ]
  },
  {
   "cell_type": "markdown",
   "metadata": {},
   "source": [
    "#### Column 7 - Type\n",
    "Paid or Free Apps"
   ]
  },
  {
   "cell_type": "code",
   "execution_count": 37,
   "metadata": {},
   "outputs": [
    {
     "data": {
      "text/plain": [
       "Free    8275\n",
       "Paid     611\n",
       "Name: Type, dtype: int64"
      ]
     },
     "execution_count": 37,
     "metadata": {},
     "output_type": "execute_result"
    }
   ],
   "source": [
    "column_name = 'Type'\n",
    "apps_df[column_name].value_counts()"
   ]
  },
  {
   "cell_type": "code",
   "execution_count": 38,
   "metadata": {},
   "outputs": [],
   "source": [
    "normalizer = lambda x : int(0) if x == 'Free' else int(1)"
   ]
  },
  {
   "cell_type": "code",
   "execution_count": 39,
   "metadata": {},
   "outputs": [
    {
     "data": {
      "text/plain": [
       "0    8275\n",
       "1     611\n",
       "Name: Type, dtype: int64"
      ]
     },
     "execution_count": 39,
     "metadata": {},
     "output_type": "execute_result"
    }
   ],
   "source": [
    "normalized_type = apps_df[column_name].apply(normalizer)\n",
    "normalized_type.value_counts()"
   ]
  },
  {
   "cell_type": "markdown",
   "metadata": {},
   "source": [
    "Converted Paid to 1, and Free to 0."
   ]
  },
  {
   "cell_type": "markdown",
   "metadata": {},
   "source": [
    "#### Column 8 - Price\n",
    "Cost of application"
   ]
  },
  {
   "cell_type": "code",
   "execution_count": 40,
   "metadata": {},
   "outputs": [
    {
     "name": "stdout",
     "output_type": "stream",
     "text": [
      "Description for Column: Price\n",
      "count     8886\n",
      "unique      73\n",
      "top          0\n",
      "freq      8275\n",
      "Name: Price, dtype: object\n",
      "Unique Values for Column: Price\n",
      "array(['0', '$4.99', '$3.99', '$6.99', '$7.99', '$5.99', '$2.99', '$3.49',\n",
      "       '$1.99', '$9.99', '$7.49', '$0.99', '$9.00', '$5.49', '$10.00',\n",
      "       '$24.99', '$11.99', '$79.99', '$16.99', '$14.99', '$29.99',\n",
      "       '$12.99', '$2.49', '$10.99', '$1.50', '$19.99', '$15.99', '$33.99',\n",
      "       '$39.99', '$3.95', '$4.49', '$1.70', '$8.99', '$1.49', '$3.88',\n",
      "       '$399.99', '$17.99', '$400.00', '$3.02', '$1.76', '$4.84', '$4.77',\n",
      "       '$1.61', '$2.50', '$1.59', '$6.49', '$1.29', '$299.99', '$379.99',\n",
      "       '$37.99', '$18.99', '$389.99', '$8.49', '$1.75', '$14.00', '$2.00',\n",
      "       '$3.08', '$2.59', '$19.40', '$3.90', '$4.59', '$15.46', '$3.04',\n",
      "       '$13.99', '$4.29', '$3.28', '$4.60', '$1.00', '$2.95', '$2.90',\n",
      "       '$1.97', '$2.56', '$1.20'], dtype=object)\n"
     ]
    }
   ],
   "source": [
    "column_name = 'Price'\n",
    "p_stats(column_name)"
   ]
  },
  {
   "cell_type": "code",
   "execution_count": 41,
   "metadata": {
    "scrolled": true
   },
   "outputs": [
    {
     "data": {
      "text/plain": [
       "0          8275\n",
       "$2.99       110\n",
       "$0.99       104\n",
       "$4.99        68\n",
       "$1.99        59\n",
       "$3.99        55\n",
       "$1.49        30\n",
       "$2.49        20\n",
       "$5.99        15\n",
       "$9.99        14\n",
       "$6.99        12\n",
       "$399.99      11\n",
       "$4.49         9\n",
       "$14.99        8\n",
       "$3.49         7\n",
       "$7.99         7\n",
       "$12.99        4\n",
       "$19.99        4\n",
       "$8.99         4\n",
       "$29.99        4\n",
       "$11.99        3\n",
       "$24.99        3\n",
       "$5.49         2\n",
       "$16.99        2\n",
       "$1.00         2\n",
       "$10.99        2\n",
       "$7.49         2\n",
       "$10.00        2\n",
       "$3.95         2\n",
       "$1.70         2\n",
       "           ... \n",
       "$15.46        1\n",
       "$379.99       1\n",
       "$33.99        1\n",
       "$13.99        1\n",
       "$3.88         1\n",
       "$18.99        1\n",
       "$9.00         1\n",
       "$2.50         1\n",
       "$2.95         1\n",
       "$3.02         1\n",
       "$1.50         1\n",
       "$14.00        1\n",
       "$389.99       1\n",
       "$4.60         1\n",
       "$1.59         1\n",
       "$2.59         1\n",
       "$4.84         1\n",
       "$1.29         1\n",
       "$6.49         1\n",
       "$1.20         1\n",
       "$4.59         1\n",
       "$3.28         1\n",
       "$15.99        1\n",
       "$1.97         1\n",
       "$400.00       1\n",
       "$299.99       1\n",
       "$1.76         1\n",
       "$2.90         1\n",
       "$1.75         1\n",
       "$3.90         1\n",
       "Name: Price, Length: 73, dtype: int64"
      ]
     },
     "execution_count": 41,
     "metadata": {},
     "output_type": "execute_result"
    }
   ],
   "source": [
    "apps_df[column_name].value_counts()"
   ]
  },
  {
   "cell_type": "code",
   "execution_count": 42,
   "metadata": {},
   "outputs": [],
   "source": [
    "normalizer = lambda x : float(0.0) if x == '0' else float(x[1:])"
   ]
  },
  {
   "cell_type": "code",
   "execution_count": 43,
   "metadata": {
    "scrolled": false
   },
   "outputs": [
    {
     "name": "stdout",
     "output_type": "stream",
     "text": [
      "2168   7.490\n",
      "2284   7.490\n",
      "Name: Price, dtype: float64\n"
     ]
    }
   ],
   "source": [
    "formatted_price = apps_df[column_name].apply(normalizer).astype('float64')\n",
    "pp.pprint(formatted_price[formatted_price == 7.49])"
   ]
  },
  {
   "cell_type": "code",
   "execution_count": 44,
   "metadata": {},
   "outputs": [
    {
     "data": {
      "text/plain": [
       "numpy.ndarray"
      ]
     },
     "execution_count": 44,
     "metadata": {},
     "output_type": "execute_result"
    }
   ],
   "source": [
    "type(formatted_price.values)"
   ]
  },
  {
   "cell_type": "markdown",
   "metadata": {},
   "source": [
    "and now i normalize the data"
   ]
  },
  {
   "cell_type": "code",
   "execution_count": 45,
   "metadata": {},
   "outputs": [],
   "source": [
    "normalized_price = formatted_price\n",
    "normalized_price = pd.Series(data = preprocessing.minmax_scale(formatted_price), index = formatted_price.index)"
   ]
  },
  {
   "cell_type": "code",
   "execution_count": 46,
   "metadata": {
    "scrolled": true
   },
   "outputs": [
    {
     "name": "stdout",
     "output_type": "stream",
     "text": [
      "234     0.012\n",
      "235     0.012\n",
      "427     0.010\n",
      "476     0.010\n",
      "477     0.017\n",
      "481     0.020\n",
      "571     0.010\n",
      "851     0.010\n",
      "852     0.015\n",
      "853     0.010\n",
      "854     0.010\n",
      "995     0.012\n",
      "1001    0.007\n",
      "1227    0.009\n",
      "1228    0.012\n",
      "1327    0.007\n",
      "1335    0.010\n",
      "1341    0.007\n",
      "1831    0.007\n",
      "1832    0.005\n",
      "1833    0.012\n",
      "1834    0.012\n",
      "1835    0.012\n",
      "1836    0.015\n",
      "1837    0.017\n",
      "1838    0.025\n",
      "1839    0.012\n",
      "2062    0.010\n",
      "2085    0.007\n",
      "2086    0.010\n",
      "         ... \n",
      "10052   0.012\n",
      "10060   0.002\n",
      "10066   0.002\n",
      "10072   0.010\n",
      "10073   0.004\n",
      "10122   0.007\n",
      "10270   0.005\n",
      "10442   0.005\n",
      "10446   0.007\n",
      "10448   0.002\n",
      "10450   0.020\n",
      "10453   0.007\n",
      "10457   0.007\n",
      "10459   0.005\n",
      "10460   0.003\n",
      "10531   0.009\n",
      "10540   0.007\n",
      "10570   0.005\n",
      "10583   0.017\n",
      "10586   0.002\n",
      "10594   0.005\n",
      "10645   0.022\n",
      "10675   0.002\n",
      "10679   0.007\n",
      "10682   0.002\n",
      "10690   0.002\n",
      "10697   0.002\n",
      "10760   0.020\n",
      "10782   0.042\n",
      "10785   0.003\n",
      "Length: 611, dtype: float64\n"
     ]
    }
   ],
   "source": [
    "pp.pprint(normalized_price[normalized_price != 0])"
   ]
  },
  {
   "cell_type": "code",
   "execution_count": 47,
   "metadata": {},
   "outputs": [
    {
     "data": {
      "text/plain": [
       "pandas.core.series.Series"
      ]
     },
     "execution_count": 47,
     "metadata": {},
     "output_type": "execute_result"
    }
   ],
   "source": [
    "type(normalized_price)"
   ]
  },
  {
   "cell_type": "markdown",
   "metadata": {},
   "source": [
    "#### Column 9 - Content Rating\n",
    "Application Maturity Rating"
   ]
  },
  {
   "cell_type": "code",
   "execution_count": 48,
   "metadata": {},
   "outputs": [
    {
     "name": "stdout",
     "output_type": "stream",
     "text": [
      "Description for Column: Content Rating\n",
      "count         8886\n",
      "unique           6\n",
      "top       Everyone\n",
      "freq          7089\n",
      "Name: Content Rating, dtype: object\n",
      "Unique Values for Column: Content Rating\n",
      "array(['Everyone', 'Teen', 'Everyone 10+', 'Mature 17+',\n",
      "       'Adults only 18+', 'Unrated'], dtype=object)\n"
     ]
    }
   ],
   "source": [
    "column_name = 'Content Rating'\n",
    "p_stats(column_name)"
   ]
  },
  {
   "cell_type": "code",
   "execution_count": 49,
   "metadata": {},
   "outputs": [
    {
     "data": {
      "text/plain": [
       "Everyone           7089\n",
       "Teen               1022\n",
       "Mature 17+          411\n",
       "Everyone 10+        360\n",
       "Adults only 18+       3\n",
       "Unrated               1\n",
       "Name: Content Rating, dtype: int64"
      ]
     },
     "execution_count": 49,
     "metadata": {},
     "output_type": "execute_result"
    }
   ],
   "source": [
    "apps_df[column_name].value_counts()"
   ]
  },
  {
   "cell_type": "code",
   "execution_count": 50,
   "metadata": {},
   "outputs": [],
   "source": [
    "ratings_map = {\n",
    "    'Everyone':1,\n",
    "    'Everyone 10+':2,\n",
    "    'Teen':3,\n",
    "    'Mature 17+':4,\n",
    "    'Adults only 18+':5,\n",
    "    'Unrated':6\n",
    "}"
   ]
  },
  {
   "cell_type": "code",
   "execution_count": 51,
   "metadata": {},
   "outputs": [],
   "source": [
    "normalizer = lambda x: ratings_map[x]"
   ]
  },
  {
   "cell_type": "code",
   "execution_count": 52,
   "metadata": {},
   "outputs": [],
   "source": [
    "normalized_content_rating = apps_df[column_name].copy().apply(normalizer).astype('int')"
   ]
  },
  {
   "cell_type": "code",
   "execution_count": 53,
   "metadata": {
    "scrolled": true
   },
   "outputs": [
    {
     "data": {
      "text/plain": [
       "1    7089\n",
       "3    1022\n",
       "4     411\n",
       "2     360\n",
       "5       3\n",
       "6       1\n",
       "Name: Content Rating, dtype: int64"
      ]
     },
     "execution_count": 53,
     "metadata": {},
     "output_type": "execute_result"
    }
   ],
   "source": [
    "normalized_content_rating.value_counts()"
   ]
  },
  {
   "cell_type": "code",
   "execution_count": 54,
   "metadata": {},
   "outputs": [
    {
     "data": {
      "text/plain": [
       "pandas.core.series.Series"
      ]
     },
     "execution_count": 54,
     "metadata": {},
     "output_type": "execute_result"
    }
   ],
   "source": [
    "type(normalized_content_rating)"
   ]
  },
  {
   "cell_type": "markdown",
   "metadata": {},
   "source": [
    "#### Column 10 - Genres\n",
    "Application Genre (can have multiple)"
   ]
  },
  {
   "cell_type": "code",
   "execution_count": 55,
   "metadata": {
    "scrolled": true
   },
   "outputs": [
    {
     "data": {
      "text/plain": [
       "0                     Art & Design\n",
       "1        Art & Design;Pretend Play\n",
       "2                     Art & Design\n",
       "3                     Art & Design\n",
       "4          Art & Design;Creativity\n",
       "5                     Art & Design\n",
       "6                     Art & Design\n",
       "7                     Art & Design\n",
       "8                     Art & Design\n",
       "9          Art & Design;Creativity\n",
       "10                    Art & Design\n",
       "11                    Art & Design\n",
       "12                    Art & Design\n",
       "13                    Art & Design\n",
       "14                    Art & Design\n",
       "16                    Art & Design\n",
       "17                    Art & Design\n",
       "18                    Art & Design\n",
       "19                    Art & Design\n",
       "20                    Art & Design\n",
       "21                    Art & Design\n",
       "22                    Art & Design\n",
       "24                    Art & Design\n",
       "25                    Art & Design\n",
       "26         Art & Design;Creativity\n",
       "27                    Art & Design\n",
       "28                    Art & Design\n",
       "29                    Art & Design\n",
       "30                    Art & Design\n",
       "31                    Art & Design\n",
       "                   ...            \n",
       "10795                        Tools\n",
       "10796                        Tools\n",
       "10797                    Lifestyle\n",
       "10799                       Social\n",
       "10800                        Tools\n",
       "10801                    Education\n",
       "10802                Entertainment\n",
       "10803                       Action\n",
       "10804                         Card\n",
       "10805                    Lifestyle\n",
       "10809                     Strategy\n",
       "10810                     Business\n",
       "10812                    Education\n",
       "10814                Entertainment\n",
       "10815            Books & Reference\n",
       "10817                        Tools\n",
       "10819            Books & Reference\n",
       "10820                    Education\n",
       "10826                       Social\n",
       "10827                    Education\n",
       "10828                       Comics\n",
       "10829            Books & Reference\n",
       "10830             News & Magazines\n",
       "10832                      Weather\n",
       "10833            Books & Reference\n",
       "10834                    Education\n",
       "10836                    Education\n",
       "10837                    Education\n",
       "10839            Books & Reference\n",
       "10840                    Lifestyle\n",
       "Name: Genres, Length: 8886, dtype: object"
      ]
     },
     "execution_count": 55,
     "metadata": {},
     "output_type": "execute_result"
    }
   ],
   "source": [
    "apps_df['Genres']"
   ]
  },
  {
   "cell_type": "code",
   "execution_count": 56,
   "metadata": {
    "scrolled": true
   },
   "outputs": [
    {
     "name": "stdout",
     "output_type": "stream",
     "text": [
      "Description for Column: Genres\n",
      "count      8886\n",
      "unique      115\n",
      "top       Tools\n",
      "freq        732\n",
      "Name: Genres, dtype: object\n",
      "Unique Values for Column: Genres\n",
      "array(['Art & Design', 'Art & Design;Pretend Play',\n",
      "       'Art & Design;Creativity', 'Auto & Vehicles', 'Beauty',\n",
      "       'Books & Reference', 'Business', 'Comics', 'Comics;Creativity',\n",
      "       'Communication', 'Dating', 'Education;Education', 'Education',\n",
      "       'Education;Creativity', 'Education;Music & Video',\n",
      "       'Education;Action & Adventure', 'Education;Pretend Play',\n",
      "       'Education;Brain Games', 'Entertainment',\n",
      "       'Entertainment;Music & Video', 'Entertainment;Brain Games',\n",
      "       'Entertainment;Creativity', 'Events', 'Finance', 'Food & Drink',\n",
      "       'Health & Fitness', 'House & Home', 'Libraries & Demo',\n",
      "       'Lifestyle', 'Lifestyle;Pretend Play',\n",
      "       'Adventure;Action & Adventure', 'Arcade', 'Casual', 'Card',\n",
      "       'Casual;Pretend Play', 'Action', 'Strategy', 'Puzzle', 'Sports',\n",
      "       'Music', 'Word', 'Racing', 'Casual;Creativity',\n",
      "       'Casual;Action & Adventure', 'Simulation', 'Adventure', 'Board',\n",
      "       'Trivia', 'Role Playing', 'Simulation;Education',\n",
      "       'Action;Action & Adventure', 'Casual;Brain Games',\n",
      "       'Simulation;Action & Adventure', 'Educational;Creativity',\n",
      "       'Puzzle;Brain Games', 'Educational;Education', 'Card;Brain Games',\n",
      "       'Educational;Brain Games', 'Educational;Pretend Play',\n",
      "       'Entertainment;Education', 'Casual;Education',\n",
      "       'Music;Music & Video', 'Racing;Action & Adventure',\n",
      "       'Arcade;Pretend Play', 'Role Playing;Action & Adventure',\n",
      "       'Simulation;Pretend Play', 'Puzzle;Creativity',\n",
      "       'Sports;Action & Adventure', 'Educational;Action & Adventure',\n",
      "       'Arcade;Action & Adventure', 'Entertainment;Action & Adventure',\n",
      "       'Puzzle;Action & Adventure', 'Strategy;Action & Adventure',\n",
      "       'Music & Audio;Music & Video', 'Health & Fitness;Education',\n",
      "       'Adventure;Education', 'Board;Brain Games',\n",
      "       'Board;Action & Adventure', 'Board;Pretend Play',\n",
      "       'Casual;Music & Video', 'Role Playing;Pretend Play',\n",
      "       'Entertainment;Pretend Play', 'Video Players & Editors;Creativity',\n",
      "       'Card;Action & Adventure', 'Medical', 'Social', 'Shopping',\n",
      "       'Photography', 'Travel & Local',\n",
      "       'Travel & Local;Action & Adventure', 'Tools', 'Tools;Education',\n",
      "       'Personalization', 'Productivity', 'Parenting',\n",
      "       'Parenting;Music & Video', 'Parenting;Brain Games',\n",
      "       'Parenting;Education', 'Weather', 'Video Players & Editors',\n",
      "       'Video Players & Editors;Music & Video', 'News & Magazines',\n",
      "       'Maps & Navigation', 'Health & Fitness;Action & Adventure',\n",
      "       'Educational', 'Casino', 'Adventure;Brain Games',\n",
      "       'Lifestyle;Education', 'Books & Reference;Education',\n",
      "       'Puzzle;Education', 'Role Playing;Brain Games',\n",
      "       'Strategy;Education', 'Racing;Pretend Play',\n",
      "       'Communication;Creativity', 'Strategy;Creativity'], dtype=object)\n"
     ]
    }
   ],
   "source": [
    "p_stats('Genres')"
   ]
  },
  {
   "cell_type": "markdown",
   "metadata": {},
   "source": [
    "This is good candidate for PCA with Category."
   ]
  },
  {
   "cell_type": "code",
   "execution_count": 57,
   "metadata": {
    "scrolled": true
   },
   "outputs": [
    {
     "data": {
      "text/plain": [
       "Tools                                    732\n",
       "Entertainment                            498\n",
       "Education                                446\n",
       "Action                                   349\n",
       "Productivity                             334\n",
       "Finance                                  317\n",
       "Personalization                          308\n",
       "Communication                            307\n",
       "Photography                              304\n",
       "Lifestyle                                304\n",
       "Medical                                  302\n",
       "Sports                                   299\n",
       "Business                                 270\n",
       "Health & Fitness                         262\n",
       "Social                                   244\n",
       "News & Magazines                         214\n",
       "Arcade                                   205\n",
       "Travel & Local                           204\n",
       "Shopping                                 202\n",
       "Simulation                               193\n",
       "Casual                                   183\n",
       "Books & Reference                        177\n",
       "Dating                                   159\n",
       "Video Players & Editors                  158\n",
       "Maps & Navigation                        124\n",
       "Puzzle                                   116\n",
       "Role Playing                             106\n",
       "Food & Drink                             106\n",
       "Strategy                                 101\n",
       "Racing                                    93\n",
       "                                        ... \n",
       "Video Players & Editors;Music & Video      3\n",
       "Puzzle;Creativity                          2\n",
       "Video Players & Editors;Creativity         2\n",
       "Books & Reference;Education                2\n",
       "Card;Action & Adventure                    2\n",
       "Strategy;Action & Adventure                2\n",
       "Adventure;Education                        2\n",
       "Art & Design;Pretend Play                  2\n",
       "Entertainment;Pretend Play                 2\n",
       "Entertainment;Education                    1\n",
       "Puzzle;Education                           1\n",
       "Health & Fitness;Action & Adventure        1\n",
       "Tools;Education                            1\n",
       "Board;Pretend Play                         1\n",
       "Parenting;Brain Games                      1\n",
       "Strategy;Creativity                        1\n",
       "Lifestyle;Pretend Play                     1\n",
       "Casual;Music & Video                       1\n",
       "Card;Brain Games                           1\n",
       "Lifestyle;Education                        1\n",
       "Adventure;Brain Games                      1\n",
       "Health & Fitness;Education                 1\n",
       "Comics;Creativity                          1\n",
       "Strategy;Education                         1\n",
       "Role Playing;Brain Games                   1\n",
       "Racing;Pretend Play                        1\n",
       "Communication;Creativity                   1\n",
       "Travel & Local;Action & Adventure          1\n",
       "Arcade;Pretend Play                        1\n",
       "Music & Audio;Music & Video                1\n",
       "Name: Genres, Length: 115, dtype: int64"
      ]
     },
     "execution_count": 57,
     "metadata": {},
     "output_type": "execute_result"
    }
   ],
   "source": [
    "apps_df['Genres'].value_counts()"
   ]
  },
  {
   "cell_type": "markdown",
   "metadata": {},
   "source": [
    "#### Column 11 - Last Updated\n",
    "When the application was last updated"
   ]
  },
  {
   "cell_type": "code",
   "execution_count": 58,
   "metadata": {},
   "outputs": [
    {
     "name": "stdout",
     "output_type": "stream",
     "text": [
      "Description for Column: Last Updated\n",
      "count               8886\n",
      "unique              1299\n",
      "top       August 3, 2018\n",
      "freq                 291\n",
      "Name: Last Updated, dtype: object\n",
      "Unique Values for Column: Last Updated\n",
      "array(['January 7, 2018', 'January 15, 2018', 'August 1, 2018', ...,\n",
      "       'January 20, 2014', 'February 16, 2014', 'March 23, 2014'],\n",
      "      dtype=object)\n"
     ]
    }
   ],
   "source": [
    "column_name = 'Last Updated'\n",
    "p_stats(column_name)"
   ]
  },
  {
   "cell_type": "code",
   "execution_count": 59,
   "metadata": {},
   "outputs": [],
   "source": [
    "test = apps_df[column_name].astype('datetime64[ns]')"
   ]
  },
  {
   "cell_type": "code",
   "execution_count": 60,
   "metadata": {},
   "outputs": [],
   "source": [
    "min_val = test.min()"
   ]
  },
  {
   "cell_type": "code",
   "execution_count": 61,
   "metadata": {
    "scrolled": false
   },
   "outputs": [],
   "source": [
    "max_val = test.max()"
   ]
  },
  {
   "cell_type": "code",
   "execution_count": 62,
   "metadata": {},
   "outputs": [
    {
     "name": "stdout",
     "output_type": "stream",
     "text": [
      "first time 2010-05-21 00:00:00\n",
      "last time 2018-08-08 00:00:00\n"
     ]
    }
   ],
   "source": [
    "print('first time', min_val)\n",
    "print('last time', max_val)"
   ]
  },
  {
   "cell_type": "code",
   "execution_count": 63,
   "metadata": {},
   "outputs": [],
   "source": [
    "year_range = test.max().year - test.min().year"
   ]
  },
  {
   "cell_type": "code",
   "execution_count": 64,
   "metadata": {
    "scrolled": true
   },
   "outputs": [],
   "source": [
    "normalizer = lambda x : (x.year - min_val.year) * 12 + x.month\n",
    "normalized_last_updated = test.apply(normalizer)"
   ]
  },
  {
   "cell_type": "code",
   "execution_count": 65,
   "metadata": {},
   "outputs": [
    {
     "data": {
      "text/plain": [
       "pandas.core.series.Series"
      ]
     },
     "execution_count": 65,
     "metadata": {},
     "output_type": "execute_result"
    }
   ],
   "source": [
    "type(normalized_last_updated)"
   ]
  },
  {
   "cell_type": "markdown",
   "metadata": {},
   "source": [
    "#### Column 12 - Current Version\n",
    "Current Version of app available on play store."
   ]
  },
  {
   "cell_type": "code",
   "execution_count": 66,
   "metadata": {},
   "outputs": [],
   "source": [
    "column_name = 'Current Ver'"
   ]
  },
  {
   "cell_type": "code",
   "execution_count": 67,
   "metadata": {
    "scrolled": true
   },
   "outputs": [
    {
     "name": "stdout",
     "output_type": "stream",
     "text": [
      "Description for Column: Current Ver\n",
      "count                   8886\n",
      "unique                  2638\n",
      "top       Varies with device\n",
      "freq                    1258\n",
      "Name: Current Ver, dtype: object\n",
      "Unique Values for Column: Current Ver\n",
      "array(['1.0.0', '2.0.0', '1.2.4', ..., '1.5.447', '1.0.612928', '0.3.4'],\n",
      "      dtype=object)\n"
     ]
    }
   ],
   "source": [
    "p_stats(column_name)"
   ]
  },
  {
   "cell_type": "markdown",
   "metadata": {},
   "source": [
    "This is an arbitrary value set by application developers. A possible correlation occurs because of a psychological effect of higher version numbers, but this hypothesis will not be  validated this study."
   ]
  },
  {
   "cell_type": "markdown",
   "metadata": {},
   "source": [
    "#### Column 13 - Android Version\n",
    "Minimum Required Version to run the App."
   ]
  },
  {
   "cell_type": "code",
   "execution_count": 68,
   "metadata": {},
   "outputs": [],
   "source": [
    "column_name = 'Android Ver'"
   ]
  },
  {
   "cell_type": "code",
   "execution_count": 69,
   "metadata": {},
   "outputs": [
    {
     "name": "stdout",
     "output_type": "stream",
     "text": [
      "Description for Column: Android Ver\n",
      "count           8886\n",
      "unique            31\n",
      "top       4.1 and up\n",
      "freq            1987\n",
      "Name: Android Ver, dtype: object\n",
      "Unique Values for Column: Android Ver\n",
      "array(['4.0.3 and up', '4.2 and up', '4.4 and up', '2.3 and up',\n",
      "       '3.0 and up', '4.1 and up', '4.0 and up', '2.3.3 and up',\n",
      "       'Varies with device', '2.2 and up', '5.0 and up', '6.0 and up',\n",
      "       '1.6 and up', '1.5 and up', '2.1 and up', '7.0 and up',\n",
      "       '4.3 and up', '4.0.3 - 7.1.1', '2.0 and up', '3.2 and up',\n",
      "       '4.4W and up', '5.1 and up', '7.1 and up', '7.0 - 7.1.1',\n",
      "       '8.0 and up', '5.0 - 8.0', '3.1 and up', '2.0.1 and up',\n",
      "       '4.1 - 7.1.1', '5.0 - 6.0', '1.0 and up'], dtype=object)\n"
     ]
    }
   ],
   "source": [
    "p_stats(column_name)"
   ]
  },
  {
   "cell_type": "code",
   "execution_count": 70,
   "metadata": {},
   "outputs": [],
   "source": [
    "normalizer = lambda x : x.split(' ')[0]\n",
    "lazy_cleanup = lambda x : 4.4 if x == '4.4W' else x"
   ]
  },
  {
   "cell_type": "code",
   "execution_count": 71,
   "metadata": {
    "scrolled": true
   },
   "outputs": [
    {
     "name": "stdout",
     "output_type": "stream",
     "text": [
      "0         4.0.3\n",
      "1         4.0.3\n",
      "2         4.0.3\n",
      "3           4.2\n",
      "4           4.4\n",
      "5           2.3\n",
      "6         4.0.3\n",
      "7           4.2\n",
      "8           3.0\n",
      "9         4.0.3\n",
      "10          4.1\n",
      "11          4.0\n",
      "12          4.1\n",
      "13          4.4\n",
      "14          2.3\n",
      "16          4.1\n",
      "17          2.3\n",
      "18        4.0.3\n",
      "19          4.1\n",
      "20          4.1\n",
      "21        4.0.3\n",
      "22        4.0.3\n",
      "24          4.1\n",
      "25          3.0\n",
      "26        4.0.3\n",
      "27        4.0.3\n",
      "28          2.3\n",
      "29          2.3\n",
      "30        4.0.3\n",
      "31          2.3\n",
      "          ...  \n",
      "10795       4.1\n",
      "10796       4.1\n",
      "10797       5.0\n",
      "10799     4.0.3\n",
      "10800       4.4\n",
      "10801       4.4\n",
      "10802       3.0\n",
      "10803       4.0\n",
      "10804       2.3\n",
      "10805       4.2\n",
      "10809       4.1\n",
      "10810       4.4\n",
      "10812     4.0.3\n",
      "10814       3.0\n",
      "10815       4.2\n",
      "10817       5.0\n",
      "10819       4.1\n",
      "10820       4.1\n",
      "10826    Varies\n",
      "10827     4.0.3\n",
      "10828       4.0\n",
      "10829       4.1\n",
      "10830       1.6\n",
      "10832       2.1\n",
      "10833       2.2\n",
      "10834       4.1\n",
      "10836       4.1\n",
      "10837       4.1\n",
      "10839    Varies\n",
      "10840    Varies\n",
      "Name: Android Ver, Length: 8886, dtype: object\n"
     ]
    }
   ],
   "source": [
    "normalized_android_ver = apps_df[column_name].apply(normalizer).apply(lazy_cleanup)\n",
    "pp.pprint(normalized_android_ver)"
   ]
  },
  {
   "cell_type": "code",
   "execution_count": 72,
   "metadata": {},
   "outputs": [
    {
     "data": {
      "text/plain": [
       "array(['4.0.3', '4.2', '4.4', '2.3', '3.0', '4.1', '4.0', '2.3.3',\n",
       "       'Varies', '2.2', '5.0', '6.0', '1.6', '1.5', '2.1', '7.0', '4.3',\n",
       "       '2.0', '3.2', 4.4, '5.1', '7.1', '8.0', '3.1', '2.0.1', '1.0'],\n",
       "      dtype=object)"
      ]
     },
     "execution_count": 72,
     "metadata": {},
     "output_type": "execute_result"
    }
   ],
   "source": [
    "normalized_android_ver.unique()"
   ]
  },
  {
   "cell_type": "code",
   "execution_count": 73,
   "metadata": {},
   "outputs": [],
   "source": [
    "strip_latter_periods = lambda x : x if len(x) == 3 else x[0:2] + x[2:].replace('.','')"
   ]
  },
  {
   "cell_type": "code",
   "execution_count": 74,
   "metadata": {
    "scrolled": true
   },
   "outputs": [],
   "source": [
    "normalized_android_ver = normalized_android_ver.astype('str').apply(strip_latter_periods)"
   ]
  },
  {
   "cell_type": "code",
   "execution_count": 75,
   "metadata": {},
   "outputs": [
    {
     "data": {
      "text/plain": [
       "pandas.core.series.Series"
      ]
     },
     "execution_count": 75,
     "metadata": {},
     "output_type": "execute_result"
    }
   ],
   "source": [
    "type(normalized_android_ver)"
   ]
  },
  {
   "cell_type": "code",
   "execution_count": 76,
   "metadata": {
    "scrolled": true
   },
   "outputs": [
    {
     "data": {
      "text/plain": [
       "0          4.03\n",
       "1          4.03\n",
       "2          4.03\n",
       "3           4.2\n",
       "4           4.4\n",
       "5           2.3\n",
       "6          4.03\n",
       "7           4.2\n",
       "8           3.0\n",
       "9          4.03\n",
       "10          4.1\n",
       "11          4.0\n",
       "12          4.1\n",
       "13          4.4\n",
       "14          2.3\n",
       "16          4.1\n",
       "17          2.3\n",
       "18         4.03\n",
       "19          4.1\n",
       "20          4.1\n",
       "21         4.03\n",
       "22         4.03\n",
       "24          4.1\n",
       "25          3.0\n",
       "26         4.03\n",
       "27         4.03\n",
       "28          2.3\n",
       "29          2.3\n",
       "30         4.03\n",
       "31          2.3\n",
       "          ...  \n",
       "10795       4.1\n",
       "10796       4.1\n",
       "10797       5.0\n",
       "10799      4.03\n",
       "10800       4.4\n",
       "10801       4.4\n",
       "10802       3.0\n",
       "10803       4.0\n",
       "10804       2.3\n",
       "10805       4.2\n",
       "10809       4.1\n",
       "10810       4.4\n",
       "10812      4.03\n",
       "10814       3.0\n",
       "10815       4.2\n",
       "10817       5.0\n",
       "10819       4.1\n",
       "10820       4.1\n",
       "10826    Varies\n",
       "10827      4.03\n",
       "10828       4.0\n",
       "10829       4.1\n",
       "10830       1.6\n",
       "10832       2.1\n",
       "10833       2.2\n",
       "10834       4.1\n",
       "10836       4.1\n",
       "10837       4.1\n",
       "10839    Varies\n",
       "10840    Varies\n",
       "Name: Android Ver, Length: 8886, dtype: object"
      ]
     },
     "execution_count": 76,
     "metadata": {},
     "output_type": "execute_result"
    }
   ],
   "source": [
    "normalized_android_ver"
   ]
  },
  {
   "cell_type": "markdown",
   "metadata": {},
   "source": [
    "Here I have taken the android versions of my applications and chopped the first number."
   ]
  },
  {
   "cell_type": "markdown",
   "metadata": {},
   "source": [
    "#### creation of normalized dataset"
   ]
  },
  {
   "cell_type": "code",
   "execution_count": 77,
   "metadata": {},
   "outputs": [
    {
     "data": {
      "text/plain": [
       "Index(['App', 'Category', 'Rating', 'Reviews', 'Size', 'Installs', 'Type',\n",
       "       'Price', 'Content Rating', 'Genres', 'Last Updated', 'Current Ver',\n",
       "       'Android Ver'],\n",
       "      dtype='object')"
      ]
     },
     "execution_count": 77,
     "metadata": {},
     "output_type": "execute_result"
    }
   ],
   "source": [
    "apps_df.columns"
   ]
  },
  {
   "cell_type": "markdown",
   "metadata": {},
   "source": [
    "got rid of genres, current version"
   ]
  },
  {
   "cell_type": "code",
   "execution_count": 78,
   "metadata": {},
   "outputs": [],
   "source": [
    "norm_apps_df = pd.concat([apps_df['App'],apps_df['Rating'],apps_df['Category'], apps_df['Reviews'], normalized_android_ver, normalized_content_rating, normalized_installs, normalized_last_updated.astype('int'), normalized_price, normalized_type, normalized_size], axis = 1)"
   ]
  },
  {
   "cell_type": "code",
   "execution_count": 79,
   "metadata": {},
   "outputs": [],
   "source": [
    "norm_apps_df.rename(columns={0:\"Price\", 'App':'App Name', 'Size':\"Size (kb)\"}, inplace= True)"
   ]
  },
  {
   "cell_type": "code",
   "execution_count": 80,
   "metadata": {},
   "outputs": [
    {
     "data": {
      "text/html": [
       "<div>\n",
       "<style scoped>\n",
       "    .dataframe tbody tr th:only-of-type {\n",
       "        vertical-align: middle;\n",
       "    }\n",
       "\n",
       "    .dataframe tbody tr th {\n",
       "        vertical-align: top;\n",
       "    }\n",
       "\n",
       "    .dataframe thead th {\n",
       "        text-align: right;\n",
       "    }\n",
       "</style>\n",
       "<table border=\"1\" class=\"dataframe\">\n",
       "  <thead>\n",
       "    <tr style=\"text-align: right;\">\n",
       "      <th></th>\n",
       "      <th>App Name</th>\n",
       "      <th>Rating</th>\n",
       "      <th>Category</th>\n",
       "      <th>Reviews</th>\n",
       "      <th>Android Ver</th>\n",
       "      <th>Content Rating</th>\n",
       "      <th>Installs</th>\n",
       "      <th>Last Updated</th>\n",
       "      <th>Price</th>\n",
       "      <th>Type</th>\n",
       "      <th>Size (kb)</th>\n",
       "    </tr>\n",
       "  </thead>\n",
       "  <tbody>\n",
       "    <tr>\n",
       "      <th>0</th>\n",
       "      <td>Photo Editor &amp; Candy Camera &amp; Grid &amp; ScrapBook</td>\n",
       "      <td>4.100</td>\n",
       "      <td>ART_AND_DESIGN</td>\n",
       "      <td>159</td>\n",
       "      <td>4.03</td>\n",
       "      <td>1</td>\n",
       "      <td>10000</td>\n",
       "      <td>97</td>\n",
       "      <td>0.000</td>\n",
       "      <td>0</td>\n",
       "      <td>19,000.000</td>\n",
       "    </tr>\n",
       "    <tr>\n",
       "      <th>1</th>\n",
       "      <td>Coloring book moana</td>\n",
       "      <td>3.900</td>\n",
       "      <td>ART_AND_DESIGN</td>\n",
       "      <td>967</td>\n",
       "      <td>4.03</td>\n",
       "      <td>1</td>\n",
       "      <td>500000</td>\n",
       "      <td>97</td>\n",
       "      <td>0.000</td>\n",
       "      <td>0</td>\n",
       "      <td>14,000.000</td>\n",
       "    </tr>\n",
       "    <tr>\n",
       "      <th>2</th>\n",
       "      <td>U Launcher Lite – FREE Live Cool Themes, Hide ...</td>\n",
       "      <td>4.700</td>\n",
       "      <td>ART_AND_DESIGN</td>\n",
       "      <td>87510</td>\n",
       "      <td>4.03</td>\n",
       "      <td>1</td>\n",
       "      <td>5000000</td>\n",
       "      <td>104</td>\n",
       "      <td>0.000</td>\n",
       "      <td>0</td>\n",
       "      <td>8,700.000</td>\n",
       "    </tr>\n",
       "    <tr>\n",
       "      <th>3</th>\n",
       "      <td>Sketch - Draw &amp; Paint</td>\n",
       "      <td>4.500</td>\n",
       "      <td>ART_AND_DESIGN</td>\n",
       "      <td>215644</td>\n",
       "      <td>4.2</td>\n",
       "      <td>3</td>\n",
       "      <td>50000000</td>\n",
       "      <td>102</td>\n",
       "      <td>0.000</td>\n",
       "      <td>0</td>\n",
       "      <td>25,000.000</td>\n",
       "    </tr>\n",
       "    <tr>\n",
       "      <th>4</th>\n",
       "      <td>Pixel Draw - Number Art Coloring Book</td>\n",
       "      <td>4.300</td>\n",
       "      <td>ART_AND_DESIGN</td>\n",
       "      <td>967</td>\n",
       "      <td>4.4</td>\n",
       "      <td>1</td>\n",
       "      <td>100000</td>\n",
       "      <td>102</td>\n",
       "      <td>0.000</td>\n",
       "      <td>0</td>\n",
       "      <td>2,800.000</td>\n",
       "    </tr>\n",
       "  </tbody>\n",
       "</table>\n",
       "</div>"
      ],
      "text/plain": [
       "                                            App Name  Rating        Category  \\\n",
       "0     Photo Editor & Candy Camera & Grid & ScrapBook   4.100  ART_AND_DESIGN   \n",
       "1                                Coloring book moana   3.900  ART_AND_DESIGN   \n",
       "2  U Launcher Lite – FREE Live Cool Themes, Hide ...   4.700  ART_AND_DESIGN   \n",
       "3                              Sketch - Draw & Paint   4.500  ART_AND_DESIGN   \n",
       "4              Pixel Draw - Number Art Coloring Book   4.300  ART_AND_DESIGN   \n",
       "\n",
       "  Reviews Android Ver  Content Rating  Installs  Last Updated  Price  Type  \\\n",
       "0     159        4.03               1     10000            97  0.000     0   \n",
       "1     967        4.03               1    500000            97  0.000     0   \n",
       "2   87510        4.03               1   5000000           104  0.000     0   \n",
       "3  215644         4.2               3  50000000           102  0.000     0   \n",
       "4     967         4.4               1    100000           102  0.000     0   \n",
       "\n",
       "   Size (kb)  \n",
       "0 19,000.000  \n",
       "1 14,000.000  \n",
       "2  8,700.000  \n",
       "3 25,000.000  \n",
       "4  2,800.000  "
      ]
     },
     "execution_count": 80,
     "metadata": {},
     "output_type": "execute_result"
    }
   ],
   "source": [
    "norm_apps_df.head()"
   ]
  },
  {
   "cell_type": "code",
   "execution_count": 81,
   "metadata": {},
   "outputs": [
    {
     "data": {
      "text/plain": [
       "App Name           object\n",
       "Rating            float64\n",
       "Category           object\n",
       "Reviews            object\n",
       "Android Ver        object\n",
       "Content Rating      int64\n",
       "Installs            int64\n",
       "Last Updated        int64\n",
       "Price             float64\n",
       "Type                int64\n",
       "Size (kb)         float64\n",
       "dtype: object"
      ]
     },
     "execution_count": 81,
     "metadata": {},
     "output_type": "execute_result"
    }
   ],
   "source": [
    "norm_apps_df.dtypes"
   ]
  },
  {
   "cell_type": "code",
   "execution_count": null,
   "metadata": {},
   "outputs": [],
   "source": []
  },
  {
   "cell_type": "markdown",
   "metadata": {},
   "source": [
    "### Data analysis and visualization \n",
    "quantitative (statistical) and visual analysis of your\n",
    "data. You should apply quantitative measures of centrality, distribution, and correlation.\n",
    "In addition, you should provide visual analysis through plots that are appropriate for a\n",
    "better understanding of your data and how the data can be used to answer your question.\n",
    "Extra credit for novel insightful visualizations. Using the appropriate clustering algorithm\n",
    "for different measures can be very helpful for better understanding the relationships in\n",
    "your data. "
   ]
  },
  {
   "cell_type": "code",
   "execution_count": 111,
   "metadata": {},
   "outputs": [
    {
     "ename": "TypeError",
     "evalue": "'<' not supported between instances of 'str' and 'int'",
     "output_type": "error",
     "traceback": [
      "\u001b[0;31m---------------------------------------------------------------------------\u001b[0m",
      "\u001b[0;31mTypeError\u001b[0m                                 Traceback (most recent call last)",
      "\u001b[0;32m<ipython-input-111-ce5e24bbf811>\u001b[0m in \u001b[0;36m<module>\u001b[0;34m()\u001b[0m\n\u001b[0;32m----> 1\u001b[0;31m \u001b[0mnorm_apps_df\u001b[0m\u001b[0;34m.\u001b[0m\u001b[0mplot\u001b[0m\u001b[0;34m.\u001b[0m\u001b[0mpie\u001b[0m\u001b[0;34m(\u001b[0m\u001b[0my\u001b[0m\u001b[0;34m=\u001b[0m\u001b[0;34m'Category'\u001b[0m\u001b[0;34m,\u001b[0m \u001b[0mfigsize\u001b[0m \u001b[0;34m=\u001b[0m \u001b[0;34m(\u001b[0m\u001b[0;36m5\u001b[0m\u001b[0;34m,\u001b[0m\u001b[0;36m5\u001b[0m\u001b[0;34m)\u001b[0m\u001b[0;34m)\u001b[0m\u001b[0;34m\u001b[0m\u001b[0m\n\u001b[0m\u001b[1;32m      2\u001b[0m \u001b[0mplt\u001b[0m\u001b[0;34m.\u001b[0m\u001b[0mshow\u001b[0m\u001b[0;34m(\u001b[0m\u001b[0;34m)\u001b[0m\u001b[0;34m\u001b[0m\u001b[0m\n",
      "\u001b[0;32m~/anaconda3/lib/python3.7/site-packages/pandas/plotting/_core.py\u001b[0m in \u001b[0;36mpie\u001b[0;34m(self, y, **kwds)\u001b[0m\n\u001b[1;32m   3378\u001b[0m \u001b[0;34m\u001b[0m\u001b[0m\n\u001b[1;32m   3379\u001b[0m         \"\"\"\n\u001b[0;32m-> 3380\u001b[0;31m         \u001b[0;32mreturn\u001b[0m \u001b[0mself\u001b[0m\u001b[0;34m(\u001b[0m\u001b[0mkind\u001b[0m\u001b[0;34m=\u001b[0m\u001b[0;34m'pie'\u001b[0m\u001b[0;34m,\u001b[0m \u001b[0my\u001b[0m\u001b[0;34m=\u001b[0m\u001b[0my\u001b[0m\u001b[0;34m,\u001b[0m \u001b[0;34m**\u001b[0m\u001b[0mkwds\u001b[0m\u001b[0;34m)\u001b[0m\u001b[0;34m\u001b[0m\u001b[0m\n\u001b[0m\u001b[1;32m   3381\u001b[0m \u001b[0;34m\u001b[0m\u001b[0m\n\u001b[1;32m   3382\u001b[0m     \u001b[0;32mdef\u001b[0m \u001b[0mscatter\u001b[0m\u001b[0;34m(\u001b[0m\u001b[0mself\u001b[0m\u001b[0;34m,\u001b[0m \u001b[0mx\u001b[0m\u001b[0;34m,\u001b[0m \u001b[0my\u001b[0m\u001b[0;34m,\u001b[0m \u001b[0ms\u001b[0m\u001b[0;34m=\u001b[0m\u001b[0;32mNone\u001b[0m\u001b[0;34m,\u001b[0m \u001b[0mc\u001b[0m\u001b[0;34m=\u001b[0m\u001b[0;32mNone\u001b[0m\u001b[0;34m,\u001b[0m \u001b[0;34m**\u001b[0m\u001b[0mkwds\u001b[0m\u001b[0;34m)\u001b[0m\u001b[0;34m:\u001b[0m\u001b[0;34m\u001b[0m\u001b[0m\n",
      "\u001b[0;32m~/anaconda3/lib/python3.7/site-packages/pandas/plotting/_core.py\u001b[0m in \u001b[0;36m__call__\u001b[0;34m(self, x, y, kind, ax, subplots, sharex, sharey, layout, figsize, use_index, title, grid, legend, style, logx, logy, loglog, xticks, yticks, xlim, ylim, rot, fontsize, colormap, table, yerr, xerr, secondary_y, sort_columns, **kwds)\u001b[0m\n\u001b[1;32m   2939\u001b[0m                           \u001b[0mfontsize\u001b[0m\u001b[0;34m=\u001b[0m\u001b[0mfontsize\u001b[0m\u001b[0;34m,\u001b[0m \u001b[0mcolormap\u001b[0m\u001b[0;34m=\u001b[0m\u001b[0mcolormap\u001b[0m\u001b[0;34m,\u001b[0m \u001b[0mtable\u001b[0m\u001b[0;34m=\u001b[0m\u001b[0mtable\u001b[0m\u001b[0;34m,\u001b[0m\u001b[0;34m\u001b[0m\u001b[0m\n\u001b[1;32m   2940\u001b[0m                           \u001b[0myerr\u001b[0m\u001b[0;34m=\u001b[0m\u001b[0myerr\u001b[0m\u001b[0;34m,\u001b[0m \u001b[0mxerr\u001b[0m\u001b[0;34m=\u001b[0m\u001b[0mxerr\u001b[0m\u001b[0;34m,\u001b[0m \u001b[0msecondary_y\u001b[0m\u001b[0;34m=\u001b[0m\u001b[0msecondary_y\u001b[0m\u001b[0;34m,\u001b[0m\u001b[0;34m\u001b[0m\u001b[0m\n\u001b[0;32m-> 2941\u001b[0;31m                           sort_columns=sort_columns, **kwds)\n\u001b[0m\u001b[1;32m   2942\u001b[0m     \u001b[0m__call__\u001b[0m\u001b[0;34m.\u001b[0m\u001b[0m__doc__\u001b[0m \u001b[0;34m=\u001b[0m \u001b[0mplot_frame\u001b[0m\u001b[0;34m.\u001b[0m\u001b[0m__doc__\u001b[0m\u001b[0;34m\u001b[0m\u001b[0m\n\u001b[1;32m   2943\u001b[0m \u001b[0;34m\u001b[0m\u001b[0m\n",
      "\u001b[0;32m~/anaconda3/lib/python3.7/site-packages/pandas/plotting/_core.py\u001b[0m in \u001b[0;36mplot_frame\u001b[0;34m(data, x, y, kind, ax, subplots, sharex, sharey, layout, figsize, use_index, title, grid, legend, style, logx, logy, loglog, xticks, yticks, xlim, ylim, rot, fontsize, colormap, table, yerr, xerr, secondary_y, sort_columns, **kwds)\u001b[0m\n\u001b[1;32m   1975\u001b[0m                  \u001b[0myerr\u001b[0m\u001b[0;34m=\u001b[0m\u001b[0myerr\u001b[0m\u001b[0;34m,\u001b[0m \u001b[0mxerr\u001b[0m\u001b[0;34m=\u001b[0m\u001b[0mxerr\u001b[0m\u001b[0;34m,\u001b[0m\u001b[0;34m\u001b[0m\u001b[0m\n\u001b[1;32m   1976\u001b[0m                  \u001b[0msecondary_y\u001b[0m\u001b[0;34m=\u001b[0m\u001b[0msecondary_y\u001b[0m\u001b[0;34m,\u001b[0m \u001b[0msort_columns\u001b[0m\u001b[0;34m=\u001b[0m\u001b[0msort_columns\u001b[0m\u001b[0;34m,\u001b[0m\u001b[0;34m\u001b[0m\u001b[0m\n\u001b[0;32m-> 1977\u001b[0;31m                  **kwds)\n\u001b[0m\u001b[1;32m   1978\u001b[0m \u001b[0;34m\u001b[0m\u001b[0m\n\u001b[1;32m   1979\u001b[0m \u001b[0;34m\u001b[0m\u001b[0m\n",
      "\u001b[0;32m~/anaconda3/lib/python3.7/site-packages/pandas/plotting/_core.py\u001b[0m in \u001b[0;36m_plot\u001b[0;34m(data, x, y, subplots, ax, kind, **kwds)\u001b[0m\n\u001b[1;32m   1757\u001b[0m                 \u001b[0mdata\u001b[0m \u001b[0;34m=\u001b[0m \u001b[0mdata\u001b[0m\u001b[0;34m[\u001b[0m\u001b[0my\u001b[0m\u001b[0;34m]\u001b[0m\u001b[0;34m.\u001b[0m\u001b[0mcopy\u001b[0m\u001b[0;34m(\u001b[0m\u001b[0;34m)\u001b[0m\u001b[0;34m\u001b[0m\u001b[0m\n\u001b[1;32m   1758\u001b[0m                 \u001b[0mdata\u001b[0m\u001b[0;34m.\u001b[0m\u001b[0mindex\u001b[0m\u001b[0;34m.\u001b[0m\u001b[0mname\u001b[0m \u001b[0;34m=\u001b[0m \u001b[0my\u001b[0m\u001b[0;34m\u001b[0m\u001b[0m\n\u001b[0;32m-> 1759\u001b[0;31m         \u001b[0mplot_obj\u001b[0m \u001b[0;34m=\u001b[0m \u001b[0mklass\u001b[0m\u001b[0;34m(\u001b[0m\u001b[0mdata\u001b[0m\u001b[0;34m,\u001b[0m \u001b[0msubplots\u001b[0m\u001b[0;34m=\u001b[0m\u001b[0msubplots\u001b[0m\u001b[0;34m,\u001b[0m \u001b[0max\u001b[0m\u001b[0;34m=\u001b[0m\u001b[0max\u001b[0m\u001b[0;34m,\u001b[0m \u001b[0mkind\u001b[0m\u001b[0;34m=\u001b[0m\u001b[0mkind\u001b[0m\u001b[0;34m,\u001b[0m \u001b[0;34m**\u001b[0m\u001b[0mkwds\u001b[0m\u001b[0;34m)\u001b[0m\u001b[0;34m\u001b[0m\u001b[0m\n\u001b[0m\u001b[1;32m   1760\u001b[0m     \u001b[0;32melse\u001b[0m\u001b[0;34m:\u001b[0m\u001b[0;34m\u001b[0m\u001b[0m\n\u001b[1;32m   1761\u001b[0m         \u001b[0;32mif\u001b[0m \u001b[0misinstance\u001b[0m\u001b[0;34m(\u001b[0m\u001b[0mdata\u001b[0m\u001b[0;34m,\u001b[0m \u001b[0mABCDataFrame\u001b[0m\u001b[0;34m)\u001b[0m\u001b[0;34m:\u001b[0m\u001b[0;34m\u001b[0m\u001b[0m\n",
      "\u001b[0;32m~/anaconda3/lib/python3.7/site-packages/pandas/plotting/_core.py\u001b[0m in \u001b[0;36m__init__\u001b[0;34m(self, data, kind, **kwargs)\u001b[0m\n\u001b[1;32m   1496\u001b[0m     \u001b[0;32mdef\u001b[0m \u001b[0m__init__\u001b[0m\u001b[0;34m(\u001b[0m\u001b[0mself\u001b[0m\u001b[0;34m,\u001b[0m \u001b[0mdata\u001b[0m\u001b[0;34m,\u001b[0m \u001b[0mkind\u001b[0m\u001b[0;34m=\u001b[0m\u001b[0;32mNone\u001b[0m\u001b[0;34m,\u001b[0m \u001b[0;34m**\u001b[0m\u001b[0mkwargs\u001b[0m\u001b[0;34m)\u001b[0m\u001b[0;34m:\u001b[0m\u001b[0;34m\u001b[0m\u001b[0m\n\u001b[1;32m   1497\u001b[0m         \u001b[0mdata\u001b[0m \u001b[0;34m=\u001b[0m \u001b[0mdata\u001b[0m\u001b[0;34m.\u001b[0m\u001b[0mfillna\u001b[0m\u001b[0;34m(\u001b[0m\u001b[0mvalue\u001b[0m\u001b[0;34m=\u001b[0m\u001b[0;36m0\u001b[0m\u001b[0;34m)\u001b[0m\u001b[0;34m\u001b[0m\u001b[0m\n\u001b[0;32m-> 1498\u001b[0;31m         \u001b[0;32mif\u001b[0m \u001b[0;34m(\u001b[0m\u001b[0mdata\u001b[0m \u001b[0;34m<\u001b[0m \u001b[0;36m0\u001b[0m\u001b[0;34m)\u001b[0m\u001b[0;34m.\u001b[0m\u001b[0many\u001b[0m\u001b[0;34m(\u001b[0m\u001b[0;34m)\u001b[0m\u001b[0;34m.\u001b[0m\u001b[0many\u001b[0m\u001b[0;34m(\u001b[0m\u001b[0;34m)\u001b[0m\u001b[0;34m:\u001b[0m\u001b[0;34m\u001b[0m\u001b[0m\n\u001b[0m\u001b[1;32m   1499\u001b[0m             \u001b[0;32mraise\u001b[0m \u001b[0mValueError\u001b[0m\u001b[0;34m(\u001b[0m\u001b[0;34m\"{0} doesn't allow negative values\"\u001b[0m\u001b[0;34m.\u001b[0m\u001b[0mformat\u001b[0m\u001b[0;34m(\u001b[0m\u001b[0mkind\u001b[0m\u001b[0;34m)\u001b[0m\u001b[0;34m)\u001b[0m\u001b[0;34m\u001b[0m\u001b[0m\n\u001b[1;32m   1500\u001b[0m         \u001b[0mMPLPlot\u001b[0m\u001b[0;34m.\u001b[0m\u001b[0m__init__\u001b[0m\u001b[0;34m(\u001b[0m\u001b[0mself\u001b[0m\u001b[0;34m,\u001b[0m \u001b[0mdata\u001b[0m\u001b[0;34m,\u001b[0m \u001b[0mkind\u001b[0m\u001b[0;34m=\u001b[0m\u001b[0mkind\u001b[0m\u001b[0;34m,\u001b[0m \u001b[0;34m**\u001b[0m\u001b[0mkwargs\u001b[0m\u001b[0;34m)\u001b[0m\u001b[0;34m\u001b[0m\u001b[0m\n",
      "\u001b[0;32m~/anaconda3/lib/python3.7/site-packages/pandas/core/ops.py\u001b[0m in \u001b[0;36mwrapper\u001b[0;34m(self, other, axis)\u001b[0m\n\u001b[1;32m   1281\u001b[0m \u001b[0;34m\u001b[0m\u001b[0m\n\u001b[1;32m   1282\u001b[0m             \u001b[0;32mwith\u001b[0m \u001b[0mnp\u001b[0m\u001b[0;34m.\u001b[0m\u001b[0merrstate\u001b[0m\u001b[0;34m(\u001b[0m\u001b[0mall\u001b[0m\u001b[0;34m=\u001b[0m\u001b[0;34m'ignore'\u001b[0m\u001b[0;34m)\u001b[0m\u001b[0;34m:\u001b[0m\u001b[0;34m\u001b[0m\u001b[0m\n\u001b[0;32m-> 1283\u001b[0;31m                 \u001b[0mres\u001b[0m \u001b[0;34m=\u001b[0m \u001b[0mna_op\u001b[0m\u001b[0;34m(\u001b[0m\u001b[0mvalues\u001b[0m\u001b[0;34m,\u001b[0m \u001b[0mother\u001b[0m\u001b[0;34m)\u001b[0m\u001b[0;34m\u001b[0m\u001b[0m\n\u001b[0m\u001b[1;32m   1284\u001b[0m             \u001b[0;32mif\u001b[0m \u001b[0mis_scalar\u001b[0m\u001b[0;34m(\u001b[0m\u001b[0mres\u001b[0m\u001b[0;34m)\u001b[0m\u001b[0;34m:\u001b[0m\u001b[0;34m\u001b[0m\u001b[0m\n\u001b[1;32m   1285\u001b[0m                 raise TypeError('Could not compare {typ} type with Series'\n",
      "\u001b[0;32m~/anaconda3/lib/python3.7/site-packages/pandas/core/ops.py\u001b[0m in \u001b[0;36mna_op\u001b[0;34m(x, y)\u001b[0m\n\u001b[1;32m   1141\u001b[0m \u001b[0;34m\u001b[0m\u001b[0m\n\u001b[1;32m   1142\u001b[0m         \u001b[0;32melif\u001b[0m \u001b[0mis_object_dtype\u001b[0m\u001b[0;34m(\u001b[0m\u001b[0mx\u001b[0m\u001b[0;34m.\u001b[0m\u001b[0mdtype\u001b[0m\u001b[0;34m)\u001b[0m\u001b[0;34m:\u001b[0m\u001b[0;34m\u001b[0m\u001b[0m\n\u001b[0;32m-> 1143\u001b[0;31m             \u001b[0mresult\u001b[0m \u001b[0;34m=\u001b[0m \u001b[0m_comp_method_OBJECT_ARRAY\u001b[0m\u001b[0;34m(\u001b[0m\u001b[0mop\u001b[0m\u001b[0;34m,\u001b[0m \u001b[0mx\u001b[0m\u001b[0;34m,\u001b[0m \u001b[0my\u001b[0m\u001b[0;34m)\u001b[0m\u001b[0;34m\u001b[0m\u001b[0m\n\u001b[0m\u001b[1;32m   1144\u001b[0m \u001b[0;34m\u001b[0m\u001b[0m\n\u001b[1;32m   1145\u001b[0m         \u001b[0;32melif\u001b[0m \u001b[0mis_datetimelike_v_numeric\u001b[0m\u001b[0;34m(\u001b[0m\u001b[0mx\u001b[0m\u001b[0;34m,\u001b[0m \u001b[0my\u001b[0m\u001b[0;34m)\u001b[0m\u001b[0;34m:\u001b[0m\u001b[0;34m\u001b[0m\u001b[0m\n",
      "\u001b[0;32m~/anaconda3/lib/python3.7/site-packages/pandas/core/ops.py\u001b[0m in \u001b[0;36m_comp_method_OBJECT_ARRAY\u001b[0;34m(op, x, y)\u001b[0m\n\u001b[1;32m   1120\u001b[0m         \u001b[0mresult\u001b[0m \u001b[0;34m=\u001b[0m \u001b[0mlibops\u001b[0m\u001b[0;34m.\u001b[0m\u001b[0mvec_compare\u001b[0m\u001b[0;34m(\u001b[0m\u001b[0mx\u001b[0m\u001b[0;34m,\u001b[0m \u001b[0my\u001b[0m\u001b[0;34m,\u001b[0m \u001b[0mop\u001b[0m\u001b[0;34m)\u001b[0m\u001b[0;34m\u001b[0m\u001b[0m\n\u001b[1;32m   1121\u001b[0m     \u001b[0;32melse\u001b[0m\u001b[0;34m:\u001b[0m\u001b[0;34m\u001b[0m\u001b[0m\n\u001b[0;32m-> 1122\u001b[0;31m         \u001b[0mresult\u001b[0m \u001b[0;34m=\u001b[0m \u001b[0mlibops\u001b[0m\u001b[0;34m.\u001b[0m\u001b[0mscalar_compare\u001b[0m\u001b[0;34m(\u001b[0m\u001b[0mx\u001b[0m\u001b[0;34m,\u001b[0m \u001b[0my\u001b[0m\u001b[0;34m,\u001b[0m \u001b[0mop\u001b[0m\u001b[0;34m)\u001b[0m\u001b[0;34m\u001b[0m\u001b[0m\n\u001b[0m\u001b[1;32m   1123\u001b[0m     \u001b[0;32mreturn\u001b[0m \u001b[0mresult\u001b[0m\u001b[0;34m\u001b[0m\u001b[0m\n\u001b[1;32m   1124\u001b[0m \u001b[0;34m\u001b[0m\u001b[0m\n",
      "\u001b[0;32mpandas/_libs/ops.pyx\u001b[0m in \u001b[0;36mpandas._libs.ops.scalar_compare\u001b[0;34m()\u001b[0m\n",
      "\u001b[0;31mTypeError\u001b[0m: '<' not supported between instances of 'str' and 'int'"
     ]
    }
   ],
   "source": [
    "norm_apps_df.plot.pie(y='Category', figsize = (5,5))\n",
    "plt.show()"
   ]
  },
  {
   "cell_type": "markdown",
   "metadata": {},
   "source": [
    "### Data modeling and prediction \n",
    "development of a predictive model, regression or\n",
    "classification. Your model development should include experimentation with feature\n",
    "selection and hyperparameters. The effect of different features on your target variable, as\n",
    "well as associations between features should be identified. You should appropriately use\n",
    "train, validation, and test data when evaluating your models."
   ]
  },
  {
   "cell_type": "markdown",
   "metadata": {},
   "source": [
    "### Results analysis \n",
    "Summary of your interpretation of the results. Are the results\n",
    "statistically significant? I.e., did you prove or disprove your hypothesis. How could you\n",
    "improve your analysis? Lessons learned, and feedback on the assignment."
   ]
  },
  {
   "cell_type": "markdown",
   "metadata": {},
   "source": [
    "#### Notes...\n",
    "\n",
    "NoteWorth Investigations\n",
    "\n",
    "principle component analysis \n",
    "\n",
    "dimn redux \n"
   ]
  },
  {
   "cell_type": "code",
   "execution_count": null,
   "metadata": {},
   "outputs": [],
   "source": []
  }
 ],
 "metadata": {
  "kernelspec": {
   "display_name": "Python 3",
   "language": "python",
   "name": "python3"
  },
  "language_info": {
   "codemirror_mode": {
    "name": "ipython",
    "version": 3
   },
   "file_extension": ".py",
   "mimetype": "text/x-python",
   "name": "python",
   "nbconvert_exporter": "python",
   "pygments_lexer": "ipython3",
   "version": "3.7.0"
  }
 },
 "nbformat": 4,
 "nbformat_minor": 2
}
