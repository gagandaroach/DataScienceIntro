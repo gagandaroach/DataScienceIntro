{
 "cells": [
  {
   "cell_type": "markdown",
   "metadata": {},
   "source": [
    "## Data Science Final Project \n",
    "### Author: Gagan Daroach"
   ]
  },
  {
   "cell_type": "code",
   "execution_count": 80,
   "metadata": {},
   "outputs": [],
   "source": [
    "#imports \n",
    "import numpy as np\n",
    "import matplotlib.pyplot as plt\n",
    "import pandas as pd \n",
    "import pprint as pp\n",
    "%matplotlib inline \n",
    "from sklearn.preprocessing import MinMaxScaler\n",
    "from sklearn import preprocessing\n",
    "\n",
    "pd.options.display.float_format = '{:,.3f}'.format"
   ]
  },
  {
   "cell_type": "markdown",
   "metadata": {},
   "source": [
    "### Dataset\n",
    "\n",
    "dataset link: https://www.kaggle.com/lava18/google-play-store-apps/version/5\n",
    "\n",
    "Author Lavanya Gupta is responsible for the creation of this dataset. The dataset was last updated one month ago (as of Tue Oct 30 2018). The dataset was populated with web scraped data from the Google Play Store. There are 13 features that describe the dataset. \n",
    "       \n",
    "App: App Name\n",
    "\n",
    "Category: App Category\n",
    "\n",
    "Rating: App Rating (0.0 thru 5.0)\n",
    "\n",
    "Reviews: Number of reviews. \n",
    "\n",
    "Size: App install size\n",
    "\n",
    "Installs: Number of Installs\n",
    "\n",
    "Type: Either paid or free\n",
    "\n",
    "Price: App Price\n",
    "\n",
    "Content Raiting: Age group the app is targeted at. \n",
    "\n",
    "Genres: Apart from category (unique value), an app can belong to many genres\n",
    "\n",
    "Last Updated: date when the app was last updated on the google play store\n",
    "\n",
    "Current Version: Current version of app avaiable on play store\n",
    "\n",
    "Android Version: minimun required version to run the app\n",
    "\n",
    "Possible target variables: Number of Installs & App Rating - explanation under hypothesis. \n"
   ]
  },
  {
   "cell_type": "markdown",
   "metadata": {},
   "source": [
    "### Dataframe Information"
   ]
  },
  {
   "cell_type": "code",
   "execution_count": 81,
   "metadata": {},
   "outputs": [
    {
     "data": {
      "text/html": [
       "<div>\n",
       "<style scoped>\n",
       "    .dataframe tbody tr th:only-of-type {\n",
       "        vertical-align: middle;\n",
       "    }\n",
       "\n",
       "    .dataframe tbody tr th {\n",
       "        vertical-align: top;\n",
       "    }\n",
       "\n",
       "    .dataframe thead th {\n",
       "        text-align: right;\n",
       "    }\n",
       "</style>\n",
       "<table border=\"1\" class=\"dataframe\">\n",
       "  <thead>\n",
       "    <tr style=\"text-align: right;\">\n",
       "      <th></th>\n",
       "      <th>App</th>\n",
       "      <th>Category</th>\n",
       "      <th>Rating</th>\n",
       "      <th>Reviews</th>\n",
       "      <th>Size</th>\n",
       "      <th>Installs</th>\n",
       "      <th>Type</th>\n",
       "      <th>Price</th>\n",
       "      <th>Content Rating</th>\n",
       "      <th>Genres</th>\n",
       "      <th>Last Updated</th>\n",
       "      <th>Current Ver</th>\n",
       "      <th>Android Ver</th>\n",
       "    </tr>\n",
       "  </thead>\n",
       "  <tbody>\n",
       "    <tr>\n",
       "      <th>0</th>\n",
       "      <td>Photo Editor &amp; Candy Camera &amp; Grid &amp; ScrapBook</td>\n",
       "      <td>ART_AND_DESIGN</td>\n",
       "      <td>4.100</td>\n",
       "      <td>159</td>\n",
       "      <td>19M</td>\n",
       "      <td>10,000+</td>\n",
       "      <td>Free</td>\n",
       "      <td>0</td>\n",
       "      <td>Everyone</td>\n",
       "      <td>Art &amp; Design</td>\n",
       "      <td>January 7, 2018</td>\n",
       "      <td>1.0.0</td>\n",
       "      <td>4.0.3 and up</td>\n",
       "    </tr>\n",
       "    <tr>\n",
       "      <th>1</th>\n",
       "      <td>Coloring book moana</td>\n",
       "      <td>ART_AND_DESIGN</td>\n",
       "      <td>3.900</td>\n",
       "      <td>967</td>\n",
       "      <td>14M</td>\n",
       "      <td>500,000+</td>\n",
       "      <td>Free</td>\n",
       "      <td>0</td>\n",
       "      <td>Everyone</td>\n",
       "      <td>Art &amp; Design;Pretend Play</td>\n",
       "      <td>January 15, 2018</td>\n",
       "      <td>2.0.0</td>\n",
       "      <td>4.0.3 and up</td>\n",
       "    </tr>\n",
       "    <tr>\n",
       "      <th>2</th>\n",
       "      <td>U Launcher Lite – FREE Live Cool Themes, Hide ...</td>\n",
       "      <td>ART_AND_DESIGN</td>\n",
       "      <td>4.700</td>\n",
       "      <td>87510</td>\n",
       "      <td>8.7M</td>\n",
       "      <td>5,000,000+</td>\n",
       "      <td>Free</td>\n",
       "      <td>0</td>\n",
       "      <td>Everyone</td>\n",
       "      <td>Art &amp; Design</td>\n",
       "      <td>August 1, 2018</td>\n",
       "      <td>1.2.4</td>\n",
       "      <td>4.0.3 and up</td>\n",
       "    </tr>\n",
       "    <tr>\n",
       "      <th>3</th>\n",
       "      <td>Sketch - Draw &amp; Paint</td>\n",
       "      <td>ART_AND_DESIGN</td>\n",
       "      <td>4.500</td>\n",
       "      <td>215644</td>\n",
       "      <td>25M</td>\n",
       "      <td>50,000,000+</td>\n",
       "      <td>Free</td>\n",
       "      <td>0</td>\n",
       "      <td>Teen</td>\n",
       "      <td>Art &amp; Design</td>\n",
       "      <td>June 8, 2018</td>\n",
       "      <td>Varies with device</td>\n",
       "      <td>4.2 and up</td>\n",
       "    </tr>\n",
       "    <tr>\n",
       "      <th>4</th>\n",
       "      <td>Pixel Draw - Number Art Coloring Book</td>\n",
       "      <td>ART_AND_DESIGN</td>\n",
       "      <td>4.300</td>\n",
       "      <td>967</td>\n",
       "      <td>2.8M</td>\n",
       "      <td>100,000+</td>\n",
       "      <td>Free</td>\n",
       "      <td>0</td>\n",
       "      <td>Everyone</td>\n",
       "      <td>Art &amp; Design;Creativity</td>\n",
       "      <td>June 20, 2018</td>\n",
       "      <td>1.1</td>\n",
       "      <td>4.4 and up</td>\n",
       "    </tr>\n",
       "    <tr>\n",
       "      <th>5</th>\n",
       "      <td>Paper flowers instructions</td>\n",
       "      <td>ART_AND_DESIGN</td>\n",
       "      <td>4.400</td>\n",
       "      <td>167</td>\n",
       "      <td>5.6M</td>\n",
       "      <td>50,000+</td>\n",
       "      <td>Free</td>\n",
       "      <td>0</td>\n",
       "      <td>Everyone</td>\n",
       "      <td>Art &amp; Design</td>\n",
       "      <td>March 26, 2017</td>\n",
       "      <td>1.0</td>\n",
       "      <td>2.3 and up</td>\n",
       "    </tr>\n",
       "    <tr>\n",
       "      <th>6</th>\n",
       "      <td>Smoke Effect Photo Maker - Smoke Editor</td>\n",
       "      <td>ART_AND_DESIGN</td>\n",
       "      <td>3.800</td>\n",
       "      <td>178</td>\n",
       "      <td>19M</td>\n",
       "      <td>50,000+</td>\n",
       "      <td>Free</td>\n",
       "      <td>0</td>\n",
       "      <td>Everyone</td>\n",
       "      <td>Art &amp; Design</td>\n",
       "      <td>April 26, 2018</td>\n",
       "      <td>1.1</td>\n",
       "      <td>4.0.3 and up</td>\n",
       "    </tr>\n",
       "    <tr>\n",
       "      <th>7</th>\n",
       "      <td>Infinite Painter</td>\n",
       "      <td>ART_AND_DESIGN</td>\n",
       "      <td>4.100</td>\n",
       "      <td>36815</td>\n",
       "      <td>29M</td>\n",
       "      <td>1,000,000+</td>\n",
       "      <td>Free</td>\n",
       "      <td>0</td>\n",
       "      <td>Everyone</td>\n",
       "      <td>Art &amp; Design</td>\n",
       "      <td>June 14, 2018</td>\n",
       "      <td>6.1.61.1</td>\n",
       "      <td>4.2 and up</td>\n",
       "    </tr>\n",
       "    <tr>\n",
       "      <th>8</th>\n",
       "      <td>Garden Coloring Book</td>\n",
       "      <td>ART_AND_DESIGN</td>\n",
       "      <td>4.400</td>\n",
       "      <td>13791</td>\n",
       "      <td>33M</td>\n",
       "      <td>1,000,000+</td>\n",
       "      <td>Free</td>\n",
       "      <td>0</td>\n",
       "      <td>Everyone</td>\n",
       "      <td>Art &amp; Design</td>\n",
       "      <td>September 20, 2017</td>\n",
       "      <td>2.9.2</td>\n",
       "      <td>3.0 and up</td>\n",
       "    </tr>\n",
       "    <tr>\n",
       "      <th>9</th>\n",
       "      <td>Kids Paint Free - Drawing Fun</td>\n",
       "      <td>ART_AND_DESIGN</td>\n",
       "      <td>4.700</td>\n",
       "      <td>121</td>\n",
       "      <td>3.1M</td>\n",
       "      <td>10,000+</td>\n",
       "      <td>Free</td>\n",
       "      <td>0</td>\n",
       "      <td>Everyone</td>\n",
       "      <td>Art &amp; Design;Creativity</td>\n",
       "      <td>July 3, 2018</td>\n",
       "      <td>2.8</td>\n",
       "      <td>4.0.3 and up</td>\n",
       "    </tr>\n",
       "  </tbody>\n",
       "</table>\n",
       "</div>"
      ],
      "text/plain": [
       "                                                 App        Category  Rating  \\\n",
       "0     Photo Editor & Candy Camera & Grid & ScrapBook  ART_AND_DESIGN   4.100   \n",
       "1                                Coloring book moana  ART_AND_DESIGN   3.900   \n",
       "2  U Launcher Lite – FREE Live Cool Themes, Hide ...  ART_AND_DESIGN   4.700   \n",
       "3                              Sketch - Draw & Paint  ART_AND_DESIGN   4.500   \n",
       "4              Pixel Draw - Number Art Coloring Book  ART_AND_DESIGN   4.300   \n",
       "5                         Paper flowers instructions  ART_AND_DESIGN   4.400   \n",
       "6            Smoke Effect Photo Maker - Smoke Editor  ART_AND_DESIGN   3.800   \n",
       "7                                   Infinite Painter  ART_AND_DESIGN   4.100   \n",
       "8                               Garden Coloring Book  ART_AND_DESIGN   4.400   \n",
       "9                      Kids Paint Free - Drawing Fun  ART_AND_DESIGN   4.700   \n",
       "\n",
       "  Reviews  Size     Installs  Type Price Content Rating  \\\n",
       "0     159   19M      10,000+  Free     0       Everyone   \n",
       "1     967   14M     500,000+  Free     0       Everyone   \n",
       "2   87510  8.7M   5,000,000+  Free     0       Everyone   \n",
       "3  215644   25M  50,000,000+  Free     0           Teen   \n",
       "4     967  2.8M     100,000+  Free     0       Everyone   \n",
       "5     167  5.6M      50,000+  Free     0       Everyone   \n",
       "6     178   19M      50,000+  Free     0       Everyone   \n",
       "7   36815   29M   1,000,000+  Free     0       Everyone   \n",
       "8   13791   33M   1,000,000+  Free     0       Everyone   \n",
       "9     121  3.1M      10,000+  Free     0       Everyone   \n",
       "\n",
       "                      Genres        Last Updated         Current Ver  \\\n",
       "0               Art & Design     January 7, 2018               1.0.0   \n",
       "1  Art & Design;Pretend Play    January 15, 2018               2.0.0   \n",
       "2               Art & Design      August 1, 2018               1.2.4   \n",
       "3               Art & Design        June 8, 2018  Varies with device   \n",
       "4    Art & Design;Creativity       June 20, 2018                 1.1   \n",
       "5               Art & Design      March 26, 2017                 1.0   \n",
       "6               Art & Design      April 26, 2018                 1.1   \n",
       "7               Art & Design       June 14, 2018            6.1.61.1   \n",
       "8               Art & Design  September 20, 2017               2.9.2   \n",
       "9    Art & Design;Creativity        July 3, 2018                 2.8   \n",
       "\n",
       "    Android Ver  \n",
       "0  4.0.3 and up  \n",
       "1  4.0.3 and up  \n",
       "2  4.0.3 and up  \n",
       "3    4.2 and up  \n",
       "4    4.4 and up  \n",
       "5    2.3 and up  \n",
       "6  4.0.3 and up  \n",
       "7    4.2 and up  \n",
       "8    3.0 and up  \n",
       "9  4.0.3 and up  "
      ]
     },
     "execution_count": 81,
     "metadata": {},
     "output_type": "execute_result"
    }
   ],
   "source": [
    "apps_df = pd.read_csv(\"googleplaystore.csv\")\n",
    "apps_df.head(10)"
   ]
  },
  {
   "cell_type": "code",
   "execution_count": 82,
   "metadata": {
    "scrolled": true
   },
   "outputs": [
    {
     "name": "stdout",
     "output_type": "stream",
     "text": [
      "Index(['App', 'Category', 'Rating', 'Reviews', 'Size', 'Installs', 'Type',\n",
      "       'Price', 'Content Rating', 'Genres', 'Last Updated', 'Current Ver',\n",
      "       'Android Ver'],\n",
      "      dtype='object')\n"
     ]
    }
   ],
   "source": [
    "pp.pprint(apps_df.columns)"
   ]
  },
  {
   "cell_type": "markdown",
   "metadata": {},
   "source": [
    "### Major Objectives\n",
    "\n",
    "I want to focus my app development on features that will be most impactful on my app downloads. If I can identity a formula for success, I can use it to prioritize my workflow. \n",
    "\n",
    "Additionally, this dataset has many values to figure out how to manage. For starters, the columns Current Version, Android Version, and Category need to be one hot encoded up to allow for some model magic. I want the practice using Data Science to influence decision making. "
   ]
  },
  {
   "cell_type": "markdown",
   "metadata": {},
   "source": [
    "### Hypothesis\n",
    "\n",
    "I predict that there will be a way to determine number of installs based on a set of other predicter variables. I am anticipating Price and Rating to be strong determiners. I plan on using linear regression to test this hypothesis. I am curious to see the effects of the other roles, such as the impact of genres, category, and android versions."
   ]
  },
  {
   "cell_type": "markdown",
   "metadata": {},
   "source": [
    "### Data Preprocessing\n",
    "identification of required features, proper handling of missing\n",
    "values (removal, imputation, etc.), and supporting documentation for your decisions such\n",
    "as the number of missing values relative to the size of the dataset."
   ]
  },
  {
   "cell_type": "markdown",
   "metadata": {},
   "source": [
    "#### Initial Table Transformations"
   ]
  },
  {
   "cell_type": "code",
   "execution_count": 83,
   "metadata": {},
   "outputs": [],
   "source": [
    "apps_df.dropna(inplace=True)\n",
    "apps_df.drop_duplicates(inplace=True)"
   ]
  },
  {
   "cell_type": "markdown",
   "metadata": {},
   "source": [
    "Above, I drop duplicate elements in the table, and I drop all rows with missing data."
   ]
  },
  {
   "cell_type": "code",
   "execution_count": 84,
   "metadata": {
    "scrolled": true
   },
   "outputs": [
    {
     "data": {
      "text/html": [
       "<div>\n",
       "<style scoped>\n",
       "    .dataframe tbody tr th:only-of-type {\n",
       "        vertical-align: middle;\n",
       "    }\n",
       "\n",
       "    .dataframe tbody tr th {\n",
       "        vertical-align: top;\n",
       "    }\n",
       "\n",
       "    .dataframe thead th {\n",
       "        text-align: right;\n",
       "    }\n",
       "</style>\n",
       "<table border=\"1\" class=\"dataframe\">\n",
       "  <thead>\n",
       "    <tr style=\"text-align: right;\">\n",
       "      <th></th>\n",
       "      <th>Rating</th>\n",
       "    </tr>\n",
       "  </thead>\n",
       "  <tbody>\n",
       "    <tr>\n",
       "      <th>count</th>\n",
       "      <td>8,886.000</td>\n",
       "    </tr>\n",
       "    <tr>\n",
       "      <th>mean</th>\n",
       "      <td>4.188</td>\n",
       "    </tr>\n",
       "    <tr>\n",
       "      <th>std</th>\n",
       "      <td>0.522</td>\n",
       "    </tr>\n",
       "    <tr>\n",
       "      <th>min</th>\n",
       "      <td>1.000</td>\n",
       "    </tr>\n",
       "    <tr>\n",
       "      <th>25%</th>\n",
       "      <td>4.000</td>\n",
       "    </tr>\n",
       "    <tr>\n",
       "      <th>50%</th>\n",
       "      <td>4.300</td>\n",
       "    </tr>\n",
       "    <tr>\n",
       "      <th>75%</th>\n",
       "      <td>4.500</td>\n",
       "    </tr>\n",
       "    <tr>\n",
       "      <th>max</th>\n",
       "      <td>5.000</td>\n",
       "    </tr>\n",
       "  </tbody>\n",
       "</table>\n",
       "</div>"
      ],
      "text/plain": [
       "         Rating\n",
       "count 8,886.000\n",
       "mean      4.188\n",
       "std       0.522\n",
       "min       1.000\n",
       "25%       4.000\n",
       "50%       4.300\n",
       "75%       4.500\n",
       "max       5.000"
      ]
     },
     "execution_count": 84,
     "metadata": {},
     "output_type": "execute_result"
    }
   ],
   "source": [
    "apps_df.describe()"
   ]
  },
  {
   "cell_type": "code",
   "execution_count": 85,
   "metadata": {},
   "outputs": [],
   "source": [
    "def p_uniques(column_name, df_name = apps_df):\n",
    "    print('Unique Values for Column: %s' % (column_name))\n",
    "    pp.pprint(df_name[column_name].unique())\n",
    "    \n",
    "def p_describe(column_name, df_name = apps_df):\n",
    "    print('Description for Column: %s' % (column_name))\n",
    "    pp.pprint(df_name[column_name].describe())\n",
    "    \n",
    "def p_stats(column_name, df_name = apps_df):\n",
    "    p_describe(column_name, df_name)\n",
    "    p_uniques(column_name, df_name)"
   ]
  },
  {
   "cell_type": "code",
   "execution_count": 86,
   "metadata": {},
   "outputs": [],
   "source": [
    "def plotHBarGraph(column_name, result = None):\n",
    "    if (result == None):\n",
    "        result = apps_df[[column_name]].apply(pd.value_counts).fillna(0).T\n",
    "        result.index=[column_name]\n",
    "        result.columns=apps_df[column_name].unique()\n",
    "        pd.options.display.float_format = '{:,.0f}'.format\n",
    "    # horizontal bar plot\n",
    "    plt=result.plot.barh(title=column_name)\n",
    "    plt.set_xlabel(\"Count\")\n",
    "    plt.legend(loc='center left', bbox_to_anchor=(1, 0.5))\n",
    "    plt"
   ]
  },
  {
   "cell_type": "markdown",
   "metadata": {},
   "source": [
    "#### Column 1 - App Names"
   ]
  },
  {
   "cell_type": "code",
   "execution_count": 87,
   "metadata": {},
   "outputs": [],
   "source": [
    "column_name = 'App'"
   ]
  },
  {
   "cell_type": "code",
   "execution_count": 88,
   "metadata": {},
   "outputs": [
    {
     "name": "stdout",
     "output_type": "stream",
     "text": [
      "Description for Column: App\n",
      "count       8886\n",
      "unique      8190\n",
      "top       ROBLOX\n",
      "freq           9\n",
      "Name: App, dtype: object\n",
      "Unique Values for Column: App\n",
      "array(['Photo Editor & Candy Camera & Grid & ScrapBook',\n",
      "       'Coloring book moana',\n",
      "       'U Launcher Lite – FREE Live Cool Themes, Hide Apps', ...,\n",
      "       'Fr. Mike Schmitz Audio Teachings',\n",
      "       'The SCP Foundation DB fr nn5n',\n",
      "       'iHoroscope - 2018 Daily Horoscope & Astrology'], dtype=object)\n"
     ]
    }
   ],
   "source": [
    "p_stats(column_name)"
   ]
  },
  {
   "cell_type": "markdown",
   "metadata": {},
   "source": [
    "No abnomalies detected. "
   ]
  },
  {
   "cell_type": "markdown",
   "metadata": {},
   "source": [
    "#### Column 2 - Category"
   ]
  },
  {
   "cell_type": "code",
   "execution_count": 89,
   "metadata": {},
   "outputs": [],
   "source": [
    "column_name = 'Category'"
   ]
  },
  {
   "cell_type": "code",
   "execution_count": 90,
   "metadata": {
    "scrolled": true
   },
   "outputs": [],
   "source": [
    "#plt.hist(x = apps_df[column_name].head(1000))\n",
    "#plt.show()b"
   ]
  },
  {
   "cell_type": "code",
   "execution_count": 91,
   "metadata": {},
   "outputs": [
    {
     "data": {
      "text/plain": [
       "FAMILY                 1717\n",
       "GAME                   1074\n",
       "TOOLS                   733\n",
       "PRODUCTIVITY            334\n",
       "FINANCE                 317\n",
       "PERSONALIZATION         308\n",
       "COMMUNICATION           307\n",
       "LIFESTYLE               305\n",
       "PHOTOGRAPHY             304\n",
       "MEDICAL                 302\n",
       "SPORTS                  286\n",
       "BUSINESS                270\n",
       "HEALTH_AND_FITNESS      262\n",
       "SOCIAL                  244\n",
       "NEWS_AND_MAGAZINES      214\n",
       "TRAVEL_AND_LOCAL        205\n",
       "SHOPPING                202\n",
       "BOOKS_AND_REFERENCE     177\n",
       "VIDEO_PLAYERS           160\n",
       "DATING                  159\n",
       "EDUCATION               129\n",
       "MAPS_AND_NAVIGATION     124\n",
       "ENTERTAINMENT           111\n",
       "FOOD_AND_DRINK          106\n",
       "WEATHER                  75\n",
       "AUTO_AND_VEHICLES        73\n",
       "HOUSE_AND_HOME           68\n",
       "LIBRARIES_AND_DEMO       64\n",
       "ART_AND_DESIGN           61\n",
       "COMICS                   58\n",
       "PARENTING                50\n",
       "EVENTS                   45\n",
       "BEAUTY                   42\n",
       "Name: Category, dtype: int64"
      ]
     },
     "execution_count": 91,
     "metadata": {},
     "output_type": "execute_result"
    }
   ],
   "source": [
    "apps_df[column_name].value_counts()"
   ]
  },
  {
   "cell_type": "code",
   "execution_count": 92,
   "metadata": {},
   "outputs": [
    {
     "name": "stdout",
     "output_type": "stream",
     "text": [
      "Description for Column: Category\n",
      "count       8886\n",
      "unique        33\n",
      "top       FAMILY\n",
      "freq        1717\n",
      "Name: Category, dtype: object\n",
      "Unique Values for Column: Category\n",
      "array(['ART_AND_DESIGN', 'AUTO_AND_VEHICLES', 'BEAUTY',\n",
      "       'BOOKS_AND_REFERENCE', 'BUSINESS', 'COMICS', 'COMMUNICATION',\n",
      "       'DATING', 'EDUCATION', 'ENTERTAINMENT', 'EVENTS', 'FINANCE',\n",
      "       'FOOD_AND_DRINK', 'HEALTH_AND_FITNESS', 'HOUSE_AND_HOME',\n",
      "       'LIBRARIES_AND_DEMO', 'LIFESTYLE', 'GAME', 'FAMILY', 'MEDICAL',\n",
      "       'SOCIAL', 'SHOPPING', 'PHOTOGRAPHY', 'SPORTS', 'TRAVEL_AND_LOCAL',\n",
      "       'TOOLS', 'PERSONALIZATION', 'PRODUCTIVITY', 'PARENTING', 'WEATHER',\n",
      "       'VIDEO_PLAYERS', 'NEWS_AND_MAGAZINES', 'MAPS_AND_NAVIGATION'],\n",
      "      dtype=object)\n"
     ]
    }
   ],
   "source": [
    "p_stats(column_name)"
   ]
  },
  {
   "cell_type": "code",
   "execution_count": 93,
   "metadata": {},
   "outputs": [
    {
     "data": {
      "image/png": "[encoded data removed]",
      "text/plain": [
       "<Figure size 432x288 with 1 Axes>"
      ]
     },
     "metadata": {
      "needs_background": "light"
     },
     "output_type": "display_data"
    }
   ],
   "source": [
    "plotHBarGraph(column_name)"
   ]
  },
  {
   "cell_type": "markdown",
   "metadata": {},
   "source": [
    "Now I convert the categorical data to numbers."
   ]
  },
  {
   "cell_type": "code",
   "execution_count": null,
   "metadata": {},
   "outputs": [],
   "source": []
  },
  {
   "cell_type": "markdown",
   "metadata": {},
   "source": [
    "#### Column 3 - Rating"
   ]
  },
  {
   "cell_type": "code",
   "execution_count": 94,
   "metadata": {},
   "outputs": [
    {
     "name": "stdout",
     "output_type": "stream",
     "text": [
      "Description for Column: Rating\n",
      "count   8,886\n",
      "mean        4\n",
      "std         1\n",
      "min         1\n",
      "25%         4\n",
      "50%         4\n",
      "75%         4\n",
      "max         5\n",
      "Name: Rating, dtype: float64\n",
      "Unique Values for Column: Rating\n",
      "array([4.1, 3.9, 4.7, 4.5, 4.3, 4.4, 3.8, 4.2, 4.6, 4. , 4.8, 4.9, 3.6,\n",
      "       3.7, 3.2, 3.3, 3.4, 3.5, 3.1, 5. , 2.6, 3. , 1.9, 2.5, 2.8, 2.7,\n",
      "       1. , 2.9, 2.3, 2.2, 1.7, 2. , 1.8, 2.4, 1.6, 2.1, 1.4, 1.5, 1.2])\n"
     ]
    }
   ],
   "source": [
    "column_name = 'Rating'\n",
    "p_stats(column_name)"
   ]
  },
  {
   "cell_type": "code",
   "execution_count": 95,
   "metadata": {},
   "outputs": [
    {
     "data": {
      "image/png": "[encoded data removed]",
      "text/plain": [
       "<Figure size 432x288 with 1 Axes>"
      ]
     },
     "metadata": {
      "needs_background": "light"
     },
     "output_type": "display_data"
    }
   ],
   "source": [
    "apps_df[column_name].hist()\n",
    "plt.title('Rating Histogram')\n",
    "plt.show()"
   ]
  },
  {
   "cell_type": "code",
   "execution_count": null,
   "metadata": {},
   "outputs": [],
   "source": []
  },
  {
   "cell_type": "markdown",
   "metadata": {},
   "source": [
    "#### Column 4 - Reviews\n",
    "number of app store reviews"
   ]
  },
  {
   "cell_type": "code",
   "execution_count": 169,
   "metadata": {},
   "outputs": [],
   "source": [
    "column_name = 'Reviews'\n",
    "series = apps_df[column_name]"
   ]
  },
  {
   "cell_type": "code",
   "execution_count": 97,
   "metadata": {},
   "outputs": [
    {
     "name": "stdout",
     "output_type": "stream",
     "text": [
      "Description for Column: Reviews\n",
      "count     8886\n",
      "unique    5990\n",
      "top          2\n",
      "freq        82\n",
      "Name: Reviews, dtype: object\n",
      "Unique Values for Column: Reviews\n",
      "array(['159', '967', '87510', ..., '603', '1195', '398307'], dtype=object)\n"
     ]
    }
   ],
   "source": [
    "p_stats(column_name)"
   ]
  },
  {
   "cell_type": "code",
   "execution_count": 170,
   "metadata": {},
   "outputs": [
    {
     "name": "stdout",
     "output_type": "stream",
     "text": [
      "array(['159', '967', '87510', ..., '603', '1195', '398307'], dtype=object)\n"
     ]
    }
   ],
   "source": [
    "pp.pprint(apps_df[column_name].unique())"
   ]
  },
  {
   "cell_type": "code",
   "execution_count": 98,
   "metadata": {},
   "outputs": [],
   "source": [
    "#series.hist(bins = 10)"
   ]
  },
  {
   "cell_type": "markdown",
   "metadata": {},
   "source": [
    "#### Column 5 - Size\n",
    "size of app"
   ]
  },
  {
   "cell_type": "code",
   "execution_count": 202,
   "metadata": {},
   "outputs": [],
   "source": [
    "column_name = 'Size'"
   ]
  },
  {
   "cell_type": "code",
   "execution_count": 203,
   "metadata": {},
   "outputs": [
    {
     "data": {
      "text/plain": [
       "0     19M\n",
       "1     14M\n",
       "2    8.7M\n",
       "3     25M\n",
       "4    2.8M\n",
       "Name: Size, dtype: object"
      ]
     },
     "execution_count": 203,
     "metadata": {},
     "output_type": "execute_result"
    }
   ],
   "source": [
    "apps_df[column_name].head()"
   ]
  },
  {
   "cell_type": "code",
   "execution_count": 204,
   "metadata": {
    "scrolled": true
   },
   "outputs": [
    {
     "data": {
      "text/plain": [
       "Varies with device    1468\n",
       "14M                    153\n",
       "13M                    152\n",
       "12M                    151\n",
       "11M                    149\n",
       "15M                    149\n",
       "17M                    126\n",
       "25M                    125\n",
       "21M                    112\n",
       "16M                    112\n",
       "24M                    111\n",
       "19M                    110\n",
       "20M                    107\n",
       "26M                    106\n",
       "18M                     99\n",
       "23M                     99\n",
       "10M                     93\n",
       "22M                     92\n",
       "27M                     85\n",
       "28M                     74\n",
       "37M                     71\n",
       "33M                     70\n",
       "30M                     69\n",
       "35M                     66\n",
       "31M                     65\n",
       "29M                     63\n",
       "3.3M                    62\n",
       "44M                     56\n",
       "40M                     55\n",
       "46M                     54\n",
       "                      ... \n",
       "404k                     1\n",
       "540k                     1\n",
       "899k                     1\n",
       "400k                     1\n",
       "306k                     1\n",
       "283k                     1\n",
       "23k                      1\n",
       "562k                     1\n",
       "193k                     1\n",
       "655k                     1\n",
       "526k                     1\n",
       "467k                     1\n",
       "500k                     1\n",
       "54k                      1\n",
       "986k                     1\n",
       "523k                     1\n",
       "994k                     1\n",
       "460k                     1\n",
       "554k                     1\n",
       "161k                     1\n",
       "241k                     1\n",
       "74k                      1\n",
       "842k                     1\n",
       "239k                     1\n",
       "89k                      1\n",
       "957k                     1\n",
       "695k                     1\n",
       "914k                     1\n",
       "292k                     1\n",
       "430k                     1\n",
       "Name: Size, Length: 413, dtype: int64"
      ]
     },
     "execution_count": 204,
     "metadata": {},
     "output_type": "execute_result"
    }
   ],
   "source": [
    "apps_df[column_name].value_counts()"
   ]
  },
  {
   "cell_type": "code",
   "execution_count": 209,
   "metadata": {},
   "outputs": [],
   "source": [
    "normalize_varies = lambda x : '0k' if x == \"Varies with device\" else x"
   ]
  },
  {
   "cell_type": "code",
   "execution_count": 213,
   "metadata": {},
   "outputs": [],
   "source": [
    "normalize_sizes = lambda x : float(x[:-1]) if x != 0 and x[-1:]=='k' else float(x[:-1])*float(1000)"
   ]
  },
  {
   "cell_type": "code",
   "execution_count": 214,
   "metadata": {},
   "outputs": [],
   "source": [
    "normalized_size = apps_df[column_name].apply(normalize_varies)\n",
    "normalized_size = normalized_size.apply(normalize_sizes)"
   ]
  },
  {
   "cell_type": "code",
   "execution_count": 217,
   "metadata": {
    "scrolled": true
   },
   "outputs": [
    {
     "data": {
      "text/plain": [
       "0       19,000\n",
       "1       14,000\n",
       "2        8,700\n",
       "3       25,000\n",
       "4        2,800\n",
       "5        5,600\n",
       "6       19,000\n",
       "7       29,000\n",
       "8       33,000\n",
       "9        3,100\n",
       "10      28,000\n",
       "11      12,000\n",
       "12      20,000\n",
       "13      21,000\n",
       "14      37,000\n",
       "16       5,500\n",
       "17      17,000\n",
       "18      39,000\n",
       "19      31,000\n",
       "20      14,000\n",
       "21      12,000\n",
       "22       4,200\n",
       "24      23,000\n",
       "25       6,000\n",
       "26      25,000\n",
       "27       6,100\n",
       "28       4,600\n",
       "29       4,200\n",
       "30       9,200\n",
       "31       5,200\n",
       "         ...  \n",
       "10795    4,000\n",
       "10796    7,800\n",
       "10797   46,000\n",
       "10799    6,800\n",
       "10800   12,000\n",
       "10801   19,000\n",
       "10802   28,000\n",
       "10803   81,000\n",
       "10804   17,000\n",
       "10805   15,000\n",
       "10809   24,000\n",
       "10810   21,000\n",
       "10812   13,000\n",
       "10814   31,000\n",
       "10815    4,900\n",
       "10817    8,000\n",
       "10819    3,600\n",
       "10820    8,600\n",
       "10826        0\n",
       "10827   13,000\n",
       "10828   13,000\n",
       "10829    7,400\n",
       "10830    2,300\n",
       "10832      582\n",
       "10833      619\n",
       "10834    2,600\n",
       "10836   53,000\n",
       "10837    3,600\n",
       "10839        0\n",
       "10840   19,000\n",
       "Name: Size, Length: 8886, dtype: float64"
      ]
     },
     "execution_count": 217,
     "metadata": {},
     "output_type": "execute_result"
    }
   ],
   "source": [
    "normalized_size"
   ]
  },
  {
   "cell_type": "markdown",
   "metadata": {},
   "source": [
    "Here, we see that many of the values Vary with device. To capture what I believe to be an ordinal relationship, I will disregard the values that have sizes that vary with device and instead plot the data relatively. I will have to transform the M values to on scale with the k values."
   ]
  },
  {
   "cell_type": "markdown",
   "metadata": {},
   "source": [
    "#### Column 6 - Installs\n",
    "number of app downloads"
   ]
  },
  {
   "cell_type": "code",
   "execution_count": 102,
   "metadata": {},
   "outputs": [],
   "source": [
    "column_name = 'Installs'"
   ]
  },
  {
   "cell_type": "code",
   "execution_count": 103,
   "metadata": {},
   "outputs": [
    {
     "data": {
      "text/plain": [
       "1,000,000+        1485\n",
       "10,000,000+       1132\n",
       "100,000+          1110\n",
       "10,000+            988\n",
       "1,000+             697\n",
       "5,000,000+         683\n",
       "500,000+           515\n",
       "50,000+            461\n",
       "5,000+             425\n",
       "100,000,000+       369\n",
       "100+               303\n",
       "50,000,000+        272\n",
       "500+               199\n",
       "10+                 69\n",
       "500,000,000+        61\n",
       "50+                 56\n",
       "1,000,000,000+      49\n",
       "5+                   9\n",
       "1+                   3\n",
       "Name: Installs, dtype: int64"
      ]
     },
     "execution_count": 103,
     "metadata": {},
     "output_type": "execute_result"
    }
   ],
   "source": [
    "apps_df[column_name].value_counts()"
   ]
  },
  {
   "cell_type": "code",
   "execution_count": 104,
   "metadata": {},
   "outputs": [],
   "source": [
    "normalized_installs = apps_df[column_name]"
   ]
  },
  {
   "cell_type": "code",
   "execution_count": 105,
   "metadata": {},
   "outputs": [],
   "source": [
    "x = lambda x : int(x[:-1].replace(',',''))"
   ]
  },
  {
   "cell_type": "code",
   "execution_count": 134,
   "metadata": {
    "scrolled": true
   },
   "outputs": [],
   "source": [
    "normalized_installs = normalized_installs.apply(x)"
   ]
  },
  {
   "cell_type": "code",
   "execution_count": 135,
   "metadata": {
    "scrolled": true
   },
   "outputs": [
    {
     "name": "stdout",
     "output_type": "stream",
     "text": [
      "0           10000\n",
      "1          500000\n",
      "2         5000000\n",
      "3        50000000\n",
      "4          100000\n",
      "5           50000\n",
      "6           50000\n",
      "7         1000000\n",
      "8         1000000\n",
      "9           10000\n",
      "10        1000000\n",
      "11        1000000\n",
      "12       10000000\n",
      "13         100000\n",
      "14         100000\n",
      "16         500000\n",
      "17          10000\n",
      "18        5000000\n",
      "19       10000000\n",
      "20         100000\n",
      "21         100000\n",
      "22         500000\n",
      "24          50000\n",
      "25          10000\n",
      "26         500000\n",
      "27         100000\n",
      "28          10000\n",
      "29         100000\n",
      "30         100000\n",
      "31          50000\n",
      "           ...   \n",
      "10795      100000\n",
      "10796     1000000\n",
      "10797     1000000\n",
      "10799      100000\n",
      "10800        5000\n",
      "10801        1000\n",
      "10802       10000\n",
      "10803     1000000\n",
      "10804      100000\n",
      "10805         100\n",
      "10809     1000000\n",
      "10810         100\n",
      "10812        1000\n",
      "10814       50000\n",
      "10815      500000\n",
      "10817      100000\n",
      "10819        5000\n",
      "10820        1000\n",
      "10826     5000000\n",
      "10827        5000\n",
      "10828       10000\n",
      "10829       10000\n",
      "10830      100000\n",
      "10832      100000\n",
      "10833        1000\n",
      "10834         500\n",
      "10836        5000\n",
      "10837         100\n",
      "10839        1000\n",
      "10840    10000000\n",
      "Name: Installs, Length: 8886, dtype: int64\n"
     ]
    }
   ],
   "source": [
    "pp.pprint(normalized_installs)"
   ]
  },
  {
   "cell_type": "markdown",
   "metadata": {},
   "source": [
    "#### Column 7 - Type\n",
    "Paid or Free Apps"
   ]
  },
  {
   "cell_type": "code",
   "execution_count": 107,
   "metadata": {},
   "outputs": [
    {
     "data": {
      "text/plain": [
       "Free    8275\n",
       "Paid     611\n",
       "Name: Type, dtype: int64"
      ]
     },
     "execution_count": 107,
     "metadata": {},
     "output_type": "execute_result"
    }
   ],
   "source": [
    "column_name = 'Type'\n",
    "apps_df[column_name].value_counts()"
   ]
  },
  {
   "cell_type": "code",
   "execution_count": 108,
   "metadata": {},
   "outputs": [],
   "source": [
    "normalizer = lambda x : int(0) if x == 'Free' else int(1)"
   ]
  },
  {
   "cell_type": "code",
   "execution_count": 109,
   "metadata": {},
   "outputs": [
    {
     "data": {
      "text/plain": [
       "0    8275\n",
       "1     611\n",
       "Name: Type, dtype: int64"
      ]
     },
     "execution_count": 109,
     "metadata": {},
     "output_type": "execute_result"
    }
   ],
   "source": [
    "normalized_type = apps_df[column_name].apply(normalizer)\n",
    "normalized_type.value_counts()"
   ]
  },
  {
   "cell_type": "markdown",
   "metadata": {},
   "source": [
    "Converted Paid to 1, and Free to 0."
   ]
  },
  {
   "cell_type": "markdown",
   "metadata": {},
   "source": [
    "#### Column 8 - Price\n",
    "Cost of application"
   ]
  },
  {
   "cell_type": "code",
   "execution_count": 110,
   "metadata": {},
   "outputs": [
    {
     "name": "stdout",
     "output_type": "stream",
     "text": [
      "Description for Column: Price\n",
      "count     8886\n",
      "unique      73\n",
      "top          0\n",
      "freq      8275\n",
      "Name: Price, dtype: object\n",
      "Unique Values for Column: Price\n",
      "array(['0', '$4.99', '$3.99', '$6.99', '$7.99', '$5.99', '$2.99', '$3.49',\n",
      "       '$1.99', '$9.99', '$7.49', '$0.99', '$9.00', '$5.49', '$10.00',\n",
      "       '$24.99', '$11.99', '$79.99', '$16.99', '$14.99', '$29.99',\n",
      "       '$12.99', '$2.49', '$10.99', '$1.50', '$19.99', '$15.99', '$33.99',\n",
      "       '$39.99', '$3.95', '$4.49', '$1.70', '$8.99', '$1.49', '$3.88',\n",
      "       '$399.99', '$17.99', '$400.00', '$3.02', '$1.76', '$4.84', '$4.77',\n",
      "       '$1.61', '$2.50', '$1.59', '$6.49', '$1.29', '$299.99', '$379.99',\n",
      "       '$37.99', '$18.99', '$389.99', '$8.49', '$1.75', '$14.00', '$2.00',\n",
      "       '$3.08', '$2.59', '$19.40', '$3.90', '$4.59', '$15.46', '$3.04',\n",
      "       '$13.99', '$4.29', '$3.28', '$4.60', '$1.00', '$2.95', '$2.90',\n",
      "       '$1.97', '$2.56', '$1.20'], dtype=object)\n"
     ]
    }
   ],
   "source": [
    "column_name = 'Price'\n",
    "p_stats(column_name)"
   ]
  },
  {
   "cell_type": "code",
   "execution_count": 111,
   "metadata": {
    "scrolled": true
   },
   "outputs": [
    {
     "data": {
      "text/plain": [
       "0          8275\n",
       "$2.99       110\n",
       "$0.99       104\n",
       "$4.99        68\n",
       "$1.99        59\n",
       "$3.99        55\n",
       "$1.49        30\n",
       "$2.49        20\n",
       "$5.99        15\n",
       "$9.99        14\n",
       "$6.99        12\n",
       "$399.99      11\n",
       "$4.49         9\n",
       "$14.99        8\n",
       "$7.99         7\n",
       "$3.49         7\n",
       "$12.99        4\n",
       "$8.99         4\n",
       "$19.99        4\n",
       "$29.99        4\n",
       "$11.99        3\n",
       "$24.99        3\n",
       "$16.99        2\n",
       "$10.00        2\n",
       "$17.99        2\n",
       "$1.70         2\n",
       "$1.00         2\n",
       "$7.49         2\n",
       "$10.99        2\n",
       "$3.95         2\n",
       "           ... \n",
       "$1.97         1\n",
       "$1.75         1\n",
       "$6.49         1\n",
       "$389.99       1\n",
       "$2.90         1\n",
       "$3.02         1\n",
       "$4.77         1\n",
       "$4.60         1\n",
       "$3.88         1\n",
       "$37.99        1\n",
       "$9.00         1\n",
       "$1.76         1\n",
       "$1.20         1\n",
       "$299.99       1\n",
       "$1.29         1\n",
       "$15.46        1\n",
       "$19.40        1\n",
       "$79.99        1\n",
       "$4.59         1\n",
       "$4.29         1\n",
       "$8.49         1\n",
       "$1.61         1\n",
       "$3.90         1\n",
       "$3.28         1\n",
       "$400.00       1\n",
       "$13.99        1\n",
       "$18.99        1\n",
       "$1.59         1\n",
       "$33.99        1\n",
       "$1.50         1\n",
       "Name: Price, Length: 73, dtype: int64"
      ]
     },
     "execution_count": 111,
     "metadata": {},
     "output_type": "execute_result"
    }
   ],
   "source": [
    "apps_df[column_name].value_counts()"
   ]
  },
  {
   "cell_type": "code",
   "execution_count": 114,
   "metadata": {},
   "outputs": [],
   "source": [
    "normalizer = lambda x : float(0.0) if x == '0' else float(x[1:])"
   ]
  },
  {
   "cell_type": "code",
   "execution_count": 115,
   "metadata": {
    "scrolled": false
   },
   "outputs": [
    {
     "name": "stdout",
     "output_type": "stream",
     "text": [
      "2168   7\n",
      "2284   7\n",
      "Name: Price, dtype: float64\n"
     ]
    }
   ],
   "source": [
    "formatted_price = apps_df[column_name].apply(normalizer).astype('float64')\n",
    "pp.pprint(formatted_price[formatted_price == 7.49])"
   ]
  },
  {
   "cell_type": "code",
   "execution_count": 125,
   "metadata": {},
   "outputs": [
    {
     "data": {
      "text/plain": [
       "numpy.ndarray"
      ]
     },
     "execution_count": 125,
     "metadata": {},
     "output_type": "execute_result"
    }
   ],
   "source": [
    "type(formatted_price.values)"
   ]
  },
  {
   "cell_type": "markdown",
   "metadata": {},
   "source": [
    "and now i normalize the data"
   ]
  },
  {
   "cell_type": "code",
   "execution_count": 139,
   "metadata": {},
   "outputs": [],
   "source": [
    "normalized_price = formatted_price\n",
    "normalized_price = pd.Series(data = preprocessing.minmax_scale(formatted_price), index = formatted_price.index)"
   ]
  },
  {
   "cell_type": "code",
   "execution_count": 120,
   "metadata": {
    "scrolled": true
   },
   "outputs": [
    {
     "name": "stdout",
     "output_type": "stream",
     "text": [
      "array([0.012475, 0.012475, 0.009975, 0.009975, 0.017475, 0.019975,\n",
      "       0.009975, 0.009975, 0.014975, 0.009975, 0.009975, 0.012475,\n",
      "       0.007475, 0.008725, 0.012475, 0.007475, 0.009975, 0.007475,\n",
      "       0.007475, 0.004975, 0.012475, 0.012475, 0.012475, 0.014975,\n",
      "       0.017475, 0.024975, 0.012475, 0.009975, 0.007475, 0.009975,\n",
      "       0.007475, 0.009975, 0.009975, 0.012475, 0.009975, 0.007475,\n",
      "       0.018725, 0.007475, 0.002475, 0.002475, 0.002475, 0.012475,\n",
      "       0.007475, 0.012475, 0.007475, 0.012475, 0.012475, 0.007475,\n",
      "       0.007475, 0.009975, 0.009975, 0.017475, 0.007475, 0.0225  ,\n",
      "       0.002475, 0.013725, 0.024975, 0.017475, 0.025   , 0.009975,\n",
      "       0.014975, 0.062475, 0.029975, 0.199975, 0.029975, 0.007475,\n",
      "       0.042475, 0.009975, 0.007475, 0.024975, 0.009975, 0.037475,\n",
      "       0.007475, 0.009975, 0.007475, 0.074975, 0.007475, 0.007475,\n",
      "       0.032475, 0.012475, 0.007475, 0.037475, 0.014975, 0.008725,\n",
      "       0.002475, 0.006225, 0.062475, 0.027475, 0.004975, 0.012475,\n",
      "       0.009975, 0.007475, 0.018725, 0.00375 , 0.007475, 0.009975,\n",
      "       0.004975, 0.024975, 0.009975, 0.009975, 0.009975, 0.019975,\n",
      "       0.024975, 0.009975, 0.049975, 0.074975, 0.039975, 0.002475,\n",
      "       0.084975, 0.002475, 0.099975, 0.014975, 0.007475, 0.009875,\n",
      "       0.074975, 0.006225, 0.002475, 0.002475, 0.024975, 0.011225,\n",
      "       0.014975, 0.011225, 0.004975, 0.004975, 0.00425 , 0.002475,\n",
      "       0.004975, 0.007475, 0.007475, 0.002475, 0.002475, 0.002475,\n",
      "       0.007475, 0.022475, 0.012475, 0.007475, 0.012475, 0.014975,\n",
      "       0.003725, 0.012475, 0.00425 , 0.003725, 0.007475, 0.0097  ,\n",
      "       0.002475, 0.037475, 0.003725, 0.002475, 0.003725, 0.014975,\n",
      "       0.004975, 0.009975, 0.999975, 0.044975, 0.004975, 0.002475,\n",
      "       0.012475, 0.004975, 0.004975, 0.014975, 0.009975, 0.017475,\n",
      "       0.007475, 0.999975, 1.      , 0.007475, 0.012475, 0.007475,\n",
      "       0.007475, 0.002475, 0.006225, 0.007475, 0.002475, 0.009975,\n",
      "       0.007475, 0.006225, 0.004975, 0.012475, 0.002475, 0.004975,\n",
      "       0.006225, 0.00755 , 0.017475, 0.004975, 0.002475, 0.002475,\n",
      "       0.003725, 0.003725, 0.002475, 0.003725, 0.003725, 0.002475,\n",
      "       0.003725, 0.002475, 0.002475, 0.003725, 0.0044  , 0.0121  ,\n",
      "       0.004975, 0.004975, 0.012475, 0.011925, 0.002475, 0.012475,\n",
      "       0.004975, 0.006225, 0.007475, 0.012475, 0.012475, 0.014975,\n",
      "       0.007475, 0.012475, 0.004025, 0.002475, 0.009975, 0.006225,\n",
      "       0.019975, 0.009975, 0.002475, 0.037475, 0.004975, 0.002475,\n",
      "       0.004975, 0.004975, 0.004975, 0.004975, 0.002475, 0.002475,\n",
      "       0.002475, 0.009975, 0.003725, 0.004975, 0.007475, 0.003725,\n",
      "       0.002475, 0.00625 , 0.004975, 0.003975, 0.004975, 0.024975,\n",
      "       0.003725, 0.004975, 0.007475, 0.007475, 0.004975, 0.007475,\n",
      "       0.009975, 0.007475, 0.002475, 0.016225, 0.003225, 0.007475,\n",
      "       0.002475, 0.002475, 0.002475, 0.049975, 0.012475, 0.012475,\n",
      "       0.002475, 0.012475, 0.004975, 0.007475, 0.006225, 0.004975,\n",
      "       0.009975, 0.012475, 0.002475, 0.002475, 0.002475, 0.002475,\n",
      "       0.011225, 0.999975, 0.999975, 0.749975, 0.999975, 0.949975,\n",
      "       0.999975, 0.999975, 0.094975, 0.047475, 0.999975, 0.999975,\n",
      "       0.974975, 0.012475, 0.999975, 0.006225, 0.999975, 0.007475,\n",
      "       0.007475, 0.007475, 0.007475, 0.024975, 0.003725, 0.012475,\n",
      "       0.012475, 0.074975, 0.004975, 0.002475, 0.014975, 0.004975,\n",
      "       0.007475, 0.007475, 0.007475, 0.007475, 0.007475, 0.002475,\n",
      "       0.006225, 0.007475, 0.004975, 0.002475, 0.004975, 0.002475,\n",
      "       0.012475, 0.021225, 0.009975, 0.009975, 0.004975, 0.003725,\n",
      "       0.007475, 0.011225, 0.009975, 0.002475, 0.004375, 0.012475,\n",
      "       0.003725, 0.012475, 0.029975, 0.004975, 0.002475, 0.002475,\n",
      "       0.002475, 0.004975, 0.014975, 0.007475, 0.024975, 0.012475,\n",
      "       0.019975, 0.009975, 0.012475, 0.024975, 0.006225, 0.012475,\n",
      "       0.011225, 0.035   , 0.007475, 0.004975, 0.037475, 0.009975,\n",
      "       0.005   , 0.004975, 0.009975, 0.007475, 0.009975, 0.002475,\n",
      "       0.002475, 0.017475, 0.017475, 0.007475, 0.007475, 0.006225,\n",
      "       0.006225, 0.007475, 0.013725, 0.009875, 0.002475, 0.011225,\n",
      "       0.003725, 0.014975, 0.0077  , 0.002475, 0.006475, 0.044975,\n",
      "       0.007475, 0.008725, 0.002475, 0.002475, 0.003725, 0.002475,\n",
      "       0.002475, 0.007475, 0.012475, 0.012475, 0.002475, 0.009975,\n",
      "       0.012475, 0.002475, 0.002475, 0.002475, 0.002475, 0.019975,\n",
      "       0.002475, 0.012475, 0.007475, 0.012475, 0.007475, 0.003725,\n",
      "       0.002475, 0.009975, 0.002475, 0.0485  , 0.007475, 0.009975,\n",
      "       0.037475, 0.00975 , 0.007475, 0.002475, 0.007475, 0.002475,\n",
      "       0.017475, 0.002475, 0.002475, 0.049975, 0.012475, 0.004975,\n",
      "       0.007475, 0.002475, 0.009975, 0.007475, 0.009975, 0.002475,\n",
      "       0.004975, 0.007475, 0.012475, 0.007475, 0.007475, 0.007475,\n",
      "       0.011475, 0.002475, 0.003725, 0.002475, 0.008725, 0.024975,\n",
      "       0.004975, 0.006225, 0.011225, 0.03865 , 0.017475, 0.006225,\n",
      "       0.012475, 0.002475, 0.003725, 0.003725, 0.012475, 0.002475,\n",
      "       0.003725, 0.007475, 0.002475, 0.009975, 0.004975, 0.003725,\n",
      "       0.006225, 0.012475, 0.012475, 0.025   , 0.004975, 0.002475,\n",
      "       0.014975, 0.008725, 0.012475, 0.007475, 0.007475, 0.022475,\n",
      "       0.007475, 0.002475, 0.008725, 0.012475, 0.007475, 0.0076  ,\n",
      "       0.009975, 0.009975, 0.007475, 0.022475, 0.012475, 0.032475,\n",
      "       0.006225, 0.007475, 0.007475, 0.007475, 0.002475, 0.004975,\n",
      "       0.002475, 0.004975, 0.004975, 0.011225, 0.006225, 0.049975,\n",
      "       0.024975, 0.004975, 0.007475, 0.012475, 0.037475, 0.024975,\n",
      "       0.034975, 0.010725, 0.007475, 0.007475, 0.007475, 0.004975,\n",
      "       0.009975, 0.012475, 0.012475, 0.009975, 0.007475, 0.007475,\n",
      "       0.007475, 0.012475, 0.032475, 0.0082  , 0.012475, 0.007475,\n",
      "       0.007475, 0.007475, 0.012475, 0.009975, 0.009975, 0.0115  ,\n",
      "       0.012475, 0.002475, 0.003725, 0.007475, 0.0025  , 0.002475,\n",
      "       0.002475, 0.007475, 0.004975, 0.002475, 0.002475, 0.003725,\n",
      "       0.009975, 0.007475, 0.003725, 0.002475, 0.012475, 0.002475,\n",
      "       0.002475, 0.027475, 0.037475, 0.004975, 0.032475, 0.002475,\n",
      "       0.007475, 0.003725, 0.007375, 0.004975, 0.007475, 0.004975,\n",
      "       0.00725 , 0.002475, 0.004925, 0.007475, 0.062475, 0.009975,\n",
      "       0.002475, 0.006225, 0.011225, 0.017475, 0.004975, 0.007475,\n",
      "       0.007475, 0.009975, 0.004975, 0.007475, 0.007475, 0.007475,\n",
      "       0.012475, 0.0064  , 0.002475, 0.014975, 0.007475, 0.002475,\n",
      "       0.024975, 0.002475, 0.006225, 0.004975, 0.002475, 0.012475,\n",
      "       0.003725, 0.012475, 0.012475, 0.012475, 0.012475, 0.012475,\n",
      "       0.002475, 0.002475, 0.009975, 0.003725, 0.007475, 0.004975,\n",
      "       0.004975, 0.007475, 0.002475, 0.019975, 0.007475, 0.007475,\n",
      "       0.004975, 0.0025  , 0.008725, 0.007475, 0.004975, 0.017475,\n",
      "       0.002475, 0.004975, 0.022475, 0.002475, 0.007475, 0.002475,\n",
      "       0.002475, 0.002475, 0.019975, 0.042475, 0.003   ])\n"
     ]
    }
   ],
   "source": [
    "pp.pprint(normalized_price[normalized_price != 0])"
   ]
  },
  {
   "cell_type": "code",
   "execution_count": 129,
   "metadata": {},
   "outputs": [
    {
     "data": {
      "text/plain": [
       "pandas.core.series.Series"
      ]
     },
     "execution_count": 129,
     "metadata": {},
     "output_type": "execute_result"
    }
   ],
   "source": [
    "type(normalized_price)"
   ]
  },
  {
   "cell_type": "markdown",
   "metadata": {},
   "source": [
    "#### Column 9 - Content Rating\n",
    "Application Maturity Rating"
   ]
  },
  {
   "cell_type": "code",
   "execution_count": 38,
   "metadata": {},
   "outputs": [
    {
     "name": "stdout",
     "output_type": "stream",
     "text": [
      "Description for Column: Content Rating\n",
      "count         8886\n",
      "unique           6\n",
      "top       Everyone\n",
      "freq          7089\n",
      "Name: Content Rating, dtype: object\n",
      "Unique Values for Column: Content Rating\n",
      "array(['Everyone', 'Teen', 'Everyone 10+', 'Mature 17+',\n",
      "       'Adults only 18+', 'Unrated'], dtype=object)\n"
     ]
    }
   ],
   "source": [
    "column_name = 'Content Rating'\n",
    "p_stats(column_name)"
   ]
  },
  {
   "cell_type": "code",
   "execution_count": 39,
   "metadata": {},
   "outputs": [
    {
     "data": {
      "text/plain": [
       "Everyone           7089\n",
       "Teen               1022\n",
       "Mature 17+          411\n",
       "Everyone 10+        360\n",
       "Adults only 18+       3\n",
       "Unrated               1\n",
       "Name: Content Rating, dtype: int64"
      ]
     },
     "execution_count": 39,
     "metadata": {},
     "output_type": "execute_result"
    }
   ],
   "source": [
    "apps_df[column_name].value_counts()"
   ]
  },
  {
   "cell_type": "code",
   "execution_count": 40,
   "metadata": {},
   "outputs": [],
   "source": [
    "ratings_map = {\n",
    "    'Everyone':1,\n",
    "    'Everyone 10+':2,\n",
    "    'Teen':3,\n",
    "    'Mature 17+':4,\n",
    "    'Adults only 18+':5,\n",
    "    'Unrated':6\n",
    "}"
   ]
  },
  {
   "cell_type": "code",
   "execution_count": 41,
   "metadata": {},
   "outputs": [],
   "source": [
    "normalizer = lambda x: ratings_map[x]"
   ]
  },
  {
   "cell_type": "code",
   "execution_count": 42,
   "metadata": {},
   "outputs": [],
   "source": [
    "normalized_content_rating = apps_df[column_name].copy().apply(normalizer).astype('int')"
   ]
  },
  {
   "cell_type": "code",
   "execution_count": 43,
   "metadata": {
    "scrolled": true
   },
   "outputs": [
    {
     "data": {
      "text/plain": [
       "1    7089\n",
       "3    1022\n",
       "4     411\n",
       "2     360\n",
       "5       3\n",
       "6       1\n",
       "Name: Content Rating, dtype: int64"
      ]
     },
     "execution_count": 43,
     "metadata": {},
     "output_type": "execute_result"
    }
   ],
   "source": [
    "normalized_content_rating.value_counts()"
   ]
  },
  {
   "cell_type": "code",
   "execution_count": 72,
   "metadata": {},
   "outputs": [
    {
     "data": {
      "text/plain": [
       "pandas.core.series.Series"
      ]
     },
     "execution_count": 72,
     "metadata": {},
     "output_type": "execute_result"
    }
   ],
   "source": [
    "type(normalized_content_rating)"
   ]
  },
  {
   "cell_type": "markdown",
   "metadata": {},
   "source": [
    "#### Column 10 - Genres\n",
    "Application Genre (can have multiple)"
   ]
  },
  {
   "cell_type": "code",
   "execution_count": 44,
   "metadata": {
    "scrolled": true
   },
   "outputs": [
    {
     "data": {
      "text/plain": [
       "0                     Art & Design\n",
       "1        Art & Design;Pretend Play\n",
       "2                     Art & Design\n",
       "3                     Art & Design\n",
       "4          Art & Design;Creativity\n",
       "5                     Art & Design\n",
       "6                     Art & Design\n",
       "7                     Art & Design\n",
       "8                     Art & Design\n",
       "9          Art & Design;Creativity\n",
       "10                    Art & Design\n",
       "11                    Art & Design\n",
       "12                    Art & Design\n",
       "13                    Art & Design\n",
       "14                    Art & Design\n",
       "16                    Art & Design\n",
       "17                    Art & Design\n",
       "18                    Art & Design\n",
       "19                    Art & Design\n",
       "20                    Art & Design\n",
       "21                    Art & Design\n",
       "22                    Art & Design\n",
       "24                    Art & Design\n",
       "25                    Art & Design\n",
       "26         Art & Design;Creativity\n",
       "27                    Art & Design\n",
       "28                    Art & Design\n",
       "29                    Art & Design\n",
       "30                    Art & Design\n",
       "31                    Art & Design\n",
       "                   ...            \n",
       "10795                        Tools\n",
       "10796                        Tools\n",
       "10797                    Lifestyle\n",
       "10799                       Social\n",
       "10800                        Tools\n",
       "10801                    Education\n",
       "10802                Entertainment\n",
       "10803                       Action\n",
       "10804                         Card\n",
       "10805                    Lifestyle\n",
       "10809                     Strategy\n",
       "10810                     Business\n",
       "10812                    Education\n",
       "10814                Entertainment\n",
       "10815            Books & Reference\n",
       "10817                        Tools\n",
       "10819            Books & Reference\n",
       "10820                    Education\n",
       "10826                       Social\n",
       "10827                    Education\n",
       "10828                       Comics\n",
       "10829            Books & Reference\n",
       "10830             News & Magazines\n",
       "10832                      Weather\n",
       "10833            Books & Reference\n",
       "10834                    Education\n",
       "10836                    Education\n",
       "10837                    Education\n",
       "10839            Books & Reference\n",
       "10840                    Lifestyle\n",
       "Name: Genres, Length: 8886, dtype: object"
      ]
     },
     "execution_count": 44,
     "metadata": {},
     "output_type": "execute_result"
    }
   ],
   "source": [
    "apps_df['Genres']"
   ]
  },
  {
   "cell_type": "code",
   "execution_count": 45,
   "metadata": {
    "scrolled": true
   },
   "outputs": [
    {
     "name": "stdout",
     "output_type": "stream",
     "text": [
      "Description for Column: Genres\n",
      "count      8886\n",
      "unique      115\n",
      "top       Tools\n",
      "freq        732\n",
      "Name: Genres, dtype: object\n",
      "Unique Values for Column: Genres\n",
      "array(['Art & Design', 'Art & Design;Pretend Play',\n",
      "       'Art & Design;Creativity', 'Auto & Vehicles', 'Beauty',\n",
      "       'Books & Reference', 'Business', 'Comics', 'Comics;Creativity',\n",
      "       'Communication', 'Dating', 'Education;Education', 'Education',\n",
      "       'Education;Creativity', 'Education;Music & Video',\n",
      "       'Education;Action & Adventure', 'Education;Pretend Play',\n",
      "       'Education;Brain Games', 'Entertainment',\n",
      "       'Entertainment;Music & Video', 'Entertainment;Brain Games',\n",
      "       'Entertainment;Creativity', 'Events', 'Finance', 'Food & Drink',\n",
      "       'Health & Fitness', 'House & Home', 'Libraries & Demo',\n",
      "       'Lifestyle', 'Lifestyle;Pretend Play',\n",
      "       'Adventure;Action & Adventure', 'Arcade', 'Casual', 'Card',\n",
      "       'Casual;Pretend Play', 'Action', 'Strategy', 'Puzzle', 'Sports',\n",
      "       'Music', 'Word', 'Racing', 'Casual;Creativity',\n",
      "       'Casual;Action & Adventure', 'Simulation', 'Adventure', 'Board',\n",
      "       'Trivia', 'Role Playing', 'Simulation;Education',\n",
      "       'Action;Action & Adventure', 'Casual;Brain Games',\n",
      "       'Simulation;Action & Adventure', 'Educational;Creativity',\n",
      "       'Puzzle;Brain Games', 'Educational;Education', 'Card;Brain Games',\n",
      "       'Educational;Brain Games', 'Educational;Pretend Play',\n",
      "       'Entertainment;Education', 'Casual;Education',\n",
      "       'Music;Music & Video', 'Racing;Action & Adventure',\n",
      "       'Arcade;Pretend Play', 'Role Playing;Action & Adventure',\n",
      "       'Simulation;Pretend Play', 'Puzzle;Creativity',\n",
      "       'Sports;Action & Adventure', 'Educational;Action & Adventure',\n",
      "       'Arcade;Action & Adventure', 'Entertainment;Action & Adventure',\n",
      "       'Puzzle;Action & Adventure', 'Strategy;Action & Adventure',\n",
      "       'Music & Audio;Music & Video', 'Health & Fitness;Education',\n",
      "       'Adventure;Education', 'Board;Brain Games',\n",
      "       'Board;Action & Adventure', 'Board;Pretend Play',\n",
      "       'Casual;Music & Video', 'Role Playing;Pretend Play',\n",
      "       'Entertainment;Pretend Play', 'Video Players & Editors;Creativity',\n",
      "       'Card;Action & Adventure', 'Medical', 'Social', 'Shopping',\n",
      "       'Photography', 'Travel & Local',\n",
      "       'Travel & Local;Action & Adventure', 'Tools', 'Tools;Education',\n",
      "       'Personalization', 'Productivity', 'Parenting',\n",
      "       'Parenting;Music & Video', 'Parenting;Brain Games',\n",
      "       'Parenting;Education', 'Weather', 'Video Players & Editors',\n",
      "       'Video Players & Editors;Music & Video', 'News & Magazines',\n",
      "       'Maps & Navigation', 'Health & Fitness;Action & Adventure',\n",
      "       'Educational', 'Casino', 'Adventure;Brain Games',\n",
      "       'Lifestyle;Education', 'Books & Reference;Education',\n",
      "       'Puzzle;Education', 'Role Playing;Brain Games',\n",
      "       'Strategy;Education', 'Racing;Pretend Play',\n",
      "       'Communication;Creativity', 'Strategy;Creativity'], dtype=object)\n"
     ]
    }
   ],
   "source": [
    "p_stats('Genres')"
   ]
  },
  {
   "cell_type": "markdown",
   "metadata": {},
   "source": [
    "This is good candidate for PCA with Category."
   ]
  },
  {
   "cell_type": "code",
   "execution_count": 46,
   "metadata": {
    "scrolled": true
   },
   "outputs": [
    {
     "data": {
      "text/plain": [
       "Tools                                  732\n",
       "Entertainment                          498\n",
       "Education                              446\n",
       "Action                                 349\n",
       "Productivity                           334\n",
       "Finance                                317\n",
       "Personalization                        308\n",
       "Communication                          307\n",
       "Lifestyle                              304\n",
       "Photography                            304\n",
       "Medical                                302\n",
       "Sports                                 299\n",
       "Business                               270\n",
       "Health & Fitness                       262\n",
       "Social                                 244\n",
       "News & Magazines                       214\n",
       "Arcade                                 205\n",
       "Travel & Local                         204\n",
       "Shopping                               202\n",
       "Simulation                             193\n",
       "Casual                                 183\n",
       "Books & Reference                      177\n",
       "Dating                                 159\n",
       "Video Players & Editors                158\n",
       "Maps & Navigation                      124\n",
       "Puzzle                                 116\n",
       "Role Playing                           106\n",
       "Food & Drink                           106\n",
       "Strategy                               101\n",
       "Racing                                  93\n",
       "                                      ... \n",
       "Casual;Education                         3\n",
       "Strategy;Action & Adventure              2\n",
       "Entertainment;Pretend Play               2\n",
       "Video Players & Editors;Creativity       2\n",
       "Puzzle;Creativity                        2\n",
       "Adventure;Education                      2\n",
       "Card;Action & Adventure                  2\n",
       "Books & Reference;Education              2\n",
       "Art & Design;Pretend Play                2\n",
       "Lifestyle;Pretend Play                   1\n",
       "Health & Fitness;Action & Adventure      1\n",
       "Role Playing;Brain Games                 1\n",
       "Casual;Music & Video                     1\n",
       "Adventure;Brain Games                    1\n",
       "Communication;Creativity                 1\n",
       "Racing;Pretend Play                      1\n",
       "Entertainment;Education                  1\n",
       "Health & Fitness;Education               1\n",
       "Music & Audio;Music & Video              1\n",
       "Strategy;Creativity                      1\n",
       "Parenting;Brain Games                    1\n",
       "Tools;Education                          1\n",
       "Travel & Local;Action & Adventure        1\n",
       "Comics;Creativity                        1\n",
       "Board;Pretend Play                       1\n",
       "Strategy;Education                       1\n",
       "Puzzle;Education                         1\n",
       "Card;Brain Games                         1\n",
       "Arcade;Pretend Play                      1\n",
       "Lifestyle;Education                      1\n",
       "Name: Genres, Length: 115, dtype: int64"
      ]
     },
     "execution_count": 46,
     "metadata": {},
     "output_type": "execute_result"
    }
   ],
   "source": [
    "apps_df['Genres'].value_counts()"
   ]
  },
  {
   "cell_type": "markdown",
   "metadata": {},
   "source": [
    "#### Column 11 - Last Updated\n",
    "When the application was last updated"
   ]
  },
  {
   "cell_type": "code",
   "execution_count": 47,
   "metadata": {},
   "outputs": [
    {
     "name": "stdout",
     "output_type": "stream",
     "text": [
      "Description for Column: Last Updated\n",
      "count               8886\n",
      "unique              1299\n",
      "top       August 3, 2018\n",
      "freq                 291\n",
      "Name: Last Updated, dtype: object\n",
      "Unique Values for Column: Last Updated\n",
      "array(['January 7, 2018', 'January 15, 2018', 'August 1, 2018', ...,\n",
      "       'January 20, 2014', 'February 16, 2014', 'March 23, 2014'],\n",
      "      dtype=object)\n"
     ]
    }
   ],
   "source": [
    "column_name = 'Last Updated'\n",
    "p_stats(column_name)"
   ]
  },
  {
   "cell_type": "code",
   "execution_count": 48,
   "metadata": {},
   "outputs": [],
   "source": [
    "test = apps_df[column_name].astype('datetime64[ns]')"
   ]
  },
  {
   "cell_type": "code",
   "execution_count": 49,
   "metadata": {},
   "outputs": [],
   "source": [
    "min_val = test.min()"
   ]
  },
  {
   "cell_type": "code",
   "execution_count": 50,
   "metadata": {
    "scrolled": false
   },
   "outputs": [],
   "source": [
    "max_val = test.max()"
   ]
  },
  {
   "cell_type": "code",
   "execution_count": 173,
   "metadata": {},
   "outputs": [
    {
     "name": "stdout",
     "output_type": "stream",
     "text": [
      "first time 2010-05-21 00:00:00\n",
      "last time 2018-08-08 00:00:00\n"
     ]
    }
   ],
   "source": [
    "print('first time', min_val)\n",
    "print('last time', max_val)"
   ]
  },
  {
   "cell_type": "code",
   "execution_count": 51,
   "metadata": {},
   "outputs": [],
   "source": [
    "year_range = test.max().year - test.min().year"
   ]
  },
  {
   "cell_type": "code",
   "execution_count": 154,
   "metadata": {
    "scrolled": true
   },
   "outputs": [],
   "source": [
    "normalizer = lambda x : (x.year - min_val.year) * 12 + x.month\n",
    "normalized_last_updated = test.apply(normalizer)"
   ]
  },
  {
   "cell_type": "code",
   "execution_count": 155,
   "metadata": {},
   "outputs": [
    {
     "data": {
      "text/plain": [
       "pandas.core.series.Series"
      ]
     },
     "execution_count": 155,
     "metadata": {},
     "output_type": "execute_result"
    }
   ],
   "source": [
    "type(normalized_last_updated)"
   ]
  },
  {
   "cell_type": "markdown",
   "metadata": {},
   "source": [
    "#### Column 12 - Current Version\n",
    "Current Version of app available on play store."
   ]
  },
  {
   "cell_type": "code",
   "execution_count": 65,
   "metadata": {},
   "outputs": [],
   "source": [
    "column_name = 'Current Ver'"
   ]
  },
  {
   "cell_type": "code",
   "execution_count": 66,
   "metadata": {
    "scrolled": true
   },
   "outputs": [
    {
     "name": "stdout",
     "output_type": "stream",
     "text": [
      "Description for Column: Current Ver\n",
      "count                   8886\n",
      "unique                  2638\n",
      "top       Varies with device\n",
      "freq                    1258\n",
      "Name: Current Ver, dtype: object\n",
      "Unique Values for Column: Current Ver\n",
      "array(['1.0.0', '2.0.0', '1.2.4', ..., '1.5.447', '1.0.612928', '0.3.4'],\n",
      "      dtype=object)\n"
     ]
    }
   ],
   "source": [
    "p_stats(column_name)"
   ]
  },
  {
   "cell_type": "markdown",
   "metadata": {},
   "source": [
    "This is an arbitrary value set by application developers. A possible correlation occurs because of a psychological effect of higher version numbers, but this hypothesis will not be  validated this study."
   ]
  },
  {
   "cell_type": "markdown",
   "metadata": {},
   "source": [
    "#### Column 13 - Android Version\n",
    "Minimum Required Version to run the App."
   ]
  },
  {
   "cell_type": "code",
   "execution_count": 54,
   "metadata": {},
   "outputs": [],
   "source": [
    "column_name = 'Android Ver'"
   ]
  },
  {
   "cell_type": "code",
   "execution_count": 55,
   "metadata": {},
   "outputs": [
    {
     "name": "stdout",
     "output_type": "stream",
     "text": [
      "Description for Column: Android Ver\n",
      "count           8886\n",
      "unique            31\n",
      "top       4.1 and up\n",
      "freq            1987\n",
      "Name: Android Ver, dtype: object\n",
      "Unique Values for Column: Android Ver\n",
      "array(['4.0.3 and up', '4.2 and up', '4.4 and up', '2.3 and up',\n",
      "       '3.0 and up', '4.1 and up', '4.0 and up', '2.3.3 and up',\n",
      "       'Varies with device', '2.2 and up', '5.0 and up', '6.0 and up',\n",
      "       '1.6 and up', '1.5 and up', '2.1 and up', '7.0 and up',\n",
      "       '4.3 and up', '4.0.3 - 7.1.1', '2.0 and up', '3.2 and up',\n",
      "       '4.4W and up', '5.1 and up', '7.1 and up', '7.0 - 7.1.1',\n",
      "       '8.0 and up', '5.0 - 8.0', '3.1 and up', '2.0.1 and up',\n",
      "       '4.1 - 7.1.1', '5.0 - 6.0', '1.0 and up'], dtype=object)\n"
     ]
    }
   ],
   "source": [
    "p_stats(column_name)"
   ]
  },
  {
   "cell_type": "code",
   "execution_count": 58,
   "metadata": {},
   "outputs": [],
   "source": [
    "normalizer = lambda x : x.split(' ')[0]\n",
    "lazy_cleanup = lambda x : 4.4 if x == '4.4W' else x"
   ]
  },
  {
   "cell_type": "code",
   "execution_count": 59,
   "metadata": {
    "scrolled": true
   },
   "outputs": [
    {
     "name": "stdout",
     "output_type": "stream",
     "text": [
      "0         4.0.3\n",
      "1         4.0.3\n",
      "2         4.0.3\n",
      "3           4.2\n",
      "4           4.4\n",
      "5           2.3\n",
      "6         4.0.3\n",
      "7           4.2\n",
      "8           3.0\n",
      "9         4.0.3\n",
      "10          4.1\n",
      "11          4.0\n",
      "12          4.1\n",
      "13          4.4\n",
      "14          2.3\n",
      "16          4.1\n",
      "17          2.3\n",
      "18        4.0.3\n",
      "19          4.1\n",
      "20          4.1\n",
      "21        4.0.3\n",
      "22        4.0.3\n",
      "24          4.1\n",
      "25          3.0\n",
      "26        4.0.3\n",
      "27        4.0.3\n",
      "28          2.3\n",
      "29          2.3\n",
      "30        4.0.3\n",
      "31          2.3\n",
      "          ...  \n",
      "10795       4.1\n",
      "10796       4.1\n",
      "10797       5.0\n",
      "10799     4.0.3\n",
      "10800       4.4\n",
      "10801       4.4\n",
      "10802       3.0\n",
      "10803       4.0\n",
      "10804       2.3\n",
      "10805       4.2\n",
      "10809       4.1\n",
      "10810       4.4\n",
      "10812     4.0.3\n",
      "10814       3.0\n",
      "10815       4.2\n",
      "10817       5.0\n",
      "10819       4.1\n",
      "10820       4.1\n",
      "10826    Varies\n",
      "10827     4.0.3\n",
      "10828       4.0\n",
      "10829       4.1\n",
      "10830       1.6\n",
      "10832       2.1\n",
      "10833       2.2\n",
      "10834       4.1\n",
      "10836       4.1\n",
      "10837       4.1\n",
      "10839    Varies\n",
      "10840    Varies\n",
      "Name: Android Ver, Length: 8886, dtype: object\n"
     ]
    }
   ],
   "source": [
    "normalized_android_ver = apps_df[column_name].apply(normalizer).apply(lazy_cleanup)\n",
    "pp.pprint(normalized_android_ver)"
   ]
  },
  {
   "cell_type": "code",
   "execution_count": 63,
   "metadata": {},
   "outputs": [
    {
     "data": {
      "text/plain": [
       "array(['4.0.3', '4.2', '4.4', '2.3', '3.0', '4.1', '4.0', '2.3.3',\n",
       "       'Varies', '2.2', '5.0', '6.0', '1.6', '1.5', '2.1', '7.0', '4.3',\n",
       "       '2.0', '3.2', 4.4, '5.1', '7.1', '8.0', '3.1', '2.0.1', '1.0'],\n",
       "      dtype=object)"
      ]
     },
     "execution_count": 63,
     "metadata": {},
     "output_type": "execute_result"
    }
   ],
   "source": [
    "normalized_android_ver.unique()"
   ]
  },
  {
   "cell_type": "code",
   "execution_count": 140,
   "metadata": {},
   "outputs": [],
   "source": [
    "strip_latter_periods = lambda x : x if len(x) == 3 else x[0:2] + x[2:].replace('.','')"
   ]
  },
  {
   "cell_type": "code",
   "execution_count": 145,
   "metadata": {
    "scrolled": true
   },
   "outputs": [],
   "source": [
    "normalized_android_ver = normalized_android_ver.astype('str').apply(strip_latter_periods)"
   ]
  },
  {
   "cell_type": "code",
   "execution_count": 147,
   "metadata": {},
   "outputs": [
    {
     "data": {
      "text/plain": [
       "pandas.core.series.Series"
      ]
     },
     "execution_count": 147,
     "metadata": {},
     "output_type": "execute_result"
    }
   ],
   "source": [
    "type(normalized_android_ver)"
   ]
  },
  {
   "cell_type": "code",
   "execution_count": 146,
   "metadata": {
    "scrolled": true
   },
   "outputs": [
    {
     "data": {
      "text/plain": [
       "0          4.03\n",
       "1          4.03\n",
       "2          4.03\n",
       "3           4.2\n",
       "4           4.4\n",
       "5           2.3\n",
       "6          4.03\n",
       "7           4.2\n",
       "8           3.0\n",
       "9          4.03\n",
       "10          4.1\n",
       "11          4.0\n",
       "12          4.1\n",
       "13          4.4\n",
       "14          2.3\n",
       "16          4.1\n",
       "17          2.3\n",
       "18         4.03\n",
       "19          4.1\n",
       "20          4.1\n",
       "21         4.03\n",
       "22         4.03\n",
       "24          4.1\n",
       "25          3.0\n",
       "26         4.03\n",
       "27         4.03\n",
       "28          2.3\n",
       "29          2.3\n",
       "30         4.03\n",
       "31          2.3\n",
       "          ...  \n",
       "10795       4.1\n",
       "10796       4.1\n",
       "10797       5.0\n",
       "10799      4.03\n",
       "10800       4.4\n",
       "10801       4.4\n",
       "10802       3.0\n",
       "10803       4.0\n",
       "10804       2.3\n",
       "10805       4.2\n",
       "10809       4.1\n",
       "10810       4.4\n",
       "10812      4.03\n",
       "10814       3.0\n",
       "10815       4.2\n",
       "10817       5.0\n",
       "10819       4.1\n",
       "10820       4.1\n",
       "10826    Varies\n",
       "10827      4.03\n",
       "10828       4.0\n",
       "10829       4.1\n",
       "10830       1.6\n",
       "10832       2.1\n",
       "10833       2.2\n",
       "10834       4.1\n",
       "10836       4.1\n",
       "10837       4.1\n",
       "10839    Varies\n",
       "10840    Varies\n",
       "Name: Android Ver, Length: 8886, dtype: object"
      ]
     },
     "execution_count": 146,
     "metadata": {},
     "output_type": "execute_result"
    }
   ],
   "source": [
    "normalized_android_ver"
   ]
  },
  {
   "cell_type": "markdown",
   "metadata": {},
   "source": [
    "Here I have taken the android versions of my applications and chopped the first number."
   ]
  },
  {
   "cell_type": "markdown",
   "metadata": {},
   "source": [
    "#### creation of normalized dataset"
   ]
  },
  {
   "cell_type": "code",
   "execution_count": 165,
   "metadata": {},
   "outputs": [
    {
     "data": {
      "text/plain": [
       "Index(['App', 'Category', 'Rating', 'Reviews', 'Size', 'Installs', 'Type',\n",
       "       'Price', 'Content Rating', 'Genres', 'Last Updated', 'Current Ver',\n",
       "       'Android Ver'],\n",
       "      dtype='object')"
      ]
     },
     "execution_count": 165,
     "metadata": {},
     "output_type": "execute_result"
    }
   ],
   "source": [
    "apps_df.columns"
   ]
  },
  {
   "cell_type": "markdown",
   "metadata": {},
   "source": [
    "got rid of genres, current version"
   ]
  },
  {
   "cell_type": "code",
   "execution_count": 226,
   "metadata": {},
   "outputs": [],
   "source": [
    "norm_apps_df = pd.concat([apps_df['App'],apps_df['Rating'],apps_df['Category'], apps_df['Reviews'], normalized_android_ver, normalized_content_rating, normalized_installs, normalized_last_updated.astype('int'), normalized_price, normalized_type, normalized_size], axis = 1)"
   ]
  },
  {
   "cell_type": "code",
   "execution_count": 227,
   "metadata": {},
   "outputs": [
    {
     "data": {
      "text/html": [
       "<div>\n",
       "<style scoped>\n",
       "    .dataframe tbody tr th:only-of-type {\n",
       "        vertical-align: middle;\n",
       "    }\n",
       "\n",
       "    .dataframe tbody tr th {\n",
       "        vertical-align: top;\n",
       "    }\n",
       "\n",
       "    .dataframe thead th {\n",
       "        text-align: right;\n",
       "    }\n",
       "</style>\n",
       "<table border=\"1\" class=\"dataframe\">\n",
       "  <thead>\n",
       "    <tr style=\"text-align: right;\">\n",
       "      <th></th>\n",
       "      <th>App</th>\n",
       "      <th>Rating</th>\n",
       "      <th>Category</th>\n",
       "      <th>Reviews</th>\n",
       "      <th>Android Ver</th>\n",
       "      <th>Content Rating</th>\n",
       "      <th>Installs</th>\n",
       "      <th>Last Updated</th>\n",
       "      <th>Price</th>\n",
       "      <th>Type</th>\n",
       "      <th>Size</th>\n",
       "    </tr>\n",
       "  </thead>\n",
       "  <tbody>\n",
       "    <tr>\n",
       "      <th>0</th>\n",
       "      <td>Photo Editor &amp; Candy Camera &amp; Grid &amp; ScrapBook</td>\n",
       "      <td>4</td>\n",
       "      <td>ART_AND_DESIGN</td>\n",
       "      <td>159</td>\n",
       "      <td>4.03</td>\n",
       "      <td>1</td>\n",
       "      <td>10000</td>\n",
       "      <td>97</td>\n",
       "      <td>0</td>\n",
       "      <td>0</td>\n",
       "      <td>19,000</td>\n",
       "    </tr>\n",
       "    <tr>\n",
       "      <th>1</th>\n",
       "      <td>Coloring book moana</td>\n",
       "      <td>4</td>\n",
       "      <td>ART_AND_DESIGN</td>\n",
       "      <td>967</td>\n",
       "      <td>4.03</td>\n",
       "      <td>1</td>\n",
       "      <td>500000</td>\n",
       "      <td>97</td>\n",
       "      <td>0</td>\n",
       "      <td>0</td>\n",
       "      <td>14,000</td>\n",
       "    </tr>\n",
       "    <tr>\n",
       "      <th>2</th>\n",
       "      <td>U Launcher Lite – FREE Live Cool Themes, Hide ...</td>\n",
       "      <td>5</td>\n",
       "      <td>ART_AND_DESIGN</td>\n",
       "      <td>87510</td>\n",
       "      <td>4.03</td>\n",
       "      <td>1</td>\n",
       "      <td>5000000</td>\n",
       "      <td>104</td>\n",
       "      <td>0</td>\n",
       "      <td>0</td>\n",
       "      <td>8,700</td>\n",
       "    </tr>\n",
       "    <tr>\n",
       "      <th>3</th>\n",
       "      <td>Sketch - Draw &amp; Paint</td>\n",
       "      <td>4</td>\n",
       "      <td>ART_AND_DESIGN</td>\n",
       "      <td>215644</td>\n",
       "      <td>4.2</td>\n",
       "      <td>3</td>\n",
       "      <td>50000000</td>\n",
       "      <td>102</td>\n",
       "      <td>0</td>\n",
       "      <td>0</td>\n",
       "      <td>25,000</td>\n",
       "    </tr>\n",
       "    <tr>\n",
       "      <th>4</th>\n",
       "      <td>Pixel Draw - Number Art Coloring Book</td>\n",
       "      <td>4</td>\n",
       "      <td>ART_AND_DESIGN</td>\n",
       "      <td>967</td>\n",
       "      <td>4.4</td>\n",
       "      <td>1</td>\n",
       "      <td>100000</td>\n",
       "      <td>102</td>\n",
       "      <td>0</td>\n",
       "      <td>0</td>\n",
       "      <td>2,800</td>\n",
       "    </tr>\n",
       "    <tr>\n",
       "      <th>5</th>\n",
       "      <td>Paper flowers instructions</td>\n",
       "      <td>4</td>\n",
       "      <td>ART_AND_DESIGN</td>\n",
       "      <td>167</td>\n",
       "      <td>2.3</td>\n",
       "      <td>1</td>\n",
       "      <td>50000</td>\n",
       "      <td>87</td>\n",
       "      <td>0</td>\n",
       "      <td>0</td>\n",
       "      <td>5,600</td>\n",
       "    </tr>\n",
       "    <tr>\n",
       "      <th>6</th>\n",
       "      <td>Smoke Effect Photo Maker - Smoke Editor</td>\n",
       "      <td>4</td>\n",
       "      <td>ART_AND_DESIGN</td>\n",
       "      <td>178</td>\n",
       "      <td>4.03</td>\n",
       "      <td>1</td>\n",
       "      <td>50000</td>\n",
       "      <td>100</td>\n",
       "      <td>0</td>\n",
       "      <td>0</td>\n",
       "      <td>19,000</td>\n",
       "    </tr>\n",
       "    <tr>\n",
       "      <th>7</th>\n",
       "      <td>Infinite Painter</td>\n",
       "      <td>4</td>\n",
       "      <td>ART_AND_DESIGN</td>\n",
       "      <td>36815</td>\n",
       "      <td>4.2</td>\n",
       "      <td>1</td>\n",
       "      <td>1000000</td>\n",
       "      <td>102</td>\n",
       "      <td>0</td>\n",
       "      <td>0</td>\n",
       "      <td>29,000</td>\n",
       "    </tr>\n",
       "    <tr>\n",
       "      <th>8</th>\n",
       "      <td>Garden Coloring Book</td>\n",
       "      <td>4</td>\n",
       "      <td>ART_AND_DESIGN</td>\n",
       "      <td>13791</td>\n",
       "      <td>3.0</td>\n",
       "      <td>1</td>\n",
       "      <td>1000000</td>\n",
       "      <td>93</td>\n",
       "      <td>0</td>\n",
       "      <td>0</td>\n",
       "      <td>33,000</td>\n",
       "    </tr>\n",
       "    <tr>\n",
       "      <th>9</th>\n",
       "      <td>Kids Paint Free - Drawing Fun</td>\n",
       "      <td>5</td>\n",
       "      <td>ART_AND_DESIGN</td>\n",
       "      <td>121</td>\n",
       "      <td>4.03</td>\n",
       "      <td>1</td>\n",
       "      <td>10000</td>\n",
       "      <td>103</td>\n",
       "      <td>0</td>\n",
       "      <td>0</td>\n",
       "      <td>3,100</td>\n",
       "    </tr>\n",
       "    <tr>\n",
       "      <th>10</th>\n",
       "      <td>Text on Photo - Fonteee</td>\n",
       "      <td>4</td>\n",
       "      <td>ART_AND_DESIGN</td>\n",
       "      <td>13880</td>\n",
       "      <td>4.1</td>\n",
       "      <td>1</td>\n",
       "      <td>1000000</td>\n",
       "      <td>94</td>\n",
       "      <td>0</td>\n",
       "      <td>0</td>\n",
       "      <td>28,000</td>\n",
       "    </tr>\n",
       "    <tr>\n",
       "      <th>11</th>\n",
       "      <td>Name Art Photo Editor - Focus n Filters</td>\n",
       "      <td>4</td>\n",
       "      <td>ART_AND_DESIGN</td>\n",
       "      <td>8788</td>\n",
       "      <td>4.0</td>\n",
       "      <td>1</td>\n",
       "      <td>1000000</td>\n",
       "      <td>103</td>\n",
       "      <td>0</td>\n",
       "      <td>0</td>\n",
       "      <td>12,000</td>\n",
       "    </tr>\n",
       "    <tr>\n",
       "      <th>12</th>\n",
       "      <td>Tattoo Name On My Photo Editor</td>\n",
       "      <td>4</td>\n",
       "      <td>ART_AND_DESIGN</td>\n",
       "      <td>44829</td>\n",
       "      <td>4.1</td>\n",
       "      <td>3</td>\n",
       "      <td>10000000</td>\n",
       "      <td>100</td>\n",
       "      <td>0</td>\n",
       "      <td>0</td>\n",
       "      <td>20,000</td>\n",
       "    </tr>\n",
       "    <tr>\n",
       "      <th>13</th>\n",
       "      <td>Mandala Coloring Book</td>\n",
       "      <td>5</td>\n",
       "      <td>ART_AND_DESIGN</td>\n",
       "      <td>4326</td>\n",
       "      <td>4.4</td>\n",
       "      <td>1</td>\n",
       "      <td>100000</td>\n",
       "      <td>102</td>\n",
       "      <td>0</td>\n",
       "      <td>0</td>\n",
       "      <td>21,000</td>\n",
       "    </tr>\n",
       "    <tr>\n",
       "      <th>14</th>\n",
       "      <td>3D Color Pixel by Number - Sandbox Art Coloring</td>\n",
       "      <td>4</td>\n",
       "      <td>ART_AND_DESIGN</td>\n",
       "      <td>1518</td>\n",
       "      <td>2.3</td>\n",
       "      <td>1</td>\n",
       "      <td>100000</td>\n",
       "      <td>104</td>\n",
       "      <td>0</td>\n",
       "      <td>0</td>\n",
       "      <td>37,000</td>\n",
       "    </tr>\n",
       "    <tr>\n",
       "      <th>16</th>\n",
       "      <td>Photo Designer - Write your name with shapes</td>\n",
       "      <td>5</td>\n",
       "      <td>ART_AND_DESIGN</td>\n",
       "      <td>3632</td>\n",
       "      <td>4.1</td>\n",
       "      <td>1</td>\n",
       "      <td>500000</td>\n",
       "      <td>103</td>\n",
       "      <td>0</td>\n",
       "      <td>0</td>\n",
       "      <td>5,500</td>\n",
       "    </tr>\n",
       "    <tr>\n",
       "      <th>17</th>\n",
       "      <td>350 Diy Room Decor Ideas</td>\n",
       "      <td>4</td>\n",
       "      <td>ART_AND_DESIGN</td>\n",
       "      <td>27</td>\n",
       "      <td>2.3</td>\n",
       "      <td>1</td>\n",
       "      <td>10000</td>\n",
       "      <td>95</td>\n",
       "      <td>0</td>\n",
       "      <td>0</td>\n",
       "      <td>17,000</td>\n",
       "    </tr>\n",
       "    <tr>\n",
       "      <th>18</th>\n",
       "      <td>FlipaClip - Cartoon animation</td>\n",
       "      <td>4</td>\n",
       "      <td>ART_AND_DESIGN</td>\n",
       "      <td>194216</td>\n",
       "      <td>4.03</td>\n",
       "      <td>1</td>\n",
       "      <td>5000000</td>\n",
       "      <td>104</td>\n",
       "      <td>0</td>\n",
       "      <td>0</td>\n",
       "      <td>39,000</td>\n",
       "    </tr>\n",
       "    <tr>\n",
       "      <th>19</th>\n",
       "      <td>ibis Paint X</td>\n",
       "      <td>5</td>\n",
       "      <td>ART_AND_DESIGN</td>\n",
       "      <td>224399</td>\n",
       "      <td>4.1</td>\n",
       "      <td>1</td>\n",
       "      <td>10000000</td>\n",
       "      <td>103</td>\n",
       "      <td>0</td>\n",
       "      <td>0</td>\n",
       "      <td>31,000</td>\n",
       "    </tr>\n",
       "    <tr>\n",
       "      <th>20</th>\n",
       "      <td>Logo Maker - Small Business</td>\n",
       "      <td>4</td>\n",
       "      <td>ART_AND_DESIGN</td>\n",
       "      <td>450</td>\n",
       "      <td>4.1</td>\n",
       "      <td>1</td>\n",
       "      <td>100000</td>\n",
       "      <td>100</td>\n",
       "      <td>0</td>\n",
       "      <td>0</td>\n",
       "      <td>14,000</td>\n",
       "    </tr>\n",
       "    <tr>\n",
       "      <th>21</th>\n",
       "      <td>Boys Photo Editor - Six Pack &amp; Men's Suit</td>\n",
       "      <td>4</td>\n",
       "      <td>ART_AND_DESIGN</td>\n",
       "      <td>654</td>\n",
       "      <td>4.03</td>\n",
       "      <td>1</td>\n",
       "      <td>100000</td>\n",
       "      <td>99</td>\n",
       "      <td>0</td>\n",
       "      <td>0</td>\n",
       "      <td>12,000</td>\n",
       "    </tr>\n",
       "    <tr>\n",
       "      <th>22</th>\n",
       "      <td>Superheroes Wallpapers | 4K Backgrounds</td>\n",
       "      <td>5</td>\n",
       "      <td>ART_AND_DESIGN</td>\n",
       "      <td>7699</td>\n",
       "      <td>4.03</td>\n",
       "      <td>2</td>\n",
       "      <td>500000</td>\n",
       "      <td>103</td>\n",
       "      <td>0</td>\n",
       "      <td>0</td>\n",
       "      <td>4,200</td>\n",
       "    </tr>\n",
       "    <tr>\n",
       "      <th>24</th>\n",
       "      <td>HD Mickey Minnie Wallpapers</td>\n",
       "      <td>5</td>\n",
       "      <td>ART_AND_DESIGN</td>\n",
       "      <td>118</td>\n",
       "      <td>4.1</td>\n",
       "      <td>1</td>\n",
       "      <td>50000</td>\n",
       "      <td>103</td>\n",
       "      <td>0</td>\n",
       "      <td>0</td>\n",
       "      <td>23,000</td>\n",
       "    </tr>\n",
       "    <tr>\n",
       "      <th>25</th>\n",
       "      <td>Harley Quinn wallpapers HD</td>\n",
       "      <td>5</td>\n",
       "      <td>ART_AND_DESIGN</td>\n",
       "      <td>192</td>\n",
       "      <td>3.0</td>\n",
       "      <td>1</td>\n",
       "      <td>10000</td>\n",
       "      <td>100</td>\n",
       "      <td>0</td>\n",
       "      <td>0</td>\n",
       "      <td>6,000</td>\n",
       "    </tr>\n",
       "    <tr>\n",
       "      <th>26</th>\n",
       "      <td>Colorfit - Drawing &amp; Coloring</td>\n",
       "      <td>5</td>\n",
       "      <td>ART_AND_DESIGN</td>\n",
       "      <td>20260</td>\n",
       "      <td>4.03</td>\n",
       "      <td>1</td>\n",
       "      <td>500000</td>\n",
       "      <td>94</td>\n",
       "      <td>0</td>\n",
       "      <td>0</td>\n",
       "      <td>25,000</td>\n",
       "    </tr>\n",
       "    <tr>\n",
       "      <th>27</th>\n",
       "      <td>Animated Photo Editor</td>\n",
       "      <td>4</td>\n",
       "      <td>ART_AND_DESIGN</td>\n",
       "      <td>203</td>\n",
       "      <td>4.03</td>\n",
       "      <td>1</td>\n",
       "      <td>100000</td>\n",
       "      <td>99</td>\n",
       "      <td>0</td>\n",
       "      <td>0</td>\n",
       "      <td>6,100</td>\n",
       "    </tr>\n",
       "    <tr>\n",
       "      <th>28</th>\n",
       "      <td>Pencil Sketch Drawing</td>\n",
       "      <td>4</td>\n",
       "      <td>ART_AND_DESIGN</td>\n",
       "      <td>136</td>\n",
       "      <td>2.3</td>\n",
       "      <td>1</td>\n",
       "      <td>10000</td>\n",
       "      <td>103</td>\n",
       "      <td>0</td>\n",
       "      <td>0</td>\n",
       "      <td>4,600</td>\n",
       "    </tr>\n",
       "    <tr>\n",
       "      <th>29</th>\n",
       "      <td>Easy Realistic Drawing Tutorial</td>\n",
       "      <td>4</td>\n",
       "      <td>ART_AND_DESIGN</td>\n",
       "      <td>223</td>\n",
       "      <td>2.3</td>\n",
       "      <td>1</td>\n",
       "      <td>100000</td>\n",
       "      <td>92</td>\n",
       "      <td>0</td>\n",
       "      <td>0</td>\n",
       "      <td>4,200</td>\n",
       "    </tr>\n",
       "    <tr>\n",
       "      <th>30</th>\n",
       "      <td>Pink Silver Bow Keyboard Theme</td>\n",
       "      <td>4</td>\n",
       "      <td>ART_AND_DESIGN</td>\n",
       "      <td>1120</td>\n",
       "      <td>4.03</td>\n",
       "      <td>1</td>\n",
       "      <td>100000</td>\n",
       "      <td>103</td>\n",
       "      <td>0</td>\n",
       "      <td>0</td>\n",
       "      <td>9,200</td>\n",
       "    </tr>\n",
       "    <tr>\n",
       "      <th>31</th>\n",
       "      <td>Art Drawing Ideas</td>\n",
       "      <td>4</td>\n",
       "      <td>ART_AND_DESIGN</td>\n",
       "      <td>227</td>\n",
       "      <td>2.3</td>\n",
       "      <td>1</td>\n",
       "      <td>50000</td>\n",
       "      <td>101</td>\n",
       "      <td>0</td>\n",
       "      <td>0</td>\n",
       "      <td>5,200</td>\n",
       "    </tr>\n",
       "    <tr>\n",
       "      <th>...</th>\n",
       "      <td>...</td>\n",
       "      <td>...</td>\n",
       "      <td>...</td>\n",
       "      <td>...</td>\n",
       "      <td>...</td>\n",
       "      <td>...</td>\n",
       "      <td>...</td>\n",
       "      <td>...</td>\n",
       "      <td>...</td>\n",
       "      <td>...</td>\n",
       "      <td>...</td>\n",
       "    </tr>\n",
       "    <tr>\n",
       "      <th>10795</th>\n",
       "      <td>Reindeer VPN - Proxy VPN</td>\n",
       "      <td>4</td>\n",
       "      <td>TOOLS</td>\n",
       "      <td>7339</td>\n",
       "      <td>4.1</td>\n",
       "      <td>1</td>\n",
       "      <td>100000</td>\n",
       "      <td>101</td>\n",
       "      <td>0</td>\n",
       "      <td>0</td>\n",
       "      <td>4,000</td>\n",
       "    </tr>\n",
       "    <tr>\n",
       "      <th>10796</th>\n",
       "      <td>Inf VPN - Global Proxy &amp; Unlimited Free WIFI VPN</td>\n",
       "      <td>5</td>\n",
       "      <td>TOOLS</td>\n",
       "      <td>61445</td>\n",
       "      <td>4.1</td>\n",
       "      <td>1</td>\n",
       "      <td>1000000</td>\n",
       "      <td>103</td>\n",
       "      <td>0</td>\n",
       "      <td>0</td>\n",
       "      <td>7,800</td>\n",
       "    </tr>\n",
       "    <tr>\n",
       "      <th>10797</th>\n",
       "      <td>Fuel Rewards® program</td>\n",
       "      <td>5</td>\n",
       "      <td>LIFESTYLE</td>\n",
       "      <td>32433</td>\n",
       "      <td>5.0</td>\n",
       "      <td>1</td>\n",
       "      <td>1000000</td>\n",
       "      <td>102</td>\n",
       "      <td>0</td>\n",
       "      <td>0</td>\n",
       "      <td>46,000</td>\n",
       "    </tr>\n",
       "    <tr>\n",
       "      <th>10799</th>\n",
       "      <td>Fr Daoud Lamei</td>\n",
       "      <td>5</td>\n",
       "      <td>SOCIAL</td>\n",
       "      <td>2036</td>\n",
       "      <td>4.03</td>\n",
       "      <td>1</td>\n",
       "      <td>100000</td>\n",
       "      <td>101</td>\n",
       "      <td>0</td>\n",
       "      <td>0</td>\n",
       "      <td>6,800</td>\n",
       "    </tr>\n",
       "    <tr>\n",
       "      <th>10800</th>\n",
       "      <td>FR Roster</td>\n",
       "      <td>4</td>\n",
       "      <td>TOOLS</td>\n",
       "      <td>174</td>\n",
       "      <td>4.4</td>\n",
       "      <td>1</td>\n",
       "      <td>5000</td>\n",
       "      <td>103</td>\n",
       "      <td>0</td>\n",
       "      <td>0</td>\n",
       "      <td>12,000</td>\n",
       "    </tr>\n",
       "    <tr>\n",
       "      <th>10801</th>\n",
       "      <td>Fr Ignacio Outreach</td>\n",
       "      <td>5</td>\n",
       "      <td>FAMILY</td>\n",
       "      <td>52</td>\n",
       "      <td>4.4</td>\n",
       "      <td>1</td>\n",
       "      <td>1000</td>\n",
       "      <td>97</td>\n",
       "      <td>0</td>\n",
       "      <td>0</td>\n",
       "      <td>19,000</td>\n",
       "    </tr>\n",
       "    <tr>\n",
       "      <th>10802</th>\n",
       "      <td>FR: My Famous Lover</td>\n",
       "      <td>4</td>\n",
       "      <td>FAMILY</td>\n",
       "      <td>185</td>\n",
       "      <td>3.0</td>\n",
       "      <td>3</td>\n",
       "      <td>10000</td>\n",
       "      <td>68</td>\n",
       "      <td>0</td>\n",
       "      <td>0</td>\n",
       "      <td>28,000</td>\n",
       "    </tr>\n",
       "    <tr>\n",
       "      <th>10803</th>\n",
       "      <td>Fatal Raid - No.1 Mobile FPS</td>\n",
       "      <td>4</td>\n",
       "      <td>GAME</td>\n",
       "      <td>56496</td>\n",
       "      <td>4.0</td>\n",
       "      <td>3</td>\n",
       "      <td>1000000</td>\n",
       "      <td>104</td>\n",
       "      <td>0</td>\n",
       "      <td>0</td>\n",
       "      <td>81,000</td>\n",
       "    </tr>\n",
       "    <tr>\n",
       "      <th>10804</th>\n",
       "      <td>Poker Pro.Fr</td>\n",
       "      <td>4</td>\n",
       "      <td>GAME</td>\n",
       "      <td>5442</td>\n",
       "      <td>2.3</td>\n",
       "      <td>3</td>\n",
       "      <td>100000</td>\n",
       "      <td>101</td>\n",
       "      <td>0</td>\n",
       "      <td>0</td>\n",
       "      <td>17,000</td>\n",
       "    </tr>\n",
       "    <tr>\n",
       "      <th>10805</th>\n",
       "      <td>Scoreboard FR</td>\n",
       "      <td>4</td>\n",
       "      <td>LIFESTYLE</td>\n",
       "      <td>3</td>\n",
       "      <td>4.2</td>\n",
       "      <td>1</td>\n",
       "      <td>100</td>\n",
       "      <td>104</td>\n",
       "      <td>0</td>\n",
       "      <td>0</td>\n",
       "      <td>15,000</td>\n",
       "    </tr>\n",
       "    <tr>\n",
       "      <th>10809</th>\n",
       "      <td>Castle Clash: RPG War and Strategy FR</td>\n",
       "      <td>5</td>\n",
       "      <td>FAMILY</td>\n",
       "      <td>376223</td>\n",
       "      <td>4.1</td>\n",
       "      <td>1</td>\n",
       "      <td>1000000</td>\n",
       "      <td>103</td>\n",
       "      <td>0</td>\n",
       "      <td>0</td>\n",
       "      <td>24,000</td>\n",
       "    </tr>\n",
       "    <tr>\n",
       "      <th>10810</th>\n",
       "      <td>Fr Lupupa Sermons</td>\n",
       "      <td>5</td>\n",
       "      <td>BUSINESS</td>\n",
       "      <td>19</td>\n",
       "      <td>4.4</td>\n",
       "      <td>1</td>\n",
       "      <td>100</td>\n",
       "      <td>102</td>\n",
       "      <td>0</td>\n",
       "      <td>0</td>\n",
       "      <td>21,000</td>\n",
       "    </tr>\n",
       "    <tr>\n",
       "      <th>10812</th>\n",
       "      <td>Fr Agnel Pune</td>\n",
       "      <td>4</td>\n",
       "      <td>FAMILY</td>\n",
       "      <td>80</td>\n",
       "      <td>4.03</td>\n",
       "      <td>1</td>\n",
       "      <td>1000</td>\n",
       "      <td>102</td>\n",
       "      <td>0</td>\n",
       "      <td>0</td>\n",
       "      <td>13,000</td>\n",
       "    </tr>\n",
       "    <tr>\n",
       "      <th>10814</th>\n",
       "      <td>FR: My Secret Pets!</td>\n",
       "      <td>4</td>\n",
       "      <td>FAMILY</td>\n",
       "      <td>785</td>\n",
       "      <td>3.0</td>\n",
       "      <td>3</td>\n",
       "      <td>50000</td>\n",
       "      <td>66</td>\n",
       "      <td>0</td>\n",
       "      <td>0</td>\n",
       "      <td>31,000</td>\n",
       "    </tr>\n",
       "    <tr>\n",
       "      <th>10815</th>\n",
       "      <td>Golden Dictionary (FR-AR)</td>\n",
       "      <td>4</td>\n",
       "      <td>BOOKS_AND_REFERENCE</td>\n",
       "      <td>5775</td>\n",
       "      <td>4.2</td>\n",
       "      <td>1</td>\n",
       "      <td>500000</td>\n",
       "      <td>103</td>\n",
       "      <td>0</td>\n",
       "      <td>0</td>\n",
       "      <td>4,900</td>\n",
       "    </tr>\n",
       "    <tr>\n",
       "      <th>10817</th>\n",
       "      <td>HTC Sense Input - FR</td>\n",
       "      <td>4</td>\n",
       "      <td>TOOLS</td>\n",
       "      <td>885</td>\n",
       "      <td>5.0</td>\n",
       "      <td>1</td>\n",
       "      <td>100000</td>\n",
       "      <td>70</td>\n",
       "      <td>0</td>\n",
       "      <td>0</td>\n",
       "      <td>8,000</td>\n",
       "    </tr>\n",
       "    <tr>\n",
       "      <th>10819</th>\n",
       "      <td>Fanfic-FR</td>\n",
       "      <td>3</td>\n",
       "      <td>BOOKS_AND_REFERENCE</td>\n",
       "      <td>52</td>\n",
       "      <td>4.1</td>\n",
       "      <td>3</td>\n",
       "      <td>5000</td>\n",
       "      <td>92</td>\n",
       "      <td>0</td>\n",
       "      <td>0</td>\n",
       "      <td>3,600</td>\n",
       "    </tr>\n",
       "    <tr>\n",
       "      <th>10820</th>\n",
       "      <td>Fr. Daoud Lamei</td>\n",
       "      <td>5</td>\n",
       "      <td>FAMILY</td>\n",
       "      <td>22</td>\n",
       "      <td>4.1</td>\n",
       "      <td>3</td>\n",
       "      <td>1000</td>\n",
       "      <td>102</td>\n",
       "      <td>0</td>\n",
       "      <td>0</td>\n",
       "      <td>8,600</td>\n",
       "    </tr>\n",
       "    <tr>\n",
       "      <th>10826</th>\n",
       "      <td>Frim: get new friends on local chat rooms</td>\n",
       "      <td>4</td>\n",
       "      <td>SOCIAL</td>\n",
       "      <td>88486</td>\n",
       "      <td>Varies</td>\n",
       "      <td>4</td>\n",
       "      <td>5000000</td>\n",
       "      <td>99</td>\n",
       "      <td>0</td>\n",
       "      <td>0</td>\n",
       "      <td>0</td>\n",
       "    </tr>\n",
       "    <tr>\n",
       "      <th>10827</th>\n",
       "      <td>Fr Agnel Ambarnath</td>\n",
       "      <td>4</td>\n",
       "      <td>FAMILY</td>\n",
       "      <td>117</td>\n",
       "      <td>4.03</td>\n",
       "      <td>1</td>\n",
       "      <td>5000</td>\n",
       "      <td>102</td>\n",
       "      <td>0</td>\n",
       "      <td>0</td>\n",
       "      <td>13,000</td>\n",
       "    </tr>\n",
       "    <tr>\n",
       "      <th>10828</th>\n",
       "      <td>Manga-FR - Anime Vostfr</td>\n",
       "      <td>3</td>\n",
       "      <td>COMICS</td>\n",
       "      <td>291</td>\n",
       "      <td>4.0</td>\n",
       "      <td>1</td>\n",
       "      <td>10000</td>\n",
       "      <td>89</td>\n",
       "      <td>0</td>\n",
       "      <td>0</td>\n",
       "      <td>13,000</td>\n",
       "    </tr>\n",
       "    <tr>\n",
       "      <th>10829</th>\n",
       "      <td>Bulgarian French Dictionary Fr</td>\n",
       "      <td>5</td>\n",
       "      <td>BOOKS_AND_REFERENCE</td>\n",
       "      <td>603</td>\n",
       "      <td>4.1</td>\n",
       "      <td>1</td>\n",
       "      <td>10000</td>\n",
       "      <td>78</td>\n",
       "      <td>0</td>\n",
       "      <td>0</td>\n",
       "      <td>7,400</td>\n",
       "    </tr>\n",
       "    <tr>\n",
       "      <th>10830</th>\n",
       "      <td>News Minecraft.fr</td>\n",
       "      <td>4</td>\n",
       "      <td>NEWS_AND_MAGAZINES</td>\n",
       "      <td>881</td>\n",
       "      <td>1.6</td>\n",
       "      <td>1</td>\n",
       "      <td>100000</td>\n",
       "      <td>49</td>\n",
       "      <td>0</td>\n",
       "      <td>0</td>\n",
       "      <td>2,300</td>\n",
       "    </tr>\n",
       "    <tr>\n",
       "      <th>10832</th>\n",
       "      <td>FR Tides</td>\n",
       "      <td>4</td>\n",
       "      <td>WEATHER</td>\n",
       "      <td>1195</td>\n",
       "      <td>2.1</td>\n",
       "      <td>1</td>\n",
       "      <td>100000</td>\n",
       "      <td>50</td>\n",
       "      <td>0</td>\n",
       "      <td>0</td>\n",
       "      <td>582</td>\n",
       "    </tr>\n",
       "    <tr>\n",
       "      <th>10833</th>\n",
       "      <td>Chemin (fr)</td>\n",
       "      <td>5</td>\n",
       "      <td>BOOKS_AND_REFERENCE</td>\n",
       "      <td>44</td>\n",
       "      <td>2.2</td>\n",
       "      <td>1</td>\n",
       "      <td>1000</td>\n",
       "      <td>51</td>\n",
       "      <td>0</td>\n",
       "      <td>0</td>\n",
       "      <td>619</td>\n",
       "    </tr>\n",
       "    <tr>\n",
       "      <th>10834</th>\n",
       "      <td>FR Calculator</td>\n",
       "      <td>4</td>\n",
       "      <td>FAMILY</td>\n",
       "      <td>7</td>\n",
       "      <td>4.1</td>\n",
       "      <td>1</td>\n",
       "      <td>500</td>\n",
       "      <td>90</td>\n",
       "      <td>0</td>\n",
       "      <td>0</td>\n",
       "      <td>2,600</td>\n",
       "    </tr>\n",
       "    <tr>\n",
       "      <th>10836</th>\n",
       "      <td>Sya9a Maroc - FR</td>\n",
       "      <td>4</td>\n",
       "      <td>FAMILY</td>\n",
       "      <td>38</td>\n",
       "      <td>4.1</td>\n",
       "      <td>1</td>\n",
       "      <td>5000</td>\n",
       "      <td>91</td>\n",
       "      <td>0</td>\n",
       "      <td>0</td>\n",
       "      <td>53,000</td>\n",
       "    </tr>\n",
       "    <tr>\n",
       "      <th>10837</th>\n",
       "      <td>Fr. Mike Schmitz Audio Teachings</td>\n",
       "      <td>5</td>\n",
       "      <td>FAMILY</td>\n",
       "      <td>4</td>\n",
       "      <td>4.1</td>\n",
       "      <td>1</td>\n",
       "      <td>100</td>\n",
       "      <td>103</td>\n",
       "      <td>0</td>\n",
       "      <td>0</td>\n",
       "      <td>3,600</td>\n",
       "    </tr>\n",
       "    <tr>\n",
       "      <th>10839</th>\n",
       "      <td>The SCP Foundation DB fr nn5n</td>\n",
       "      <td>4</td>\n",
       "      <td>BOOKS_AND_REFERENCE</td>\n",
       "      <td>114</td>\n",
       "      <td>Varies</td>\n",
       "      <td>4</td>\n",
       "      <td>1000</td>\n",
       "      <td>61</td>\n",
       "      <td>0</td>\n",
       "      <td>0</td>\n",
       "      <td>0</td>\n",
       "    </tr>\n",
       "    <tr>\n",
       "      <th>10840</th>\n",
       "      <td>iHoroscope - 2018 Daily Horoscope &amp; Astrology</td>\n",
       "      <td>4</td>\n",
       "      <td>LIFESTYLE</td>\n",
       "      <td>398307</td>\n",
       "      <td>Varies</td>\n",
       "      <td>1</td>\n",
       "      <td>10000000</td>\n",
       "      <td>103</td>\n",
       "      <td>0</td>\n",
       "      <td>0</td>\n",
       "      <td>19,000</td>\n",
       "    </tr>\n",
       "  </tbody>\n",
       "</table>\n",
       "<p>8886 rows × 11 columns</p>\n",
       "</div>"
      ],
      "text/plain": [
       "                                                     App  Rating  \\\n",
       "0         Photo Editor & Candy Camera & Grid & ScrapBook       4   \n",
       "1                                    Coloring book moana       4   \n",
       "2      U Launcher Lite – FREE Live Cool Themes, Hide ...       5   \n",
       "3                                  Sketch - Draw & Paint       4   \n",
       "4                  Pixel Draw - Number Art Coloring Book       4   \n",
       "5                             Paper flowers instructions       4   \n",
       "6                Smoke Effect Photo Maker - Smoke Editor       4   \n",
       "7                                       Infinite Painter       4   \n",
       "8                                   Garden Coloring Book       4   \n",
       "9                          Kids Paint Free - Drawing Fun       5   \n",
       "10                               Text on Photo - Fonteee       4   \n",
       "11               Name Art Photo Editor - Focus n Filters       4   \n",
       "12                        Tattoo Name On My Photo Editor       4   \n",
       "13                                 Mandala Coloring Book       5   \n",
       "14       3D Color Pixel by Number - Sandbox Art Coloring       4   \n",
       "16          Photo Designer - Write your name with shapes       5   \n",
       "17                              350 Diy Room Decor Ideas       4   \n",
       "18                         FlipaClip - Cartoon animation       4   \n",
       "19                                          ibis Paint X       5   \n",
       "20                           Logo Maker - Small Business       4   \n",
       "21             Boys Photo Editor - Six Pack & Men's Suit       4   \n",
       "22               Superheroes Wallpapers | 4K Backgrounds       5   \n",
       "24                           HD Mickey Minnie Wallpapers       5   \n",
       "25                            Harley Quinn wallpapers HD       5   \n",
       "26                         Colorfit - Drawing & Coloring       5   \n",
       "27                                 Animated Photo Editor       4   \n",
       "28                                 Pencil Sketch Drawing       4   \n",
       "29                       Easy Realistic Drawing Tutorial       4   \n",
       "30                        Pink Silver Bow Keyboard Theme       4   \n",
       "31                                     Art Drawing Ideas       4   \n",
       "...                                                  ...     ...   \n",
       "10795                           Reindeer VPN - Proxy VPN       4   \n",
       "10796   Inf VPN - Global Proxy & Unlimited Free WIFI VPN       5   \n",
       "10797                              Fuel Rewards® program       5   \n",
       "10799                                     Fr Daoud Lamei       5   \n",
       "10800                                          FR Roster       4   \n",
       "10801                                Fr Ignacio Outreach       5   \n",
       "10802                                FR: My Famous Lover       4   \n",
       "10803                       Fatal Raid - No.1 Mobile FPS       4   \n",
       "10804                                       Poker Pro.Fr       4   \n",
       "10805                                      Scoreboard FR       4   \n",
       "10809              Castle Clash: RPG War and Strategy FR       5   \n",
       "10810                                  Fr Lupupa Sermons       5   \n",
       "10812                                      Fr Agnel Pune       4   \n",
       "10814                               FR: My Secret Pets!        4   \n",
       "10815                          Golden Dictionary (FR-AR)       4   \n",
       "10817                               HTC Sense Input - FR       4   \n",
       "10819                                          Fanfic-FR       3   \n",
       "10820                                    Fr. Daoud Lamei       5   \n",
       "10826          Frim: get new friends on local chat rooms       4   \n",
       "10827                                 Fr Agnel Ambarnath       4   \n",
       "10828                            Manga-FR - Anime Vostfr       3   \n",
       "10829                     Bulgarian French Dictionary Fr       5   \n",
       "10830                                  News Minecraft.fr       4   \n",
       "10832                                           FR Tides       4   \n",
       "10833                                        Chemin (fr)       5   \n",
       "10834                                      FR Calculator       4   \n",
       "10836                                   Sya9a Maroc - FR       4   \n",
       "10837                   Fr. Mike Schmitz Audio Teachings       5   \n",
       "10839                      The SCP Foundation DB fr nn5n       4   \n",
       "10840      iHoroscope - 2018 Daily Horoscope & Astrology       4   \n",
       "\n",
       "                  Category Reviews Android Ver  Content Rating  Installs  \\\n",
       "0           ART_AND_DESIGN     159        4.03               1     10000   \n",
       "1           ART_AND_DESIGN     967        4.03               1    500000   \n",
       "2           ART_AND_DESIGN   87510        4.03               1   5000000   \n",
       "3           ART_AND_DESIGN  215644         4.2               3  50000000   \n",
       "4           ART_AND_DESIGN     967         4.4               1    100000   \n",
       "5           ART_AND_DESIGN     167         2.3               1     50000   \n",
       "6           ART_AND_DESIGN     178        4.03               1     50000   \n",
       "7           ART_AND_DESIGN   36815         4.2               1   1000000   \n",
       "8           ART_AND_DESIGN   13791         3.0               1   1000000   \n",
       "9           ART_AND_DESIGN     121        4.03               1     10000   \n",
       "10          ART_AND_DESIGN   13880         4.1               1   1000000   \n",
       "11          ART_AND_DESIGN    8788         4.0               1   1000000   \n",
       "12          ART_AND_DESIGN   44829         4.1               3  10000000   \n",
       "13          ART_AND_DESIGN    4326         4.4               1    100000   \n",
       "14          ART_AND_DESIGN    1518         2.3               1    100000   \n",
       "16          ART_AND_DESIGN    3632         4.1               1    500000   \n",
       "17          ART_AND_DESIGN      27         2.3               1     10000   \n",
       "18          ART_AND_DESIGN  194216        4.03               1   5000000   \n",
       "19          ART_AND_DESIGN  224399         4.1               1  10000000   \n",
       "20          ART_AND_DESIGN     450         4.1               1    100000   \n",
       "21          ART_AND_DESIGN     654        4.03               1    100000   \n",
       "22          ART_AND_DESIGN    7699        4.03               2    500000   \n",
       "24          ART_AND_DESIGN     118         4.1               1     50000   \n",
       "25          ART_AND_DESIGN     192         3.0               1     10000   \n",
       "26          ART_AND_DESIGN   20260        4.03               1    500000   \n",
       "27          ART_AND_DESIGN     203        4.03               1    100000   \n",
       "28          ART_AND_DESIGN     136         2.3               1     10000   \n",
       "29          ART_AND_DESIGN     223         2.3               1    100000   \n",
       "30          ART_AND_DESIGN    1120        4.03               1    100000   \n",
       "31          ART_AND_DESIGN     227         2.3               1     50000   \n",
       "...                    ...     ...         ...             ...       ...   \n",
       "10795                TOOLS    7339         4.1               1    100000   \n",
       "10796                TOOLS   61445         4.1               1   1000000   \n",
       "10797            LIFESTYLE   32433         5.0               1   1000000   \n",
       "10799               SOCIAL    2036        4.03               1    100000   \n",
       "10800                TOOLS     174         4.4               1      5000   \n",
       "10801               FAMILY      52         4.4               1      1000   \n",
       "10802               FAMILY     185         3.0               3     10000   \n",
       "10803                 GAME   56496         4.0               3   1000000   \n",
       "10804                 GAME    5442         2.3               3    100000   \n",
       "10805            LIFESTYLE       3         4.2               1       100   \n",
       "10809               FAMILY  376223         4.1               1   1000000   \n",
       "10810             BUSINESS      19         4.4               1       100   \n",
       "10812               FAMILY      80        4.03               1      1000   \n",
       "10814               FAMILY     785         3.0               3     50000   \n",
       "10815  BOOKS_AND_REFERENCE    5775         4.2               1    500000   \n",
       "10817                TOOLS     885         5.0               1    100000   \n",
       "10819  BOOKS_AND_REFERENCE      52         4.1               3      5000   \n",
       "10820               FAMILY      22         4.1               3      1000   \n",
       "10826               SOCIAL   88486      Varies               4   5000000   \n",
       "10827               FAMILY     117        4.03               1      5000   \n",
       "10828               COMICS     291         4.0               1     10000   \n",
       "10829  BOOKS_AND_REFERENCE     603         4.1               1     10000   \n",
       "10830   NEWS_AND_MAGAZINES     881         1.6               1    100000   \n",
       "10832              WEATHER    1195         2.1               1    100000   \n",
       "10833  BOOKS_AND_REFERENCE      44         2.2               1      1000   \n",
       "10834               FAMILY       7         4.1               1       500   \n",
       "10836               FAMILY      38         4.1               1      5000   \n",
       "10837               FAMILY       4         4.1               1       100   \n",
       "10839  BOOKS_AND_REFERENCE     114      Varies               4      1000   \n",
       "10840            LIFESTYLE  398307      Varies               1  10000000   \n",
       "\n",
       "       Last Updated  Price  Type   Size  \n",
       "0                97      0     0 19,000  \n",
       "1                97      0     0 14,000  \n",
       "2               104      0     0  8,700  \n",
       "3               102      0     0 25,000  \n",
       "4               102      0     0  2,800  \n",
       "5                87      0     0  5,600  \n",
       "6               100      0     0 19,000  \n",
       "7               102      0     0 29,000  \n",
       "8                93      0     0 33,000  \n",
       "9               103      0     0  3,100  \n",
       "10               94      0     0 28,000  \n",
       "11              103      0     0 12,000  \n",
       "12              100      0     0 20,000  \n",
       "13              102      0     0 21,000  \n",
       "14              104      0     0 37,000  \n",
       "16              103      0     0  5,500  \n",
       "17               95      0     0 17,000  \n",
       "18              104      0     0 39,000  \n",
       "19              103      0     0 31,000  \n",
       "20              100      0     0 14,000  \n",
       "21               99      0     0 12,000  \n",
       "22              103      0     0  4,200  \n",
       "24              103      0     0 23,000  \n",
       "25              100      0     0  6,000  \n",
       "26               94      0     0 25,000  \n",
       "27               99      0     0  6,100  \n",
       "28              103      0     0  4,600  \n",
       "29               92      0     0  4,200  \n",
       "30              103      0     0  9,200  \n",
       "31              101      0     0  5,200  \n",
       "...             ...    ...   ...    ...  \n",
       "10795           101      0     0  4,000  \n",
       "10796           103      0     0  7,800  \n",
       "10797           102      0     0 46,000  \n",
       "10799           101      0     0  6,800  \n",
       "10800           103      0     0 12,000  \n",
       "10801            97      0     0 19,000  \n",
       "10802            68      0     0 28,000  \n",
       "10803           104      0     0 81,000  \n",
       "10804           101      0     0 17,000  \n",
       "10805           104      0     0 15,000  \n",
       "10809           103      0     0 24,000  \n",
       "10810           102      0     0 21,000  \n",
       "10812           102      0     0 13,000  \n",
       "10814            66      0     0 31,000  \n",
       "10815           103      0     0  4,900  \n",
       "10817            70      0     0  8,000  \n",
       "10819            92      0     0  3,600  \n",
       "10820           102      0     0  8,600  \n",
       "10826            99      0     0      0  \n",
       "10827           102      0     0 13,000  \n",
       "10828            89      0     0 13,000  \n",
       "10829            78      0     0  7,400  \n",
       "10830            49      0     0  2,300  \n",
       "10832            50      0     0    582  \n",
       "10833            51      0     0    619  \n",
       "10834            90      0     0  2,600  \n",
       "10836            91      0     0 53,000  \n",
       "10837           103      0     0  3,600  \n",
       "10839            61      0     0      0  \n",
       "10840           103      0     0 19,000  \n",
       "\n",
       "[8886 rows x 11 columns]"
      ]
     },
     "execution_count": 227,
     "metadata": {},
     "output_type": "execute_result"
    }
   ],
   "source": [
    "norm_apps_df.rename(columns={0:\"Price\"})"
   ]
  },
  {
   "cell_type": "code",
   "execution_count": 221,
   "metadata": {},
   "outputs": [
    {
     "data": {
      "text/html": [
       "<div>\n",
       "<style scoped>\n",
       "    .dataframe tbody tr th:only-of-type {\n",
       "        vertical-align: middle;\n",
       "    }\n",
       "\n",
       "    .dataframe tbody tr th {\n",
       "        vertical-align: top;\n",
       "    }\n",
       "\n",
       "    .dataframe thead th {\n",
       "        text-align: right;\n",
       "    }\n",
       "</style>\n",
       "<table border=\"1\" class=\"dataframe\">\n",
       "  <thead>\n",
       "    <tr style=\"text-align: right;\">\n",
       "      <th></th>\n",
       "      <th>App</th>\n",
       "      <th>Rating</th>\n",
       "      <th>Category</th>\n",
       "      <th>Reviews</th>\n",
       "      <th>Android Ver</th>\n",
       "      <th>Content Rating</th>\n",
       "      <th>Installs</th>\n",
       "      <th>Last Updated</th>\n",
       "      <th>0</th>\n",
       "      <th>Type</th>\n",
       "      <th>Size</th>\n",
       "    </tr>\n",
       "  </thead>\n",
       "  <tbody>\n",
       "    <tr>\n",
       "      <th>0</th>\n",
       "      <td>Photo Editor &amp; Candy Camera &amp; Grid &amp; ScrapBook</td>\n",
       "      <td>4</td>\n",
       "      <td>ART_AND_DESIGN</td>\n",
       "      <td>159</td>\n",
       "      <td>4.03</td>\n",
       "      <td>1</td>\n",
       "      <td>10000</td>\n",
       "      <td>97</td>\n",
       "      <td>0</td>\n",
       "      <td>0</td>\n",
       "      <td>19,000</td>\n",
       "    </tr>\n",
       "    <tr>\n",
       "      <th>1</th>\n",
       "      <td>Coloring book moana</td>\n",
       "      <td>4</td>\n",
       "      <td>ART_AND_DESIGN</td>\n",
       "      <td>967</td>\n",
       "      <td>4.03</td>\n",
       "      <td>1</td>\n",
       "      <td>500000</td>\n",
       "      <td>97</td>\n",
       "      <td>0</td>\n",
       "      <td>0</td>\n",
       "      <td>14,000</td>\n",
       "    </tr>\n",
       "    <tr>\n",
       "      <th>2</th>\n",
       "      <td>U Launcher Lite – FREE Live Cool Themes, Hide ...</td>\n",
       "      <td>5</td>\n",
       "      <td>ART_AND_DESIGN</td>\n",
       "      <td>87510</td>\n",
       "      <td>4.03</td>\n",
       "      <td>1</td>\n",
       "      <td>5000000</td>\n",
       "      <td>104</td>\n",
       "      <td>0</td>\n",
       "      <td>0</td>\n",
       "      <td>8,700</td>\n",
       "    </tr>\n",
       "    <tr>\n",
       "      <th>3</th>\n",
       "      <td>Sketch - Draw &amp; Paint</td>\n",
       "      <td>4</td>\n",
       "      <td>ART_AND_DESIGN</td>\n",
       "      <td>215644</td>\n",
       "      <td>4.2</td>\n",
       "      <td>3</td>\n",
       "      <td>50000000</td>\n",
       "      <td>102</td>\n",
       "      <td>0</td>\n",
       "      <td>0</td>\n",
       "      <td>25,000</td>\n",
       "    </tr>\n",
       "    <tr>\n",
       "      <th>4</th>\n",
       "      <td>Pixel Draw - Number Art Coloring Book</td>\n",
       "      <td>4</td>\n",
       "      <td>ART_AND_DESIGN</td>\n",
       "      <td>967</td>\n",
       "      <td>4.4</td>\n",
       "      <td>1</td>\n",
       "      <td>100000</td>\n",
       "      <td>102</td>\n",
       "      <td>0</td>\n",
       "      <td>0</td>\n",
       "      <td>2,800</td>\n",
       "    </tr>\n",
       "  </tbody>\n",
       "</table>\n",
       "</div>"
      ],
      "text/plain": [
       "                                                 App  Rating        Category  \\\n",
       "0     Photo Editor & Candy Camera & Grid & ScrapBook       4  ART_AND_DESIGN   \n",
       "1                                Coloring book moana       4  ART_AND_DESIGN   \n",
       "2  U Launcher Lite – FREE Live Cool Themes, Hide ...       5  ART_AND_DESIGN   \n",
       "3                              Sketch - Draw & Paint       4  ART_AND_DESIGN   \n",
       "4              Pixel Draw - Number Art Coloring Book       4  ART_AND_DESIGN   \n",
       "\n",
       "  Reviews Android Ver  Content Rating  Installs  Last Updated  0  Type   Size  \n",
       "0     159        4.03               1     10000            97  0     0 19,000  \n",
       "1     967        4.03               1    500000            97  0     0 14,000  \n",
       "2   87510        4.03               1   5000000           104  0     0  8,700  \n",
       "3  215644         4.2               3  50000000           102  0     0 25,000  \n",
       "4     967         4.4               1    100000           102  0     0  2,800  "
      ]
     },
     "execution_count": 221,
     "metadata": {},
     "output_type": "execute_result"
    }
   ],
   "source": [
    "norm_apps_df.head()"
   ]
  },
  {
   "cell_type": "code",
   "execution_count": 223,
   "metadata": {},
   "outputs": [
    {
     "data": {
      "text/plain": [
       "App                object\n",
       "Rating            float64\n",
       "Category           object\n",
       "Reviews            object\n",
       "Android Ver        object\n",
       "Content Rating      int64\n",
       "Installs            int64\n",
       "Last Updated        int64\n",
       "0                 float64\n",
       "Type                int64\n",
       "Size              float64\n",
       "dtype: object"
      ]
     },
     "execution_count": 223,
     "metadata": {},
     "output_type": "execute_result"
    }
   ],
   "source": [
    "norm_apps_df.dtypes"
   ]
  },
  {
   "cell_type": "code",
   "execution_count": null,
   "metadata": {},
   "outputs": [],
   "source": []
  },
  {
   "cell_type": "markdown",
   "metadata": {},
   "source": [
    "### Data analysis and visualization \n",
    "quantitative (statistical) and visual analysis of your\n",
    "data. You should apply quantitative measures of centrality, distribution, and correlation.\n",
    "In addition, you should provide visual analysis through plots that are appropriate for a\n",
    "better understanding of your data and how the data can be used to answer your question.\n",
    "Extra credit for novel insightful visualizations. Using the appropriate clustering algorithm\n",
    "for different measures can be very helpful for better understanding the relationships in\n",
    "your data. "
   ]
  },
  {
   "cell_type": "code",
   "execution_count": null,
   "metadata": {},
   "outputs": [],
   "source": []
  },
  {
   "cell_type": "markdown",
   "metadata": {},
   "source": [
    "### Data modeling and prediction \n",
    "development of a predictive model, regression or\n",
    "classification. Your model development should include experimentation with feature\n",
    "selection and hyperparameters. The effect of different features on your target variable, as\n",
    "well as associations between features should be identified. You should appropriately use\n",
    "train, validation, and test data when evaluating your models."
   ]
  },
  {
   "cell_type": "markdown",
   "metadata": {},
   "source": [
    "### Results analysis \n",
    "Summary of your interpretation of the results. Are the results\n",
    "statistically significant? I.e., did you prove or disprove your hypothesis. How could you\n",
    "improve your analysis? Lessons learned, and feedback on the assignment."
   ]
  },
  {
   "cell_type": "markdown",
   "metadata": {},
   "source": [
    "#### Notes...\n",
    "\n",
    "NoteWorth Investigations\n",
    "\n",
    "principle component analysis \n",
    "\n",
    "dimn redux \n"
   ]
  },
  {
   "cell_type": "code",
   "execution_count": null,
   "metadata": {},
   "outputs": [],
   "source": []
  }
 ],
 "metadata": {
  "kernelspec": {
   "display_name": "Python 3",
   "language": "python",
   "name": "python3"
  },
  "language_info": {
   "codemirror_mode": {
    "name": "ipython",
    "version": 3
   },
   "file_extension": ".py",
   "mimetype": "text/x-python",
   "name": "python",
   "nbconvert_exporter": "python",
   "pygments_lexer": "ipython3",
   "version": "3.7.0"
  }
 },
 "nbformat": 4,
 "nbformat_minor": 2
}
