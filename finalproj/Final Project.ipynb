{
 "cells": [
  {
   "cell_type": "markdown",
   "metadata": {},
   "source": [
    "## Data Science Final Project \n",
    "### Author: Gagan Daroach"
   ]
  },
  {
   "cell_type": "markdown",
   "metadata": {},
   "source": [
    "#### A Study of the top 10,000 Google Play Store Applications."
   ]
  },
  {
   "cell_type": "code",
   "execution_count": 1,
   "metadata": {
    "collapsed": true
   },
   "outputs": [],
   "source": [
    "#imports \n",
    "import numpy as np\n",
    "import matplotlib.pyplot as plt\n",
    "import pandas as pd \n",
    "import pprint as pp\n",
    "%matplotlib inline \n",
    "from sklearn.preprocessing import MinMaxScaler\n",
    "from sklearn import preprocessing\n",
    "import seaborn as sns\n",
    "\n",
    "pd.options.display.float_format = '{:,.3f}'.format"
   ]
  },
  {
   "cell_type": "markdown",
   "metadata": {},
   "source": [
    "### Dataset\n",
    "\n",
    "dataset link: https://www.kaggle.com/lava18/google-play-store-apps/version/5\n",
    "\n",
    "Author Lavanya Gupta is responsible for the creation of this dataset. The dataset was last updated one month ago (as of Tue Oct 30 2018). The dataset was populated with web scraped data from the Google Play Store. There are 13 features that describe the dataset. \n",
    "       \n",
    "App: App Name\n",
    "\n",
    "Category: App Category\n",
    "\n",
    "Rating: App Rating (0.0 thru 5.0)\n",
    "\n",
    "Reviews: Number of reviews. \n",
    "\n",
    "Size: App install size\n",
    "\n",
    "Installs: Number of Installs\n",
    "\n",
    "Type: Either paid or free\n",
    "\n",
    "Price: App Price\n",
    "\n",
    "Content Raiting: Age group the app is targeted at. \n",
    "\n",
    "Genres: Apart from category (unique value), an app can belong to many genres\n",
    "\n",
    "Last Updated: date when the app was last updated on the google play store\n",
    "\n",
    "Current Version: Current version of app avaiable on play store\n",
    "\n",
    "Android Version: minimun required version to run the app\n",
    "\n",
    "Possible target variables: Number of Installs & App Rating - explanation under hypothesis. \n"
   ]
  },
  {
   "cell_type": "markdown",
   "metadata": {},
   "source": [
    "### Dataframe Information"
   ]
  },
  {
   "cell_type": "code",
   "execution_count": 2,
   "metadata": {},
   "outputs": [
    {
     "data": {
      "text/html": [
       "<div>\n",
       "<style scoped>\n",
       "    .dataframe tbody tr th:only-of-type {\n",
       "        vertical-align: middle;\n",
       "    }\n",
       "\n",
       "    .dataframe tbody tr th {\n",
       "        vertical-align: top;\n",
       "    }\n",
       "\n",
       "    .dataframe thead th {\n",
       "        text-align: right;\n",
       "    }\n",
       "</style>\n",
       "<table border=\"1\" class=\"dataframe\">\n",
       "  <thead>\n",
       "    <tr style=\"text-align: right;\">\n",
       "      <th></th>\n",
       "      <th>App</th>\n",
       "      <th>Category</th>\n",
       "      <th>Rating</th>\n",
       "      <th>Reviews</th>\n",
       "      <th>Size</th>\n",
       "      <th>Installs</th>\n",
       "      <th>Type</th>\n",
       "      <th>Price</th>\n",
       "      <th>Content Rating</th>\n",
       "      <th>Genres</th>\n",
       "      <th>Last Updated</th>\n",
       "      <th>Current Ver</th>\n",
       "      <th>Android Ver</th>\n",
       "    </tr>\n",
       "  </thead>\n",
       "  <tbody>\n",
       "    <tr>\n",
       "      <th>0</th>\n",
       "      <td>Photo Editor &amp; Candy Camera &amp; Grid &amp; ScrapBook</td>\n",
       "      <td>ART_AND_DESIGN</td>\n",
       "      <td>4.100</td>\n",
       "      <td>159</td>\n",
       "      <td>19M</td>\n",
       "      <td>10,000+</td>\n",
       "      <td>Free</td>\n",
       "      <td>0</td>\n",
       "      <td>Everyone</td>\n",
       "      <td>Art &amp; Design</td>\n",
       "      <td>January 7, 2018</td>\n",
       "      <td>1.0.0</td>\n",
       "      <td>4.0.3 and up</td>\n",
       "    </tr>\n",
       "    <tr>\n",
       "      <th>1</th>\n",
       "      <td>Coloring book moana</td>\n",
       "      <td>ART_AND_DESIGN</td>\n",
       "      <td>3.900</td>\n",
       "      <td>967</td>\n",
       "      <td>14M</td>\n",
       "      <td>500,000+</td>\n",
       "      <td>Free</td>\n",
       "      <td>0</td>\n",
       "      <td>Everyone</td>\n",
       "      <td>Art &amp; Design;Pretend Play</td>\n",
       "      <td>January 15, 2018</td>\n",
       "      <td>2.0.0</td>\n",
       "      <td>4.0.3 and up</td>\n",
       "    </tr>\n",
       "    <tr>\n",
       "      <th>2</th>\n",
       "      <td>U Launcher Lite – FREE Live Cool Themes, Hide ...</td>\n",
       "      <td>ART_AND_DESIGN</td>\n",
       "      <td>4.700</td>\n",
       "      <td>87510</td>\n",
       "      <td>8.7M</td>\n",
       "      <td>5,000,000+</td>\n",
       "      <td>Free</td>\n",
       "      <td>0</td>\n",
       "      <td>Everyone</td>\n",
       "      <td>Art &amp; Design</td>\n",
       "      <td>August 1, 2018</td>\n",
       "      <td>1.2.4</td>\n",
       "      <td>4.0.3 and up</td>\n",
       "    </tr>\n",
       "    <tr>\n",
       "      <th>3</th>\n",
       "      <td>Sketch - Draw &amp; Paint</td>\n",
       "      <td>ART_AND_DESIGN</td>\n",
       "      <td>4.500</td>\n",
       "      <td>215644</td>\n",
       "      <td>25M</td>\n",
       "      <td>50,000,000+</td>\n",
       "      <td>Free</td>\n",
       "      <td>0</td>\n",
       "      <td>Teen</td>\n",
       "      <td>Art &amp; Design</td>\n",
       "      <td>June 8, 2018</td>\n",
       "      <td>Varies with device</td>\n",
       "      <td>4.2 and up</td>\n",
       "    </tr>\n",
       "    <tr>\n",
       "      <th>4</th>\n",
       "      <td>Pixel Draw - Number Art Coloring Book</td>\n",
       "      <td>ART_AND_DESIGN</td>\n",
       "      <td>4.300</td>\n",
       "      <td>967</td>\n",
       "      <td>2.8M</td>\n",
       "      <td>100,000+</td>\n",
       "      <td>Free</td>\n",
       "      <td>0</td>\n",
       "      <td>Everyone</td>\n",
       "      <td>Art &amp; Design;Creativity</td>\n",
       "      <td>June 20, 2018</td>\n",
       "      <td>1.1</td>\n",
       "      <td>4.4 and up</td>\n",
       "    </tr>\n",
       "    <tr>\n",
       "      <th>5</th>\n",
       "      <td>Paper flowers instructions</td>\n",
       "      <td>ART_AND_DESIGN</td>\n",
       "      <td>4.400</td>\n",
       "      <td>167</td>\n",
       "      <td>5.6M</td>\n",
       "      <td>50,000+</td>\n",
       "      <td>Free</td>\n",
       "      <td>0</td>\n",
       "      <td>Everyone</td>\n",
       "      <td>Art &amp; Design</td>\n",
       "      <td>March 26, 2017</td>\n",
       "      <td>1.0</td>\n",
       "      <td>2.3 and up</td>\n",
       "    </tr>\n",
       "    <tr>\n",
       "      <th>6</th>\n",
       "      <td>Smoke Effect Photo Maker - Smoke Editor</td>\n",
       "      <td>ART_AND_DESIGN</td>\n",
       "      <td>3.800</td>\n",
       "      <td>178</td>\n",
       "      <td>19M</td>\n",
       "      <td>50,000+</td>\n",
       "      <td>Free</td>\n",
       "      <td>0</td>\n",
       "      <td>Everyone</td>\n",
       "      <td>Art &amp; Design</td>\n",
       "      <td>April 26, 2018</td>\n",
       "      <td>1.1</td>\n",
       "      <td>4.0.3 and up</td>\n",
       "    </tr>\n",
       "    <tr>\n",
       "      <th>7</th>\n",
       "      <td>Infinite Painter</td>\n",
       "      <td>ART_AND_DESIGN</td>\n",
       "      <td>4.100</td>\n",
       "      <td>36815</td>\n",
       "      <td>29M</td>\n",
       "      <td>1,000,000+</td>\n",
       "      <td>Free</td>\n",
       "      <td>0</td>\n",
       "      <td>Everyone</td>\n",
       "      <td>Art &amp; Design</td>\n",
       "      <td>June 14, 2018</td>\n",
       "      <td>6.1.61.1</td>\n",
       "      <td>4.2 and up</td>\n",
       "    </tr>\n",
       "    <tr>\n",
       "      <th>8</th>\n",
       "      <td>Garden Coloring Book</td>\n",
       "      <td>ART_AND_DESIGN</td>\n",
       "      <td>4.400</td>\n",
       "      <td>13791</td>\n",
       "      <td>33M</td>\n",
       "      <td>1,000,000+</td>\n",
       "      <td>Free</td>\n",
       "      <td>0</td>\n",
       "      <td>Everyone</td>\n",
       "      <td>Art &amp; Design</td>\n",
       "      <td>September 20, 2017</td>\n",
       "      <td>2.9.2</td>\n",
       "      <td>3.0 and up</td>\n",
       "    </tr>\n",
       "    <tr>\n",
       "      <th>9</th>\n",
       "      <td>Kids Paint Free - Drawing Fun</td>\n",
       "      <td>ART_AND_DESIGN</td>\n",
       "      <td>4.700</td>\n",
       "      <td>121</td>\n",
       "      <td>3.1M</td>\n",
       "      <td>10,000+</td>\n",
       "      <td>Free</td>\n",
       "      <td>0</td>\n",
       "      <td>Everyone</td>\n",
       "      <td>Art &amp; Design;Creativity</td>\n",
       "      <td>July 3, 2018</td>\n",
       "      <td>2.8</td>\n",
       "      <td>4.0.3 and up</td>\n",
       "    </tr>\n",
       "  </tbody>\n",
       "</table>\n",
       "</div>"
      ],
      "text/plain": [
       "                                                 App        Category  Rating  \\\n",
       "0     Photo Editor & Candy Camera & Grid & ScrapBook  ART_AND_DESIGN   4.100   \n",
       "1                                Coloring book moana  ART_AND_DESIGN   3.900   \n",
       "2  U Launcher Lite – FREE Live Cool Themes, Hide ...  ART_AND_DESIGN   4.700   \n",
       "3                              Sketch - Draw & Paint  ART_AND_DESIGN   4.500   \n",
       "4              Pixel Draw - Number Art Coloring Book  ART_AND_DESIGN   4.300   \n",
       "5                         Paper flowers instructions  ART_AND_DESIGN   4.400   \n",
       "6            Smoke Effect Photo Maker - Smoke Editor  ART_AND_DESIGN   3.800   \n",
       "7                                   Infinite Painter  ART_AND_DESIGN   4.100   \n",
       "8                               Garden Coloring Book  ART_AND_DESIGN   4.400   \n",
       "9                      Kids Paint Free - Drawing Fun  ART_AND_DESIGN   4.700   \n",
       "\n",
       "  Reviews  Size     Installs  Type Price Content Rating  \\\n",
       "0     159   19M      10,000+  Free     0       Everyone   \n",
       "1     967   14M     500,000+  Free     0       Everyone   \n",
       "2   87510  8.7M   5,000,000+  Free     0       Everyone   \n",
       "3  215644   25M  50,000,000+  Free     0           Teen   \n",
       "4     967  2.8M     100,000+  Free     0       Everyone   \n",
       "5     167  5.6M      50,000+  Free     0       Everyone   \n",
       "6     178   19M      50,000+  Free     0       Everyone   \n",
       "7   36815   29M   1,000,000+  Free     0       Everyone   \n",
       "8   13791   33M   1,000,000+  Free     0       Everyone   \n",
       "9     121  3.1M      10,000+  Free     0       Everyone   \n",
       "\n",
       "                      Genres        Last Updated         Current Ver  \\\n",
       "0               Art & Design     January 7, 2018               1.0.0   \n",
       "1  Art & Design;Pretend Play    January 15, 2018               2.0.0   \n",
       "2               Art & Design      August 1, 2018               1.2.4   \n",
       "3               Art & Design        June 8, 2018  Varies with device   \n",
       "4    Art & Design;Creativity       June 20, 2018                 1.1   \n",
       "5               Art & Design      March 26, 2017                 1.0   \n",
       "6               Art & Design      April 26, 2018                 1.1   \n",
       "7               Art & Design       June 14, 2018            6.1.61.1   \n",
       "8               Art & Design  September 20, 2017               2.9.2   \n",
       "9    Art & Design;Creativity        July 3, 2018                 2.8   \n",
       "\n",
       "    Android Ver  \n",
       "0  4.0.3 and up  \n",
       "1  4.0.3 and up  \n",
       "2  4.0.3 and up  \n",
       "3    4.2 and up  \n",
       "4    4.4 and up  \n",
       "5    2.3 and up  \n",
       "6  4.0.3 and up  \n",
       "7    4.2 and up  \n",
       "8    3.0 and up  \n",
       "9  4.0.3 and up  "
      ]
     },
     "execution_count": 2,
     "metadata": {},
     "output_type": "execute_result"
    }
   ],
   "source": [
    "apps_df = pd.read_csv(\"googleplaystore.csv\")\n",
    "apps_df.head(10)"
   ]
  },
  {
   "cell_type": "code",
   "execution_count": 3,
   "metadata": {
    "collapsed": true
   },
   "outputs": [
    {
     "name": "stdout",
     "output_type": "stream",
     "text": [
      "Index(['App', 'Category', 'Rating', 'Reviews', 'Size', 'Installs', 'Type',\n",
      "       'Price', 'Content Rating', 'Genres', 'Last Updated', 'Current Ver',\n",
      "       'Android Ver'],\n",
      "      dtype='object')\n"
     ]
    }
   ],
   "source": [
    "pp.pprint(apps_df.columns)"
   ]
  },
  {
   "cell_type": "markdown",
   "metadata": {},
   "source": [
    "### Major Objectives\n",
    "\n",
    "I want to focus my app development on features that will be most impactful on my app downloads. If I can identity a formula for success, I can use it to prioritize my workflow. \n",
    "\n",
    "Additionally, this dataset has many values to figure out how to manage. For starters, the columns Current Version, Android Version, and Category need to be one hot encoded up to allow for some model magic. I want the practice using Data Science to influence decision making. "
   ]
  },
  {
   "cell_type": "markdown",
   "metadata": {},
   "source": [
    "### Hypothesis\n",
    "\n",
    "I predict that there will be a way to determine number of installs based on a set of other predicter variables. I am anticipating Price and Rating to be strong determiners. I plan on using linear regression to test this hypothesis. I am curious to see the effects of the other roles, such as the impact of genres, category, and android versions."
   ]
  },
  {
   "cell_type": "markdown",
   "metadata": {},
   "source": [
    "### Data Preprocessing\n",
    "identification of required features, proper handling of missing\n",
    "values (removal, imputation, etc.), and supporting documentation for your decisions such\n",
    "as the number of missing values relative to the size of the dataset."
   ]
  },
  {
   "cell_type": "markdown",
   "metadata": {},
   "source": [
    "#### Initial Table Transformations"
   ]
  },
  {
   "cell_type": "code",
   "execution_count": 4,
   "metadata": {
    "collapsed": true
   },
   "outputs": [],
   "source": [
    "apps_df.dropna(inplace=True)\n",
    "apps_df.drop_duplicates(inplace=True)"
   ]
  },
  {
   "cell_type": "markdown",
   "metadata": {},
   "source": [
    "Above, I drop duplicate elements in the table, and I drop all rows with missing data."
   ]
  },
  {
   "cell_type": "code",
   "execution_count": 5,
   "metadata": {
    "collapsed": true
   },
   "outputs": [
    {
     "data": {
      "text/html": [
       "<div>\n",
       "<style scoped>\n",
       "    .dataframe tbody tr th:only-of-type {\n",
       "        vertical-align: middle;\n",
       "    }\n",
       "\n",
       "    .dataframe tbody tr th {\n",
       "        vertical-align: top;\n",
       "    }\n",
       "\n",
       "    .dataframe thead th {\n",
       "        text-align: right;\n",
       "    }\n",
       "</style>\n",
       "<table border=\"1\" class=\"dataframe\">\n",
       "  <thead>\n",
       "    <tr style=\"text-align: right;\">\n",
       "      <th></th>\n",
       "      <th>Rating</th>\n",
       "    </tr>\n",
       "  </thead>\n",
       "  <tbody>\n",
       "    <tr>\n",
       "      <th>count</th>\n",
       "      <td>8,886.000</td>\n",
       "    </tr>\n",
       "    <tr>\n",
       "      <th>mean</th>\n",
       "      <td>4.188</td>\n",
       "    </tr>\n",
       "    <tr>\n",
       "      <th>std</th>\n",
       "      <td>0.522</td>\n",
       "    </tr>\n",
       "    <tr>\n",
       "      <th>min</th>\n",
       "      <td>1.000</td>\n",
       "    </tr>\n",
       "    <tr>\n",
       "      <th>25%</th>\n",
       "      <td>4.000</td>\n",
       "    </tr>\n",
       "    <tr>\n",
       "      <th>50%</th>\n",
       "      <td>4.300</td>\n",
       "    </tr>\n",
       "    <tr>\n",
       "      <th>75%</th>\n",
       "      <td>4.500</td>\n",
       "    </tr>\n",
       "    <tr>\n",
       "      <th>max</th>\n",
       "      <td>5.000</td>\n",
       "    </tr>\n",
       "  </tbody>\n",
       "</table>\n",
       "</div>"
      ],
      "text/plain": [
       "         Rating\n",
       "count 8,886.000\n",
       "mean      4.188\n",
       "std       0.522\n",
       "min       1.000\n",
       "25%       4.000\n",
       "50%       4.300\n",
       "75%       4.500\n",
       "max       5.000"
      ]
     },
     "execution_count": 5,
     "metadata": {},
     "output_type": "execute_result"
    }
   ],
   "source": [
    "apps_df.describe()"
   ]
  },
  {
   "cell_type": "code",
   "execution_count": 6,
   "metadata": {
    "collapsed": true
   },
   "outputs": [],
   "source": [
    "def p_uniques(column_name, df_name = apps_df):\n",
    "    print('Unique Values for Column: %s' % (column_name))\n",
    "    pp.pprint(df_name[column_name].unique())\n",
    "    \n",
    "def p_describe(column_name, df_name = apps_df):\n",
    "    print('Description for Column: %s' % (column_name))\n",
    "    pp.pprint(df_name[column_name].describe())\n",
    "    \n",
    "def p_stats(column_name, df_name = apps_df):\n",
    "    p_describe(column_name, df_name)\n",
    "    p_uniques(column_name, df_name)"
   ]
  },
  {
   "cell_type": "code",
   "execution_count": 7,
   "metadata": {
    "collapsed": true
   },
   "outputs": [],
   "source": [
    "def plotHBarGraph(column_name, result = None):\n",
    "    if (result == None):\n",
    "        result = apps_df[[column_name]].apply(pd.value_counts).fillna(0).T\n",
    "        result.index=[column_name]\n",
    "        result.columns=apps_df[column_name].unique()\n",
    "    # horizontal bar plot\n",
    "    plt=result.plot.barh(title=column_name)\n",
    "    plt.set_xlabel(\"Count\")\n",
    "    plt.legend(loc='center left', bbox_to_anchor=(1, 0.5))\n",
    "    plt\n",
    "    \n",
    "def categoricalGroupings(column_name):\n",
    "    result = apps_df[[column_name]].apply(pd.value_counts).fillna(0).T\n",
    "    result.index=[column_name]\n",
    "    result.columns=apps_df[column_name].unique()\n",
    "    return result"
   ]
  },
  {
   "cell_type": "markdown",
   "metadata": {},
   "source": [
    "#### Column 1 - App Names"
   ]
  },
  {
   "cell_type": "code",
   "execution_count": 8,
   "metadata": {
    "collapsed": true
   },
   "outputs": [],
   "source": [
    "column_name = 'App'"
   ]
  },
  {
   "cell_type": "code",
   "execution_count": 9,
   "metadata": {
    "collapsed": true
   },
   "outputs": [
    {
     "name": "stdout",
     "output_type": "stream",
     "text": [
      "Description for Column: App\n",
      "count       8886\n",
      "unique      8190\n",
      "top       ROBLOX\n",
      "freq           9\n",
      "Name: App, dtype: object\n",
      "Unique Values for Column: App\n",
      "array(['Photo Editor & Candy Camera & Grid & ScrapBook',\n",
      "       'Coloring book moana',\n",
      "       'U Launcher Lite – FREE Live Cool Themes, Hide Apps', ...,\n",
      "       'Fr. Mike Schmitz Audio Teachings',\n",
      "       'The SCP Foundation DB fr nn5n',\n",
      "       'iHoroscope - 2018 Daily Horoscope & Astrology'], dtype=object)\n"
     ]
    }
   ],
   "source": [
    "p_stats(column_name)"
   ]
  },
  {
   "cell_type": "markdown",
   "metadata": {},
   "source": [
    "No abnomalies detected. "
   ]
  },
  {
   "cell_type": "markdown",
   "metadata": {},
   "source": [
    "#### Column 2 - Category"
   ]
  },
  {
   "cell_type": "code",
   "execution_count": 10,
   "metadata": {
    "collapsed": true
   },
   "outputs": [],
   "source": [
    "column_name = 'Category'"
   ]
  },
  {
   "cell_type": "code",
   "execution_count": 11,
   "metadata": {
    "collapsed": true
   },
   "outputs": [],
   "source": [
    "#plt.hist(x = apps_df[column_name].head(1000))\n",
    "#plt.show()b"
   ]
  },
  {
   "cell_type": "code",
   "execution_count": 12,
   "metadata": {
    "collapsed": true
   },
   "outputs": [
    {
     "data": {
      "text/plain": [
       "FAMILY                 1717\n",
       "GAME                   1074\n",
       "TOOLS                   733\n",
       "PRODUCTIVITY            334\n",
       "FINANCE                 317\n",
       "PERSONALIZATION         308\n",
       "COMMUNICATION           307\n",
       "LIFESTYLE               305\n",
       "PHOTOGRAPHY             304\n",
       "MEDICAL                 302\n",
       "SPORTS                  286\n",
       "BUSINESS                270\n",
       "HEALTH_AND_FITNESS      262\n",
       "SOCIAL                  244\n",
       "NEWS_AND_MAGAZINES      214\n",
       "TRAVEL_AND_LOCAL        205\n",
       "SHOPPING                202\n",
       "BOOKS_AND_REFERENCE     177\n",
       "VIDEO_PLAYERS           160\n",
       "DATING                  159\n",
       "EDUCATION               129\n",
       "MAPS_AND_NAVIGATION     124\n",
       "ENTERTAINMENT           111\n",
       "FOOD_AND_DRINK          106\n",
       "WEATHER                  75\n",
       "AUTO_AND_VEHICLES        73\n",
       "HOUSE_AND_HOME           68\n",
       "LIBRARIES_AND_DEMO       64\n",
       "ART_AND_DESIGN           61\n",
       "COMICS                   58\n",
       "PARENTING                50\n",
       "EVENTS                   45\n",
       "BEAUTY                   42\n",
       "Name: Category, dtype: int64"
      ]
     },
     "execution_count": 12,
     "metadata": {},
     "output_type": "execute_result"
    }
   ],
   "source": [
    "apps_df[column_name].value_counts()"
   ]
  },
  {
   "cell_type": "code",
   "execution_count": 13,
   "metadata": {
    "collapsed": true
   },
   "outputs": [
    {
     "name": "stdout",
     "output_type": "stream",
     "text": [
      "Description for Column: Category\n",
      "count       8886\n",
      "unique        33\n",
      "top       FAMILY\n",
      "freq        1717\n",
      "Name: Category, dtype: object\n",
      "Unique Values for Column: Category\n",
      "array(['ART_AND_DESIGN', 'AUTO_AND_VEHICLES', 'BEAUTY',\n",
      "       'BOOKS_AND_REFERENCE', 'BUSINESS', 'COMICS', 'COMMUNICATION',\n",
      "       'DATING', 'EDUCATION', 'ENTERTAINMENT', 'EVENTS', 'FINANCE',\n",
      "       'FOOD_AND_DRINK', 'HEALTH_AND_FITNESS', 'HOUSE_AND_HOME',\n",
      "       'LIBRARIES_AND_DEMO', 'LIFESTYLE', 'GAME', 'FAMILY', 'MEDICAL',\n",
      "       'SOCIAL', 'SHOPPING', 'PHOTOGRAPHY', 'SPORTS', 'TRAVEL_AND_LOCAL',\n",
      "       'TOOLS', 'PERSONALIZATION', 'PRODUCTIVITY', 'PARENTING', 'WEATHER',\n",
      "       'VIDEO_PLAYERS', 'NEWS_AND_MAGAZINES', 'MAPS_AND_NAVIGATION'],\n",
      "      dtype=object)\n"
     ]
    }
   ],
   "source": [
    "p_stats(column_name)"
   ]
  },
  {
   "cell_type": "code",
   "execution_count": 14,
   "metadata": {
    "collapsed": true
   },
   "outputs": [
    {
     "data": {
      "image/png": "[encoded data removed]",
      "text/plain": [
       "<Figure size 432x288 with 1 Axes>"
      ]
     },
     "metadata": {
      "needs_background": "light"
     },
     "output_type": "display_data"
    }
   ],
   "source": [
    "plotHBarGraph(column_name)"
   ]
  },
  {
   "cell_type": "code",
   "execution_count": 15,
   "metadata": {
    "collapsed": true
   },
   "outputs": [
    {
     "name": "stdout",
     "output_type": "stream",
     "text": [
      "          ART_AND_DESIGN  AUTO_AND_VEHICLES  BEAUTY  BOOKS_AND_REFERENCE  \\\n",
      "Category            1717               1074     733                  334   \n",
      "\n",
      "          BUSINESS  COMICS  COMMUNICATION  DATING  EDUCATION  ENTERTAINMENT  \\\n",
      "Category       317     308            307     305        304            302   \n",
      "\n",
      "                 ...           SPORTS  TRAVEL_AND_LOCAL  TOOLS  \\\n",
      "Category         ...              106                75     73   \n",
      "\n",
      "          PERSONALIZATION  PRODUCTIVITY  PARENTING  WEATHER  VIDEO_PLAYERS  \\\n",
      "Category               68            64         61       58             50   \n",
      "\n",
      "          NEWS_AND_MAGAZINES  MAPS_AND_NAVIGATION  \n",
      "Category                  45                   42  \n",
      "\n",
      "[1 rows x 33 columns]\n"
     ]
    }
   ],
   "source": [
    "pp.pprint(categoricalGroupings('Category'))"
   ]
  },
  {
   "cell_type": "code",
   "execution_count": 16,
   "metadata": {
    "collapsed": true
   },
   "outputs": [
    {
     "name": "stderr",
     "output_type": "stream",
     "text": [
      "/anaconda3/lib/python3.7/site-packages/scipy/stats/stats.py:1713: FutureWarning: Using a non-tuple sequence for multidimensional indexing is deprecated; use `arr[tuple(seq)]` instead of `arr[seq]`. In the future this will be interpreted as an array index, `arr[np.array(seq)]`, which will result either in an error or a different result.\n",
      "  return np.add.reduce(sorted[indexer] * weights, axis=axis) / sumval\n"
     ]
    },
    {
     "data": {
      "text/plain": [
       "<matplotlib.axes._subplots.AxesSubplot at 0x1a1b5e9358>"
      ]
     },
     "execution_count": 16,
     "metadata": {},
     "output_type": "execute_result"
    },
    {
     "data": {
      "image/png": "[encoded data removed]",
      "text/plain": [
       "<Figure size 432x288 with 1 Axes>"
      ]
     },
     "metadata": {
      "needs_background": "light"
     },
     "output_type": "display_data"
    }
   ],
   "source": [
    "sns.kdeplot(apps_df['Category'].value_counts())"
   ]
  },
  {
   "cell_type": "markdown",
   "metadata": {},
   "source": [
    "Now I convert the categorical data to numbers. DONE near modeling section."
   ]
  },
  {
   "cell_type": "markdown",
   "metadata": {},
   "source": [
    "#### Column 3 - Rating"
   ]
  },
  {
   "cell_type": "code",
   "execution_count": 17,
   "metadata": {
    "collapsed": true
   },
   "outputs": [
    {
     "name": "stdout",
     "output_type": "stream",
     "text": [
      "Description for Column: Rating\n",
      "count   8,886.000\n",
      "mean        4.188\n",
      "std         0.522\n",
      "min         1.000\n",
      "25%         4.000\n",
      "50%         4.300\n",
      "75%         4.500\n",
      "max         5.000\n",
      "Name: Rating, dtype: float64\n",
      "Unique Values for Column: Rating\n",
      "array([4.1, 3.9, 4.7, 4.5, 4.3, 4.4, 3.8, 4.2, 4.6, 4. , 4.8, 4.9, 3.6,\n",
      "       3.7, 3.2, 3.3, 3.4, 3.5, 3.1, 5. , 2.6, 3. , 1.9, 2.5, 2.8, 2.7,\n",
      "       1. , 2.9, 2.3, 2.2, 1.7, 2. , 1.8, 2.4, 1.6, 2.1, 1.4, 1.5, 1.2])\n"
     ]
    }
   ],
   "source": [
    "column_name = 'Rating'\n",
    "p_stats(column_name)"
   ]
  },
  {
   "cell_type": "code",
   "execution_count": 18,
   "metadata": {
    "collapsed": true
   },
   "outputs": [
    {
     "name": "stdout",
     "output_type": "stream",
     "text": [
      "Rating Histogram\n"
     ]
    },
    {
     "data": {
      "image/png": "[encoded data removed]",
      "text/plain": [
       "<Figure size 432x288 with 1 Axes>"
      ]
     },
     "metadata": {
      "needs_background": "light"
     },
     "output_type": "display_data"
    }
   ],
   "source": [
    "apps_df[column_name].hist()\n",
    "print('Rating Histogram')\n",
    "plt.show()"
   ]
  },
  {
   "cell_type": "code",
   "execution_count": 19,
   "metadata": {
    "collapsed": true
   },
   "outputs": [
    {
     "name": "stderr",
     "output_type": "stream",
     "text": [
      "/anaconda3/lib/python3.7/site-packages/scipy/stats/stats.py:1713: FutureWarning: Using a non-tuple sequence for multidimensional indexing is deprecated; use `arr[tuple(seq)]` instead of `arr[seq]`. In the future this will be interpreted as an array index, `arr[np.array(seq)]`, which will result either in an error or a different result.\n",
      "  return np.add.reduce(sorted[indexer] * weights, axis=axis) / sumval\n"
     ]
    },
    {
     "data": {
      "image/png": "[encoded data removed]",
      "text/plain": [
       "<Figure size 432x288 with 1 Axes>"
      ]
     },
     "metadata": {
      "needs_background": "light"
     },
     "output_type": "display_data"
    }
   ],
   "source": [
    "sns.kdeplot(apps_df[column_name], color=\"Red\", shade=True)\n",
    "plt.title=('Rating KDE Plot')"
   ]
  },
  {
   "cell_type": "markdown",
   "metadata": {},
   "source": [
    "#### Column 4 - Reviews\n",
    "number of app store reviews"
   ]
  },
  {
   "cell_type": "code",
   "execution_count": 20,
   "metadata": {
    "collapsed": true
   },
   "outputs": [],
   "source": [
    "column_name = 'Reviews'\n",
    "series = apps_df[column_name]"
   ]
  },
  {
   "cell_type": "code",
   "execution_count": 21,
   "metadata": {
    "collapsed": true
   },
   "outputs": [
    {
     "name": "stdout",
     "output_type": "stream",
     "text": [
      "Description for Column: Reviews\n",
      "count     8886\n",
      "unique    5990\n",
      "top          2\n",
      "freq        82\n",
      "Name: Reviews, dtype: object\n",
      "Unique Values for Column: Reviews\n",
      "array(['159', '967', '87510', ..., '603', '1195', '398307'], dtype=object)\n"
     ]
    }
   ],
   "source": [
    "p_stats(column_name)"
   ]
  },
  {
   "cell_type": "code",
   "execution_count": 22,
   "metadata": {
    "collapsed": true
   },
   "outputs": [
    {
     "name": "stdout",
     "output_type": "stream",
     "text": [
      "array(['159', '967', '87510', ..., '603', '1195', '398307'], dtype=object)\n"
     ]
    }
   ],
   "source": [
    "pp.pprint(apps_df[column_name].unique())"
   ]
  },
  {
   "cell_type": "code",
   "execution_count": 23,
   "metadata": {
    "collapsed": true
   },
   "outputs": [],
   "source": [
    "#series.hist(bins = 10)"
   ]
  },
  {
   "cell_type": "markdown",
   "metadata": {},
   "source": [
    "#### Column 5 - Size\n",
    "size of app"
   ]
  },
  {
   "cell_type": "code",
   "execution_count": 24,
   "metadata": {
    "collapsed": true
   },
   "outputs": [],
   "source": [
    "column_name = 'Size'"
   ]
  },
  {
   "cell_type": "code",
   "execution_count": 25,
   "metadata": {
    "collapsed": true
   },
   "outputs": [
    {
     "data": {
      "text/plain": [
       "0     19M\n",
       "1     14M\n",
       "2    8.7M\n",
       "3     25M\n",
       "4    2.8M\n",
       "Name: Size, dtype: object"
      ]
     },
     "execution_count": 25,
     "metadata": {},
     "output_type": "execute_result"
    }
   ],
   "source": [
    "apps_df[column_name].head()"
   ]
  },
  {
   "cell_type": "code",
   "execution_count": 26,
   "metadata": {
    "collapsed": true
   },
   "outputs": [
    {
     "data": {
      "text/plain": [
       "Varies with device    1468\n",
       "14M                    153\n",
       "13M                    152\n",
       "12M                    151\n",
       "15M                    149\n",
       "11M                    149\n",
       "17M                    126\n",
       "25M                    125\n",
       "21M                    112\n",
       "16M                    112\n",
       "24M                    111\n",
       "19M                    110\n",
       "20M                    107\n",
       "26M                    106\n",
       "18M                     99\n",
       "23M                     99\n",
       "10M                     93\n",
       "22M                     92\n",
       "27M                     85\n",
       "28M                     74\n",
       "37M                     71\n",
       "33M                     70\n",
       "30M                     69\n",
       "35M                     66\n",
       "31M                     65\n",
       "29M                     63\n",
       "3.3M                    62\n",
       "44M                     56\n",
       "40M                     55\n",
       "46M                     54\n",
       "                      ... \n",
       "314k                     1\n",
       "50k                      1\n",
       "442k                     1\n",
       "951k                     1\n",
       "82k                      1\n",
       "387k                     1\n",
       "221k                     1\n",
       "93k                      1\n",
       "582k                     1\n",
       "18k                      1\n",
       "103k                     1\n",
       "780k                     1\n",
       "809k                     1\n",
       "526k                     1\n",
       "861k                     1\n",
       "787k                     1\n",
       "308k                     1\n",
       "957k                     1\n",
       "371k                     1\n",
       "280k                     1\n",
       "982k                     1\n",
       "862k                     1\n",
       "948k                     1\n",
       "812k                     1\n",
       "779k                     1\n",
       "511k                     1\n",
       "853k                     1\n",
       "55k                      1\n",
       "208k                     1\n",
       "498k                     1\n",
       "Name: Size, Length: 413, dtype: int64"
      ]
     },
     "execution_count": 26,
     "metadata": {},
     "output_type": "execute_result"
    }
   ],
   "source": [
    "apps_df[column_name].value_counts()"
   ]
  },
  {
   "cell_type": "code",
   "execution_count": 27,
   "metadata": {
    "collapsed": true
   },
   "outputs": [],
   "source": [
    "normalize_varies = lambda x : '0k' if x == \"Varies with device\" else x"
   ]
  },
  {
   "cell_type": "code",
   "execution_count": 28,
   "metadata": {
    "collapsed": true
   },
   "outputs": [],
   "source": [
    "normalize_sizes = lambda x : float(x[:-1]) if x != 0 and x[-1:]=='k' else float(x[:-1])*float(1000)"
   ]
  },
  {
   "cell_type": "code",
   "execution_count": 29,
   "metadata": {
    "collapsed": true
   },
   "outputs": [],
   "source": [
    "normalized_size = apps_df[column_name].apply(normalize_varies)\n",
    "normalized_size = normalized_size.apply(normalize_sizes)"
   ]
  },
  {
   "cell_type": "code",
   "execution_count": 30,
   "metadata": {
    "collapsed": true
   },
   "outputs": [
    {
     "data": {
      "text/plain": [
       "0       19,000.000\n",
       "1       14,000.000\n",
       "2        8,700.000\n",
       "3       25,000.000\n",
       "4        2,800.000\n",
       "5        5,600.000\n",
       "6       19,000.000\n",
       "7       29,000.000\n",
       "8       33,000.000\n",
       "9        3,100.000\n",
       "10      28,000.000\n",
       "11      12,000.000\n",
       "12      20,000.000\n",
       "13      21,000.000\n",
       "14      37,000.000\n",
       "16       5,500.000\n",
       "17      17,000.000\n",
       "18      39,000.000\n",
       "19      31,000.000\n",
       "20      14,000.000\n",
       "21      12,000.000\n",
       "22       4,200.000\n",
       "24      23,000.000\n",
       "25       6,000.000\n",
       "26      25,000.000\n",
       "27       6,100.000\n",
       "28       4,600.000\n",
       "29       4,200.000\n",
       "30       9,200.000\n",
       "31       5,200.000\n",
       "           ...    \n",
       "10795    4,000.000\n",
       "10796    7,800.000\n",
       "10797   46,000.000\n",
       "10799    6,800.000\n",
       "10800   12,000.000\n",
       "10801   19,000.000\n",
       "10802   28,000.000\n",
       "10803   81,000.000\n",
       "10804   17,000.000\n",
       "10805   15,000.000\n",
       "10809   24,000.000\n",
       "10810   21,000.000\n",
       "10812   13,000.000\n",
       "10814   31,000.000\n",
       "10815    4,900.000\n",
       "10817    8,000.000\n",
       "10819    3,600.000\n",
       "10820    8,600.000\n",
       "10826        0.000\n",
       "10827   13,000.000\n",
       "10828   13,000.000\n",
       "10829    7,400.000\n",
       "10830    2,300.000\n",
       "10832      582.000\n",
       "10833      619.000\n",
       "10834    2,600.000\n",
       "10836   53,000.000\n",
       "10837    3,600.000\n",
       "10839        0.000\n",
       "10840   19,000.000\n",
       "Name: Size, Length: 8886, dtype: float64"
      ]
     },
     "execution_count": 30,
     "metadata": {},
     "output_type": "execute_result"
    }
   ],
   "source": [
    "normalized_size"
   ]
  },
  {
   "cell_type": "markdown",
   "metadata": {},
   "source": [
    "Here, we see that many of the values Vary with device. To capture what I believe to be an ordinal relationship, I will disregard the values that have sizes that vary with device and instead plot the data relatively. I will have to transform the M values to on scale with the k values."
   ]
  },
  {
   "cell_type": "markdown",
   "metadata": {},
   "source": [
    "#### Column 6 - Installs\n",
    "number of app downloads"
   ]
  },
  {
   "cell_type": "code",
   "execution_count": 31,
   "metadata": {
    "collapsed": true
   },
   "outputs": [],
   "source": [
    "column_name = 'Installs'"
   ]
  },
  {
   "cell_type": "code",
   "execution_count": 32,
   "metadata": {},
   "outputs": [
    {
     "data": {
      "text/plain": [
       "1,000,000+        1485\n",
       "10,000,000+       1132\n",
       "100,000+          1110\n",
       "10,000+            988\n",
       "1,000+             697\n",
       "5,000,000+         683\n",
       "500,000+           515\n",
       "50,000+            461\n",
       "5,000+             425\n",
       "100,000,000+       369\n",
       "100+               303\n",
       "50,000,000+        272\n",
       "500+               199\n",
       "10+                 69\n",
       "500,000,000+        61\n",
       "50+                 56\n",
       "1,000,000,000+      49\n",
       "5+                   9\n",
       "1+                   3\n",
       "Name: Installs, dtype: int64"
      ]
     },
     "execution_count": 32,
     "metadata": {},
     "output_type": "execute_result"
    }
   ],
   "source": [
    "apps_df[column_name].value_counts()"
   ]
  },
  {
   "cell_type": "code",
   "execution_count": 33,
   "metadata": {
    "collapsed": true
   },
   "outputs": [],
   "source": [
    "normalized_installs = apps_df[column_name]"
   ]
  },
  {
   "cell_type": "code",
   "execution_count": 34,
   "metadata": {
    "collapsed": true
   },
   "outputs": [],
   "source": [
    "x = lambda x : int(x[:-1].replace(',',''))"
   ]
  },
  {
   "cell_type": "code",
   "execution_count": 35,
   "metadata": {
    "collapsed": true
   },
   "outputs": [],
   "source": [
    "normalized_installs = normalized_installs.apply(x)"
   ]
  },
  {
   "cell_type": "code",
   "execution_count": 36,
   "metadata": {
    "collapsed": true
   },
   "outputs": [
    {
     "name": "stdout",
     "output_type": "stream",
     "text": [
      "0           10000\n",
      "1          500000\n",
      "2         5000000\n",
      "3        50000000\n",
      "4          100000\n",
      "5           50000\n",
      "6           50000\n",
      "7         1000000\n",
      "8         1000000\n",
      "9           10000\n",
      "10        1000000\n",
      "11        1000000\n",
      "12       10000000\n",
      "13         100000\n",
      "14         100000\n",
      "16         500000\n",
      "17          10000\n",
      "18        5000000\n",
      "19       10000000\n",
      "20         100000\n",
      "21         100000\n",
      "22         500000\n",
      "24          50000\n",
      "25          10000\n",
      "26         500000\n",
      "27         100000\n",
      "28          10000\n",
      "29         100000\n",
      "30         100000\n",
      "31          50000\n",
      "           ...   \n",
      "10795      100000\n",
      "10796     1000000\n",
      "10797     1000000\n",
      "10799      100000\n",
      "10800        5000\n",
      "10801        1000\n",
      "10802       10000\n",
      "10803     1000000\n",
      "10804      100000\n",
      "10805         100\n",
      "10809     1000000\n",
      "10810         100\n",
      "10812        1000\n",
      "10814       50000\n",
      "10815      500000\n",
      "10817      100000\n",
      "10819        5000\n",
      "10820        1000\n",
      "10826     5000000\n",
      "10827        5000\n",
      "10828       10000\n",
      "10829       10000\n",
      "10830      100000\n",
      "10832      100000\n",
      "10833        1000\n",
      "10834         500\n",
      "10836        5000\n",
      "10837         100\n",
      "10839        1000\n",
      "10840    10000000\n",
      "Name: Installs, Length: 8886, dtype: int64\n"
     ]
    }
   ],
   "source": [
    "pp.pprint(normalized_installs)"
   ]
  },
  {
   "cell_type": "markdown",
   "metadata": {},
   "source": [
    "#### Column 7 - Type\n",
    "Paid or Free Apps"
   ]
  },
  {
   "cell_type": "code",
   "execution_count": 37,
   "metadata": {
    "collapsed": true
   },
   "outputs": [
    {
     "data": {
      "text/plain": [
       "Free    8275\n",
       "Paid     611\n",
       "Name: Type, dtype: int64"
      ]
     },
     "execution_count": 37,
     "metadata": {},
     "output_type": "execute_result"
    }
   ],
   "source": [
    "column_name = 'Type'\n",
    "apps_df[column_name].value_counts()"
   ]
  },
  {
   "cell_type": "code",
   "execution_count": 38,
   "metadata": {
    "collapsed": true
   },
   "outputs": [],
   "source": [
    "normalizer = lambda x : int(0) if x == 'Free' else int(1)"
   ]
  },
  {
   "cell_type": "code",
   "execution_count": 39,
   "metadata": {
    "collapsed": true
   },
   "outputs": [
    {
     "data": {
      "text/plain": [
       "0    8275\n",
       "1     611\n",
       "Name: Type, dtype: int64"
      ]
     },
     "execution_count": 39,
     "metadata": {},
     "output_type": "execute_result"
    }
   ],
   "source": [
    "normalized_type = apps_df[column_name].apply(normalizer)\n",
    "normalized_type.value_counts()"
   ]
  },
  {
   "cell_type": "markdown",
   "metadata": {},
   "source": [
    "Converted Paid to 1, and Free to 0."
   ]
  },
  {
   "cell_type": "markdown",
   "metadata": {},
   "source": [
    "#### Column 8 - Price\n",
    "Cost of application"
   ]
  },
  {
   "cell_type": "code",
   "execution_count": 40,
   "metadata": {
    "collapsed": true
   },
   "outputs": [
    {
     "name": "stdout",
     "output_type": "stream",
     "text": [
      "Description for Column: Price\n",
      "count     8886\n",
      "unique      73\n",
      "top          0\n",
      "freq      8275\n",
      "Name: Price, dtype: object\n",
      "Unique Values for Column: Price\n",
      "array(['0', '$4.99', '$3.99', '$6.99', '$7.99', '$5.99', '$2.99', '$3.49',\n",
      "       '$1.99', '$9.99', '$7.49', '$0.99', '$9.00', '$5.49', '$10.00',\n",
      "       '$24.99', '$11.99', '$79.99', '$16.99', '$14.99', '$29.99',\n",
      "       '$12.99', '$2.49', '$10.99', '$1.50', '$19.99', '$15.99', '$33.99',\n",
      "       '$39.99', '$3.95', '$4.49', '$1.70', '$8.99', '$1.49', '$3.88',\n",
      "       '$399.99', '$17.99', '$400.00', '$3.02', '$1.76', '$4.84', '$4.77',\n",
      "       '$1.61', '$2.50', '$1.59', '$6.49', '$1.29', '$299.99', '$379.99',\n",
      "       '$37.99', '$18.99', '$389.99', '$8.49', '$1.75', '$14.00', '$2.00',\n",
      "       '$3.08', '$2.59', '$19.40', '$3.90', '$4.59', '$15.46', '$3.04',\n",
      "       '$13.99', '$4.29', '$3.28', '$4.60', '$1.00', '$2.95', '$2.90',\n",
      "       '$1.97', '$2.56', '$1.20'], dtype=object)\n"
     ]
    }
   ],
   "source": [
    "column_name = 'Price'\n",
    "p_stats(column_name)"
   ]
  },
  {
   "cell_type": "code",
   "execution_count": 41,
   "metadata": {
    "collapsed": true
   },
   "outputs": [
    {
     "data": {
      "text/plain": [
       "0          8275\n",
       "$2.99       110\n",
       "$0.99       104\n",
       "$4.99        68\n",
       "$1.99        59\n",
       "$3.99        55\n",
       "$1.49        30\n",
       "$2.49        20\n",
       "$5.99        15\n",
       "$9.99        14\n",
       "$6.99        12\n",
       "$399.99      11\n",
       "$4.49         9\n",
       "$14.99        8\n",
       "$3.49         7\n",
       "$7.99         7\n",
       "$19.99        4\n",
       "$8.99         4\n",
       "$29.99        4\n",
       "$12.99        4\n",
       "$24.99        3\n",
       "$11.99        3\n",
       "$5.49         2\n",
       "$3.95         2\n",
       "$1.70         2\n",
       "$10.99        2\n",
       "$16.99        2\n",
       "$1.00         2\n",
       "$17.99        2\n",
       "$10.00        2\n",
       "           ... \n",
       "$3.04         1\n",
       "$15.46        1\n",
       "$1.20         1\n",
       "$3.02         1\n",
       "$2.59         1\n",
       "$1.97         1\n",
       "$2.00         1\n",
       "$37.99        1\n",
       "$1.76         1\n",
       "$15.99        1\n",
       "$2.95         1\n",
       "$8.49         1\n",
       "$1.59         1\n",
       "$19.40        1\n",
       "$3.90         1\n",
       "$3.08         1\n",
       "$2.90         1\n",
       "$33.99        1\n",
       "$2.56         1\n",
       "$4.60         1\n",
       "$79.99        1\n",
       "$14.00        1\n",
       "$13.99        1\n",
       "$4.29         1\n",
       "$9.00         1\n",
       "$6.49         1\n",
       "$299.99       1\n",
       "$3.88         1\n",
       "$389.99       1\n",
       "$1.50         1\n",
       "Name: Price, Length: 73, dtype: int64"
      ]
     },
     "execution_count": 41,
     "metadata": {},
     "output_type": "execute_result"
    }
   ],
   "source": [
    "apps_df[column_name].value_counts()"
   ]
  },
  {
   "cell_type": "code",
   "execution_count": 42,
   "metadata": {
    "collapsed": true
   },
   "outputs": [],
   "source": [
    "normalizer = lambda x : float(0.0) if x == '0' else float(x[1:])"
   ]
  },
  {
   "cell_type": "code",
   "execution_count": 43,
   "metadata": {
    "collapsed": true
   },
   "outputs": [
    {
     "name": "stdout",
     "output_type": "stream",
     "text": [
      "2168   7.490\n",
      "2284   7.490\n",
      "Name: Price, dtype: float64\n"
     ]
    }
   ],
   "source": [
    "formatted_price = apps_df[column_name].apply(normalizer).astype('float64')\n",
    "pp.pprint(formatted_price[formatted_price == 7.49])"
   ]
  },
  {
   "cell_type": "code",
   "execution_count": 44,
   "metadata": {
    "collapsed": true
   },
   "outputs": [
    {
     "data": {
      "text/plain": [
       "numpy.ndarray"
      ]
     },
     "execution_count": 44,
     "metadata": {},
     "output_type": "execute_result"
    }
   ],
   "source": [
    "type(formatted_price.values)"
   ]
  },
  {
   "cell_type": "markdown",
   "metadata": {},
   "source": [
    "and now i normalize the data"
   ]
  },
  {
   "cell_type": "code",
   "execution_count": 45,
   "metadata": {
    "collapsed": true
   },
   "outputs": [],
   "source": [
    "normalized_price = formatted_price\n",
    "normalized_price = pd.Series(data = preprocessing.minmax_scale(formatted_price), index = formatted_price.index)"
   ]
  },
  {
   "cell_type": "code",
   "execution_count": 46,
   "metadata": {
    "collapsed": true
   },
   "outputs": [
    {
     "name": "stdout",
     "output_type": "stream",
     "text": [
      "234     0.012\n",
      "235     0.012\n",
      "427     0.010\n",
      "476     0.010\n",
      "477     0.017\n",
      "481     0.020\n",
      "571     0.010\n",
      "851     0.010\n",
      "852     0.015\n",
      "853     0.010\n",
      "854     0.010\n",
      "995     0.012\n",
      "1001    0.007\n",
      "1227    0.009\n",
      "1228    0.012\n",
      "1327    0.007\n",
      "1335    0.010\n",
      "1341    0.007\n",
      "1831    0.007\n",
      "1832    0.005\n",
      "1833    0.012\n",
      "1834    0.012\n",
      "1835    0.012\n",
      "1836    0.015\n",
      "1837    0.017\n",
      "1838    0.025\n",
      "1839    0.012\n",
      "2062    0.010\n",
      "2085    0.007\n",
      "2086    0.010\n",
      "         ... \n",
      "10052   0.012\n",
      "10060   0.002\n",
      "10066   0.002\n",
      "10072   0.010\n",
      "10073   0.004\n",
      "10122   0.007\n",
      "10270   0.005\n",
      "10442   0.005\n",
      "10446   0.007\n",
      "10448   0.002\n",
      "10450   0.020\n",
      "10453   0.007\n",
      "10457   0.007\n",
      "10459   0.005\n",
      "10460   0.003\n",
      "10531   0.009\n",
      "10540   0.007\n",
      "10570   0.005\n",
      "10583   0.017\n",
      "10586   0.002\n",
      "10594   0.005\n",
      "10645   0.022\n",
      "10675   0.002\n",
      "10679   0.007\n",
      "10682   0.002\n",
      "10690   0.002\n",
      "10697   0.002\n",
      "10760   0.020\n",
      "10782   0.042\n",
      "10785   0.003\n",
      "Length: 611, dtype: float64\n"
     ]
    }
   ],
   "source": [
    "pp.pprint(normalized_price[normalized_price != 0])"
   ]
  },
  {
   "cell_type": "code",
   "execution_count": 47,
   "metadata": {
    "collapsed": true
   },
   "outputs": [
    {
     "data": {
      "text/plain": [
       "pandas.core.series.Series"
      ]
     },
     "execution_count": 47,
     "metadata": {},
     "output_type": "execute_result"
    }
   ],
   "source": [
    "type(normalized_price)"
   ]
  },
  {
   "cell_type": "markdown",
   "metadata": {},
   "source": [
    "#### Column 9 - Content Rating\n",
    "Application Maturity Rating"
   ]
  },
  {
   "cell_type": "code",
   "execution_count": 48,
   "metadata": {
    "collapsed": true
   },
   "outputs": [
    {
     "name": "stdout",
     "output_type": "stream",
     "text": [
      "Description for Column: Content Rating\n",
      "count         8886\n",
      "unique           6\n",
      "top       Everyone\n",
      "freq          7089\n",
      "Name: Content Rating, dtype: object\n",
      "Unique Values for Column: Content Rating\n",
      "array(['Everyone', 'Teen', 'Everyone 10+', 'Mature 17+',\n",
      "       'Adults only 18+', 'Unrated'], dtype=object)\n"
     ]
    }
   ],
   "source": [
    "column_name = 'Content Rating'\n",
    "p_stats(column_name)"
   ]
  },
  {
   "cell_type": "code",
   "execution_count": 49,
   "metadata": {
    "collapsed": true
   },
   "outputs": [
    {
     "data": {
      "text/plain": [
       "Everyone           7089\n",
       "Teen               1022\n",
       "Mature 17+          411\n",
       "Everyone 10+        360\n",
       "Adults only 18+       3\n",
       "Unrated               1\n",
       "Name: Content Rating, dtype: int64"
      ]
     },
     "execution_count": 49,
     "metadata": {},
     "output_type": "execute_result"
    }
   ],
   "source": [
    "apps_df[column_name].value_counts()"
   ]
  },
  {
   "cell_type": "code",
   "execution_count": 50,
   "metadata": {
    "collapsed": true
   },
   "outputs": [],
   "source": [
    "ratings_map = {\n",
    "    'Everyone':1,\n",
    "    'Everyone 10+':2,\n",
    "    'Teen':3,\n",
    "    'Mature 17+':4,\n",
    "    'Adults only 18+':5,\n",
    "    'Unrated':6\n",
    "}"
   ]
  },
  {
   "cell_type": "code",
   "execution_count": 51,
   "metadata": {
    "collapsed": true
   },
   "outputs": [],
   "source": [
    "normalizer = lambda x: ratings_map[x]"
   ]
  },
  {
   "cell_type": "code",
   "execution_count": 52,
   "metadata": {
    "collapsed": true
   },
   "outputs": [],
   "source": [
    "normalized_content_rating = apps_df[column_name].copy().apply(normalizer).astype('int')"
   ]
  },
  {
   "cell_type": "code",
   "execution_count": 53,
   "metadata": {
    "collapsed": true
   },
   "outputs": [
    {
     "data": {
      "text/plain": [
       "1    7089\n",
       "3    1022\n",
       "4     411\n",
       "2     360\n",
       "5       3\n",
       "6       1\n",
       "Name: Content Rating, dtype: int64"
      ]
     },
     "execution_count": 53,
     "metadata": {},
     "output_type": "execute_result"
    }
   ],
   "source": [
    "normalized_content_rating.value_counts()"
   ]
  },
  {
   "cell_type": "code",
   "execution_count": 54,
   "metadata": {
    "collapsed": true
   },
   "outputs": [
    {
     "data": {
      "text/plain": [
       "pandas.core.series.Series"
      ]
     },
     "execution_count": 54,
     "metadata": {},
     "output_type": "execute_result"
    }
   ],
   "source": [
    "type(normalized_content_rating)"
   ]
  },
  {
   "cell_type": "markdown",
   "metadata": {},
   "source": [
    "#### Column 10 - Genres\n",
    "Application Genre (can have multiple)"
   ]
  },
  {
   "cell_type": "code",
   "execution_count": 55,
   "metadata": {
    "collapsed": true
   },
   "outputs": [
    {
     "data": {
      "text/plain": [
       "0                     Art & Design\n",
       "1        Art & Design;Pretend Play\n",
       "2                     Art & Design\n",
       "3                     Art & Design\n",
       "4          Art & Design;Creativity\n",
       "5                     Art & Design\n",
       "6                     Art & Design\n",
       "7                     Art & Design\n",
       "8                     Art & Design\n",
       "9          Art & Design;Creativity\n",
       "10                    Art & Design\n",
       "11                    Art & Design\n",
       "12                    Art & Design\n",
       "13                    Art & Design\n",
       "14                    Art & Design\n",
       "16                    Art & Design\n",
       "17                    Art & Design\n",
       "18                    Art & Design\n",
       "19                    Art & Design\n",
       "20                    Art & Design\n",
       "21                    Art & Design\n",
       "22                    Art & Design\n",
       "24                    Art & Design\n",
       "25                    Art & Design\n",
       "26         Art & Design;Creativity\n",
       "27                    Art & Design\n",
       "28                    Art & Design\n",
       "29                    Art & Design\n",
       "30                    Art & Design\n",
       "31                    Art & Design\n",
       "                   ...            \n",
       "10795                        Tools\n",
       "10796                        Tools\n",
       "10797                    Lifestyle\n",
       "10799                       Social\n",
       "10800                        Tools\n",
       "10801                    Education\n",
       "10802                Entertainment\n",
       "10803                       Action\n",
       "10804                         Card\n",
       "10805                    Lifestyle\n",
       "10809                     Strategy\n",
       "10810                     Business\n",
       "10812                    Education\n",
       "10814                Entertainment\n",
       "10815            Books & Reference\n",
       "10817                        Tools\n",
       "10819            Books & Reference\n",
       "10820                    Education\n",
       "10826                       Social\n",
       "10827                    Education\n",
       "10828                       Comics\n",
       "10829            Books & Reference\n",
       "10830             News & Magazines\n",
       "10832                      Weather\n",
       "10833            Books & Reference\n",
       "10834                    Education\n",
       "10836                    Education\n",
       "10837                    Education\n",
       "10839            Books & Reference\n",
       "10840                    Lifestyle\n",
       "Name: Genres, Length: 8886, dtype: object"
      ]
     },
     "execution_count": 55,
     "metadata": {},
     "output_type": "execute_result"
    }
   ],
   "source": [
    "apps_df['Genres']"
   ]
  },
  {
   "cell_type": "code",
   "execution_count": 56,
   "metadata": {
    "collapsed": true
   },
   "outputs": [
    {
     "name": "stdout",
     "output_type": "stream",
     "text": [
      "Description for Column: Genres\n",
      "count      8886\n",
      "unique      115\n",
      "top       Tools\n",
      "freq        732\n",
      "Name: Genres, dtype: object\n",
      "Unique Values for Column: Genres\n",
      "array(['Art & Design', 'Art & Design;Pretend Play',\n",
      "       'Art & Design;Creativity', 'Auto & Vehicles', 'Beauty',\n",
      "       'Books & Reference', 'Business', 'Comics', 'Comics;Creativity',\n",
      "       'Communication', 'Dating', 'Education;Education', 'Education',\n",
      "       'Education;Creativity', 'Education;Music & Video',\n",
      "       'Education;Action & Adventure', 'Education;Pretend Play',\n",
      "       'Education;Brain Games', 'Entertainment',\n",
      "       'Entertainment;Music & Video', 'Entertainment;Brain Games',\n",
      "       'Entertainment;Creativity', 'Events', 'Finance', 'Food & Drink',\n",
      "       'Health & Fitness', 'House & Home', 'Libraries & Demo',\n",
      "       'Lifestyle', 'Lifestyle;Pretend Play',\n",
      "       'Adventure;Action & Adventure', 'Arcade', 'Casual', 'Card',\n",
      "       'Casual;Pretend Play', 'Action', 'Strategy', 'Puzzle', 'Sports',\n",
      "       'Music', 'Word', 'Racing', 'Casual;Creativity',\n",
      "       'Casual;Action & Adventure', 'Simulation', 'Adventure', 'Board',\n",
      "       'Trivia', 'Role Playing', 'Simulation;Education',\n",
      "       'Action;Action & Adventure', 'Casual;Brain Games',\n",
      "       'Simulation;Action & Adventure', 'Educational;Creativity',\n",
      "       'Puzzle;Brain Games', 'Educational;Education', 'Card;Brain Games',\n",
      "       'Educational;Brain Games', 'Educational;Pretend Play',\n",
      "       'Entertainment;Education', 'Casual;Education',\n",
      "       'Music;Music & Video', 'Racing;Action & Adventure',\n",
      "       'Arcade;Pretend Play', 'Role Playing;Action & Adventure',\n",
      "       'Simulation;Pretend Play', 'Puzzle;Creativity',\n",
      "       'Sports;Action & Adventure', 'Educational;Action & Adventure',\n",
      "       'Arcade;Action & Adventure', 'Entertainment;Action & Adventure',\n",
      "       'Puzzle;Action & Adventure', 'Strategy;Action & Adventure',\n",
      "       'Music & Audio;Music & Video', 'Health & Fitness;Education',\n",
      "       'Adventure;Education', 'Board;Brain Games',\n",
      "       'Board;Action & Adventure', 'Board;Pretend Play',\n",
      "       'Casual;Music & Video', 'Role Playing;Pretend Play',\n",
      "       'Entertainment;Pretend Play', 'Video Players & Editors;Creativity',\n",
      "       'Card;Action & Adventure', 'Medical', 'Social', 'Shopping',\n",
      "       'Photography', 'Travel & Local',\n",
      "       'Travel & Local;Action & Adventure', 'Tools', 'Tools;Education',\n",
      "       'Personalization', 'Productivity', 'Parenting',\n",
      "       'Parenting;Music & Video', 'Parenting;Brain Games',\n",
      "       'Parenting;Education', 'Weather', 'Video Players & Editors',\n",
      "       'Video Players & Editors;Music & Video', 'News & Magazines',\n",
      "       'Maps & Navigation', 'Health & Fitness;Action & Adventure',\n",
      "       'Educational', 'Casino', 'Adventure;Brain Games',\n",
      "       'Lifestyle;Education', 'Books & Reference;Education',\n",
      "       'Puzzle;Education', 'Role Playing;Brain Games',\n",
      "       'Strategy;Education', 'Racing;Pretend Play',\n",
      "       'Communication;Creativity', 'Strategy;Creativity'], dtype=object)\n"
     ]
    }
   ],
   "source": [
    "p_stats('Genres')"
   ]
  },
  {
   "cell_type": "markdown",
   "metadata": {},
   "source": [
    "This is good candidate for PCA with Category."
   ]
  },
  {
   "cell_type": "code",
   "execution_count": 57,
   "metadata": {
    "collapsed": true
   },
   "outputs": [
    {
     "data": {
      "text/plain": [
       "Tools                                  732\n",
       "Entertainment                          498\n",
       "Education                              446\n",
       "Action                                 349\n",
       "Productivity                           334\n",
       "Finance                                317\n",
       "Personalization                        308\n",
       "Communication                          307\n",
       "Photography                            304\n",
       "Lifestyle                              304\n",
       "Medical                                302\n",
       "Sports                                 299\n",
       "Business                               270\n",
       "Health & Fitness                       262\n",
       "Social                                 244\n",
       "News & Magazines                       214\n",
       "Arcade                                 205\n",
       "Travel & Local                         204\n",
       "Shopping                               202\n",
       "Simulation                             193\n",
       "Casual                                 183\n",
       "Books & Reference                      177\n",
       "Dating                                 159\n",
       "Video Players & Editors                158\n",
       "Maps & Navigation                      124\n",
       "Puzzle                                 116\n",
       "Role Playing                           106\n",
       "Food & Drink                           106\n",
       "Strategy                               101\n",
       "Racing                                  93\n",
       "                                      ... \n",
       "Parenting;Education                      3\n",
       "Books & Reference;Education              2\n",
       "Adventure;Education                      2\n",
       "Card;Action & Adventure                  2\n",
       "Art & Design;Pretend Play                2\n",
       "Strategy;Action & Adventure              2\n",
       "Entertainment;Pretend Play               2\n",
       "Video Players & Editors;Creativity       2\n",
       "Puzzle;Creativity                        2\n",
       "Casual;Music & Video                     1\n",
       "Health & Fitness;Action & Adventure      1\n",
       "Board;Pretend Play                       1\n",
       "Adventure;Brain Games                    1\n",
       "Communication;Creativity                 1\n",
       "Puzzle;Education                         1\n",
       "Card;Brain Games                         1\n",
       "Strategy;Creativity                      1\n",
       "Entertainment;Education                  1\n",
       "Racing;Pretend Play                      1\n",
       "Role Playing;Brain Games                 1\n",
       "Lifestyle;Pretend Play                   1\n",
       "Arcade;Pretend Play                      1\n",
       "Health & Fitness;Education               1\n",
       "Comics;Creativity                        1\n",
       "Travel & Local;Action & Adventure        1\n",
       "Strategy;Education                       1\n",
       "Parenting;Brain Games                    1\n",
       "Lifestyle;Education                      1\n",
       "Music & Audio;Music & Video              1\n",
       "Tools;Education                          1\n",
       "Name: Genres, Length: 115, dtype: int64"
      ]
     },
     "execution_count": 57,
     "metadata": {},
     "output_type": "execute_result"
    }
   ],
   "source": [
    "apps_df['Genres'].value_counts()"
   ]
  },
  {
   "cell_type": "markdown",
   "metadata": {},
   "source": [
    "#### Column 11 - Last Updated\n",
    "When the application was last updated"
   ]
  },
  {
   "cell_type": "code",
   "execution_count": 58,
   "metadata": {
    "collapsed": true
   },
   "outputs": [
    {
     "name": "stdout",
     "output_type": "stream",
     "text": [
      "Description for Column: Last Updated\n",
      "count               8886\n",
      "unique              1299\n",
      "top       August 3, 2018\n",
      "freq                 291\n",
      "Name: Last Updated, dtype: object\n",
      "Unique Values for Column: Last Updated\n",
      "array(['January 7, 2018', 'January 15, 2018', 'August 1, 2018', ...,\n",
      "       'January 20, 2014', 'February 16, 2014', 'March 23, 2014'],\n",
      "      dtype=object)\n"
     ]
    }
   ],
   "source": [
    "column_name = 'Last Updated'\n",
    "p_stats(column_name)"
   ]
  },
  {
   "cell_type": "code",
   "execution_count": 59,
   "metadata": {
    "collapsed": true
   },
   "outputs": [],
   "source": [
    "test = apps_df[column_name].astype('datetime64[ns]')"
   ]
  },
  {
   "cell_type": "code",
   "execution_count": 60,
   "metadata": {
    "collapsed": true
   },
   "outputs": [],
   "source": [
    "min_val = test.min()"
   ]
  },
  {
   "cell_type": "code",
   "execution_count": 61,
   "metadata": {
    "collapsed": true
   },
   "outputs": [],
   "source": [
    "max_val = test.max()"
   ]
  },
  {
   "cell_type": "code",
   "execution_count": 62,
   "metadata": {},
   "outputs": [
    {
     "name": "stdout",
     "output_type": "stream",
     "text": [
      "first time 2010-05-21 00:00:00\n",
      "last time 2018-08-08 00:00:00\n"
     ]
    }
   ],
   "source": [
    "print('first time', min_val)\n",
    "print('last time', max_val)"
   ]
  },
  {
   "cell_type": "code",
   "execution_count": 63,
   "metadata": {
    "collapsed": true
   },
   "outputs": [],
   "source": [
    "year_range = test.max().year - test.min().year"
   ]
  },
  {
   "cell_type": "code",
   "execution_count": 64,
   "metadata": {
    "collapsed": true
   },
   "outputs": [],
   "source": [
    "normalizer = lambda x : (x.year - min_val.year) * 12 + x.month\n",
    "normalized_last_updated = test.apply(normalizer)"
   ]
  },
  {
   "cell_type": "code",
   "execution_count": 136,
   "metadata": {},
   "outputs": [
    {
     "data": {
      "text/plain": [
       "pandas.core.series.Series"
      ]
     },
     "execution_count": 136,
     "metadata": {},
     "output_type": "execute_result"
    }
   ],
   "source": [
    "type(normalized_last_updated)"
   ]
  },
  {
   "cell_type": "code",
   "execution_count": 137,
   "metadata": {},
   "outputs": [
    {
     "data": {
      "text/plain": [
       "0         97\n",
       "1         97\n",
       "2        104\n",
       "3        102\n",
       "4        102\n",
       "5         87\n",
       "6        100\n",
       "7        102\n",
       "8         93\n",
       "9        103\n",
       "10        94\n",
       "11       103\n",
       "12       100\n",
       "13       102\n",
       "14       104\n",
       "16       103\n",
       "17        95\n",
       "18       104\n",
       "19       103\n",
       "20       100\n",
       "21        99\n",
       "22       103\n",
       "24       103\n",
       "25       100\n",
       "26        94\n",
       "27        99\n",
       "28       103\n",
       "29        92\n",
       "30       103\n",
       "31       101\n",
       "        ... \n",
       "10795    101\n",
       "10796    103\n",
       "10797    102\n",
       "10799    101\n",
       "10800    103\n",
       "10801     97\n",
       "10802     68\n",
       "10803    104\n",
       "10804    101\n",
       "10805    104\n",
       "10809    103\n",
       "10810    102\n",
       "10812    102\n",
       "10814     66\n",
       "10815    103\n",
       "10817     70\n",
       "10819     92\n",
       "10820    102\n",
       "10826     99\n",
       "10827    102\n",
       "10828     89\n",
       "10829     78\n",
       "10830     49\n",
       "10832     50\n",
       "10833     51\n",
       "10834     90\n",
       "10836     91\n",
       "10837    103\n",
       "10839     61\n",
       "10840    103\n",
       "Name: Last Updated, Length: 8886, dtype: int64"
      ]
     },
     "execution_count": 137,
     "metadata": {},
     "output_type": "execute_result"
    }
   ],
   "source": [
    "normalized_last_updated"
   ]
  },
  {
   "cell_type": "markdown",
   "metadata": {},
   "source": [
    "#### Column 12 - Current Version\n",
    "Current Version of app available on play store."
   ]
  },
  {
   "cell_type": "code",
   "execution_count": 66,
   "metadata": {
    "collapsed": true
   },
   "outputs": [],
   "source": [
    "column_name = 'Current Ver'"
   ]
  },
  {
   "cell_type": "code",
   "execution_count": 67,
   "metadata": {
    "collapsed": true
   },
   "outputs": [
    {
     "name": "stdout",
     "output_type": "stream",
     "text": [
      "Description for Column: Current Ver\n",
      "count                   8886\n",
      "unique                  2638\n",
      "top       Varies with device\n",
      "freq                    1258\n",
      "Name: Current Ver, dtype: object\n",
      "Unique Values for Column: Current Ver\n",
      "array(['1.0.0', '2.0.0', '1.2.4', ..., '1.5.447', '1.0.612928', '0.3.4'],\n",
      "      dtype=object)\n"
     ]
    }
   ],
   "source": [
    "p_stats(column_name)"
   ]
  },
  {
   "cell_type": "markdown",
   "metadata": {},
   "source": [
    "This is an arbitrary value set by application developers. A possible correlation occurs because of a psychological effect of higher version numbers, but this hypothesis will not be  validated this study."
   ]
  },
  {
   "cell_type": "markdown",
   "metadata": {},
   "source": [
    "#### Column 13 - Android Version\n",
    "Minimum Required Version to run the App."
   ]
  },
  {
   "cell_type": "code",
   "execution_count": 68,
   "metadata": {
    "collapsed": true
   },
   "outputs": [],
   "source": [
    "column_name = 'Android Ver'"
   ]
  },
  {
   "cell_type": "code",
   "execution_count": 69,
   "metadata": {
    "collapsed": true
   },
   "outputs": [
    {
     "name": "stdout",
     "output_type": "stream",
     "text": [
      "Description for Column: Android Ver\n",
      "count           8886\n",
      "unique            31\n",
      "top       4.1 and up\n",
      "freq            1987\n",
      "Name: Android Ver, dtype: object\n",
      "Unique Values for Column: Android Ver\n",
      "array(['4.0.3 and up', '4.2 and up', '4.4 and up', '2.3 and up',\n",
      "       '3.0 and up', '4.1 and up', '4.0 and up', '2.3.3 and up',\n",
      "       'Varies with device', '2.2 and up', '5.0 and up', '6.0 and up',\n",
      "       '1.6 and up', '1.5 and up', '2.1 and up', '7.0 and up',\n",
      "       '4.3 and up', '4.0.3 - 7.1.1', '2.0 and up', '3.2 and up',\n",
      "       '4.4W and up', '5.1 and up', '7.1 and up', '7.0 - 7.1.1',\n",
      "       '8.0 and up', '5.0 - 8.0', '3.1 and up', '2.0.1 and up',\n",
      "       '4.1 - 7.1.1', '5.0 - 6.0', '1.0 and up'], dtype=object)\n"
     ]
    }
   ],
   "source": [
    "p_stats(column_name)"
   ]
  },
  {
   "cell_type": "code",
   "execution_count": 70,
   "metadata": {
    "collapsed": true
   },
   "outputs": [],
   "source": [
    "normalizer = lambda x : x.split(' ')[0]\n",
    "lazy_cleanup = lambda x : 4.4 if x == '4.4W' else x"
   ]
  },
  {
   "cell_type": "code",
   "execution_count": 71,
   "metadata": {
    "collapsed": true
   },
   "outputs": [
    {
     "name": "stdout",
     "output_type": "stream",
     "text": [
      "0         4.0.3\n",
      "1         4.0.3\n",
      "2         4.0.3\n",
      "3           4.2\n",
      "4           4.4\n",
      "5           2.3\n",
      "6         4.0.3\n",
      "7           4.2\n",
      "8           3.0\n",
      "9         4.0.3\n",
      "10          4.1\n",
      "11          4.0\n",
      "12          4.1\n",
      "13          4.4\n",
      "14          2.3\n",
      "16          4.1\n",
      "17          2.3\n",
      "18        4.0.3\n",
      "19          4.1\n",
      "20          4.1\n",
      "21        4.0.3\n",
      "22        4.0.3\n",
      "24          4.1\n",
      "25          3.0\n",
      "26        4.0.3\n",
      "27        4.0.3\n",
      "28          2.3\n",
      "29          2.3\n",
      "30        4.0.3\n",
      "31          2.3\n",
      "          ...  \n",
      "10795       4.1\n",
      "10796       4.1\n",
      "10797       5.0\n",
      "10799     4.0.3\n",
      "10800       4.4\n",
      "10801       4.4\n",
      "10802       3.0\n",
      "10803       4.0\n",
      "10804       2.3\n",
      "10805       4.2\n",
      "10809       4.1\n",
      "10810       4.4\n",
      "10812     4.0.3\n",
      "10814       3.0\n",
      "10815       4.2\n",
      "10817       5.0\n",
      "10819       4.1\n",
      "10820       4.1\n",
      "10826    Varies\n",
      "10827     4.0.3\n",
      "10828       4.0\n",
      "10829       4.1\n",
      "10830       1.6\n",
      "10832       2.1\n",
      "10833       2.2\n",
      "10834       4.1\n",
      "10836       4.1\n",
      "10837       4.1\n",
      "10839    Varies\n",
      "10840    Varies\n",
      "Name: Android Ver, Length: 8886, dtype: object\n"
     ]
    }
   ],
   "source": [
    "normalized_android_ver = apps_df[column_name].apply(normalizer).apply(lazy_cleanup)\n",
    "pp.pprint(normalized_android_ver)"
   ]
  },
  {
   "cell_type": "code",
   "execution_count": 72,
   "metadata": {
    "collapsed": true
   },
   "outputs": [
    {
     "data": {
      "text/plain": [
       "array(['4.0.3', '4.2', '4.4', '2.3', '3.0', '4.1', '4.0', '2.3.3',\n",
       "       'Varies', '2.2', '5.0', '6.0', '1.6', '1.5', '2.1', '7.0', '4.3',\n",
       "       '2.0', '3.2', 4.4, '5.1', '7.1', '8.0', '3.1', '2.0.1', '1.0'],\n",
       "      dtype=object)"
      ]
     },
     "execution_count": 72,
     "metadata": {},
     "output_type": "execute_result"
    }
   ],
   "source": [
    "normalized_android_ver.unique()"
   ]
  },
  {
   "cell_type": "code",
   "execution_count": 73,
   "metadata": {
    "collapsed": true
   },
   "outputs": [],
   "source": [
    "strip_latter_periods = lambda x : x if len(x) == 3 else x[0:2] + x[2:].replace('.','')"
   ]
  },
  {
   "cell_type": "code",
   "execution_count": 74,
   "metadata": {
    "collapsed": true
   },
   "outputs": [],
   "source": [
    "normalized_android_ver = normalized_android_ver.astype('str').apply(strip_latter_periods)"
   ]
  },
  {
   "cell_type": "code",
   "execution_count": 75,
   "metadata": {
    "collapsed": true
   },
   "outputs": [
    {
     "data": {
      "text/plain": [
       "pandas.core.series.Series"
      ]
     },
     "execution_count": 75,
     "metadata": {},
     "output_type": "execute_result"
    }
   ],
   "source": [
    "type(normalized_android_ver)"
   ]
  },
  {
   "cell_type": "code",
   "execution_count": 76,
   "metadata": {},
   "outputs": [
    {
     "data": {
      "text/plain": [
       "0          4.03\n",
       "1          4.03\n",
       "2          4.03\n",
       "3           4.2\n",
       "4           4.4\n",
       "5           2.3\n",
       "6          4.03\n",
       "7           4.2\n",
       "8           3.0\n",
       "9          4.03\n",
       "10          4.1\n",
       "11          4.0\n",
       "12          4.1\n",
       "13          4.4\n",
       "14          2.3\n",
       "16          4.1\n",
       "17          2.3\n",
       "18         4.03\n",
       "19          4.1\n",
       "20          4.1\n",
       "21         4.03\n",
       "22         4.03\n",
       "24          4.1\n",
       "25          3.0\n",
       "26         4.03\n",
       "27         4.03\n",
       "28          2.3\n",
       "29          2.3\n",
       "30         4.03\n",
       "31          2.3\n",
       "          ...  \n",
       "10795       4.1\n",
       "10796       4.1\n",
       "10797       5.0\n",
       "10799      4.03\n",
       "10800       4.4\n",
       "10801       4.4\n",
       "10802       3.0\n",
       "10803       4.0\n",
       "10804       2.3\n",
       "10805       4.2\n",
       "10809       4.1\n",
       "10810       4.4\n",
       "10812      4.03\n",
       "10814       3.0\n",
       "10815       4.2\n",
       "10817       5.0\n",
       "10819       4.1\n",
       "10820       4.1\n",
       "10826    Varies\n",
       "10827      4.03\n",
       "10828       4.0\n",
       "10829       4.1\n",
       "10830       1.6\n",
       "10832       2.1\n",
       "10833       2.2\n",
       "10834       4.1\n",
       "10836       4.1\n",
       "10837       4.1\n",
       "10839    Varies\n",
       "10840    Varies\n",
       "Name: Android Ver, Length: 8886, dtype: object"
      ]
     },
     "execution_count": 76,
     "metadata": {},
     "output_type": "execute_result"
    }
   ],
   "source": [
    "normalized_android_ver"
   ]
  },
  {
   "cell_type": "markdown",
   "metadata": {},
   "source": [
    "Here I have taken the android versions of my applications and chopped the first number."
   ]
  },
  {
   "cell_type": "markdown",
   "metadata": {},
   "source": [
    "#### creation of normalized dataset"
   ]
  },
  {
   "cell_type": "code",
   "execution_count": 77,
   "metadata": {
    "collapsed": true
   },
   "outputs": [
    {
     "data": {
      "text/plain": [
       "Index(['App', 'Category', 'Rating', 'Reviews', 'Size', 'Installs', 'Type',\n",
       "       'Price', 'Content Rating', 'Genres', 'Last Updated', 'Current Ver',\n",
       "       'Android Ver'],\n",
       "      dtype='object')"
      ]
     },
     "execution_count": 77,
     "metadata": {},
     "output_type": "execute_result"
    }
   ],
   "source": [
    "apps_df.columns"
   ]
  },
  {
   "cell_type": "markdown",
   "metadata": {},
   "source": [
    "got rid of genres, current version"
   ]
  },
  {
   "cell_type": "code",
   "execution_count": 78,
   "metadata": {
    "collapsed": true
   },
   "outputs": [],
   "source": [
    "norm_apps_df = pd.concat([apps_df['App'],apps_df['Rating'],apps_df['Category'], apps_df['Reviews'], normalized_android_ver, normalized_content_rating, normalized_installs, normalized_last_updated.astype('int'), normalized_price, normalized_type, normalized_size], axis = 1)"
   ]
  },
  {
   "cell_type": "code",
   "execution_count": 79,
   "metadata": {
    "collapsed": true
   },
   "outputs": [],
   "source": [
    "norm_apps_df.rename(columns={0:\"Price\", 'App':'App Name', 'Size':\"Size (kb)\"}, inplace= True)"
   ]
  },
  {
   "cell_type": "code",
   "execution_count": 80,
   "metadata": {
    "collapsed": true
   },
   "outputs": [
    {
     "data": {
      "text/html": [
       "<div>\n",
       "<style scoped>\n",
       "    .dataframe tbody tr th:only-of-type {\n",
       "        vertical-align: middle;\n",
       "    }\n",
       "\n",
       "    .dataframe tbody tr th {\n",
       "        vertical-align: top;\n",
       "    }\n",
       "\n",
       "    .dataframe thead th {\n",
       "        text-align: right;\n",
       "    }\n",
       "</style>\n",
       "<table border=\"1\" class=\"dataframe\">\n",
       "  <thead>\n",
       "    <tr style=\"text-align: right;\">\n",
       "      <th></th>\n",
       "      <th>App Name</th>\n",
       "      <th>Rating</th>\n",
       "      <th>Category</th>\n",
       "      <th>Reviews</th>\n",
       "      <th>Android Ver</th>\n",
       "      <th>Content Rating</th>\n",
       "      <th>Installs</th>\n",
       "      <th>Last Updated</th>\n",
       "      <th>Price</th>\n",
       "      <th>Type</th>\n",
       "      <th>Size (kb)</th>\n",
       "    </tr>\n",
       "  </thead>\n",
       "  <tbody>\n",
       "    <tr>\n",
       "      <th>0</th>\n",
       "      <td>Photo Editor &amp; Candy Camera &amp; Grid &amp; ScrapBook</td>\n",
       "      <td>4.100</td>\n",
       "      <td>ART_AND_DESIGN</td>\n",
       "      <td>159</td>\n",
       "      <td>4.03</td>\n",
       "      <td>1</td>\n",
       "      <td>10000</td>\n",
       "      <td>97</td>\n",
       "      <td>0.000</td>\n",
       "      <td>0</td>\n",
       "      <td>19,000.000</td>\n",
       "    </tr>\n",
       "    <tr>\n",
       "      <th>1</th>\n",
       "      <td>Coloring book moana</td>\n",
       "      <td>3.900</td>\n",
       "      <td>ART_AND_DESIGN</td>\n",
       "      <td>967</td>\n",
       "      <td>4.03</td>\n",
       "      <td>1</td>\n",
       "      <td>500000</td>\n",
       "      <td>97</td>\n",
       "      <td>0.000</td>\n",
       "      <td>0</td>\n",
       "      <td>14,000.000</td>\n",
       "    </tr>\n",
       "    <tr>\n",
       "      <th>2</th>\n",
       "      <td>U Launcher Lite – FREE Live Cool Themes, Hide ...</td>\n",
       "      <td>4.700</td>\n",
       "      <td>ART_AND_DESIGN</td>\n",
       "      <td>87510</td>\n",
       "      <td>4.03</td>\n",
       "      <td>1</td>\n",
       "      <td>5000000</td>\n",
       "      <td>104</td>\n",
       "      <td>0.000</td>\n",
       "      <td>0</td>\n",
       "      <td>8,700.000</td>\n",
       "    </tr>\n",
       "    <tr>\n",
       "      <th>3</th>\n",
       "      <td>Sketch - Draw &amp; Paint</td>\n",
       "      <td>4.500</td>\n",
       "      <td>ART_AND_DESIGN</td>\n",
       "      <td>215644</td>\n",
       "      <td>4.2</td>\n",
       "      <td>3</td>\n",
       "      <td>50000000</td>\n",
       "      <td>102</td>\n",
       "      <td>0.000</td>\n",
       "      <td>0</td>\n",
       "      <td>25,000.000</td>\n",
       "    </tr>\n",
       "    <tr>\n",
       "      <th>4</th>\n",
       "      <td>Pixel Draw - Number Art Coloring Book</td>\n",
       "      <td>4.300</td>\n",
       "      <td>ART_AND_DESIGN</td>\n",
       "      <td>967</td>\n",
       "      <td>4.4</td>\n",
       "      <td>1</td>\n",
       "      <td>100000</td>\n",
       "      <td>102</td>\n",
       "      <td>0.000</td>\n",
       "      <td>0</td>\n",
       "      <td>2,800.000</td>\n",
       "    </tr>\n",
       "  </tbody>\n",
       "</table>\n",
       "</div>"
      ],
      "text/plain": [
       "                                            App Name  Rating        Category  \\\n",
       "0     Photo Editor & Candy Camera & Grid & ScrapBook   4.100  ART_AND_DESIGN   \n",
       "1                                Coloring book moana   3.900  ART_AND_DESIGN   \n",
       "2  U Launcher Lite – FREE Live Cool Themes, Hide ...   4.700  ART_AND_DESIGN   \n",
       "3                              Sketch - Draw & Paint   4.500  ART_AND_DESIGN   \n",
       "4              Pixel Draw - Number Art Coloring Book   4.300  ART_AND_DESIGN   \n",
       "\n",
       "  Reviews Android Ver  Content Rating  Installs  Last Updated  Price  Type  \\\n",
       "0     159        4.03               1     10000            97  0.000     0   \n",
       "1     967        4.03               1    500000            97  0.000     0   \n",
       "2   87510        4.03               1   5000000           104  0.000     0   \n",
       "3  215644         4.2               3  50000000           102  0.000     0   \n",
       "4     967         4.4               1    100000           102  0.000     0   \n",
       "\n",
       "   Size (kb)  \n",
       "0 19,000.000  \n",
       "1 14,000.000  \n",
       "2  8,700.000  \n",
       "3 25,000.000  \n",
       "4  2,800.000  "
      ]
     },
     "execution_count": 80,
     "metadata": {},
     "output_type": "execute_result"
    }
   ],
   "source": [
    "norm_apps_df.head()"
   ]
  },
  {
   "cell_type": "code",
   "execution_count": 81,
   "metadata": {
    "collapsed": true
   },
   "outputs": [],
   "source": [
    "norm_apps_df['Reviews'] = pd.to_numeric(norm_apps_df['Reviews'])"
   ]
  },
  {
   "cell_type": "code",
   "execution_count": 82,
   "metadata": {
    "collapsed": true
   },
   "outputs": [],
   "source": [
    "norm_apps_df['Android Ver'] = pd.to_numeric(\n",
    "    norm_apps_df['Android Ver'].apply(lambda x : 0 if x == \"Varies\" else x)\n",
    "    )"
   ]
  },
  {
   "cell_type": "code",
   "execution_count": 83,
   "metadata": {
    "collapsed": true
   },
   "outputs": [
    {
     "data": {
      "text/plain": [
       "App Name           object\n",
       "Rating            float64\n",
       "Category           object\n",
       "Reviews             int64\n",
       "Android Ver       float64\n",
       "Content Rating      int64\n",
       "Installs            int64\n",
       "Last Updated        int64\n",
       "Price             float64\n",
       "Type                int64\n",
       "Size (kb)         float64\n",
       "dtype: object"
      ]
     },
     "execution_count": 83,
     "metadata": {},
     "output_type": "execute_result"
    }
   ],
   "source": [
    "norm_apps_df.dtypes"
   ]
  },
  {
   "cell_type": "markdown",
   "metadata": {},
   "source": [
    "### Data analysis and visualization \n",
    "quantitative (statistical) and visual analysis of your\n",
    "data. You should apply quantitative measures of centrality, distribution, and correlation.\n",
    "In addition, you should provide visual analysis through plots that are appropriate for a\n",
    "better understanding of your data and how the data can be used to answer your question.\n",
    "Extra credit for novel insightful visualizations. Using the appropriate clustering algorithm\n",
    "for different measures can be very helpful for better understanding the relationships in\n",
    "your data. "
   ]
  },
  {
   "cell_type": "code",
   "execution_count": 84,
   "metadata": {},
   "outputs": [
    {
     "name": "stderr",
     "output_type": "stream",
     "text": [
      "/anaconda3/lib/python3.7/site-packages/matplotlib/figure.py:457: UserWarning: matplotlib is currently using a non-GUI backend, so cannot show the figure\n",
      "  \"matplotlib is currently using a non-GUI backend, \"\n"
     ]
    },
    {
     "data": {
      "image/png": "[encoded data removed]",
      "text/plain": [
       "<Figure size 720x720 with 1 Axes>"
      ]
     },
     "metadata": {},
     "output_type": "display_data"
    }
   ],
   "source": [
    "fig = plt.figure(figsize=(10,10))\n",
    "ax = fig.add_subplot(111)\n",
    "\n",
    "\n",
    "ax.pie(norm_apps_df.Category.value_counts()[:15], \n",
    "       labels=norm_apps_df.Category.value_counts().index[:15],\n",
    "      autopct='%1.1f%%')\n",
    "\n",
    "ax.set_title('Top 15 Categories in DataSet')\n",
    "\n",
    "fig.show()"
   ]
  },
  {
   "cell_type": "code",
   "execution_count": 85,
   "metadata": {},
   "outputs": [
    {
     "name": "stdout",
     "output_type": "stream",
     "text": [
      "Price, Rating, Review, and Installs Correlation\n"
     ]
    },
    {
     "data": {
      "image/png": "[encoded data removed]",
      "text/plain": [
       "<Figure size 720x720 with 20 Axes>"
      ]
     },
     "metadata": {
      "needs_background": "light"
     },
     "output_type": "display_data"
    }
   ],
   "source": [
    "g = sns.PairGrid(data=norm_apps_df[['Price','Rating','Reviews','Installs']])\n",
    "g = g.map_offdiag(plt.scatter)\n",
    "g = g.map_diag(plt.hist)\n",
    "print('Price, Rating, Review, and Installs Correlation')"
   ]
  },
  {
   "cell_type": "code",
   "execution_count": 86,
   "metadata": {
    "collapsed": true
   },
   "outputs": [
    {
     "data": {
      "image/png": "[encoded data removed]",
      "text/plain": [
       "<Figure size 432x288 with 1 Axes>"
      ]
     },
     "metadata": {
      "needs_background": "light"
     },
     "output_type": "display_data"
    },
    {
     "name": "stdout",
     "output_type": "stream",
     "text": [
      "Correlation between Reviews and Rating\n"
     ]
    }
   ],
   "source": [
    "x = norm_apps_df['Rating']\n",
    "y = norm_apps_df['Reviews']\n",
    "\n",
    "plt.scatter(x, y)\n",
    "plt.xlabel(\"Rating\")\n",
    "plt.ylabel(\"Reviews\")\n",
    "z = np.polyfit(x, y, 1)\n",
    "p = np.poly1d(z)\n",
    "plt.plot(x, p(x), \"r--\")\n",
    "plt.show()\n",
    "print('Correlation between Reviews and Rating')"
   ]
  },
  {
   "cell_type": "code",
   "execution_count": 87,
   "metadata": {
    "collapsed": true
   },
   "outputs": [
    {
     "data": {
      "image/png": "[encoded data removed]",
      "text/plain": [
       "<Figure size 432x288 with 1 Axes>"
      ]
     },
     "metadata": {
      "needs_background": "light"
     },
     "output_type": "display_data"
    }
   ],
   "source": [
    "x = norm_apps_df['Price']\n",
    "y = norm_apps_df['Installs']\n",
    "\n",
    "plt.scatter(x, y)\n",
    "plt.xlabel(\"Price\")\n",
    "plt.ylabel(\"Installs\")\n",
    "z = np.polyfit(x, y, 1)\n",
    "p = np.poly1d(z)\n",
    "plt.plot(x, p(x), \"r--\")\n",
    "plt.show()"
   ]
  },
  {
   "cell_type": "markdown",
   "metadata": {},
   "source": [
    "Note the decrease in installs and price increases. Hypothesis supported, as there appears to be a correlation."
   ]
  },
  {
   "cell_type": "code",
   "execution_count": 88,
   "metadata": {
    "collapsed": true
   },
   "outputs": [
    {
     "data": {
      "image/png": "[encoded data removed]",
      "text/plain": [
       "<Figure size 432x288 with 1 Axes>"
      ]
     },
     "metadata": {
      "needs_background": "light"
     },
     "output_type": "display_data"
    }
   ],
   "source": [
    "x = norm_apps_df['Rating']\n",
    "y = norm_apps_df['Installs']\n",
    "\n",
    "plt.scatter(x, y)\n",
    "plt.xlabel(\"Rating\")\n",
    "plt.ylabel(\"Installs\")\n",
    "z = np.polyfit(x, y, 1)\n",
    "p = np.poly1d(z)\n",
    "plt.plot(x, p(x), \"r--\")\n",
    "plt.show()"
   ]
  },
  {
   "cell_type": "markdown",
   "metadata": {},
   "source": [
    "Note the increase in installs and rating increases. Hypothesis supporter!"
   ]
  },
  {
   "cell_type": "code",
   "execution_count": 89,
   "metadata": {
    "collapsed": true
   },
   "outputs": [
    {
     "name": "stdout",
     "output_type": "stream",
     "text": [
      "Plotting Size, Android Version, and Installs against one another\n"
     ]
    },
    {
     "data": {
      "image/png": "[encoded data removed]",
      "text/plain": [
       "<Figure size 540x540 with 12 Axes>"
      ]
     },
     "metadata": {
      "needs_background": "light"
     },
     "output_type": "display_data"
    }
   ],
   "source": [
    "g = sns.PairGrid(data=norm_apps_df[['Size (kb)','Android Ver', 'Installs']])\n",
    "g = g.map_offdiag(plt.scatter)\n",
    "g = g.map_diag(plt.hist)\n",
    "print('Plotting Size, Android Version, and Installs against one another')"
   ]
  },
  {
   "cell_type": "code",
   "execution_count": 90,
   "metadata": {
    "collapsed": true
   },
   "outputs": [
    {
     "data": {
      "image/png": "[encoded data removed]",
      "text/plain": [
       "<Figure size 432x288 with 1 Axes>"
      ]
     },
     "metadata": {
      "needs_background": "light"
     },
     "output_type": "display_data"
    }
   ],
   "source": [
    "x = norm_apps_df['Android Ver']\n",
    "y = norm_apps_df['Size (kb)']\n",
    "\n",
    "plt.scatter(x, y)\n",
    "plt.xlabel(\"Android Version\")\n",
    "plt.ylabel(\"Size (kb)\")\n",
    "z = np.polyfit(x, y, 1)\n",
    "p = np.poly1d(z)\n",
    "plt.plot(x, p(x), \"r--\")\n",
    "plt.show()"
   ]
  },
  {
   "cell_type": "code",
   "execution_count": 91,
   "metadata": {
    "collapsed": true
   },
   "outputs": [
    {
     "data": {
      "image/png": "[encoded data removed]",
      "text/plain": [
       "<Figure size 432x288 with 1 Axes>"
      ]
     },
     "metadata": {
      "needs_background": "light"
     },
     "output_type": "display_data"
    }
   ],
   "source": [
    "x = norm_apps_df['Android Ver']\n",
    "y = norm_apps_df['Installs']\n",
    "\n",
    "plt.scatter(x, y)\n",
    "plt.xlabel(\"Android Version\")\n",
    "plt.ylabel(\"Installs\")\n",
    "z = np.polyfit(x, y, 1)\n",
    "p = np.poly1d(z)\n",
    "plt.plot(x, p(x), \"r--\")\n",
    "plt.show()"
   ]
  },
  {
   "cell_type": "code",
   "execution_count": 92,
   "metadata": {
    "collapsed": true
   },
   "outputs": [
    {
     "data": {
      "image/png": "[encoded data removed]",
      "text/plain": [
       "<Figure size 432x288 with 1 Axes>"
      ]
     },
     "metadata": {
      "needs_background": "light"
     },
     "output_type": "display_data"
    }
   ],
   "source": [
    "x = norm_apps_df['Installs']\n",
    "y = norm_apps_df['Size (kb)']\n",
    "\n",
    "plt.scatter(x, y)\n",
    "plt.xlabel(\"Installs\")\n",
    "plt.ylabel(\"Size (kb)\")\n",
    "z = np.polyfit(x, y, 1)\n",
    "p = np.poly1d(z)\n",
    "plt.plot(x, p(x), \"r--\")\n",
    "plt.show()"
   ]
  },
  {
   "cell_type": "code",
   "execution_count": 93,
   "metadata": {
    "collapsed": true
   },
   "outputs": [
    {
     "name": "stdout",
     "output_type": "stream",
     "text": [
      "Last Updated vs Installs\n"
     ]
    },
    {
     "data": {
      "image/png": "[encoded data removed]",
      "text/plain": [
       "<Figure size 432x288 with 1 Axes>"
      ]
     },
     "metadata": {
      "needs_background": "light"
     },
     "output_type": "display_data"
    }
   ],
   "source": [
    "x = norm_apps_df['Last Updated']\n",
    "y = norm_apps_df['Installs']\n",
    "\n",
    "plt.scatter(x, y)\n",
    "plt.xlabel(\"Last Updated\")\n",
    "plt.ylabel(\"Installs\")\n",
    "z = np.polyfit(x, y, 1)\n",
    "p = np.poly1d(z)\n",
    "plt.plot(x, p(x), \"r--\")\n",
    "\n",
    "print('Last Updated vs Installs')\n",
    "plt.show()"
   ]
  },
  {
   "cell_type": "code",
   "execution_count": 94,
   "metadata": {
    "collapsed": true
   },
   "outputs": [
    {
     "name": "stdout",
     "output_type": "stream",
     "text": [
      "Last Updated vs Rating\n"
     ]
    },
    {
     "data": {
      "image/png": "[encoded data removed]",
      "text/plain": [
       "<Figure size 432x288 with 1 Axes>"
      ]
     },
     "metadata": {
      "needs_background": "light"
     },
     "output_type": "display_data"
    }
   ],
   "source": [
    "x = norm_apps_df['Last Updated']\n",
    "y = norm_apps_df['Rating']\n",
    "\n",
    "plt.scatter(x, y)\n",
    "plt.xlabel(\"Last Updated\")\n",
    "plt.ylabel(\"Rating\")\n",
    "z = np.polyfit(x, y, 1)\n",
    "p = np.poly1d(z)\n",
    "plt.plot(x, p(x), \"r--\")\n",
    "\n",
    "print('Last Updated vs Rating')\n",
    "plt.show()"
   ]
  },
  {
   "cell_type": "markdown",
   "metadata": {},
   "source": [
    "Testing length of app name vs installs."
   ]
  },
  {
   "cell_type": "code",
   "execution_count": 95,
   "metadata": {
    "collapsed": true
   },
   "outputs": [
    {
     "name": "stdout",
     "output_type": "stream",
     "text": [
      "Length of App Name vs Installs\n"
     ]
    },
    {
     "data": {
      "image/png": "[encoded data removed]",
      "text/plain": [
       "<Figure size 432x288 with 1 Axes>"
      ]
     },
     "metadata": {
      "needs_background": "light"
     },
     "output_type": "display_data"
    }
   ],
   "source": [
    "plt.scatter(norm_apps_df['App Name'].apply(lambda x : len(x)), norm_apps_df['Installs'])\n",
    "\n",
    "x = norm_apps_df['App Name'].apply(lambda x : len(x))\n",
    "y = norm_apps_df['Installs']\n",
    "\n",
    "plt.scatter(x, y)\n",
    "plt.xlabel(\"Length of App Name\")\n",
    "plt.ylabel(\"Installs\")\n",
    "z = np.polyfit(x, y, 1)\n",
    "p = np.poly1d(z)\n",
    "plt.plot(x, p(x), \"b--\")\n",
    "\n",
    "print('Length of App Name vs Installs')\n",
    "plt.show()"
   ]
  },
  {
   "cell_type": "code",
   "execution_count": 96,
   "metadata": {
    "collapsed": true
   },
   "outputs": [
    {
     "name": "stdout",
     "output_type": "stream",
     "text": [
      "App Name Length vs Rating\n"
     ]
    },
    {
     "data": {
      "image/png": "[encoded data removed]",
      "text/plain": [
       "<Figure size 432x288 with 1 Axes>"
      ]
     },
     "metadata": {
      "needs_background": "light"
     },
     "output_type": "display_data"
    }
   ],
   "source": [
    "plt.scatter(norm_apps_df['App Name'].apply(lambda x : len(x)), norm_apps_df['Rating'])\n",
    "\n",
    "x = norm_apps_df['App Name'].apply(lambda x : len(x))\n",
    "y = norm_apps_df['Rating']\n",
    "\n",
    "plt.scatter(x, y)\n",
    "plt.xlabel(\"Length of App Name\")\n",
    "plt.ylabel(\"Rating\")\n",
    "z = np.polyfit(x, y, 1)\n",
    "p = np.poly1d(z)\n",
    "plt.plot(x, p(x), \"r--\")\n",
    "\n",
    "print('App Name Length vs Rating')\n",
    "plt.show()"
   ]
  },
  {
   "cell_type": "markdown",
   "metadata": {},
   "source": [
    "### Data modeling and prediction \n",
    "development of a predictive model, regression or\n",
    "classification. Your model development should include experimentation with feature\n",
    "selection and hyperparameters. The effect of different features on your target variable, as\n",
    "well as associations between features should be identified. You should appropriately use\n",
    "train, validation, and test data when evaluating your models."
   ]
  },
  {
   "cell_type": "code",
   "execution_count": 97,
   "metadata": {
    "collapsed": true
   },
   "outputs": [
    {
     "data": {
      "text/html": [
       "<div>\n",
       "<style scoped>\n",
       "    .dataframe tbody tr th:only-of-type {\n",
       "        vertical-align: middle;\n",
       "    }\n",
       "\n",
       "    .dataframe tbody tr th {\n",
       "        vertical-align: top;\n",
       "    }\n",
       "\n",
       "    .dataframe thead th {\n",
       "        text-align: right;\n",
       "    }\n",
       "</style>\n",
       "<table border=\"1\" class=\"dataframe\">\n",
       "  <thead>\n",
       "    <tr style=\"text-align: right;\">\n",
       "      <th></th>\n",
       "      <th>App Name</th>\n",
       "      <th>Rating</th>\n",
       "      <th>Category</th>\n",
       "      <th>Reviews</th>\n",
       "      <th>Android Ver</th>\n",
       "      <th>Content Rating</th>\n",
       "      <th>Installs</th>\n",
       "      <th>Last Updated</th>\n",
       "      <th>Price</th>\n",
       "      <th>Type</th>\n",
       "      <th>Size (kb)</th>\n",
       "    </tr>\n",
       "  </thead>\n",
       "  <tbody>\n",
       "    <tr>\n",
       "      <th>0</th>\n",
       "      <td>Photo Editor &amp; Candy Camera &amp; Grid &amp; ScrapBook</td>\n",
       "      <td>4.100</td>\n",
       "      <td>ART_AND_DESIGN</td>\n",
       "      <td>159</td>\n",
       "      <td>4.030</td>\n",
       "      <td>1</td>\n",
       "      <td>10000</td>\n",
       "      <td>97</td>\n",
       "      <td>0.000</td>\n",
       "      <td>0</td>\n",
       "      <td>19,000.000</td>\n",
       "    </tr>\n",
       "    <tr>\n",
       "      <th>1</th>\n",
       "      <td>Coloring book moana</td>\n",
       "      <td>3.900</td>\n",
       "      <td>ART_AND_DESIGN</td>\n",
       "      <td>967</td>\n",
       "      <td>4.030</td>\n",
       "      <td>1</td>\n",
       "      <td>500000</td>\n",
       "      <td>97</td>\n",
       "      <td>0.000</td>\n",
       "      <td>0</td>\n",
       "      <td>14,000.000</td>\n",
       "    </tr>\n",
       "    <tr>\n",
       "      <th>2</th>\n",
       "      <td>U Launcher Lite – FREE Live Cool Themes, Hide ...</td>\n",
       "      <td>4.700</td>\n",
       "      <td>ART_AND_DESIGN</td>\n",
       "      <td>87510</td>\n",
       "      <td>4.030</td>\n",
       "      <td>1</td>\n",
       "      <td>5000000</td>\n",
       "      <td>104</td>\n",
       "      <td>0.000</td>\n",
       "      <td>0</td>\n",
       "      <td>8,700.000</td>\n",
       "    </tr>\n",
       "    <tr>\n",
       "      <th>3</th>\n",
       "      <td>Sketch - Draw &amp; Paint</td>\n",
       "      <td>4.500</td>\n",
       "      <td>ART_AND_DESIGN</td>\n",
       "      <td>215644</td>\n",
       "      <td>4.200</td>\n",
       "      <td>3</td>\n",
       "      <td>50000000</td>\n",
       "      <td>102</td>\n",
       "      <td>0.000</td>\n",
       "      <td>0</td>\n",
       "      <td>25,000.000</td>\n",
       "    </tr>\n",
       "    <tr>\n",
       "      <th>4</th>\n",
       "      <td>Pixel Draw - Number Art Coloring Book</td>\n",
       "      <td>4.300</td>\n",
       "      <td>ART_AND_DESIGN</td>\n",
       "      <td>967</td>\n",
       "      <td>4.400</td>\n",
       "      <td>1</td>\n",
       "      <td>100000</td>\n",
       "      <td>102</td>\n",
       "      <td>0.000</td>\n",
       "      <td>0</td>\n",
       "      <td>2,800.000</td>\n",
       "    </tr>\n",
       "  </tbody>\n",
       "</table>\n",
       "</div>"
      ],
      "text/plain": [
       "                                            App Name  Rating        Category  \\\n",
       "0     Photo Editor & Candy Camera & Grid & ScrapBook   4.100  ART_AND_DESIGN   \n",
       "1                                Coloring book moana   3.900  ART_AND_DESIGN   \n",
       "2  U Launcher Lite – FREE Live Cool Themes, Hide ...   4.700  ART_AND_DESIGN   \n",
       "3                              Sketch - Draw & Paint   4.500  ART_AND_DESIGN   \n",
       "4              Pixel Draw - Number Art Coloring Book   4.300  ART_AND_DESIGN   \n",
       "\n",
       "   Reviews  Android Ver  Content Rating  Installs  Last Updated  Price  Type  \\\n",
       "0      159        4.030               1     10000            97  0.000     0   \n",
       "1      967        4.030               1    500000            97  0.000     0   \n",
       "2    87510        4.030               1   5000000           104  0.000     0   \n",
       "3   215644        4.200               3  50000000           102  0.000     0   \n",
       "4      967        4.400               1    100000           102  0.000     0   \n",
       "\n",
       "   Size (kb)  \n",
       "0 19,000.000  \n",
       "1 14,000.000  \n",
       "2  8,700.000  \n",
       "3 25,000.000  \n",
       "4  2,800.000  "
      ]
     },
     "execution_count": 97,
     "metadata": {},
     "output_type": "execute_result"
    }
   ],
   "source": [
    "norm_apps_df.head()"
   ]
  },
  {
   "cell_type": "markdown",
   "metadata": {},
   "source": [
    "#### Supervised Learning - Linear Regression"
   ]
  },
  {
   "cell_type": "markdown",
   "metadata": {},
   "source": [
    "#### graphicing one hot encoded category and all features - predict installs"
   ]
  },
  {
   "cell_type": "code",
   "execution_count": 98,
   "metadata": {
    "collapsed": true
   },
   "outputs": [],
   "source": [
    "linear_df = pd.get_dummies(norm_apps_df['Category'])"
   ]
  },
  {
   "cell_type": "code",
   "execution_count": 99,
   "metadata": {
    "collapsed": true
   },
   "outputs": [
    {
     "data": {
      "text/html": [
       "<div>\n",
       "<style scoped>\n",
       "    .dataframe tbody tr th:only-of-type {\n",
       "        vertical-align: middle;\n",
       "    }\n",
       "\n",
       "    .dataframe tbody tr th {\n",
       "        vertical-align: top;\n",
       "    }\n",
       "\n",
       "    .dataframe thead th {\n",
       "        text-align: right;\n",
       "    }\n",
       "</style>\n",
       "<table border=\"1\" class=\"dataframe\">\n",
       "  <thead>\n",
       "    <tr style=\"text-align: right;\">\n",
       "      <th></th>\n",
       "      <th>ART_AND_DESIGN</th>\n",
       "      <th>AUTO_AND_VEHICLES</th>\n",
       "      <th>BEAUTY</th>\n",
       "      <th>BOOKS_AND_REFERENCE</th>\n",
       "      <th>BUSINESS</th>\n",
       "      <th>COMICS</th>\n",
       "      <th>COMMUNICATION</th>\n",
       "      <th>DATING</th>\n",
       "      <th>EDUCATION</th>\n",
       "      <th>ENTERTAINMENT</th>\n",
       "      <th>...</th>\n",
       "      <th>PERSONALIZATION</th>\n",
       "      <th>PHOTOGRAPHY</th>\n",
       "      <th>PRODUCTIVITY</th>\n",
       "      <th>SHOPPING</th>\n",
       "      <th>SOCIAL</th>\n",
       "      <th>SPORTS</th>\n",
       "      <th>TOOLS</th>\n",
       "      <th>TRAVEL_AND_LOCAL</th>\n",
       "      <th>VIDEO_PLAYERS</th>\n",
       "      <th>WEATHER</th>\n",
       "    </tr>\n",
       "  </thead>\n",
       "  <tbody>\n",
       "    <tr>\n",
       "      <th>0</th>\n",
       "      <td>1</td>\n",
       "      <td>0</td>\n",
       "      <td>0</td>\n",
       "      <td>0</td>\n",
       "      <td>0</td>\n",
       "      <td>0</td>\n",
       "      <td>0</td>\n",
       "      <td>0</td>\n",
       "      <td>0</td>\n",
       "      <td>0</td>\n",
       "      <td>...</td>\n",
       "      <td>0</td>\n",
       "      <td>0</td>\n",
       "      <td>0</td>\n",
       "      <td>0</td>\n",
       "      <td>0</td>\n",
       "      <td>0</td>\n",
       "      <td>0</td>\n",
       "      <td>0</td>\n",
       "      <td>0</td>\n",
       "      <td>0</td>\n",
       "    </tr>\n",
       "    <tr>\n",
       "      <th>1</th>\n",
       "      <td>1</td>\n",
       "      <td>0</td>\n",
       "      <td>0</td>\n",
       "      <td>0</td>\n",
       "      <td>0</td>\n",
       "      <td>0</td>\n",
       "      <td>0</td>\n",
       "      <td>0</td>\n",
       "      <td>0</td>\n",
       "      <td>0</td>\n",
       "      <td>...</td>\n",
       "      <td>0</td>\n",
       "      <td>0</td>\n",
       "      <td>0</td>\n",
       "      <td>0</td>\n",
       "      <td>0</td>\n",
       "      <td>0</td>\n",
       "      <td>0</td>\n",
       "      <td>0</td>\n",
       "      <td>0</td>\n",
       "      <td>0</td>\n",
       "    </tr>\n",
       "    <tr>\n",
       "      <th>2</th>\n",
       "      <td>1</td>\n",
       "      <td>0</td>\n",
       "      <td>0</td>\n",
       "      <td>0</td>\n",
       "      <td>0</td>\n",
       "      <td>0</td>\n",
       "      <td>0</td>\n",
       "      <td>0</td>\n",
       "      <td>0</td>\n",
       "      <td>0</td>\n",
       "      <td>...</td>\n",
       "      <td>0</td>\n",
       "      <td>0</td>\n",
       "      <td>0</td>\n",
       "      <td>0</td>\n",
       "      <td>0</td>\n",
       "      <td>0</td>\n",
       "      <td>0</td>\n",
       "      <td>0</td>\n",
       "      <td>0</td>\n",
       "      <td>0</td>\n",
       "    </tr>\n",
       "    <tr>\n",
       "      <th>3</th>\n",
       "      <td>1</td>\n",
       "      <td>0</td>\n",
       "      <td>0</td>\n",
       "      <td>0</td>\n",
       "      <td>0</td>\n",
       "      <td>0</td>\n",
       "      <td>0</td>\n",
       "      <td>0</td>\n",
       "      <td>0</td>\n",
       "      <td>0</td>\n",
       "      <td>...</td>\n",
       "      <td>0</td>\n",
       "      <td>0</td>\n",
       "      <td>0</td>\n",
       "      <td>0</td>\n",
       "      <td>0</td>\n",
       "      <td>0</td>\n",
       "      <td>0</td>\n",
       "      <td>0</td>\n",
       "      <td>0</td>\n",
       "      <td>0</td>\n",
       "    </tr>\n",
       "    <tr>\n",
       "      <th>4</th>\n",
       "      <td>1</td>\n",
       "      <td>0</td>\n",
       "      <td>0</td>\n",
       "      <td>0</td>\n",
       "      <td>0</td>\n",
       "      <td>0</td>\n",
       "      <td>0</td>\n",
       "      <td>0</td>\n",
       "      <td>0</td>\n",
       "      <td>0</td>\n",
       "      <td>...</td>\n",
       "      <td>0</td>\n",
       "      <td>0</td>\n",
       "      <td>0</td>\n",
       "      <td>0</td>\n",
       "      <td>0</td>\n",
       "      <td>0</td>\n",
       "      <td>0</td>\n",
       "      <td>0</td>\n",
       "      <td>0</td>\n",
       "      <td>0</td>\n",
       "    </tr>\n",
       "  </tbody>\n",
       "</table>\n",
       "<p>5 rows × 33 columns</p>\n",
       "</div>"
      ],
      "text/plain": [
       "   ART_AND_DESIGN  AUTO_AND_VEHICLES  BEAUTY  BOOKS_AND_REFERENCE  BUSINESS  \\\n",
       "0               1                  0       0                    0         0   \n",
       "1               1                  0       0                    0         0   \n",
       "2               1                  0       0                    0         0   \n",
       "3               1                  0       0                    0         0   \n",
       "4               1                  0       0                    0         0   \n",
       "\n",
       "   COMICS  COMMUNICATION  DATING  EDUCATION  ENTERTAINMENT   ...     \\\n",
       "0       0              0       0          0              0   ...      \n",
       "1       0              0       0          0              0   ...      \n",
       "2       0              0       0          0              0   ...      \n",
       "3       0              0       0          0              0   ...      \n",
       "4       0              0       0          0              0   ...      \n",
       "\n",
       "   PERSONALIZATION  PHOTOGRAPHY  PRODUCTIVITY  SHOPPING  SOCIAL  SPORTS  \\\n",
       "0                0            0             0         0       0       0   \n",
       "1                0            0             0         0       0       0   \n",
       "2                0            0             0         0       0       0   \n",
       "3                0            0             0         0       0       0   \n",
       "4                0            0             0         0       0       0   \n",
       "\n",
       "   TOOLS  TRAVEL_AND_LOCAL  VIDEO_PLAYERS  WEATHER  \n",
       "0      0                 0              0        0  \n",
       "1      0                 0              0        0  \n",
       "2      0                 0              0        0  \n",
       "3      0                 0              0        0  \n",
       "4      0                 0              0        0  \n",
       "\n",
       "[5 rows x 33 columns]"
      ]
     },
     "execution_count": 99,
     "metadata": {},
     "output_type": "execute_result"
    }
   ],
   "source": [
    "linear_df.head()"
   ]
  },
  {
   "cell_type": "code",
   "execution_count": 100,
   "metadata": {
    "collapsed": true
   },
   "outputs": [],
   "source": [
    "df_no_cat = norm_apps_df.drop('Category',1)"
   ]
  },
  {
   "cell_type": "code",
   "execution_count": 101,
   "metadata": {
    "collapsed": true
   },
   "outputs": [],
   "source": [
    "linear_df2 = pd.concat([linear_df, norm_apps_df], axis=1)"
   ]
  },
  {
   "cell_type": "code",
   "execution_count": 102,
   "metadata": {
    "collapsed": true
   },
   "outputs": [
    {
     "data": {
      "text/plain": [
       "Index(['ART_AND_DESIGN', 'AUTO_AND_VEHICLES', 'BEAUTY', 'BOOKS_AND_REFERENCE',\n",
       "       'BUSINESS', 'COMICS', 'COMMUNICATION', 'DATING', 'EDUCATION',\n",
       "       'ENTERTAINMENT', 'EVENTS', 'FAMILY', 'FINANCE', 'FOOD_AND_DRINK',\n",
       "       'GAME', 'HEALTH_AND_FITNESS', 'HOUSE_AND_HOME', 'LIBRARIES_AND_DEMO',\n",
       "       'LIFESTYLE', 'MAPS_AND_NAVIGATION', 'MEDICAL', 'NEWS_AND_MAGAZINES',\n",
       "       'PARENTING', 'PERSONALIZATION', 'PHOTOGRAPHY', 'PRODUCTIVITY',\n",
       "       'SHOPPING', 'SOCIAL', 'SPORTS', 'TOOLS', 'TRAVEL_AND_LOCAL',\n",
       "       'VIDEO_PLAYERS', 'WEATHER', 'App Name', 'Rating', 'Category', 'Reviews',\n",
       "       'Android Ver', 'Content Rating', 'Installs', 'Last Updated', 'Price',\n",
       "       'Type', 'Size (kb)'],\n",
       "      dtype='object')"
      ]
     },
     "execution_count": 102,
     "metadata": {},
     "output_type": "execute_result"
    }
   ],
   "source": [
    "linear_df2.columns"
   ]
  },
  {
   "cell_type": "code",
   "execution_count": 103,
   "metadata": {
    "collapsed": true
   },
   "outputs": [],
   "source": [
    "from sklearn.model_selection import train_test_split"
   ]
  },
  {
   "cell_type": "code",
   "execution_count": 104,
   "metadata": {
    "collapsed": true
   },
   "outputs": [],
   "source": [
    "X = linear_df2.drop(columns=['Installs', 'Category', 'App Name'])\n",
    "y = linear_df2['Installs']"
   ]
  },
  {
   "cell_type": "code",
   "execution_count": 105,
   "metadata": {
    "collapsed": true
   },
   "outputs": [],
   "source": [
    "X_train, X_test, y_train, y_test = train_test_split(X, y, random_state=42, stratify=y, shuffle=True, test_size=0.3)"
   ]
  },
  {
   "cell_type": "code",
   "execution_count": 106,
   "metadata": {
    "collapsed": true
   },
   "outputs": [
    {
     "name": "stdout",
     "output_type": "stream",
     "text": [
      "       ART_AND_DESIGN  AUTO_AND_VEHICLES  BEAUTY  BOOKS_AND_REFERENCE  \\\n",
      "9311                0                  0       0                    0   \n",
      "6807                0                  0       0                    0   \n",
      "987                 0                  0       0                    0   \n",
      "8181                0                  0       0                    0   \n",
      "4191                0                  0       0                    0   \n",
      "1493                0                  0       0                    0   \n",
      "1696                0                  0       0                    0   \n",
      "8135                0                  0       0                    0   \n",
      "7892                0                  0       0                    0   \n",
      "4699                0                  0       0                    0   \n",
      "8712                1                  0       0                    0   \n",
      "1402                0                  0       0                    0   \n",
      "5931                0                  0       0                    0   \n",
      "2448                0                  0       0                    0   \n",
      "7459                0                  0       0                    0   \n",
      "1541                0                  0       0                    0   \n",
      "69                  0                  1       0                    0   \n",
      "2250                0                  0       0                    0   \n",
      "10492               0                  0       0                    0   \n",
      "6029                0                  0       0                    0   \n",
      "9643                0                  0       0                    1   \n",
      "7752                0                  0       0                    0   \n",
      "2981                0                  0       0                    0   \n",
      "1627                0                  0       0                    0   \n",
      "8412                0                  0       0                    0   \n",
      "8054                0                  0       0                    0   \n",
      "2785                0                  0       0                    0   \n",
      "7575                0                  0       0                    0   \n",
      "9445                0                  0       0                    0   \n",
      "8264                0                  0       0                    0   \n",
      "...               ...                ...     ...                  ...   \n",
      "8507                0                  0       0                    0   \n",
      "8617                0                  0       0                    0   \n",
      "3132                0                  0       0                    0   \n",
      "2831                0                  0       0                    0   \n",
      "2463                0                  0       0                    0   \n",
      "2977                0                  0       0                    0   \n",
      "5144                0                  0       0                    0   \n",
      "6115                0                  0       0                    0   \n",
      "9122                0                  0       0                    0   \n",
      "4496                0                  0       0                    0   \n",
      "4869                0                  0       0                    0   \n",
      "4261                0                  0       0                    0   \n",
      "2562                0                  0       0                    0   \n",
      "7025                0                  0       0                    0   \n",
      "3521                0                  0       0                    0   \n",
      "9041                0                  0       0                    0   \n",
      "3645                0                  0       0                    0   \n",
      "1795                0                  0       0                    0   \n",
      "1852                0                  0       0                    0   \n",
      "9622                0                  0       0                    0   \n",
      "9709                0                  0       0                    0   \n",
      "7704                0                  0       0                    0   \n",
      "2231                0                  0       0                    0   \n",
      "2381                0                  0       0                    0   \n",
      "2121                0                  0       0                    0   \n",
      "68                  0                  1       0                    0   \n",
      "6076                0                  0       0                    0   \n",
      "1354                0                  0       0                    0   \n",
      "5492                0                  0       0                    0   \n",
      "664                 0                  0       0                    0   \n",
      "\n",
      "       BUSINESS  COMICS  COMMUNICATION  DATING  EDUCATION  ENTERTAINMENT  \\\n",
      "9311          0       0              0       0          0              0   \n",
      "6807          0       0              0       0          0              0   \n",
      "987           0       0              0       0          0              1   \n",
      "8181          0       0              0       0          0              0   \n",
      "4191          0       0              0       0          0              0   \n",
      "1493          0       0              0       0          0              0   \n",
      "1696          0       0              0       0          0              0   \n",
      "8135          0       0              0       0          0              0   \n",
      "7892          0       0              0       0          0              0   \n",
      "4699          0       0              0       0          0              0   \n",
      "8712          0       0              0       0          0              0   \n",
      "1402          0       0              0       0          0              0   \n",
      "5931          0       0              0       0          0              0   \n",
      "2448          0       0              0       0          0              0   \n",
      "7459          0       0              0       0          0              0   \n",
      "1541          0       0              0       0          0              0   \n",
      "69            0       0              0       0          0              0   \n",
      "2250          0       0              0       0          0              0   \n",
      "10492         0       0              0       0          0              0   \n",
      "6029          0       0              0       0          0              0   \n",
      "9643          0       0              0       0          0              0   \n",
      "7752          0       0              0       0          0              0   \n",
      "2981          0       0              0       0          0              0   \n",
      "1627          0       0              0       0          0              0   \n",
      "8412          0       0              0       0          0              0   \n",
      "8054          0       0              0       0          0              0   \n",
      "2785          0       0              0       0          0              0   \n",
      "7575          0       0              0       0          0              0   \n",
      "9445          0       0              0       0          0              0   \n",
      "8264          0       0              0       0          0              0   \n",
      "...         ...     ...            ...     ...        ...            ...   \n",
      "8507          0       0              0       0          0              0   \n",
      "8617          0       0              0       0          0              0   \n",
      "3132          0       0              0       0          0              0   \n",
      "2831          0       0              0       0          0              0   \n",
      "2463          0       0              0       0          0              0   \n",
      "2977          0       0              0       0          0              0   \n",
      "5144          0       0              0       0          0              0   \n",
      "6115          0       0              0       0          0              0   \n",
      "9122          0       0              0       0          0              0   \n",
      "4496          0       0              0       0          0              0   \n",
      "4869          0       0              0       0          0              0   \n",
      "4261          0       0              0       0          0              0   \n",
      "2562          0       0              0       0          0              0   \n",
      "7025          0       0              0       0          0              0   \n",
      "3521          0       0              0       0          0              0   \n",
      "9041          0       0              0       0          0              0   \n",
      "3645          0       0              0       0          0              0   \n",
      "1795          0       0              0       0          0              0   \n",
      "1852          0       0              0       0          0              0   \n",
      "9622          0       0              0       0          0              0   \n",
      "9709          0       0              0       0          0              0   \n",
      "7704          0       0              1       0          0              0   \n",
      "2231          0       0              0       0          0              0   \n",
      "2381          0       0              0       0          0              0   \n",
      "2121          0       0              0       0          0              0   \n",
      "68            0       0              0       0          0              0   \n",
      "6076          0       0              0       0          0              0   \n",
      "1354          0       0              0       0          0              0   \n",
      "5492          0       0              0       0          0              0   \n",
      "664           0       0              0       1          0              0   \n",
      "\n",
      "         ...      VIDEO_PLAYERS  WEATHER  Rating  Reviews  Android Ver  \\\n",
      "9311     ...                  0        0   4.100       27        4.100   \n",
      "6807     ...                  0        0   5.000        3        4.200   \n",
      "987      ...                  0        0   4.300      303        4.200   \n",
      "8181     ...                  0        0   3.500    38824        5.000   \n",
      "4191     ...                  0        0   4.400    19816        4.400   \n",
      "1493     ...                  0        0   4.000     2382        3.000   \n",
      "1696     ...                  0        0   4.600   760628        4.000   \n",
      "8135     ...                  0        0   2.800     1189        4.030   \n",
      "7892     ...                  0        0   4.500       86        4.100   \n",
      "4699     ...                  0        0   4.500      292        2.300   \n",
      "8712     ...                  0        0   4.300      132        4.100   \n",
      "1402     ...                  0        0   4.500    32606        0.000   \n",
      "5931     ...                  0        0   4.900      285        4.400   \n",
      "2448     ...                  0        0   5.000        3        4.100   \n",
      "7459     ...                  0        0   4.100   155649        4.100   \n",
      "1541     ...                  0        0   4.400     7396        4.030   \n",
      "69       ...                  0        0   4.200    52530        4.030   \n",
      "2250     ...                  0        0   4.600      717        5.000   \n",
      "10492    ...                  0        0   4.400       32        2.300   \n",
      "6029     ...                  0        0   4.200       69        4.000   \n",
      "9643     ...                  0        0   4.400   384368        0.000   \n",
      "7752     ...                  0        0   4.600   293086        4.030   \n",
      "2981     ...                  0        0   4.300    39878        4.100   \n",
      "1627     ...                  0        0   4.300    95904        4.100   \n",
      "8412     ...                  0        0   4.200    26307        4.030   \n",
      "8054     ...                  0        0   4.700       42        4.000   \n",
      "2785     ...                  0        0   4.000     4602        4.100   \n",
      "7575     ...                  0        0   4.300      176        2.330   \n",
      "9445     ...                  0        0   4.100    13731        4.000   \n",
      "8264     ...                  0        0   4.300       11        4.030   \n",
      "...      ...                ...      ...     ...      ...          ...   \n",
      "8507     ...                  0        0   4.300        3        4.100   \n",
      "8617     ...                  0        0   4.400    13079        4.000   \n",
      "3132     ...                  0        0   3.700    16815        5.000   \n",
      "2831     ...                  0        0   4.700    31985        4.200   \n",
      "2463     ...                  0        0   4.300       10        4.100   \n",
      "2977     ...                  0        0   4.200   112725        0.000   \n",
      "5144     ...                  0        0   3.900        7        1.500   \n",
      "6115     ...                  0        0   3.500      412        3.000   \n",
      "9122     ...                  0        0   4.500       17        4.100   \n",
      "4496     ...                  0        0   4.200     4383        2.330   \n",
      "4869     ...                  0        0   4.400  2610328        4.100   \n",
      "4261     ...                  0        0   4.300  1329008        2.330   \n",
      "2562     ...                  0        0   4.600   225103        4.100   \n",
      "7025     ...                  0        0   4.500     2442        4.030   \n",
      "3521     ...                  0        0   4.200    17415        4.000   \n",
      "9041     ...                  0        0   4.000      238        0.000   \n",
      "3645     ...                  0        1   3.700    26941        0.000   \n",
      "1795     ...                  0        0   4.200   195558        5.000   \n",
      "1852     ...                  0        0   4.300   309176        4.400   \n",
      "9622     ...                  0        0   3.800     6577        4.100   \n",
      "9709     ...                  0        0   4.300     5731        4.100   \n",
      "7704     ...                  0        0   4.800    34443        5.000   \n",
      "2231     ...                  0        0   4.300    63160        2.300   \n",
      "2381     ...                  0        0   4.200       33        4.200   \n",
      "2121     ...                  0        0   4.200    41273        4.100   \n",
      "68       ...                  0        0   3.900      356        0.000   \n",
      "6076     ...                  0        0   4.400      146        4.100   \n",
      "1354     ...                  0        0   4.600    20326        4.100   \n",
      "5492     ...                  0        0   4.300    22667        4.400   \n",
      "664      ...                  0        0   4.100     2560        4.100   \n",
      "\n",
      "       Content Rating  Last Updated  Price  Type  Size (kb)  \n",
      "9311                1            94  0.000     0  4,600.000  \n",
      "6807                1            58  0.000     0     55.000  \n",
      "987                 3            96  0.000     0 44,000.000  \n",
      "8181                4            97  0.000     0 12,000.000  \n",
      "4191                1            95  0.000     0 57,000.000  \n",
      "1493                1            64  0.000     0  5,900.000  \n",
      "1696                1            96  0.000     0 63,000.000  \n",
      "8135                1           102  0.000     0 18,000.000  \n",
      "7892                3            87  0.000     0  8,600.000  \n",
      "4699                1            87  0.000     0  7,900.000  \n",
      "8712                1            97  0.000     0  7,700.000  \n",
      "1402                1            99  0.000     0      0.000  \n",
      "5931                1            97  0.000     0 25,000.000  \n",
      "2448                1           103  0.000     0 20,000.000  \n",
      "7459                1           103  0.000     0 38,000.000  \n",
      "1541                1           103  0.000     0 22,000.000  \n",
      "69                  1           103  0.000     0  7,000.000  \n",
      "2250                1           101  0.015     1  5,400.000  \n",
      "10492               1            96  0.000     0 37,000.000  \n",
      "6029                1            65  0.000     0  3,500.000  \n",
      "9643                1           104  0.000     0      0.000  \n",
      "7752                1            70  0.000     0      0.000  \n",
      "2981                1           103  0.000     0  6,100.000  \n",
      "1627                1           103  0.000     0 33,000.000  \n",
      "8412                3           103  0.000     0      0.000  \n",
      "8054                1            89  0.000     0 10,000.000  \n",
      "2785                1            96  0.000     0  6,200.000  \n",
      "7575                1            81  0.000     0  2,300.000  \n",
      "9445                1           102  0.000     0 55,000.000  \n",
      "8264                1           101  0.000     0 23,000.000  \n",
      "...               ...           ...    ...   ...        ...  \n",
      "8507                3            93  0.000     0  5,300.000  \n",
      "8617                2           100  0.000     0 30,000.000  \n",
      "3132                1           103  0.000     0 28,000.000  \n",
      "2831                1           104  0.000     0  9,100.000  \n",
      "2463                1           103  0.000     0 46,000.000  \n",
      "2977                1           103  0.000     0      0.000  \n",
      "5144                1            17  0.012     1     81.000  \n",
      "6115                1            63  0.002     1  2,600.000  \n",
      "9122                1            92  0.000     0 28,000.000  \n",
      "4496                3            63  0.000     0  7,100.000  \n",
      "4869                1           103  0.000     0 46,000.000  \n",
      "4261                1            94  0.000     0 97,000.000  \n",
      "2562                1           102  0.000     0  5,300.000  \n",
      "7025                1           103  0.000     0 13,000.000  \n",
      "3521                1           103  0.000     0  4,100.000  \n",
      "9041                2            97  0.000     0      0.000  \n",
      "3645                1           103  0.000     0      0.000  \n",
      "1795                1           103  0.000     0 86,000.000  \n",
      "1852                2           104  0.000     0 70,000.000  \n",
      "9622                1            91  0.000     0 13,000.000  \n",
      "9709                4            97  0.000     0 31,000.000  \n",
      "7704                3           102  0.000     0 27,000.000  \n",
      "2231                1            79  0.000     0 17,000.000  \n",
      "2381                1           101  0.000     0  8,000.000  \n",
      "2121                1           103  0.000     0 16,000.000  \n",
      "68                  1           101  0.000     0      0.000  \n",
      "6076                3            99  0.000     0  3,900.000  \n",
      "1354                3           104  0.000     0 28,000.000  \n",
      "5492                3           103  0.000     0 35,000.000  \n",
      "664                 4           104  0.000     0 56,000.000  \n",
      "\n",
      "[6220 rows x 41 columns]\n",
      "9311          1000\n",
      "6807           100\n",
      "987          10000\n",
      "8181       1000000\n",
      "4191       1000000\n",
      "1493        500000\n",
      "1696      10000000\n",
      "8135        100000\n",
      "7892          5000\n",
      "4699         10000\n",
      "8712         10000\n",
      "1402       1000000\n",
      "5931         10000\n",
      "2448           100\n",
      "7459      10000000\n",
      "1541        500000\n",
      "69         5000000\n",
      "2250          5000\n",
      "10492         1000\n",
      "6029         10000\n",
      "9643      10000000\n",
      "7752       5000000\n",
      "2981       1000000\n",
      "1627      10000000\n",
      "8412       1000000\n",
      "8054          5000\n",
      "2785        500000\n",
      "7575        100000\n",
      "9445       1000000\n",
      "8264           500\n",
      "           ...    \n",
      "8507           100\n",
      "8617        500000\n",
      "3132       1000000\n",
      "2831       1000000\n",
      "2463           100\n",
      "2977       5000000\n",
      "5144           100\n",
      "6115          5000\n",
      "9122           500\n",
      "4496        500000\n",
      "4869     100000000\n",
      "4261      50000000\n",
      "2562       5000000\n",
      "7025        100000\n",
      "3521       1000000\n",
      "9041         50000\n",
      "3645       5000000\n",
      "1795      10000000\n",
      "1852       5000000\n",
      "9622       1000000\n",
      "9709       1000000\n",
      "7704       1000000\n",
      "2231       1000000\n",
      "2381         10000\n",
      "2121       5000000\n",
      "68          100000\n",
      "6076         10000\n",
      "1354       1000000\n",
      "5492       1000000\n",
      "664         100000\n",
      "Name: Installs, Length: 6220, dtype: int64\n"
     ]
    }
   ],
   "source": [
    "pp.pprint(X_train)\n",
    "pp.pprint(y_train)"
   ]
  },
  {
   "cell_type": "code",
   "execution_count": 107,
   "metadata": {
    "collapsed": true
   },
   "outputs": [],
   "source": [
    "from sklearn.linear_model import LinearRegression"
   ]
  },
  {
   "cell_type": "code",
   "execution_count": 108,
   "metadata": {
    "collapsed": true
   },
   "outputs": [
    {
     "data": {
      "text/plain": [
       "LinearRegression(copy_X=True, fit_intercept=True, n_jobs=1, normalize=False)"
      ]
     },
     "execution_count": 108,
     "metadata": {},
     "output_type": "execute_result"
    }
   ],
   "source": [
    "lm = LinearRegression()\n",
    "lm.fit(X, y)"
   ]
  },
  {
   "cell_type": "code",
   "execution_count": 109,
   "metadata": {
    "collapsed": true
   },
   "outputs": [
    {
     "data": {
      "text/plain": [
       "0.4279963846747884"
      ]
     },
     "execution_count": 109,
     "metadata": {},
     "output_type": "execute_result"
    }
   ],
   "source": [
    "lm.score(X_test, y_test)"
   ]
  },
  {
   "cell_type": "code",
   "execution_count": 110,
   "metadata": {
    "collapsed": true
   },
   "outputs": [
    {
     "name": "stdout",
     "output_type": "stream",
     "text": [
      "                                 0\n",
      "ART_AND_DESIGN      -4,707,032.283\n",
      "AUTO_AND_VEHICLES   -6,030,623.585\n",
      "BEAUTY              -5,649,754.470\n",
      "BOOKS_AND_REFERENCE    836,036.611\n",
      "BUSINESS            -3,473,608.840\n",
      "COMICS              -9,608,351.914\n",
      "COMMUNICATION       32,678,611.380\n",
      "DATING              -5,950,137.152\n",
      "EDUCATION           -8,376,012.038\n",
      "ENTERTAINMENT        1,474,118.300\n",
      "EVENTS              -7,655,105.074\n",
      "FAMILY              -1,745,840.316\n",
      "FINANCE             -5,392,650.506\n",
      "FOOD_AND_DRINK      -7,093,514.203\n",
      "GAME                 1,358,244.588\n",
      "HEALTH_AND_FITNESS  -5,418,508.401\n",
      "HOUSE_AND_HOME      -8,776,058.418\n",
      "LIBRARIES_AND_DEMO  -7,142,796.650\n",
      "LIFESTYLE           -3,702,342.389\n",
      "MAPS_AND_NAVIGATION -7,772,813.869\n",
      "MEDICAL             -2,112,176.946\n",
      "NEWS_AND_MAGAZINES  12,347,085.815\n",
      "PARENTING           -4,671,271.933\n",
      "PERSONALIZATION       -160,793.813\n",
      "PHOTOGRAPHY         12,155,525.177\n",
      "PRODUCTIVITY        22,760,210.891\n",
      "SHOPPING            -4,953,563.432\n",
      "SOCIAL                 761,742.921\n",
      "SPORTS              -5,282,995.354\n",
      "TOOLS                3,656,226.841\n",
      "TRAVEL_AND_LOCAL    17,503,599.007\n",
      "VIDEO_PLAYERS       19,222,987.501\n",
      "WEATHER             -9,078,437.478\n",
      "Rating                 231,016.532\n",
      "Reviews                     17.963\n",
      "Android Ver         -6,290,528.421\n",
      "Content Rating         375,491.192\n",
      "Last Updated           433,771.901\n",
      "Price                7,467,494.327\n",
      "Type                -5,775,735.155\n",
      "Size (kb)                  -33.530\n"
     ]
    }
   ],
   "source": [
    "pp.pprint(pd.DataFrame(lm.coef_, X_train.columns))"
   ]
  },
  {
   "cell_type": "markdown",
   "metadata": {},
   "source": [
    "This shows that when plotting the columns, the performance is weak. 42%!\n",
    "Strong indicators : Communication. Productivity, Photography, Travel_AND_Local, VIDEO PLayers.\n",
    "\n",
    "App Version increase is a hard cut on number of installs."
   ]
  },
  {
   "cell_type": "markdown",
   "metadata": {},
   "source": [
    "#### factoring in time and removing one hot encoded"
   ]
  },
  {
   "cell_type": "code",
   "execution_count": 111,
   "metadata": {
    "collapsed": true
   },
   "outputs": [],
   "source": [
    "X = df_no_cat.drop(columns=['Installs', 'App Name'])\n",
    "y = df_no_cat['Installs']"
   ]
  },
  {
   "cell_type": "code",
   "execution_count": 112,
   "metadata": {
    "collapsed": true
   },
   "outputs": [],
   "source": [
    "X_train, X_test, y_train, y_test = train_test_split(X, y, random_state=42, shuffle=True, test_size=0.3)"
   ]
  },
  {
   "cell_type": "code",
   "execution_count": 113,
   "metadata": {
    "collapsed": true
   },
   "outputs": [
    {
     "data": {
      "text/plain": [
       "LinearRegression(copy_X=True, fit_intercept=True, n_jobs=1, normalize=False)"
      ]
     },
     "execution_count": 113,
     "metadata": {},
     "output_type": "execute_result"
    }
   ],
   "source": [
    "lm = LinearRegression()\n",
    "lm.fit(X_train, y_train)"
   ]
  },
  {
   "cell_type": "code",
   "execution_count": 114,
   "metadata": {
    "collapsed": true
   },
   "outputs": [
    {
     "data": {
      "text/plain": [
       "0.48427408209918954"
      ]
     },
     "execution_count": 114,
     "metadata": {},
     "output_type": "execute_result"
    }
   ],
   "source": [
    "lm.score(X_test, y_test)"
   ]
  },
  {
   "cell_type": "code",
   "execution_count": 115,
   "metadata": {
    "collapsed": true
   },
   "outputs": [
    {
     "name": "stdout",
     "output_type": "stream",
     "text": [
      "                            0\n",
      "Rating           -675,546.371\n",
      "Reviews                18.232\n",
      "Android Ver    -7,127,006.839\n",
      "Content Rating    244,696.808\n",
      "Last Updated      481,104.416\n",
      "Price             148,351.912\n",
      "Type           -5,445,196.762\n",
      "Size (kb)             -96.624\n"
     ]
    }
   ],
   "source": [
    "pp.pprint(pd.DataFrame(lm.coef_, X_train.columns))"
   ]
  },
  {
   "cell_type": "markdown",
   "metadata": {},
   "source": [
    "notable strong indicates: Price, Rating, Type."
   ]
  },
  {
   "cell_type": "markdown",
   "metadata": {},
   "source": [
    "#### create linear regression model of strongest variables"
   ]
  },
  {
   "cell_type": "code",
   "execution_count": 116,
   "metadata": {
    "collapsed": true
   },
   "outputs": [],
   "source": [
    "X = df_no_cat[['Price', 'Rating', 'Type']]\n",
    "y = df_no_cat['Installs']"
   ]
  },
  {
   "cell_type": "code",
   "execution_count": 117,
   "metadata": {
    "collapsed": true
   },
   "outputs": [],
   "source": [
    "X_train, X_test, y_train, y_test = train_test_split(X, y, random_state=42, shuffle=True, test_size=0.3)"
   ]
  },
  {
   "cell_type": "code",
   "execution_count": 118,
   "metadata": {
    "collapsed": true
   },
   "outputs": [
    {
     "data": {
      "text/plain": [
       "LinearRegression(copy_X=True, fit_intercept=True, n_jobs=1, normalize=False)"
      ]
     },
     "execution_count": 118,
     "metadata": {},
     "output_type": "execute_result"
    }
   ],
   "source": [
    "lm = LinearRegression()\n",
    "lm.fit(X_train, y_train)"
   ]
  },
  {
   "cell_type": "code",
   "execution_count": 119,
   "metadata": {
    "collapsed": true
   },
   "outputs": [
    {
     "data": {
      "text/plain": [
       "0.005781690926009109"
      ]
     },
     "execution_count": 119,
     "metadata": {},
     "output_type": "execute_result"
    }
   ],
   "source": [
    "lm.score(X_test, y_test)"
   ]
  },
  {
   "cell_type": "code",
   "execution_count": 120,
   "metadata": {
    "collapsed": true
   },
   "outputs": [
    {
     "data": {
      "text/plain": [
       "array([14839779.31276659, 19206356.2592144 , 18333040.86992484, ...,\n",
       "       19206356.2592144 ,  3228624.26035711, 20079671.64850396])"
      ]
     },
     "execution_count": 120,
     "metadata": {},
     "output_type": "execute_result"
    }
   ],
   "source": [
    "lm.predict(X_test)"
   ]
  },
  {
   "cell_type": "markdown",
   "metadata": {},
   "source": [
    "removing features drastically reduced store on testing."
   ]
  },
  {
   "cell_type": "markdown",
   "metadata": {},
   "source": [
    "#### create linear regression of one hot encoded categories and attempt to guess rating"
   ]
  },
  {
   "cell_type": "code",
   "execution_count": 121,
   "metadata": {
    "collapsed": true
   },
   "outputs": [],
   "source": [
    "linear_df = pd.get_dummies(norm_apps_df['Category'])"
   ]
  },
  {
   "cell_type": "code",
   "execution_count": 122,
   "metadata": {
    "collapsed": true
   },
   "outputs": [
    {
     "data": {
      "text/html": [
       "<div>\n",
       "<style scoped>\n",
       "    .dataframe tbody tr th:only-of-type {\n",
       "        vertical-align: middle;\n",
       "    }\n",
       "\n",
       "    .dataframe tbody tr th {\n",
       "        vertical-align: top;\n",
       "    }\n",
       "\n",
       "    .dataframe thead th {\n",
       "        text-align: right;\n",
       "    }\n",
       "</style>\n",
       "<table border=\"1\" class=\"dataframe\">\n",
       "  <thead>\n",
       "    <tr style=\"text-align: right;\">\n",
       "      <th></th>\n",
       "      <th>ART_AND_DESIGN</th>\n",
       "      <th>AUTO_AND_VEHICLES</th>\n",
       "      <th>BEAUTY</th>\n",
       "      <th>BOOKS_AND_REFERENCE</th>\n",
       "      <th>BUSINESS</th>\n",
       "      <th>COMICS</th>\n",
       "      <th>COMMUNICATION</th>\n",
       "      <th>DATING</th>\n",
       "      <th>EDUCATION</th>\n",
       "      <th>ENTERTAINMENT</th>\n",
       "      <th>...</th>\n",
       "      <th>PERSONALIZATION</th>\n",
       "      <th>PHOTOGRAPHY</th>\n",
       "      <th>PRODUCTIVITY</th>\n",
       "      <th>SHOPPING</th>\n",
       "      <th>SOCIAL</th>\n",
       "      <th>SPORTS</th>\n",
       "      <th>TOOLS</th>\n",
       "      <th>TRAVEL_AND_LOCAL</th>\n",
       "      <th>VIDEO_PLAYERS</th>\n",
       "      <th>WEATHER</th>\n",
       "    </tr>\n",
       "  </thead>\n",
       "  <tbody>\n",
       "    <tr>\n",
       "      <th>0</th>\n",
       "      <td>1</td>\n",
       "      <td>0</td>\n",
       "      <td>0</td>\n",
       "      <td>0</td>\n",
       "      <td>0</td>\n",
       "      <td>0</td>\n",
       "      <td>0</td>\n",
       "      <td>0</td>\n",
       "      <td>0</td>\n",
       "      <td>0</td>\n",
       "      <td>...</td>\n",
       "      <td>0</td>\n",
       "      <td>0</td>\n",
       "      <td>0</td>\n",
       "      <td>0</td>\n",
       "      <td>0</td>\n",
       "      <td>0</td>\n",
       "      <td>0</td>\n",
       "      <td>0</td>\n",
       "      <td>0</td>\n",
       "      <td>0</td>\n",
       "    </tr>\n",
       "    <tr>\n",
       "      <th>1</th>\n",
       "      <td>1</td>\n",
       "      <td>0</td>\n",
       "      <td>0</td>\n",
       "      <td>0</td>\n",
       "      <td>0</td>\n",
       "      <td>0</td>\n",
       "      <td>0</td>\n",
       "      <td>0</td>\n",
       "      <td>0</td>\n",
       "      <td>0</td>\n",
       "      <td>...</td>\n",
       "      <td>0</td>\n",
       "      <td>0</td>\n",
       "      <td>0</td>\n",
       "      <td>0</td>\n",
       "      <td>0</td>\n",
       "      <td>0</td>\n",
       "      <td>0</td>\n",
       "      <td>0</td>\n",
       "      <td>0</td>\n",
       "      <td>0</td>\n",
       "    </tr>\n",
       "    <tr>\n",
       "      <th>2</th>\n",
       "      <td>1</td>\n",
       "      <td>0</td>\n",
       "      <td>0</td>\n",
       "      <td>0</td>\n",
       "      <td>0</td>\n",
       "      <td>0</td>\n",
       "      <td>0</td>\n",
       "      <td>0</td>\n",
       "      <td>0</td>\n",
       "      <td>0</td>\n",
       "      <td>...</td>\n",
       "      <td>0</td>\n",
       "      <td>0</td>\n",
       "      <td>0</td>\n",
       "      <td>0</td>\n",
       "      <td>0</td>\n",
       "      <td>0</td>\n",
       "      <td>0</td>\n",
       "      <td>0</td>\n",
       "      <td>0</td>\n",
       "      <td>0</td>\n",
       "    </tr>\n",
       "    <tr>\n",
       "      <th>3</th>\n",
       "      <td>1</td>\n",
       "      <td>0</td>\n",
       "      <td>0</td>\n",
       "      <td>0</td>\n",
       "      <td>0</td>\n",
       "      <td>0</td>\n",
       "      <td>0</td>\n",
       "      <td>0</td>\n",
       "      <td>0</td>\n",
       "      <td>0</td>\n",
       "      <td>...</td>\n",
       "      <td>0</td>\n",
       "      <td>0</td>\n",
       "      <td>0</td>\n",
       "      <td>0</td>\n",
       "      <td>0</td>\n",
       "      <td>0</td>\n",
       "      <td>0</td>\n",
       "      <td>0</td>\n",
       "      <td>0</td>\n",
       "      <td>0</td>\n",
       "    </tr>\n",
       "    <tr>\n",
       "      <th>4</th>\n",
       "      <td>1</td>\n",
       "      <td>0</td>\n",
       "      <td>0</td>\n",
       "      <td>0</td>\n",
       "      <td>0</td>\n",
       "      <td>0</td>\n",
       "      <td>0</td>\n",
       "      <td>0</td>\n",
       "      <td>0</td>\n",
       "      <td>0</td>\n",
       "      <td>...</td>\n",
       "      <td>0</td>\n",
       "      <td>0</td>\n",
       "      <td>0</td>\n",
       "      <td>0</td>\n",
       "      <td>0</td>\n",
       "      <td>0</td>\n",
       "      <td>0</td>\n",
       "      <td>0</td>\n",
       "      <td>0</td>\n",
       "      <td>0</td>\n",
       "    </tr>\n",
       "  </tbody>\n",
       "</table>\n",
       "<p>5 rows × 33 columns</p>\n",
       "</div>"
      ],
      "text/plain": [
       "   ART_AND_DESIGN  AUTO_AND_VEHICLES  BEAUTY  BOOKS_AND_REFERENCE  BUSINESS  \\\n",
       "0               1                  0       0                    0         0   \n",
       "1               1                  0       0                    0         0   \n",
       "2               1                  0       0                    0         0   \n",
       "3               1                  0       0                    0         0   \n",
       "4               1                  0       0                    0         0   \n",
       "\n",
       "   COMICS  COMMUNICATION  DATING  EDUCATION  ENTERTAINMENT   ...     \\\n",
       "0       0              0       0          0              0   ...      \n",
       "1       0              0       0          0              0   ...      \n",
       "2       0              0       0          0              0   ...      \n",
       "3       0              0       0          0              0   ...      \n",
       "4       0              0       0          0              0   ...      \n",
       "\n",
       "   PERSONALIZATION  PHOTOGRAPHY  PRODUCTIVITY  SHOPPING  SOCIAL  SPORTS  \\\n",
       "0                0            0             0         0       0       0   \n",
       "1                0            0             0         0       0       0   \n",
       "2                0            0             0         0       0       0   \n",
       "3                0            0             0         0       0       0   \n",
       "4                0            0             0         0       0       0   \n",
       "\n",
       "   TOOLS  TRAVEL_AND_LOCAL  VIDEO_PLAYERS  WEATHER  \n",
       "0      0                 0              0        0  \n",
       "1      0                 0              0        0  \n",
       "2      0                 0              0        0  \n",
       "3      0                 0              0        0  \n",
       "4      0                 0              0        0  \n",
       "\n",
       "[5 rows x 33 columns]"
      ]
     },
     "execution_count": 122,
     "metadata": {},
     "output_type": "execute_result"
    }
   ],
   "source": [
    "linear_df.head()"
   ]
  },
  {
   "cell_type": "code",
   "execution_count": 123,
   "metadata": {
    "collapsed": true
   },
   "outputs": [],
   "source": [
    "df_no_cat = norm_apps_df.drop('Category',1)"
   ]
  },
  {
   "cell_type": "code",
   "execution_count": 124,
   "metadata": {
    "collapsed": true
   },
   "outputs": [],
   "source": [
    "linear_df2 = pd.concat([linear_df, df_no_cat], axis=1)"
   ]
  },
  {
   "cell_type": "code",
   "execution_count": 125,
   "metadata": {
    "collapsed": true
   },
   "outputs": [],
   "source": [
    "X = linear_df2.drop(columns=['Rating', 'App Name'])\n",
    "y = linear_df2['Rating']"
   ]
  },
  {
   "cell_type": "code",
   "execution_count": 126,
   "metadata": {
    "collapsed": true
   },
   "outputs": [],
   "source": [
    "X_train, X_test, y_train, y_test = train_test_split(X, y, random_state=42, shuffle=True, test_size=0.3)"
   ]
  },
  {
   "cell_type": "code",
   "execution_count": 127,
   "metadata": {
    "collapsed": true
   },
   "outputs": [
    {
     "name": "stdout",
     "output_type": "stream",
     "text": [
      "       ART_AND_DESIGN  AUTO_AND_VEHICLES  BEAUTY  BOOKS_AND_REFERENCE  \\\n",
      "5244                0                  0       0                    0   \n",
      "6597                0                  0       0                    0   \n",
      "4545                0                  0       0                    0   \n",
      "5973                0                  0       0                    0   \n",
      "2765                0                  0       0                    0   \n",
      "6439                0                  0       0                    0   \n",
      "299                 0                  0       0                    0   \n",
      "5541                0                  0       0                    0   \n",
      "7900                0                  0       0                    0   \n",
      "8503                0                  0       0                    0   \n",
      "6511                0                  0       0                    0   \n",
      "6496                0                  0       0                    0   \n",
      "4535                0                  0       0                    0   \n",
      "6615                0                  0       0                    0   \n",
      "7760                0                  0       0                    0   \n",
      "3119                0                  0       0                    0   \n",
      "3364                0                  0       0                    0   \n",
      "349                 0                  0       0                    0   \n",
      "5673                0                  0       0                    0   \n",
      "3540                0                  0       0                    0   \n",
      "5905                0                  0       0                    0   \n",
      "3582                0                  0       0                    0   \n",
      "3411                0                  0       0                    0   \n",
      "1728                0                  0       0                    0   \n",
      "9780                0                  0       0                    0   \n",
      "9958                0                  0       0                    0   \n",
      "426                 0                  0       0                    0   \n",
      "2189                0                  0       0                    0   \n",
      "4393                0                  0       0                    0   \n",
      "4592                0                  0       0                    0   \n",
      "...               ...                ...     ...                  ...   \n",
      "5417                0                  0       0                    0   \n",
      "3567                0                  0       0                    0   \n",
      "3286                0                  0       0                    0   \n",
      "200                 0                  0       0                    0   \n",
      "3299                0                  0       0                    0   \n",
      "2412                0                  0       0                    0   \n",
      "9482                0                  0       0                    0   \n",
      "3075                0                  0       0                    0   \n",
      "10511               0                  0       0                    0   \n",
      "7680                0                  0       0                    0   \n",
      "3980                0                  0       0                    0   \n",
      "5312                0                  0       0                    0   \n",
      "1435                0                  0       0                    0   \n",
      "7709                0                  0       0                    0   \n",
      "5880                0                  0       0                    0   \n",
      "6196                0                  0       0                    0   \n",
      "2927                0                  0       0                    0   \n",
      "8373                0                  0       0                    0   \n",
      "933                 0                  0       0                    0   \n",
      "1995                0                  0       0                    0   \n",
      "10070               0                  0       0                    0   \n",
      "6548                0                  0       0                    0   \n",
      "5097                0                  0       0                    0   \n",
      "529                 0                  0       0                    0   \n",
      "7541                0                  0       0                    0   \n",
      "6765                0                  0       0                    0   \n",
      "6042                0                  0       0                    0   \n",
      "6299                0                  0       0                    0   \n",
      "1070                0                  0       0                    0   \n",
      "8758                0                  0       0                    0   \n",
      "\n",
      "       BUSINESS  COMICS  COMMUNICATION  DATING  EDUCATION  ENTERTAINMENT  \\\n",
      "5244          0       0              0       0          0              0   \n",
      "6597          0       0              0       0          0              0   \n",
      "4545          0       0              0       0          0              0   \n",
      "5973          0       0              0       0          0              0   \n",
      "2765          0       0              0       0          0              0   \n",
      "6439          0       0              0       0          0              0   \n",
      "299           0       1              0       0          0              0   \n",
      "5541          0       0              0       0          0              0   \n",
      "7900          0       0              0       0          0              0   \n",
      "8503          0       0              0       0          0              0   \n",
      "6511          0       0              0       0          0              0   \n",
      "6496          0       0              0       0          0              0   \n",
      "4535          0       0              0       0          0              0   \n",
      "6615          0       0              0       0          0              0   \n",
      "7760          0       0              0       0          0              0   \n",
      "3119          0       0              0       0          0              0   \n",
      "3364          0       0              0       0          0              0   \n",
      "349           0       0              1       0          0              0   \n",
      "5673          1       0              0       0          0              0   \n",
      "3540          0       0              0       0          0              0   \n",
      "5905          0       1              0       0          0              0   \n",
      "3582          0       0              0       0          0              0   \n",
      "3411          0       0              0       0          0              0   \n",
      "1728          0       0              0       0          0              0   \n",
      "9780          0       0              0       0          0              0   \n",
      "9958          0       0              0       0          0              0   \n",
      "426           0       0              1       0          0              0   \n",
      "2189          0       0              0       0          0              0   \n",
      "4393          0       0              0       0          0              0   \n",
      "4592          0       0              1       0          0              0   \n",
      "...         ...     ...            ...     ...        ...            ...   \n",
      "5417          0       0              0       0          0              0   \n",
      "3567          0       0              0       0          0              0   \n",
      "3286          0       0              0       0          0              0   \n",
      "200           1       0              0       0          0              0   \n",
      "3299          0       0              0       0          0              0   \n",
      "2412          0       0              0       0          0              0   \n",
      "9482          0       0              0       0          0              0   \n",
      "3075          0       0              0       0          0              0   \n",
      "10511         0       0              0       0          0              0   \n",
      "7680          0       0              0       0          0              0   \n",
      "3980          0       0              0       0          0              0   \n",
      "5312          0       0              0       0          0              0   \n",
      "1435          0       0              0       0          0              0   \n",
      "7709          0       0              0       0          0              0   \n",
      "5880          0       0              0       0          0              0   \n",
      "6196          0       0              0       0          0              0   \n",
      "2927          0       0              0       0          0              0   \n",
      "8373          0       0              0       0          0              0   \n",
      "933           0       0              0       0          0              1   \n",
      "1995          0       0              0       0          0              0   \n",
      "10070         0       0              0       0          0              0   \n",
      "6548          0       0              0       0          0              0   \n",
      "5097          0       0              0       0          0              0   \n",
      "529           0       0              0       1          0              0   \n",
      "7541          0       0              0       0          0              0   \n",
      "6765          0       0              0       0          0              0   \n",
      "6042          0       0              0       0          0              0   \n",
      "6299          0       0              0       0          0              0   \n",
      "1070          0       0              0       0          0              0   \n",
      "8758          0       0              0       0          0              0   \n",
      "\n",
      "         ...      VIDEO_PLAYERS  WEATHER  Reviews  Android Ver  \\\n",
      "5244     ...                  1        0       18        5.000   \n",
      "6597     ...                  0        0      255        4.200   \n",
      "4545     ...                  0        0        6        4.030   \n",
      "5973     ...                  0        0     8343        4.030   \n",
      "2765     ...                  0        0    33583        4.400   \n",
      "6439     ...                  0        0       23        5.000   \n",
      "299      ...                  0        0    57106        4.100   \n",
      "5541     ...                  0        0    19070        0.000   \n",
      "7900     ...                  0        0       35        4.000   \n",
      "8503     ...                  0        0       65        4.100   \n",
      "6511     ...                  0        0       72        4.000   \n",
      "6496     ...                  0        0      163        4.100   \n",
      "4535     ...                  0        0     1852        2.300   \n",
      "6615     ...                  0        0      292        4.030   \n",
      "7760     ...                  0        0      695        4.000   \n",
      "3119     ...                  0        0    33782        4.000   \n",
      "3364     ...                  0        0    15633        4.030   \n",
      "349      ...                  0        0    30209        4.100   \n",
      "5673     ...                  0        0      128        5.000   \n",
      "3540     ...                  0        0    80581        2.300   \n",
      "5905     ...                  0        0      126        4.030   \n",
      "3582     ...                  0        0       39        4.200   \n",
      "3411     ...                  0        0   294701        4.030   \n",
      "1728     ...                  0        0    10354        2.300   \n",
      "9780     ...                  0        0   175509        0.000   \n",
      "9958     ...                  0        0       14        4.030   \n",
      "426      ...                  0        0    10965        3.000   \n",
      "2189     ...                  0        0       73        4.030   \n",
      "4393     ...                  0        0      817        4.100   \n",
      "4592     ...                  0        0  3128611        0.000   \n",
      "...      ...                ...      ...      ...          ...   \n",
      "5417     ...                  0        0  8219586        4.030   \n",
      "3567     ...                  0        0  1038303        0.000   \n",
      "3286     ...                  0        0   429580        0.000   \n",
      "200      ...                  0        0    46353        1.500   \n",
      "3299     ...                  0        0   148506        0.000   \n",
      "2412     ...                  0        0       83        4.100   \n",
      "9482     ...                  0        0      352        3.000   \n",
      "3075     ...                  0        0     4057        4.030   \n",
      "10511    ...                  0        0    35171        2.300   \n",
      "7680     ...                  0        0     4607        4.000   \n",
      "3980     ...                  0        0   472247        4.100   \n",
      "5312     ...                  0        0    82827        4.000   \n",
      "1435     ...                  0        0    31665        4.000   \n",
      "7709     ...                  0        0        8        4.000   \n",
      "5880     ...                  0        0      463        4.200   \n",
      "6196     ...                  1        0     4334        0.000   \n",
      "2927     ...                  0        0    15426        5.100   \n",
      "8373     ...                  1        0       12        5.000   \n",
      "933      ...                  0        0   310095        0.000   \n",
      "1995     ...                  0        0     4355        2.300   \n",
      "10070    ...                  0        0   171220        2.330   \n",
      "6548     ...                  0        0    46801        4.100   \n",
      "5097     ...                  0        0       19        3.000   \n",
      "529      ...                  0        0      825        4.000   \n",
      "7541     ...                  0        0    85496        4.030   \n",
      "6765     ...                  0        0     2794        4.300   \n",
      "6042     ...                  0        0      533        4.300   \n",
      "6299     ...                  0        0    29944        2.300   \n",
      "1070     ...                  0        0   138371        4.030   \n",
      "8758     ...                  0        0  1094094        0.000   \n",
      "\n",
      "       Content Rating   Installs  Last Updated  Price  Type  Size (kb)  \n",
      "5244                1        100           100  0.000     0  1,700.000  \n",
      "6597                1      10000           101  0.000     0 16,000.000  \n",
      "4545                1       1000            88  0.000     0  2,900.000  \n",
      "5973                1      50000           103  0.012     1  8,300.000  \n",
      "2765                1    1000000           103  0.000     0 12,000.000  \n",
      "6439                1       1000           104  0.000     0 93,000.000  \n",
      "299                 3    1000000           103  0.000     0 27,000.000  \n",
      "5541                2     100000           104  0.000     0 90,000.000  \n",
      "7900                1      10000            97  0.000     0 88,000.000  \n",
      "8503                3        500            86  0.000     0  7,100.000  \n",
      "6511                1      10000            98  0.000     0  2,400.000  \n",
      "6496                1       1000            94  0.002     1  4,600.000  \n",
      "4535                1     100000            94  0.000     0 62,000.000  \n",
      "6615                1     100000           100  0.000     0  2,700.000  \n",
      "7760                1     100000            97  0.000     0  2,900.000  \n",
      "3119                1    5000000           103  0.000     0  7,600.000  \n",
      "3364                1    1000000            87  0.000     0 14,000.000  \n",
      "349                 1    5000000           103  0.000     0 15,000.000  \n",
      "5673                1      50000           102  0.000     0  6,700.000  \n",
      "3540                1   10000000            82  0.000     0  2,500.000  \n",
      "5905                3       5000           103  0.000     0  4,700.000  \n",
      "3582                1      10000           103  0.000     0 95,000.000  \n",
      "3411                3   10000000            99  0.000     0  5,100.000  \n",
      "1728                4    1000000           104  0.000     0 50,000.000  \n",
      "9780                1   10000000           104  0.000     0      0.000  \n",
      "9958                1       1000            97  0.000     0  6,200.000  \n",
      "426                 1     500000            62  0.000     0  2,300.000  \n",
      "2189                1       1000           101  0.007     1 12,000.000  \n",
      "4393                1     100000           101  0.000     0 28,000.000  \n",
      "4592                4  100000000           103  0.000     0      0.000  \n",
      "...               ...        ...           ...    ...   ...        ...  \n",
      "5417                3  100000000           103  0.000     0 99,000.000  \n",
      "3567                1  100000000           104  0.000     0      0.000  \n",
      "3286                1   10000000            99  0.000     0      0.000  \n",
      "200                 1    1000000            76  0.000     0 21,000.000  \n",
      "3299                1    5000000           103  0.000     0 11,000.000  \n",
      "2412                1      10000           103  0.000     0  3,200.000  \n",
      "9482                1      50000            91  0.000     0  3,800.000  \n",
      "3075                1     500000           101  0.000     0 26,000.000  \n",
      "10511               1    1000000            50  0.000     0 45,000.000  \n",
      "7680                1     100000            99  0.000     0 19,000.000  \n",
      "3980                1   50000000           103  0.000     0      0.000  \n",
      "5312                3   10000000           103  0.000     0 20,000.000  \n",
      "1435                1    1000000           103  0.000     0  8,400.000  \n",
      "7709                1        500            95  0.000     0  6,800.000  \n",
      "5880                1      10000           100  0.000     0 13,000.000  \n",
      "6196                1     100000            71  0.000     0  4,900.000  \n",
      "2927                1    1000000           103  0.000     0 50,000.000  \n",
      "8373                1        500            70  0.000     0  2,900.000  \n",
      "933                 3   10000000            99  0.000     0      0.000  \n",
      "1995                1    1000000            91  0.000     0      0.000  \n",
      "10070               2    5000000            67  0.000     0 42,000.000  \n",
      "6548                1    1000000           104  0.000     0 60,000.000  \n",
      "5097                1       5000            92  0.000     0 24,000.000  \n",
      "529                 4     100000            96  0.000     0      0.000  \n",
      "7541                1    1000000            98  0.000     0  5,800.000  \n",
      "6765                1    1000000           101  0.000     0  3,800.000  \n",
      "6042                1     100000           103  0.000     0  7,300.000  \n",
      "6299                1    5000000            70  0.000     0  2,100.000  \n",
      "1070                1    5000000           104  0.000     0      0.000  \n",
      "8758                1  100000000           103  0.000     0      0.000  \n",
      "\n",
      "[6220 rows x 41 columns]\n",
      "5244    4.800\n",
      "6597    4.000\n",
      "4545    3.500\n",
      "5973    4.700\n",
      "2765    4.500\n",
      "6439    4.300\n",
      "299     4.700\n",
      "5541    4.600\n",
      "7900    3.600\n",
      "8503    4.800\n",
      "6511    3.100\n",
      "6496    4.700\n",
      "4535    4.400\n",
      "6615    3.800\n",
      "7760    3.600\n",
      "3119    4.000\n",
      "3364    4.500\n",
      "349     4.300\n",
      "5673    4.400\n",
      "3540    4.200\n",
      "5905    3.300\n",
      "3582    4.700\n",
      "3411    4.400\n",
      "1728    4.300\n",
      "9780    4.400\n",
      "9958    3.400\n",
      "426     4.200\n",
      "2189    4.600\n",
      "4393    4.300\n",
      "4592    4.400\n",
      "         ... \n",
      "5417    4.400\n",
      "3567    4.400\n",
      "3286    4.500\n",
      "200     4.300\n",
      "3299    4.500\n",
      "2412    3.100\n",
      "9482    3.500\n",
      "3075    3.500\n",
      "10511   3.800\n",
      "7680    4.000\n",
      "3980    4.500\n",
      "5312    4.100\n",
      "1435    4.800\n",
      "7709    4.400\n",
      "5880    4.000\n",
      "6196    3.400\n",
      "2927    4.200\n",
      "8373    3.300\n",
      "933     3.700\n",
      "1995    4.200\n",
      "10070   4.300\n",
      "6548    3.500\n",
      "5097    3.400\n",
      "529     4.100\n",
      "7541    4.600\n",
      "6765    2.500\n",
      "6042    3.700\n",
      "6299    4.000\n",
      "1070    4.100\n",
      "8758    4.500\n",
      "Name: Rating, Length: 6220, dtype: float64\n"
     ]
    }
   ],
   "source": [
    "pp.pprint(X_train)\n",
    "pp.pprint(y_train)"
   ]
  },
  {
   "cell_type": "code",
   "execution_count": 128,
   "metadata": {
    "collapsed": true
   },
   "outputs": [
    {
     "data": {
      "text/plain": [
       "LinearRegression(copy_X=True, fit_intercept=True, n_jobs=1, normalize=False)"
      ]
     },
     "execution_count": 128,
     "metadata": {},
     "output_type": "execute_result"
    }
   ],
   "source": [
    "lm = LinearRegression()\n",
    "lm.fit(X_train, y_train)"
   ]
  },
  {
   "cell_type": "code",
   "execution_count": 129,
   "metadata": {
    "collapsed": true
   },
   "outputs": [
    {
     "data": {
      "text/plain": [
       "0.05927656403462056"
      ]
     },
     "execution_count": 129,
     "metadata": {},
     "output_type": "execute_result"
    }
   ],
   "source": [
    "lm.score(X_test, y_test)"
   ]
  },
  {
   "cell_type": "code",
   "execution_count": 130,
   "metadata": {
    "collapsed": true
   },
   "outputs": [
    {
     "name": "stdout",
     "output_type": "stream",
     "text": [
      "                         0\n",
      "ART_AND_DESIGN       0.196\n",
      "AUTO_AND_VEHICLES   -0.030\n",
      "BEAUTY               0.091\n",
      "BOOKS_AND_REFERENCE  0.155\n",
      "BUSINESS            -0.074\n",
      "COMICS               0.010\n",
      "COMMUNICATION       -0.078\n",
      "DATING              -0.258\n",
      "EDUCATION            0.189\n",
      "ENTERTAINMENT       -0.084\n",
      "EVENTS               0.198\n",
      "FAMILY               0.022\n",
      "FINANCE             -0.067\n",
      "FOOD_AND_DRINK      -0.073\n",
      "GAME                 0.090\n",
      "HEALTH_AND_FITNESS  -0.007\n",
      "HOUSE_AND_HOME      -0.056\n",
      "LIBRARIES_AND_DEMO  -0.006\n",
      "LIFESTYLE           -0.032\n",
      "MAPS_AND_NAVIGATION -0.178\n",
      "MEDICAL             -0.000\n",
      "NEWS_AND_MAGAZINES  -0.080\n",
      "PARENTING            0.073\n",
      "PERSONALIZATION      0.170\n",
      "PHOTOGRAPHY          0.009\n",
      "PRODUCTIVITY        -0.002\n",
      "SHOPPING             0.021\n",
      "SOCIAL               0.021\n",
      "SPORTS               0.033\n",
      "TOOLS               -0.141\n",
      "TRAVEL_AND_LOCAL    -0.079\n",
      "VIDEO_PLAYERS       -0.088\n",
      "WEATHER              0.054\n",
      "Reviews              0.000\n",
      "Android Ver         -0.017\n",
      "Content Rating       0.003\n",
      "Installs            -0.000\n",
      "Last Updated         0.007\n",
      "Price               -0.415\n",
      "Type                 0.106\n",
      "Size (kb)           -0.000\n"
     ]
    }
   ],
   "source": [
    "pp.pprint(pd.DataFrame(lm.coef_, X_train.columns))"
   ]
  },
  {
   "cell_type": "markdown",
   "metadata": {},
   "source": [
    "Another weak score."
   ]
  },
  {
   "cell_type": "markdown",
   "metadata": {},
   "source": [
    "#### Combining App Length with Best Performing Linear Model"
   ]
  },
  {
   "cell_type": "code",
   "execution_count": 131,
   "metadata": {
    "collapsed": true
   },
   "outputs": [],
   "source": [
    "df_no_cat['App Name'] = df_no_cat['App Name'].apply(lambda x : len(x))\n",
    "X = df_no_cat.drop(columns=['Installs'])\n",
    "\n",
    "y = df_no_cat['Installs']"
   ]
  },
  {
   "cell_type": "code",
   "execution_count": 132,
   "metadata": {
    "collapsed": true
   },
   "outputs": [],
   "source": [
    "X_train, X_test, y_train, y_test = train_test_split(X, y, random_state=42, shuffle=True, test_size=0.3)"
   ]
  },
  {
   "cell_type": "code",
   "execution_count": 133,
   "metadata": {
    "collapsed": true
   },
   "outputs": [
    {
     "data": {
      "text/plain": [
       "LinearRegression(copy_X=True, fit_intercept=True, n_jobs=1, normalize=False)"
      ]
     },
     "execution_count": 133,
     "metadata": {},
     "output_type": "execute_result"
    }
   ],
   "source": [
    "lm = LinearRegression()\n",
    "lm.fit(X_train, y_train)"
   ]
  },
  {
   "cell_type": "code",
   "execution_count": 134,
   "metadata": {
    "collapsed": true
   },
   "outputs": [
    {
     "data": {
      "text/plain": [
       "0.48619118262036554"
      ]
     },
     "execution_count": 134,
     "metadata": {},
     "output_type": "execute_result"
    }
   ],
   "source": [
    "lm.score(X_test, y_test)"
   ]
  },
  {
   "cell_type": "code",
   "execution_count": 135,
   "metadata": {
    "collapsed": true
   },
   "outputs": [
    {
     "name": "stdout",
     "output_type": "stream",
     "text": [
      "                            0\n",
      "App Name         -409,908.250\n",
      "Rating            527,537.977\n",
      "Reviews                18.157\n",
      "Android Ver    -7,144,193.969\n",
      "Content Rating    635,651.018\n",
      "Last Updated      530,951.614\n",
      "Price          -3,245,519.348\n",
      "Type           -5,266,712.848\n",
      "Size (kb)             -99.665\n"
     ]
    }
   ],
   "source": [
    "pp.pprint(pd.DataFrame(lm.coef_, X_train.columns))"
   ]
  },
  {
   "cell_type": "markdown",
   "metadata": {},
   "source": [
    "### Results analysis \n",
    "Summary of your interpretation of the results. Are the results\n",
    "statistically significant? I.e., did you prove or disprove your hypothesis. How could you\n",
    "improve your analysis? Lessons learned, and feedback on the assignment."
   ]
  },
  {
   "cell_type": "markdown",
   "metadata": {},
   "source": [
    "* Modeling the data is very important. \n",
    "* More features yield better model perforamnce, PCA may help reduce discrepensies in score. \n",
    "* Hard to create predictor from input data for this dataset.\n",
    "\n",
    "I disproved my hypothesis. From the linear regression modeling, I saw no statistically significant prediction method for input variables accross this dataset. I think that the number of input variables is too high and the relationships too complex for Linear Regression Analysis."
   ]
  },
  {
   "cell_type": "code",
   "execution_count": null,
   "metadata": {
    "collapsed": true
   },
   "outputs": [],
   "source": []
  }
 ],
 "metadata": {
  "kernelspec": {
   "display_name": "Python 3",
   "language": "python",
   "name": "python3"
  },
  "language_info": {
   "codemirror_mode": {
    "name": "ipython",
    "version": 3
   },
   "file_extension": ".py",
   "mimetype": "text/x-python",
   "name": "python",
   "nbconvert_exporter": "python",
   "pygments_lexer": "ipython3",
   "version": "3.7.0"
  }
 },
 "nbformat": 4,
 "nbformat_minor": 2
}
